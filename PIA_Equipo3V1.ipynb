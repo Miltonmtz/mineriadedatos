{
 "cells": [
  {
   "cell_type": "markdown",
   "metadata": {},
   "source": [
    "### Equipo 3\n",
    "Grupo 02- Miércoles 6:00-9:00\n",
    "\n",
    "**Integrantes:**\n",
    "\n",
    "1986209 Dávila Martínez Ana Saraí\n",
    "\n",
    "1870354 Martínez Acosta Milton Aldair\n",
    "\n",
    "1583211 Rodríguez Pacheco Jesús Mauricio"
   ]
  },
  {
   "cell_type": "markdown",
   "metadata": {},
   "source": [
    "### Título de la base de datos.\n",
    "+ ***Nombre con el que se encuentra en la página:*** \n",
    " *Pima Indians Diabetes Database*\n",
    "\n",
    "+ ***Url de la página:***\n",
    "https://www.kaggle.com/uciml/pima-indians-diabetes-database"
   ]
  },
  {
   "cell_type": "markdown",
   "metadata": {},
   "source": [
    "![Image](https://img.freepik.com/vector-gratis/concepto-diabetes-personaje-medico-dibujos-animados-que-aconseja-pequenas-personas-pacientes-estilo-vida-saludable-blanco_109722-1158.jpg?size=626&ext=jpg)"
   ]
  },
  {
   "cell_type": "markdown",
   "metadata": {},
   "source": [
    "**Tipo de datos:**\n",
    "Son tablas que muestran variables que representan factores de riesgo para la diabetes, así como otros indicadores como nivel de glucosa, insulina, presión sanguínea, edad, entre otros. \n",
    "\n",
    "**Las columnas que contiene la base de datos son las siguientes:**\n",
    "+ **Pregnacies:** Número de veces que se ha embarazado.\n",
    "+ **Glucose:** Concentración de glucosa en plasma a 2 horas en una prueba de tolerancia a la glucosa oral.\n",
    "+ **BloodPressure:** Presión arterial diastólica medida en mmHg.\n",
    "+ **SkinThickness:** Grosor del pliegue de la piel, medido en mm.\n",
    "+ **Insulin:** nivel de insulina sérica de 2 horas, medida en µU/mL.\n",
    "+ **BMI:** Índice de masa corporal, medido en kg/m².\n",
    "+ **DiabetesPedigreeFunction:** Medida de la influencia genética esperada de los familiares afectados y no afectados sobre el riesgo de diabetes en el sujeto.\n",
    "+ **Age:** Edad en años.\n",
    "+ **Outcome:** Variable de clase, que indica si tiene diabetes o no."
   ]
  },
  {
   "cell_type": "markdown",
   "metadata": {},
   "source": [
    "### Justificación del uso de datos.\n",
    "\n",
    "En 2017, se registraron 703 mil 047 defunciones en México, de las cuales el 15.2% fueron atribuidas a la diabetes, es decir, es la segunda causa de muerte que se presenta con mayor frecuencia en los mexicanos, adicionalmente, la diabetes contribuye de manera importante a otras enfermedades como las cardiovasculares, renales, retinopatías, etc. lo que aumenta su peligro de forma alarmante.  \n",
    "\n",
    "Otro dato para destacar es que México cuenta con la mayor tasa de sobrepeso y obesidad entre su población, en comparación con otros países de América latina, si a esto añadimos que el exceso de peso es un factor de riesgo para la prediabetes y diabetes tipo 2 es notable que esta enfermedad es muy relevante en el contexto de nuestro país. Los datos expuestos anteriormente nos motivaron a desarrollar un método que ayude a agilizar el diagnóstico de diabetes.\n",
    "\n",
    "Consideramos que es importante el desarrollo de nuevos métodos para la predicción de enfermedades tan dañinas como la diabetes, por lo que elegimos esta base de datos para poder enfrentar un problema sanitario que afecta a miles de personas en nuestro país.\n",
    "\n",
    "### Objetivo principal: \n",
    "Crear un modelo de predicción para analizar si una persona tiene diabetes o no, basado en técnicas de minería de datos, dicho modelo se fundamentará en las variables que sean más significativas en el diagnóstico de diabetes mellitus. \n",
    "#### Objetivos secundarios: \n",
    "+ Visualizar la distribución de los datos.\n",
    "+ Establecer qué tan correlacionadas están ciertas variables como por ejemplo, la insulina y la glucosa.\n",
    "+ Graficar los resultados obtenidos, para tener un mejor entendimiento del modelo.\n",
    "+ Entender si existe una razón médica para tener el valor de 0 en las columnas que lo presenten.\n",
    "\n",
    "#### Preguntas de interés:\n",
    "+ ¿Podríamos afirmar que la diabetes predomina en el grupo del pueblo Pima?\n",
    "+ ¿Qué variables, que representan un factor de riesgo para la diabetes están altamente correlacionadas?\n",
    "+ ¿El modelo tiene un grado de predicción alto?\n"
   ]
  },
  {
   "cell_type": "markdown",
   "metadata": {},
   "source": [
    "---"
   ]
  },
  {
   "cell_type": "markdown",
   "metadata": {},
   "source": [
    "## Pre-procesamiento de datos. \n",
    "\n",
    "### Importar librerías y base de datos."
   ]
  },
  {
   "cell_type": "code",
   "execution_count": 1,
   "metadata": {},
   "outputs": [],
   "source": [
    "import pandas as pd\n",
    "import numpy as np\n",
    "import json\n",
    "import graphviz"
   ]
  },
  {
   "cell_type": "markdown",
   "metadata": {},
   "source": [
    "También existen otras librerias como Matplotlib, SciPy, Numba, Keras,etc"
   ]
  },
  {
   "cell_type": "markdown",
   "metadata": {},
   "source": [
    "### Visualizar los datos."
   ]
  },
  {
   "cell_type": "markdown",
   "metadata": {},
   "source": [
    "La base de datos usada es *Pima Indians Diabetes Database*, obtenida del *National Institute of Diabetes and Digestive and Kidney Diseases*\n",
    "Y como está en formato .csv, se importará de la siguiente manera"
   ]
  },
  {
   "cell_type": "code",
   "execution_count": 2,
   "metadata": {},
   "outputs": [],
   "source": [
    "diab = pd.read_csv(\"diabetes.csv\")"
   ]
  },
  {
   "cell_type": "markdown",
   "metadata": {},
   "source": [
    "**.shape**\n",
    "\n",
    "Devuelve una tupla con las dimensiones de un array, es decir, nos proporciona el número de columnas y filas de la base de datos, en este caso se puede observar que tiene 9 columnas y 768 filas."
   ]
  },
  {
   "cell_type": "code",
   "execution_count": 3,
   "metadata": {},
   "outputs": [
    {
     "data": {
      "text/plain": [
       "(768, 9)"
      ]
     },
     "execution_count": 3,
     "metadata": {},
     "output_type": "execute_result"
    }
   ],
   "source": [
    "diab.shape"
   ]
  },
  {
   "cell_type": "markdown",
   "metadata": {},
   "source": [
    "+ **head()**\n",
    "\n",
    "Con el comando de head se pueden visualizar los primeros cinco elementos de cada una de las columnas;\n",
    "si se desean ver más datos dentro del paréntesis se escribe el número de elementos que queremos mostrar."
   ]
  },
  {
   "cell_type": "code",
   "execution_count": 4,
   "metadata": {},
   "outputs": [
    {
     "data": {
      "text/html": [
       "<div>\n",
       "<style scoped>\n",
       "    .dataframe tbody tr th:only-of-type {\n",
       "        vertical-align: middle;\n",
       "    }\n",
       "\n",
       "    .dataframe tbody tr th {\n",
       "        vertical-align: top;\n",
       "    }\n",
       "\n",
       "    .dataframe thead th {\n",
       "        text-align: right;\n",
       "    }\n",
       "</style>\n",
       "<table border=\"1\" class=\"dataframe\">\n",
       "  <thead>\n",
       "    <tr style=\"text-align: right;\">\n",
       "      <th></th>\n",
       "      <th>Pregnancies</th>\n",
       "      <th>Glucose</th>\n",
       "      <th>BloodPressure</th>\n",
       "      <th>SkinThickness</th>\n",
       "      <th>Insulin</th>\n",
       "      <th>BMI</th>\n",
       "      <th>DiabetesPedigreeFunction</th>\n",
       "      <th>Age</th>\n",
       "      <th>Outcome</th>\n",
       "    </tr>\n",
       "  </thead>\n",
       "  <tbody>\n",
       "    <tr>\n",
       "      <th>0</th>\n",
       "      <td>6</td>\n",
       "      <td>148</td>\n",
       "      <td>72</td>\n",
       "      <td>35</td>\n",
       "      <td>0</td>\n",
       "      <td>33.6</td>\n",
       "      <td>0.627</td>\n",
       "      <td>50</td>\n",
       "      <td>1</td>\n",
       "    </tr>\n",
       "    <tr>\n",
       "      <th>1</th>\n",
       "      <td>1</td>\n",
       "      <td>85</td>\n",
       "      <td>66</td>\n",
       "      <td>29</td>\n",
       "      <td>0</td>\n",
       "      <td>26.6</td>\n",
       "      <td>0.351</td>\n",
       "      <td>31</td>\n",
       "      <td>0</td>\n",
       "    </tr>\n",
       "    <tr>\n",
       "      <th>2</th>\n",
       "      <td>8</td>\n",
       "      <td>183</td>\n",
       "      <td>64</td>\n",
       "      <td>0</td>\n",
       "      <td>0</td>\n",
       "      <td>23.3</td>\n",
       "      <td>0.672</td>\n",
       "      <td>32</td>\n",
       "      <td>1</td>\n",
       "    </tr>\n",
       "    <tr>\n",
       "      <th>3</th>\n",
       "      <td>1</td>\n",
       "      <td>89</td>\n",
       "      <td>66</td>\n",
       "      <td>23</td>\n",
       "      <td>94</td>\n",
       "      <td>28.1</td>\n",
       "      <td>0.167</td>\n",
       "      <td>21</td>\n",
       "      <td>0</td>\n",
       "    </tr>\n",
       "    <tr>\n",
       "      <th>4</th>\n",
       "      <td>0</td>\n",
       "      <td>137</td>\n",
       "      <td>40</td>\n",
       "      <td>35</td>\n",
       "      <td>168</td>\n",
       "      <td>43.1</td>\n",
       "      <td>2.288</td>\n",
       "      <td>33</td>\n",
       "      <td>1</td>\n",
       "    </tr>\n",
       "  </tbody>\n",
       "</table>\n",
       "</div>"
      ],
      "text/plain": [
       "   Pregnancies  Glucose  BloodPressure  SkinThickness  Insulin   BMI  \\\n",
       "0            6      148             72             35        0  33.6   \n",
       "1            1       85             66             29        0  26.6   \n",
       "2            8      183             64              0        0  23.3   \n",
       "3            1       89             66             23       94  28.1   \n",
       "4            0      137             40             35      168  43.1   \n",
       "\n",
       "   DiabetesPedigreeFunction  Age  Outcome  \n",
       "0                     0.627   50        1  \n",
       "1                     0.351   31        0  \n",
       "2                     0.672   32        1  \n",
       "3                     0.167   21        0  \n",
       "4                     2.288   33        1  "
      ]
     },
     "execution_count": 4,
     "metadata": {},
     "output_type": "execute_result"
    }
   ],
   "source": [
    "diab.head()"
   ]
  },
  {
   "cell_type": "markdown",
   "metadata": {},
   "source": [
    "**Ejemplo:**"
   ]
  },
  {
   "cell_type": "code",
   "execution_count": 5,
   "metadata": {},
   "outputs": [
    {
     "data": {
      "text/html": [
       "<div>\n",
       "<style scoped>\n",
       "    .dataframe tbody tr th:only-of-type {\n",
       "        vertical-align: middle;\n",
       "    }\n",
       "\n",
       "    .dataframe tbody tr th {\n",
       "        vertical-align: top;\n",
       "    }\n",
       "\n",
       "    .dataframe thead th {\n",
       "        text-align: right;\n",
       "    }\n",
       "</style>\n",
       "<table border=\"1\" class=\"dataframe\">\n",
       "  <thead>\n",
       "    <tr style=\"text-align: right;\">\n",
       "      <th></th>\n",
       "      <th>Pregnancies</th>\n",
       "      <th>Glucose</th>\n",
       "      <th>BloodPressure</th>\n",
       "      <th>SkinThickness</th>\n",
       "      <th>Insulin</th>\n",
       "      <th>BMI</th>\n",
       "      <th>DiabetesPedigreeFunction</th>\n",
       "      <th>Age</th>\n",
       "      <th>Outcome</th>\n",
       "    </tr>\n",
       "  </thead>\n",
       "  <tbody>\n",
       "    <tr>\n",
       "      <th>0</th>\n",
       "      <td>6</td>\n",
       "      <td>148</td>\n",
       "      <td>72</td>\n",
       "      <td>35</td>\n",
       "      <td>0</td>\n",
       "      <td>33.6</td>\n",
       "      <td>0.627</td>\n",
       "      <td>50</td>\n",
       "      <td>1</td>\n",
       "    </tr>\n",
       "    <tr>\n",
       "      <th>1</th>\n",
       "      <td>1</td>\n",
       "      <td>85</td>\n",
       "      <td>66</td>\n",
       "      <td>29</td>\n",
       "      <td>0</td>\n",
       "      <td>26.6</td>\n",
       "      <td>0.351</td>\n",
       "      <td>31</td>\n",
       "      <td>0</td>\n",
       "    </tr>\n",
       "    <tr>\n",
       "      <th>2</th>\n",
       "      <td>8</td>\n",
       "      <td>183</td>\n",
       "      <td>64</td>\n",
       "      <td>0</td>\n",
       "      <td>0</td>\n",
       "      <td>23.3</td>\n",
       "      <td>0.672</td>\n",
       "      <td>32</td>\n",
       "      <td>1</td>\n",
       "    </tr>\n",
       "    <tr>\n",
       "      <th>3</th>\n",
       "      <td>1</td>\n",
       "      <td>89</td>\n",
       "      <td>66</td>\n",
       "      <td>23</td>\n",
       "      <td>94</td>\n",
       "      <td>28.1</td>\n",
       "      <td>0.167</td>\n",
       "      <td>21</td>\n",
       "      <td>0</td>\n",
       "    </tr>\n",
       "    <tr>\n",
       "      <th>4</th>\n",
       "      <td>0</td>\n",
       "      <td>137</td>\n",
       "      <td>40</td>\n",
       "      <td>35</td>\n",
       "      <td>168</td>\n",
       "      <td>43.1</td>\n",
       "      <td>2.288</td>\n",
       "      <td>33</td>\n",
       "      <td>1</td>\n",
       "    </tr>\n",
       "    <tr>\n",
       "      <th>5</th>\n",
       "      <td>5</td>\n",
       "      <td>116</td>\n",
       "      <td>74</td>\n",
       "      <td>0</td>\n",
       "      <td>0</td>\n",
       "      <td>25.6</td>\n",
       "      <td>0.201</td>\n",
       "      <td>30</td>\n",
       "      <td>0</td>\n",
       "    </tr>\n",
       "    <tr>\n",
       "      <th>6</th>\n",
       "      <td>3</td>\n",
       "      <td>78</td>\n",
       "      <td>50</td>\n",
       "      <td>32</td>\n",
       "      <td>88</td>\n",
       "      <td>31.0</td>\n",
       "      <td>0.248</td>\n",
       "      <td>26</td>\n",
       "      <td>1</td>\n",
       "    </tr>\n",
       "    <tr>\n",
       "      <th>7</th>\n",
       "      <td>10</td>\n",
       "      <td>115</td>\n",
       "      <td>0</td>\n",
       "      <td>0</td>\n",
       "      <td>0</td>\n",
       "      <td>35.3</td>\n",
       "      <td>0.134</td>\n",
       "      <td>29</td>\n",
       "      <td>0</td>\n",
       "    </tr>\n",
       "    <tr>\n",
       "      <th>8</th>\n",
       "      <td>2</td>\n",
       "      <td>197</td>\n",
       "      <td>70</td>\n",
       "      <td>45</td>\n",
       "      <td>543</td>\n",
       "      <td>30.5</td>\n",
       "      <td>0.158</td>\n",
       "      <td>53</td>\n",
       "      <td>1</td>\n",
       "    </tr>\n",
       "    <tr>\n",
       "      <th>9</th>\n",
       "      <td>8</td>\n",
       "      <td>125</td>\n",
       "      <td>96</td>\n",
       "      <td>0</td>\n",
       "      <td>0</td>\n",
       "      <td>0.0</td>\n",
       "      <td>0.232</td>\n",
       "      <td>54</td>\n",
       "      <td>1</td>\n",
       "    </tr>\n",
       "    <tr>\n",
       "      <th>10</th>\n",
       "      <td>4</td>\n",
       "      <td>110</td>\n",
       "      <td>92</td>\n",
       "      <td>0</td>\n",
       "      <td>0</td>\n",
       "      <td>37.6</td>\n",
       "      <td>0.191</td>\n",
       "      <td>30</td>\n",
       "      <td>0</td>\n",
       "    </tr>\n",
       "    <tr>\n",
       "      <th>11</th>\n",
       "      <td>10</td>\n",
       "      <td>168</td>\n",
       "      <td>74</td>\n",
       "      <td>0</td>\n",
       "      <td>0</td>\n",
       "      <td>38.0</td>\n",
       "      <td>0.537</td>\n",
       "      <td>34</td>\n",
       "      <td>1</td>\n",
       "    </tr>\n",
       "    <tr>\n",
       "      <th>12</th>\n",
       "      <td>10</td>\n",
       "      <td>139</td>\n",
       "      <td>80</td>\n",
       "      <td>0</td>\n",
       "      <td>0</td>\n",
       "      <td>27.1</td>\n",
       "      <td>1.441</td>\n",
       "      <td>57</td>\n",
       "      <td>0</td>\n",
       "    </tr>\n",
       "    <tr>\n",
       "      <th>13</th>\n",
       "      <td>1</td>\n",
       "      <td>189</td>\n",
       "      <td>60</td>\n",
       "      <td>23</td>\n",
       "      <td>846</td>\n",
       "      <td>30.1</td>\n",
       "      <td>0.398</td>\n",
       "      <td>59</td>\n",
       "      <td>1</td>\n",
       "    </tr>\n",
       "    <tr>\n",
       "      <th>14</th>\n",
       "      <td>5</td>\n",
       "      <td>166</td>\n",
       "      <td>72</td>\n",
       "      <td>19</td>\n",
       "      <td>175</td>\n",
       "      <td>25.8</td>\n",
       "      <td>0.587</td>\n",
       "      <td>51</td>\n",
       "      <td>1</td>\n",
       "    </tr>\n",
       "    <tr>\n",
       "      <th>15</th>\n",
       "      <td>7</td>\n",
       "      <td>100</td>\n",
       "      <td>0</td>\n",
       "      <td>0</td>\n",
       "      <td>0</td>\n",
       "      <td>30.0</td>\n",
       "      <td>0.484</td>\n",
       "      <td>32</td>\n",
       "      <td>1</td>\n",
       "    </tr>\n",
       "    <tr>\n",
       "      <th>16</th>\n",
       "      <td>0</td>\n",
       "      <td>118</td>\n",
       "      <td>84</td>\n",
       "      <td>47</td>\n",
       "      <td>230</td>\n",
       "      <td>45.8</td>\n",
       "      <td>0.551</td>\n",
       "      <td>31</td>\n",
       "      <td>1</td>\n",
       "    </tr>\n",
       "    <tr>\n",
       "      <th>17</th>\n",
       "      <td>7</td>\n",
       "      <td>107</td>\n",
       "      <td>74</td>\n",
       "      <td>0</td>\n",
       "      <td>0</td>\n",
       "      <td>29.6</td>\n",
       "      <td>0.254</td>\n",
       "      <td>31</td>\n",
       "      <td>1</td>\n",
       "    </tr>\n",
       "    <tr>\n",
       "      <th>18</th>\n",
       "      <td>1</td>\n",
       "      <td>103</td>\n",
       "      <td>30</td>\n",
       "      <td>38</td>\n",
       "      <td>83</td>\n",
       "      <td>43.3</td>\n",
       "      <td>0.183</td>\n",
       "      <td>33</td>\n",
       "      <td>0</td>\n",
       "    </tr>\n",
       "    <tr>\n",
       "      <th>19</th>\n",
       "      <td>1</td>\n",
       "      <td>115</td>\n",
       "      <td>70</td>\n",
       "      <td>30</td>\n",
       "      <td>96</td>\n",
       "      <td>34.6</td>\n",
       "      <td>0.529</td>\n",
       "      <td>32</td>\n",
       "      <td>1</td>\n",
       "    </tr>\n",
       "  </tbody>\n",
       "</table>\n",
       "</div>"
      ],
      "text/plain": [
       "    Pregnancies  Glucose  BloodPressure  SkinThickness  Insulin   BMI  \\\n",
       "0             6      148             72             35        0  33.6   \n",
       "1             1       85             66             29        0  26.6   \n",
       "2             8      183             64              0        0  23.3   \n",
       "3             1       89             66             23       94  28.1   \n",
       "4             0      137             40             35      168  43.1   \n",
       "5             5      116             74              0        0  25.6   \n",
       "6             3       78             50             32       88  31.0   \n",
       "7            10      115              0              0        0  35.3   \n",
       "8             2      197             70             45      543  30.5   \n",
       "9             8      125             96              0        0   0.0   \n",
       "10            4      110             92              0        0  37.6   \n",
       "11           10      168             74              0        0  38.0   \n",
       "12           10      139             80              0        0  27.1   \n",
       "13            1      189             60             23      846  30.1   \n",
       "14            5      166             72             19      175  25.8   \n",
       "15            7      100              0              0        0  30.0   \n",
       "16            0      118             84             47      230  45.8   \n",
       "17            7      107             74              0        0  29.6   \n",
       "18            1      103             30             38       83  43.3   \n",
       "19            1      115             70             30       96  34.6   \n",
       "\n",
       "    DiabetesPedigreeFunction  Age  Outcome  \n",
       "0                      0.627   50        1  \n",
       "1                      0.351   31        0  \n",
       "2                      0.672   32        1  \n",
       "3                      0.167   21        0  \n",
       "4                      2.288   33        1  \n",
       "5                      0.201   30        0  \n",
       "6                      0.248   26        1  \n",
       "7                      0.134   29        0  \n",
       "8                      0.158   53        1  \n",
       "9                      0.232   54        1  \n",
       "10                     0.191   30        0  \n",
       "11                     0.537   34        1  \n",
       "12                     1.441   57        0  \n",
       "13                     0.398   59        1  \n",
       "14                     0.587   51        1  \n",
       "15                     0.484   32        1  \n",
       "16                     0.551   31        1  \n",
       "17                     0.254   31        1  \n",
       "18                     0.183   33        0  \n",
       "19                     0.529   32        1  "
      ]
     },
     "execution_count": 5,
     "metadata": {},
     "output_type": "execute_result"
    }
   ],
   "source": [
    "diab.head(20)"
   ]
  },
  {
   "cell_type": "markdown",
   "metadata": {},
   "source": [
    "+ **tail()**\n",
    "\n",
    "Esta función devuelve las últimas n filas del objeto según la posición. Es útil para verificar datos rápidamente, por ejemplo, después de ordenar o agregar filas,en este caso se puede observar que se tienen datos de 767 pacientes."
   ]
  },
  {
   "cell_type": "code",
   "execution_count": 6,
   "metadata": {},
   "outputs": [
    {
     "data": {
      "text/html": [
       "<div>\n",
       "<style scoped>\n",
       "    .dataframe tbody tr th:only-of-type {\n",
       "        vertical-align: middle;\n",
       "    }\n",
       "\n",
       "    .dataframe tbody tr th {\n",
       "        vertical-align: top;\n",
       "    }\n",
       "\n",
       "    .dataframe thead th {\n",
       "        text-align: right;\n",
       "    }\n",
       "</style>\n",
       "<table border=\"1\" class=\"dataframe\">\n",
       "  <thead>\n",
       "    <tr style=\"text-align: right;\">\n",
       "      <th></th>\n",
       "      <th>Pregnancies</th>\n",
       "      <th>Glucose</th>\n",
       "      <th>BloodPressure</th>\n",
       "      <th>SkinThickness</th>\n",
       "      <th>Insulin</th>\n",
       "      <th>BMI</th>\n",
       "      <th>DiabetesPedigreeFunction</th>\n",
       "      <th>Age</th>\n",
       "      <th>Outcome</th>\n",
       "    </tr>\n",
       "  </thead>\n",
       "  <tbody>\n",
       "    <tr>\n",
       "      <th>763</th>\n",
       "      <td>10</td>\n",
       "      <td>101</td>\n",
       "      <td>76</td>\n",
       "      <td>48</td>\n",
       "      <td>180</td>\n",
       "      <td>32.9</td>\n",
       "      <td>0.171</td>\n",
       "      <td>63</td>\n",
       "      <td>0</td>\n",
       "    </tr>\n",
       "    <tr>\n",
       "      <th>764</th>\n",
       "      <td>2</td>\n",
       "      <td>122</td>\n",
       "      <td>70</td>\n",
       "      <td>27</td>\n",
       "      <td>0</td>\n",
       "      <td>36.8</td>\n",
       "      <td>0.340</td>\n",
       "      <td>27</td>\n",
       "      <td>0</td>\n",
       "    </tr>\n",
       "    <tr>\n",
       "      <th>765</th>\n",
       "      <td>5</td>\n",
       "      <td>121</td>\n",
       "      <td>72</td>\n",
       "      <td>23</td>\n",
       "      <td>112</td>\n",
       "      <td>26.2</td>\n",
       "      <td>0.245</td>\n",
       "      <td>30</td>\n",
       "      <td>0</td>\n",
       "    </tr>\n",
       "    <tr>\n",
       "      <th>766</th>\n",
       "      <td>1</td>\n",
       "      <td>126</td>\n",
       "      <td>60</td>\n",
       "      <td>0</td>\n",
       "      <td>0</td>\n",
       "      <td>30.1</td>\n",
       "      <td>0.349</td>\n",
       "      <td>47</td>\n",
       "      <td>1</td>\n",
       "    </tr>\n",
       "    <tr>\n",
       "      <th>767</th>\n",
       "      <td>1</td>\n",
       "      <td>93</td>\n",
       "      <td>70</td>\n",
       "      <td>31</td>\n",
       "      <td>0</td>\n",
       "      <td>30.4</td>\n",
       "      <td>0.315</td>\n",
       "      <td>23</td>\n",
       "      <td>0</td>\n",
       "    </tr>\n",
       "  </tbody>\n",
       "</table>\n",
       "</div>"
      ],
      "text/plain": [
       "     Pregnancies  Glucose  BloodPressure  SkinThickness  Insulin   BMI  \\\n",
       "763           10      101             76             48      180  32.9   \n",
       "764            2      122             70             27        0  36.8   \n",
       "765            5      121             72             23      112  26.2   \n",
       "766            1      126             60              0        0  30.1   \n",
       "767            1       93             70             31        0  30.4   \n",
       "\n",
       "     DiabetesPedigreeFunction  Age  Outcome  \n",
       "763                     0.171   63        0  \n",
       "764                     0.340   27        0  \n",
       "765                     0.245   30        0  \n",
       "766                     0.349   47        1  \n",
       "767                     0.315   23        0  "
      ]
     },
     "execution_count": 6,
     "metadata": {},
     "output_type": "execute_result"
    }
   ],
   "source": [
    "diab.tail()"
   ]
  },
  {
   "cell_type": "markdown",
   "metadata": {},
   "source": [
    "### Descripción básica de columnas"
   ]
  },
  {
   "cell_type": "markdown",
   "metadata": {},
   "source": [
    "+ **columns()**\n",
    "\n",
    "Nos interesa saber que columnas tiene la base de dato, para establecer que variables podrían ser de utilidad para el modelo,entonces se usa ***.columns***"
   ]
  },
  {
   "cell_type": "code",
   "execution_count": 7,
   "metadata": {},
   "outputs": [
    {
     "data": {
      "text/plain": [
       "Index(['Pregnancies', 'Glucose', 'BloodPressure', 'SkinThickness', 'Insulin',\n",
       "       'BMI', 'DiabetesPedigreeFunction', 'Age', 'Outcome'],\n",
       "      dtype='object')"
      ]
     },
     "execution_count": 7,
     "metadata": {},
     "output_type": "execute_result"
    }
   ],
   "source": [
    "diab.columns"
   ]
  },
  {
   "cell_type": "markdown",
   "metadata": {},
   "source": [
    "+ **Celdas vacias**"
   ]
  },
  {
   "cell_type": "code",
   "execution_count": 8,
   "metadata": {
    "scrolled": true
   },
   "outputs": [
    {
     "data": {
      "text/plain": [
       "Pregnancies                 False\n",
       "Glucose                     False\n",
       "BloodPressure               False\n",
       "SkinThickness               False\n",
       "Insulin                     False\n",
       "BMI                         False\n",
       "DiabetesPedigreeFunction    False\n",
       "Age                         False\n",
       "Outcome                     False\n",
       "dtype: bool"
      ]
     },
     "execution_count": 8,
     "metadata": {},
     "output_type": "execute_result"
    }
   ],
   "source": [
    "diab.isnull().any()"
   ]
  },
  {
   "cell_type": "markdown",
   "metadata": {},
   "source": [
    "### Clasificación de los datos"
   ]
  },
  {
   "cell_type": "markdown",
   "metadata": {},
   "source": [
    "+ **dtypes**\n",
    "\n",
    "La propiedad dtypes se usa para encontrar los dtypes en el DataFrame.\n",
    "\n",
    "Esto devuelve una serie con el tipo de datos de cada columna. El índice del resultado son las columnas del DataFrame original. \n",
    "En este caso, nos interesa saber que tipo de variable es, para dar el tratamiento estadístico correspondiente."
   ]
  },
  {
   "cell_type": "code",
   "execution_count": 9,
   "metadata": {},
   "outputs": [
    {
     "data": {
      "text/plain": [
       "Pregnancies                   int64\n",
       "Glucose                       int64\n",
       "BloodPressure                 int64\n",
       "SkinThickness                 int64\n",
       "Insulin                       int64\n",
       "BMI                         float64\n",
       "DiabetesPedigreeFunction    float64\n",
       "Age                           int64\n",
       "Outcome                       int64\n",
       "dtype: object"
      ]
     },
     "execution_count": 9,
     "metadata": {},
     "output_type": "execute_result"
    }
   ],
   "source": [
    "diab.dtypes"
   ]
  },
  {
   "cell_type": "markdown",
   "metadata": {},
   "source": [
    "> Y si se desea conocer el tipo de datos que contiene alguna columna en específico, se usa:"
   ]
  },
  {
   "cell_type": "code",
   "execution_count": 10,
   "metadata": {},
   "outputs": [
    {
     "data": {
      "text/plain": [
       "dtype('int64')"
      ]
     },
     "execution_count": 10,
     "metadata": {},
     "output_type": "execute_result"
    }
   ],
   "source": [
    "diab['SkinThickness'].dtype"
   ]
  },
  {
   "cell_type": "markdown",
   "metadata": {},
   "source": [
    "### Cambiar nombres de columnas."
   ]
  },
  {
   "cell_type": "markdown",
   "metadata": {},
   "source": [
    "Se cambiará el nombre de las columnas, para una fácil identificación de éstas."
   ]
  },
  {
   "cell_type": "code",
   "execution_count": 11,
   "metadata": {},
   "outputs": [
    {
     "data": {
      "text/html": [
       "<div>\n",
       "<style scoped>\n",
       "    .dataframe tbody tr th:only-of-type {\n",
       "        vertical-align: middle;\n",
       "    }\n",
       "\n",
       "    .dataframe tbody tr th {\n",
       "        vertical-align: top;\n",
       "    }\n",
       "\n",
       "    .dataframe thead th {\n",
       "        text-align: right;\n",
       "    }\n",
       "</style>\n",
       "<table border=\"1\" class=\"dataframe\">\n",
       "  <thead>\n",
       "    <tr style=\"text-align: right;\">\n",
       "      <th></th>\n",
       "      <th>Emb</th>\n",
       "      <th>Glu</th>\n",
       "      <th>B_P</th>\n",
       "      <th>S_T</th>\n",
       "      <th>In</th>\n",
       "      <th>BMI</th>\n",
       "      <th>DPF</th>\n",
       "      <th>Age</th>\n",
       "      <th>Result</th>\n",
       "    </tr>\n",
       "  </thead>\n",
       "  <tbody>\n",
       "    <tr>\n",
       "      <th>0</th>\n",
       "      <td>6</td>\n",
       "      <td>148</td>\n",
       "      <td>72</td>\n",
       "      <td>35</td>\n",
       "      <td>0</td>\n",
       "      <td>33.6</td>\n",
       "      <td>0.627</td>\n",
       "      <td>50</td>\n",
       "      <td>1</td>\n",
       "    </tr>\n",
       "    <tr>\n",
       "      <th>1</th>\n",
       "      <td>1</td>\n",
       "      <td>85</td>\n",
       "      <td>66</td>\n",
       "      <td>29</td>\n",
       "      <td>0</td>\n",
       "      <td>26.6</td>\n",
       "      <td>0.351</td>\n",
       "      <td>31</td>\n",
       "      <td>0</td>\n",
       "    </tr>\n",
       "    <tr>\n",
       "      <th>2</th>\n",
       "      <td>8</td>\n",
       "      <td>183</td>\n",
       "      <td>64</td>\n",
       "      <td>0</td>\n",
       "      <td>0</td>\n",
       "      <td>23.3</td>\n",
       "      <td>0.672</td>\n",
       "      <td>32</td>\n",
       "      <td>1</td>\n",
       "    </tr>\n",
       "    <tr>\n",
       "      <th>3</th>\n",
       "      <td>1</td>\n",
       "      <td>89</td>\n",
       "      <td>66</td>\n",
       "      <td>23</td>\n",
       "      <td>94</td>\n",
       "      <td>28.1</td>\n",
       "      <td>0.167</td>\n",
       "      <td>21</td>\n",
       "      <td>0</td>\n",
       "    </tr>\n",
       "    <tr>\n",
       "      <th>4</th>\n",
       "      <td>0</td>\n",
       "      <td>137</td>\n",
       "      <td>40</td>\n",
       "      <td>35</td>\n",
       "      <td>168</td>\n",
       "      <td>43.1</td>\n",
       "      <td>2.288</td>\n",
       "      <td>33</td>\n",
       "      <td>1</td>\n",
       "    </tr>\n",
       "    <tr>\n",
       "      <th>...</th>\n",
       "      <td>...</td>\n",
       "      <td>...</td>\n",
       "      <td>...</td>\n",
       "      <td>...</td>\n",
       "      <td>...</td>\n",
       "      <td>...</td>\n",
       "      <td>...</td>\n",
       "      <td>...</td>\n",
       "      <td>...</td>\n",
       "    </tr>\n",
       "    <tr>\n",
       "      <th>763</th>\n",
       "      <td>10</td>\n",
       "      <td>101</td>\n",
       "      <td>76</td>\n",
       "      <td>48</td>\n",
       "      <td>180</td>\n",
       "      <td>32.9</td>\n",
       "      <td>0.171</td>\n",
       "      <td>63</td>\n",
       "      <td>0</td>\n",
       "    </tr>\n",
       "    <tr>\n",
       "      <th>764</th>\n",
       "      <td>2</td>\n",
       "      <td>122</td>\n",
       "      <td>70</td>\n",
       "      <td>27</td>\n",
       "      <td>0</td>\n",
       "      <td>36.8</td>\n",
       "      <td>0.340</td>\n",
       "      <td>27</td>\n",
       "      <td>0</td>\n",
       "    </tr>\n",
       "    <tr>\n",
       "      <th>765</th>\n",
       "      <td>5</td>\n",
       "      <td>121</td>\n",
       "      <td>72</td>\n",
       "      <td>23</td>\n",
       "      <td>112</td>\n",
       "      <td>26.2</td>\n",
       "      <td>0.245</td>\n",
       "      <td>30</td>\n",
       "      <td>0</td>\n",
       "    </tr>\n",
       "    <tr>\n",
       "      <th>766</th>\n",
       "      <td>1</td>\n",
       "      <td>126</td>\n",
       "      <td>60</td>\n",
       "      <td>0</td>\n",
       "      <td>0</td>\n",
       "      <td>30.1</td>\n",
       "      <td>0.349</td>\n",
       "      <td>47</td>\n",
       "      <td>1</td>\n",
       "    </tr>\n",
       "    <tr>\n",
       "      <th>767</th>\n",
       "      <td>1</td>\n",
       "      <td>93</td>\n",
       "      <td>70</td>\n",
       "      <td>31</td>\n",
       "      <td>0</td>\n",
       "      <td>30.4</td>\n",
       "      <td>0.315</td>\n",
       "      <td>23</td>\n",
       "      <td>0</td>\n",
       "    </tr>\n",
       "  </tbody>\n",
       "</table>\n",
       "<p>768 rows × 9 columns</p>\n",
       "</div>"
      ],
      "text/plain": [
       "     Emb  Glu  B_P  S_T   In   BMI    DPF  Age  Result\n",
       "0      6  148   72   35    0  33.6  0.627   50       1\n",
       "1      1   85   66   29    0  26.6  0.351   31       0\n",
       "2      8  183   64    0    0  23.3  0.672   32       1\n",
       "3      1   89   66   23   94  28.1  0.167   21       0\n",
       "4      0  137   40   35  168  43.1  2.288   33       1\n",
       "..   ...  ...  ...  ...  ...   ...    ...  ...     ...\n",
       "763   10  101   76   48  180  32.9  0.171   63       0\n",
       "764    2  122   70   27    0  36.8  0.340   27       0\n",
       "765    5  121   72   23  112  26.2  0.245   30       0\n",
       "766    1  126   60    0    0  30.1  0.349   47       1\n",
       "767    1   93   70   31    0  30.4  0.315   23       0\n",
       "\n",
       "[768 rows x 9 columns]"
      ]
     },
     "execution_count": 11,
     "metadata": {},
     "output_type": "execute_result"
    }
   ],
   "source": [
    "diab.rename(columns = {'Pregnancies':'Emb','BloodPressure':'B_P','Glucose':'Glu','SkinThickness':'S_T','Insulin':'In','DiabetesPedigreeFunction':'DPF','Outcome':'Result'})"
   ]
  },
  {
   "cell_type": "markdown",
   "metadata": {},
   "source": [
    "### Guardar otros archivos con agrupaciones."
   ]
  },
  {
   "cell_type": "markdown",
   "metadata": {},
   "source": [
    "Nos interesa saber que tanto afecta el embarazo, por lo que hacemos una agrupación para las mujeres que han estado embarazadas."
   ]
  },
  {
   "cell_type": "code",
   "execution_count": 12,
   "metadata": {},
   "outputs": [
    {
     "data": {
      "text/html": [
       "<div>\n",
       "<style scoped>\n",
       "    .dataframe tbody tr th:only-of-type {\n",
       "        vertical-align: middle;\n",
       "    }\n",
       "\n",
       "    .dataframe tbody tr th {\n",
       "        vertical-align: top;\n",
       "    }\n",
       "\n",
       "    .dataframe thead th {\n",
       "        text-align: right;\n",
       "    }\n",
       "</style>\n",
       "<table border=\"1\" class=\"dataframe\">\n",
       "  <thead>\n",
       "    <tr style=\"text-align: right;\">\n",
       "      <th></th>\n",
       "      <th>Pregnancies</th>\n",
       "      <th>Glucose</th>\n",
       "      <th>BloodPressure</th>\n",
       "      <th>SkinThickness</th>\n",
       "      <th>Insulin</th>\n",
       "      <th>BMI</th>\n",
       "      <th>DiabetesPedigreeFunction</th>\n",
       "      <th>Age</th>\n",
       "      <th>Outcome</th>\n",
       "    </tr>\n",
       "  </thead>\n",
       "  <tbody>\n",
       "    <tr>\n",
       "      <th>0</th>\n",
       "      <td>6</td>\n",
       "      <td>148</td>\n",
       "      <td>72</td>\n",
       "      <td>35</td>\n",
       "      <td>0</td>\n",
       "      <td>33.6</td>\n",
       "      <td>0.627</td>\n",
       "      <td>50</td>\n",
       "      <td>1</td>\n",
       "    </tr>\n",
       "    <tr>\n",
       "      <th>1</th>\n",
       "      <td>1</td>\n",
       "      <td>85</td>\n",
       "      <td>66</td>\n",
       "      <td>29</td>\n",
       "      <td>0</td>\n",
       "      <td>26.6</td>\n",
       "      <td>0.351</td>\n",
       "      <td>31</td>\n",
       "      <td>0</td>\n",
       "    </tr>\n",
       "    <tr>\n",
       "      <th>2</th>\n",
       "      <td>8</td>\n",
       "      <td>183</td>\n",
       "      <td>64</td>\n",
       "      <td>0</td>\n",
       "      <td>0</td>\n",
       "      <td>23.3</td>\n",
       "      <td>0.672</td>\n",
       "      <td>32</td>\n",
       "      <td>1</td>\n",
       "    </tr>\n",
       "    <tr>\n",
       "      <th>3</th>\n",
       "      <td>1</td>\n",
       "      <td>89</td>\n",
       "      <td>66</td>\n",
       "      <td>23</td>\n",
       "      <td>94</td>\n",
       "      <td>28.1</td>\n",
       "      <td>0.167</td>\n",
       "      <td>21</td>\n",
       "      <td>0</td>\n",
       "    </tr>\n",
       "    <tr>\n",
       "      <th>5</th>\n",
       "      <td>5</td>\n",
       "      <td>116</td>\n",
       "      <td>74</td>\n",
       "      <td>0</td>\n",
       "      <td>0</td>\n",
       "      <td>25.6</td>\n",
       "      <td>0.201</td>\n",
       "      <td>30</td>\n",
       "      <td>0</td>\n",
       "    </tr>\n",
       "    <tr>\n",
       "      <th>...</th>\n",
       "      <td>...</td>\n",
       "      <td>...</td>\n",
       "      <td>...</td>\n",
       "      <td>...</td>\n",
       "      <td>...</td>\n",
       "      <td>...</td>\n",
       "      <td>...</td>\n",
       "      <td>...</td>\n",
       "      <td>...</td>\n",
       "    </tr>\n",
       "    <tr>\n",
       "      <th>763</th>\n",
       "      <td>10</td>\n",
       "      <td>101</td>\n",
       "      <td>76</td>\n",
       "      <td>48</td>\n",
       "      <td>180</td>\n",
       "      <td>32.9</td>\n",
       "      <td>0.171</td>\n",
       "      <td>63</td>\n",
       "      <td>0</td>\n",
       "    </tr>\n",
       "    <tr>\n",
       "      <th>764</th>\n",
       "      <td>2</td>\n",
       "      <td>122</td>\n",
       "      <td>70</td>\n",
       "      <td>27</td>\n",
       "      <td>0</td>\n",
       "      <td>36.8</td>\n",
       "      <td>0.340</td>\n",
       "      <td>27</td>\n",
       "      <td>0</td>\n",
       "    </tr>\n",
       "    <tr>\n",
       "      <th>765</th>\n",
       "      <td>5</td>\n",
       "      <td>121</td>\n",
       "      <td>72</td>\n",
       "      <td>23</td>\n",
       "      <td>112</td>\n",
       "      <td>26.2</td>\n",
       "      <td>0.245</td>\n",
       "      <td>30</td>\n",
       "      <td>0</td>\n",
       "    </tr>\n",
       "    <tr>\n",
       "      <th>766</th>\n",
       "      <td>1</td>\n",
       "      <td>126</td>\n",
       "      <td>60</td>\n",
       "      <td>0</td>\n",
       "      <td>0</td>\n",
       "      <td>30.1</td>\n",
       "      <td>0.349</td>\n",
       "      <td>47</td>\n",
       "      <td>1</td>\n",
       "    </tr>\n",
       "    <tr>\n",
       "      <th>767</th>\n",
       "      <td>1</td>\n",
       "      <td>93</td>\n",
       "      <td>70</td>\n",
       "      <td>31</td>\n",
       "      <td>0</td>\n",
       "      <td>30.4</td>\n",
       "      <td>0.315</td>\n",
       "      <td>23</td>\n",
       "      <td>0</td>\n",
       "    </tr>\n",
       "  </tbody>\n",
       "</table>\n",
       "<p>657 rows × 9 columns</p>\n",
       "</div>"
      ],
      "text/plain": [
       "     Pregnancies  Glucose  BloodPressure  SkinThickness  Insulin   BMI  \\\n",
       "0              6      148             72             35        0  33.6   \n",
       "1              1       85             66             29        0  26.6   \n",
       "2              8      183             64              0        0  23.3   \n",
       "3              1       89             66             23       94  28.1   \n",
       "5              5      116             74              0        0  25.6   \n",
       "..           ...      ...            ...            ...      ...   ...   \n",
       "763           10      101             76             48      180  32.9   \n",
       "764            2      122             70             27        0  36.8   \n",
       "765            5      121             72             23      112  26.2   \n",
       "766            1      126             60              0        0  30.1   \n",
       "767            1       93             70             31        0  30.4   \n",
       "\n",
       "     DiabetesPedigreeFunction  Age  Outcome  \n",
       "0                       0.627   50        1  \n",
       "1                       0.351   31        0  \n",
       "2                       0.672   32        1  \n",
       "3                       0.167   21        0  \n",
       "5                       0.201   30        0  \n",
       "..                        ...  ...      ...  \n",
       "763                     0.171   63        0  \n",
       "764                     0.340   27        0  \n",
       "765                     0.245   30        0  \n",
       "766                     0.349   47        1  \n",
       "767                     0.315   23        0  \n",
       "\n",
       "[657 rows x 9 columns]"
      ]
     },
     "execution_count": 12,
     "metadata": {},
     "output_type": "execute_result"
    }
   ],
   "source": [
    "diabEm=diab[diab.Pregnancies > 0]\n",
    "diabEm"
   ]
  },
  {
   "cell_type": "markdown",
   "metadata": {},
   "source": [
    "Para guardar la base de datos modificada, se usa la siguiente sintaxis:"
   ]
  },
  {
   "cell_type": "code",
   "execution_count": 13,
   "metadata": {},
   "outputs": [],
   "source": [
    "diabEm.to_csv('MujeresEmbarazo.csv')"
   ]
  },
  {
   "cell_type": "markdown",
   "metadata": {},
   "source": [
    "La diabetes gestacional tiene el factor de riesgo de la edad, ya que el riesgo se incrementa para mujeres mayores a 25 años, por lo que nos interesa dividir la base de datos en dos grupos:\n",
    "+ *Menores de 25 años*"
   ]
  },
  {
   "cell_type": "code",
   "execution_count": 14,
   "metadata": {},
   "outputs": [
    {
     "data": {
      "text/html": [
       "<div>\n",
       "<style scoped>\n",
       "    .dataframe tbody tr th:only-of-type {\n",
       "        vertical-align: middle;\n",
       "    }\n",
       "\n",
       "    .dataframe tbody tr th {\n",
       "        vertical-align: top;\n",
       "    }\n",
       "\n",
       "    .dataframe thead th {\n",
       "        text-align: right;\n",
       "    }\n",
       "</style>\n",
       "<table border=\"1\" class=\"dataframe\">\n",
       "  <thead>\n",
       "    <tr style=\"text-align: right;\">\n",
       "      <th></th>\n",
       "      <th>Pregnancies</th>\n",
       "      <th>Glucose</th>\n",
       "      <th>BloodPressure</th>\n",
       "      <th>SkinThickness</th>\n",
       "      <th>Insulin</th>\n",
       "      <th>BMI</th>\n",
       "      <th>DiabetesPedigreeFunction</th>\n",
       "      <th>Age</th>\n",
       "      <th>Outcome</th>\n",
       "    </tr>\n",
       "  </thead>\n",
       "  <tbody>\n",
       "    <tr>\n",
       "      <th>3</th>\n",
       "      <td>1</td>\n",
       "      <td>89</td>\n",
       "      <td>66</td>\n",
       "      <td>23</td>\n",
       "      <td>94</td>\n",
       "      <td>28.1</td>\n",
       "      <td>0.167</td>\n",
       "      <td>21</td>\n",
       "      <td>0</td>\n",
       "    </tr>\n",
       "    <tr>\n",
       "      <th>27</th>\n",
       "      <td>1</td>\n",
       "      <td>97</td>\n",
       "      <td>66</td>\n",
       "      <td>15</td>\n",
       "      <td>140</td>\n",
       "      <td>23.2</td>\n",
       "      <td>0.487</td>\n",
       "      <td>22</td>\n",
       "      <td>0</td>\n",
       "    </tr>\n",
       "    <tr>\n",
       "      <th>32</th>\n",
       "      <td>3</td>\n",
       "      <td>88</td>\n",
       "      <td>58</td>\n",
       "      <td>11</td>\n",
       "      <td>54</td>\n",
       "      <td>24.8</td>\n",
       "      <td>0.267</td>\n",
       "      <td>22</td>\n",
       "      <td>0</td>\n",
       "    </tr>\n",
       "    <tr>\n",
       "      <th>47</th>\n",
       "      <td>2</td>\n",
       "      <td>71</td>\n",
       "      <td>70</td>\n",
       "      <td>27</td>\n",
       "      <td>0</td>\n",
       "      <td>28.0</td>\n",
       "      <td>0.586</td>\n",
       "      <td>22</td>\n",
       "      <td>0</td>\n",
       "    </tr>\n",
       "    <tr>\n",
       "      <th>49</th>\n",
       "      <td>7</td>\n",
       "      <td>105</td>\n",
       "      <td>0</td>\n",
       "      <td>0</td>\n",
       "      <td>0</td>\n",
       "      <td>0.0</td>\n",
       "      <td>0.305</td>\n",
       "      <td>24</td>\n",
       "      <td>0</td>\n",
       "    </tr>\n",
       "    <tr>\n",
       "      <th>...</th>\n",
       "      <td>...</td>\n",
       "      <td>...</td>\n",
       "      <td>...</td>\n",
       "      <td>...</td>\n",
       "      <td>...</td>\n",
       "      <td>...</td>\n",
       "      <td>...</td>\n",
       "      <td>...</td>\n",
       "      <td>...</td>\n",
       "    </tr>\n",
       "    <tr>\n",
       "      <th>738</th>\n",
       "      <td>2</td>\n",
       "      <td>99</td>\n",
       "      <td>60</td>\n",
       "      <td>17</td>\n",
       "      <td>160</td>\n",
       "      <td>36.6</td>\n",
       "      <td>0.453</td>\n",
       "      <td>21</td>\n",
       "      <td>0</td>\n",
       "    </tr>\n",
       "    <tr>\n",
       "      <th>742</th>\n",
       "      <td>1</td>\n",
       "      <td>109</td>\n",
       "      <td>58</td>\n",
       "      <td>18</td>\n",
       "      <td>116</td>\n",
       "      <td>28.5</td>\n",
       "      <td>0.219</td>\n",
       "      <td>22</td>\n",
       "      <td>0</td>\n",
       "    </tr>\n",
       "    <tr>\n",
       "      <th>750</th>\n",
       "      <td>4</td>\n",
       "      <td>136</td>\n",
       "      <td>70</td>\n",
       "      <td>0</td>\n",
       "      <td>0</td>\n",
       "      <td>31.2</td>\n",
       "      <td>1.182</td>\n",
       "      <td>22</td>\n",
       "      <td>1</td>\n",
       "    </tr>\n",
       "    <tr>\n",
       "      <th>760</th>\n",
       "      <td>2</td>\n",
       "      <td>88</td>\n",
       "      <td>58</td>\n",
       "      <td>26</td>\n",
       "      <td>16</td>\n",
       "      <td>28.4</td>\n",
       "      <td>0.766</td>\n",
       "      <td>22</td>\n",
       "      <td>0</td>\n",
       "    </tr>\n",
       "    <tr>\n",
       "      <th>767</th>\n",
       "      <td>1</td>\n",
       "      <td>93</td>\n",
       "      <td>70</td>\n",
       "      <td>31</td>\n",
       "      <td>0</td>\n",
       "      <td>30.4</td>\n",
       "      <td>0.315</td>\n",
       "      <td>23</td>\n",
       "      <td>0</td>\n",
       "    </tr>\n",
       "  </tbody>\n",
       "</table>\n",
       "<p>219 rows × 9 columns</p>\n",
       "</div>"
      ],
      "text/plain": [
       "     Pregnancies  Glucose  BloodPressure  SkinThickness  Insulin   BMI  \\\n",
       "3              1       89             66             23       94  28.1   \n",
       "27             1       97             66             15      140  23.2   \n",
       "32             3       88             58             11       54  24.8   \n",
       "47             2       71             70             27        0  28.0   \n",
       "49             7      105              0              0        0   0.0   \n",
       "..           ...      ...            ...            ...      ...   ...   \n",
       "738            2       99             60             17      160  36.6   \n",
       "742            1      109             58             18      116  28.5   \n",
       "750            4      136             70              0        0  31.2   \n",
       "760            2       88             58             26       16  28.4   \n",
       "767            1       93             70             31        0  30.4   \n",
       "\n",
       "     DiabetesPedigreeFunction  Age  Outcome  \n",
       "3                       0.167   21        0  \n",
       "27                      0.487   22        0  \n",
       "32                      0.267   22        0  \n",
       "47                      0.586   22        0  \n",
       "49                      0.305   24        0  \n",
       "..                        ...  ...      ...  \n",
       "738                     0.453   21        0  \n",
       "742                     0.219   22        0  \n",
       "750                     1.182   22        1  \n",
       "760                     0.766   22        0  \n",
       "767                     0.315   23        0  \n",
       "\n",
       "[219 rows x 9 columns]"
      ]
     },
     "execution_count": 14,
     "metadata": {},
     "output_type": "execute_result"
    }
   ],
   "source": [
    "dMenos25=diab[diab.Age < 25]\n",
    "dMenos25"
   ]
  },
  {
   "cell_type": "markdown",
   "metadata": {},
   "source": [
    "Para guardar la base de datos modificada, se usa la siguiente sintaxis:"
   ]
  },
  {
   "cell_type": "code",
   "execution_count": 15,
   "metadata": {},
   "outputs": [],
   "source": [
    "dMenos25.to_csv('DiabetesM25.csv')"
   ]
  },
  {
   "cell_type": "markdown",
   "metadata": {},
   "source": [
    "+ *Mayores de 25 años*"
   ]
  },
  {
   "cell_type": "code",
   "execution_count": 16,
   "metadata": {},
   "outputs": [
    {
     "data": {
      "text/html": [
       "<div>\n",
       "<style scoped>\n",
       "    .dataframe tbody tr th:only-of-type {\n",
       "        vertical-align: middle;\n",
       "    }\n",
       "\n",
       "    .dataframe tbody tr th {\n",
       "        vertical-align: top;\n",
       "    }\n",
       "\n",
       "    .dataframe thead th {\n",
       "        text-align: right;\n",
       "    }\n",
       "</style>\n",
       "<table border=\"1\" class=\"dataframe\">\n",
       "  <thead>\n",
       "    <tr style=\"text-align: right;\">\n",
       "      <th></th>\n",
       "      <th>Pregnancies</th>\n",
       "      <th>Glucose</th>\n",
       "      <th>BloodPressure</th>\n",
       "      <th>SkinThickness</th>\n",
       "      <th>Insulin</th>\n",
       "      <th>BMI</th>\n",
       "      <th>DiabetesPedigreeFunction</th>\n",
       "      <th>Age</th>\n",
       "      <th>Outcome</th>\n",
       "    </tr>\n",
       "  </thead>\n",
       "  <tbody>\n",
       "    <tr>\n",
       "      <th>0</th>\n",
       "      <td>6</td>\n",
       "      <td>148</td>\n",
       "      <td>72</td>\n",
       "      <td>35</td>\n",
       "      <td>0</td>\n",
       "      <td>33.6</td>\n",
       "      <td>0.627</td>\n",
       "      <td>50</td>\n",
       "      <td>1</td>\n",
       "    </tr>\n",
       "    <tr>\n",
       "      <th>1</th>\n",
       "      <td>1</td>\n",
       "      <td>85</td>\n",
       "      <td>66</td>\n",
       "      <td>29</td>\n",
       "      <td>0</td>\n",
       "      <td>26.6</td>\n",
       "      <td>0.351</td>\n",
       "      <td>31</td>\n",
       "      <td>0</td>\n",
       "    </tr>\n",
       "    <tr>\n",
       "      <th>2</th>\n",
       "      <td>8</td>\n",
       "      <td>183</td>\n",
       "      <td>64</td>\n",
       "      <td>0</td>\n",
       "      <td>0</td>\n",
       "      <td>23.3</td>\n",
       "      <td>0.672</td>\n",
       "      <td>32</td>\n",
       "      <td>1</td>\n",
       "    </tr>\n",
       "    <tr>\n",
       "      <th>4</th>\n",
       "      <td>0</td>\n",
       "      <td>137</td>\n",
       "      <td>40</td>\n",
       "      <td>35</td>\n",
       "      <td>168</td>\n",
       "      <td>43.1</td>\n",
       "      <td>2.288</td>\n",
       "      <td>33</td>\n",
       "      <td>1</td>\n",
       "    </tr>\n",
       "    <tr>\n",
       "      <th>5</th>\n",
       "      <td>5</td>\n",
       "      <td>116</td>\n",
       "      <td>74</td>\n",
       "      <td>0</td>\n",
       "      <td>0</td>\n",
       "      <td>25.6</td>\n",
       "      <td>0.201</td>\n",
       "      <td>30</td>\n",
       "      <td>0</td>\n",
       "    </tr>\n",
       "    <tr>\n",
       "      <th>...</th>\n",
       "      <td>...</td>\n",
       "      <td>...</td>\n",
       "      <td>...</td>\n",
       "      <td>...</td>\n",
       "      <td>...</td>\n",
       "      <td>...</td>\n",
       "      <td>...</td>\n",
       "      <td>...</td>\n",
       "      <td>...</td>\n",
       "    </tr>\n",
       "    <tr>\n",
       "      <th>762</th>\n",
       "      <td>9</td>\n",
       "      <td>89</td>\n",
       "      <td>62</td>\n",
       "      <td>0</td>\n",
       "      <td>0</td>\n",
       "      <td>22.5</td>\n",
       "      <td>0.142</td>\n",
       "      <td>33</td>\n",
       "      <td>0</td>\n",
       "    </tr>\n",
       "    <tr>\n",
       "      <th>763</th>\n",
       "      <td>10</td>\n",
       "      <td>101</td>\n",
       "      <td>76</td>\n",
       "      <td>48</td>\n",
       "      <td>180</td>\n",
       "      <td>32.9</td>\n",
       "      <td>0.171</td>\n",
       "      <td>63</td>\n",
       "      <td>0</td>\n",
       "    </tr>\n",
       "    <tr>\n",
       "      <th>764</th>\n",
       "      <td>2</td>\n",
       "      <td>122</td>\n",
       "      <td>70</td>\n",
       "      <td>27</td>\n",
       "      <td>0</td>\n",
       "      <td>36.8</td>\n",
       "      <td>0.340</td>\n",
       "      <td>27</td>\n",
       "      <td>0</td>\n",
       "    </tr>\n",
       "    <tr>\n",
       "      <th>765</th>\n",
       "      <td>5</td>\n",
       "      <td>121</td>\n",
       "      <td>72</td>\n",
       "      <td>23</td>\n",
       "      <td>112</td>\n",
       "      <td>26.2</td>\n",
       "      <td>0.245</td>\n",
       "      <td>30</td>\n",
       "      <td>0</td>\n",
       "    </tr>\n",
       "    <tr>\n",
       "      <th>766</th>\n",
       "      <td>1</td>\n",
       "      <td>126</td>\n",
       "      <td>60</td>\n",
       "      <td>0</td>\n",
       "      <td>0</td>\n",
       "      <td>30.1</td>\n",
       "      <td>0.349</td>\n",
       "      <td>47</td>\n",
       "      <td>1</td>\n",
       "    </tr>\n",
       "  </tbody>\n",
       "</table>\n",
       "<p>501 rows × 9 columns</p>\n",
       "</div>"
      ],
      "text/plain": [
       "     Pregnancies  Glucose  BloodPressure  SkinThickness  Insulin   BMI  \\\n",
       "0              6      148             72             35        0  33.6   \n",
       "1              1       85             66             29        0  26.6   \n",
       "2              8      183             64              0        0  23.3   \n",
       "4              0      137             40             35      168  43.1   \n",
       "5              5      116             74              0        0  25.6   \n",
       "..           ...      ...            ...            ...      ...   ...   \n",
       "762            9       89             62              0        0  22.5   \n",
       "763           10      101             76             48      180  32.9   \n",
       "764            2      122             70             27        0  36.8   \n",
       "765            5      121             72             23      112  26.2   \n",
       "766            1      126             60              0        0  30.1   \n",
       "\n",
       "     DiabetesPedigreeFunction  Age  Outcome  \n",
       "0                       0.627   50        1  \n",
       "1                       0.351   31        0  \n",
       "2                       0.672   32        1  \n",
       "4                       2.288   33        1  \n",
       "5                       0.201   30        0  \n",
       "..                        ...  ...      ...  \n",
       "762                     0.142   33        0  \n",
       "763                     0.171   63        0  \n",
       "764                     0.340   27        0  \n",
       "765                     0.245   30        0  \n",
       "766                     0.349   47        1  \n",
       "\n",
       "[501 rows x 9 columns]"
      ]
     },
     "execution_count": 16,
     "metadata": {},
     "output_type": "execute_result"
    }
   ],
   "source": [
    "dMas25=diab[diab.Age > 25]\n",
    "dMas25"
   ]
  },
  {
   "cell_type": "markdown",
   "metadata": {},
   "source": [
    "Para guardar la base de datos modificada, se usa la siguiente sintaxis:"
   ]
  },
  {
   "cell_type": "code",
   "execution_count": 17,
   "metadata": {},
   "outputs": [],
   "source": [
    "dMas25.to_csv('DiabMas25.csv')"
   ]
  },
  {
   "cell_type": "markdown",
   "metadata": {},
   "source": [
    "### Valores que son distintos a cero\n",
    "Como el valor de ceros se registró en lugar de observaciones experimentales faltantes y además, según investigaciones, se ha demostrado que si se eliminaban los valores con cero, los resultados podría mejorar drásticamente.\n",
    "> Procederemos a eliminar los valores que sean cero y que no tengan una razón médica que podría explicar esta naturaleza\n",
    "\n",
    "Primero determinaremos en qué columnas existen valores con cero"
   ]
  },
  {
   "cell_type": "markdown",
   "metadata": {},
   "source": [
    "Al analizar la variable *Insulin* nos percatamos que no existe razón médica que explique el valor de 0, ya que en un estudio reciente sobre el nivel de insulina mostró que una persona con un índice de masa corporal<24 y sensibilidad normal a la insulina(RGI>6) posee un nivel de insulina sérica  de 8.7 ± 3.2 µU/mL, de 58.27 ± 44.08 y de 50.87 ± 26.10 µU/mL\n",
    "a los 0, 60 y 120 minutos respectivamente.\n",
    "Por lo que un valor de 0, no tiene razón médica aparente, por ende se procederá a eliminar las filas que contengan 0."
   ]
  },
  {
   "cell_type": "code",
   "execution_count": 18,
   "metadata": {},
   "outputs": [
    {
     "name": "stdout",
     "output_type": "stream",
     "text": [
      "374\n"
     ]
    }
   ],
   "source": [
    "print(np.count_nonzero(diab.Insulin== 0))"
   ]
  },
  {
   "cell_type": "code",
   "execution_count": 19,
   "metadata": {},
   "outputs": [
    {
     "data": {
      "text/html": [
       "<div>\n",
       "<style scoped>\n",
       "    .dataframe tbody tr th:only-of-type {\n",
       "        vertical-align: middle;\n",
       "    }\n",
       "\n",
       "    .dataframe tbody tr th {\n",
       "        vertical-align: top;\n",
       "    }\n",
       "\n",
       "    .dataframe thead th {\n",
       "        text-align: right;\n",
       "    }\n",
       "</style>\n",
       "<table border=\"1\" class=\"dataframe\">\n",
       "  <thead>\n",
       "    <tr style=\"text-align: right;\">\n",
       "      <th></th>\n",
       "      <th>Pregnancies</th>\n",
       "      <th>Glucose</th>\n",
       "      <th>BloodPressure</th>\n",
       "      <th>SkinThickness</th>\n",
       "      <th>Insulin</th>\n",
       "      <th>BMI</th>\n",
       "      <th>DiabetesPedigreeFunction</th>\n",
       "      <th>Age</th>\n",
       "      <th>Outcome</th>\n",
       "    </tr>\n",
       "  </thead>\n",
       "  <tbody>\n",
       "    <tr>\n",
       "      <th>3</th>\n",
       "      <td>1</td>\n",
       "      <td>89</td>\n",
       "      <td>66</td>\n",
       "      <td>23</td>\n",
       "      <td>94</td>\n",
       "      <td>28.1</td>\n",
       "      <td>0.167</td>\n",
       "      <td>21</td>\n",
       "      <td>0</td>\n",
       "    </tr>\n",
       "    <tr>\n",
       "      <th>4</th>\n",
       "      <td>0</td>\n",
       "      <td>137</td>\n",
       "      <td>40</td>\n",
       "      <td>35</td>\n",
       "      <td>168</td>\n",
       "      <td>43.1</td>\n",
       "      <td>2.288</td>\n",
       "      <td>33</td>\n",
       "      <td>1</td>\n",
       "    </tr>\n",
       "    <tr>\n",
       "      <th>6</th>\n",
       "      <td>3</td>\n",
       "      <td>78</td>\n",
       "      <td>50</td>\n",
       "      <td>32</td>\n",
       "      <td>88</td>\n",
       "      <td>31.0</td>\n",
       "      <td>0.248</td>\n",
       "      <td>26</td>\n",
       "      <td>1</td>\n",
       "    </tr>\n",
       "    <tr>\n",
       "      <th>8</th>\n",
       "      <td>2</td>\n",
       "      <td>197</td>\n",
       "      <td>70</td>\n",
       "      <td>45</td>\n",
       "      <td>543</td>\n",
       "      <td>30.5</td>\n",
       "      <td>0.158</td>\n",
       "      <td>53</td>\n",
       "      <td>1</td>\n",
       "    </tr>\n",
       "    <tr>\n",
       "      <th>13</th>\n",
       "      <td>1</td>\n",
       "      <td>189</td>\n",
       "      <td>60</td>\n",
       "      <td>23</td>\n",
       "      <td>846</td>\n",
       "      <td>30.1</td>\n",
       "      <td>0.398</td>\n",
       "      <td>59</td>\n",
       "      <td>1</td>\n",
       "    </tr>\n",
       "    <tr>\n",
       "      <th>...</th>\n",
       "      <td>...</td>\n",
       "      <td>...</td>\n",
       "      <td>...</td>\n",
       "      <td>...</td>\n",
       "      <td>...</td>\n",
       "      <td>...</td>\n",
       "      <td>...</td>\n",
       "      <td>...</td>\n",
       "      <td>...</td>\n",
       "    </tr>\n",
       "    <tr>\n",
       "      <th>753</th>\n",
       "      <td>0</td>\n",
       "      <td>181</td>\n",
       "      <td>88</td>\n",
       "      <td>44</td>\n",
       "      <td>510</td>\n",
       "      <td>43.3</td>\n",
       "      <td>0.222</td>\n",
       "      <td>26</td>\n",
       "      <td>1</td>\n",
       "    </tr>\n",
       "    <tr>\n",
       "      <th>755</th>\n",
       "      <td>1</td>\n",
       "      <td>128</td>\n",
       "      <td>88</td>\n",
       "      <td>39</td>\n",
       "      <td>110</td>\n",
       "      <td>36.5</td>\n",
       "      <td>1.057</td>\n",
       "      <td>37</td>\n",
       "      <td>1</td>\n",
       "    </tr>\n",
       "    <tr>\n",
       "      <th>760</th>\n",
       "      <td>2</td>\n",
       "      <td>88</td>\n",
       "      <td>58</td>\n",
       "      <td>26</td>\n",
       "      <td>16</td>\n",
       "      <td>28.4</td>\n",
       "      <td>0.766</td>\n",
       "      <td>22</td>\n",
       "      <td>0</td>\n",
       "    </tr>\n",
       "    <tr>\n",
       "      <th>763</th>\n",
       "      <td>10</td>\n",
       "      <td>101</td>\n",
       "      <td>76</td>\n",
       "      <td>48</td>\n",
       "      <td>180</td>\n",
       "      <td>32.9</td>\n",
       "      <td>0.171</td>\n",
       "      <td>63</td>\n",
       "      <td>0</td>\n",
       "    </tr>\n",
       "    <tr>\n",
       "      <th>765</th>\n",
       "      <td>5</td>\n",
       "      <td>121</td>\n",
       "      <td>72</td>\n",
       "      <td>23</td>\n",
       "      <td>112</td>\n",
       "      <td>26.2</td>\n",
       "      <td>0.245</td>\n",
       "      <td>30</td>\n",
       "      <td>0</td>\n",
       "    </tr>\n",
       "  </tbody>\n",
       "</table>\n",
       "<p>394 rows × 9 columns</p>\n",
       "</div>"
      ],
      "text/plain": [
       "     Pregnancies  Glucose  BloodPressure  SkinThickness  Insulin   BMI  \\\n",
       "3              1       89             66             23       94  28.1   \n",
       "4              0      137             40             35      168  43.1   \n",
       "6              3       78             50             32       88  31.0   \n",
       "8              2      197             70             45      543  30.5   \n",
       "13             1      189             60             23      846  30.1   \n",
       "..           ...      ...            ...            ...      ...   ...   \n",
       "753            0      181             88             44      510  43.3   \n",
       "755            1      128             88             39      110  36.5   \n",
       "760            2       88             58             26       16  28.4   \n",
       "763           10      101             76             48      180  32.9   \n",
       "765            5      121             72             23      112  26.2   \n",
       "\n",
       "     DiabetesPedigreeFunction  Age  Outcome  \n",
       "3                       0.167   21        0  \n",
       "4                       2.288   33        1  \n",
       "6                       0.248   26        1  \n",
       "8                       0.158   53        1  \n",
       "13                      0.398   59        1  \n",
       "..                        ...  ...      ...  \n",
       "753                     0.222   26        1  \n",
       "755                     1.057   37        1  \n",
       "760                     0.766   22        0  \n",
       "763                     0.171   63        0  \n",
       "765                     0.245   30        0  \n",
       "\n",
       "[394 rows x 9 columns]"
      ]
     },
     "execution_count": 19,
     "metadata": {},
     "output_type": "execute_result"
    }
   ],
   "source": [
    "OInsul=diab[diab.Insulin > 0]\n",
    "OInsul"
   ]
  },
  {
   "cell_type": "markdown",
   "metadata": {},
   "source": [
    "Se procederá a buscar valores de 0 en las columnas de la nueva base de datos."
   ]
  },
  {
   "cell_type": "code",
   "execution_count": 20,
   "metadata": {},
   "outputs": [],
   "source": [
    "OInsul.to_csv('NoZeroInsul.csv')"
   ]
  },
  {
   "cell_type": "code",
   "execution_count": 21,
   "metadata": {},
   "outputs": [],
   "source": [
    "NOZero=pd.read_csv(\"NoZeroInsul.csv\")"
   ]
  },
  {
   "cell_type": "markdown",
   "metadata": {},
   "source": [
    "Los niveles de glusosa normal estando en ayunas, oscilan entre los 70 mg/dL   y 100 mg/dl. Lo que indica que un nivel de glucosa 0 mg/dl, no tendría una razón médica, por lo que se procede a eliminar filas con el valor de 0."
   ]
  },
  {
   "cell_type": "code",
   "execution_count": 22,
   "metadata": {},
   "outputs": [
    {
     "name": "stdout",
     "output_type": "stream",
     "text": [
      "1\n"
     ]
    }
   ],
   "source": [
    "print(np.count_nonzero(NOZero.Glucose== 0))"
   ]
  },
  {
   "cell_type": "markdown",
   "metadata": {},
   "source": [
    "La variable *SkinThickness* mide el grosor del pliegue de la piel, el cual está medido en mm.\n",
    "Para los adultos, los valores normales estándar para los pliegues cutáneos del tríceps son 25 mm (hombres) o aproximadamente un 20% de grasa; 18,0 mm (mujeres) o aproximadamente un 30% de grasa. Por lo tanto, concluimos que el valor de 0 no tendría significado."
   ]
  },
  {
   "cell_type": "code",
   "execution_count": 23,
   "metadata": {},
   "outputs": [
    {
     "name": "stdout",
     "output_type": "stream",
     "text": [
      "0\n"
     ]
    }
   ],
   "source": [
    "print(np.count_nonzero(NOZero.SkinThickness== 0))"
   ]
  },
  {
   "cell_type": "markdown",
   "metadata": {},
   "source": [
    "Dado que no existen valores con 0 en la variable *SkinThickness* no se eliminará ninguna fila"
   ]
  },
  {
   "cell_type": "markdown",
   "metadata": {},
   "source": [
    "La variable BMI, indica el índice de masa corporal, el cual se calcula de la siguiente manera:\n",
    "\n",
    "$A =$$\\frac{Peso(kg)}{Altura(m)^2}$\n",
    "\n",
    "Por lo cual, para que BMI sea 0, el numerador, es decir el peso de la persona debería ser 0, lo cual no tiene sentido, por lo que procedemos a eliminar filas con este valor.\n"
   ]
  },
  {
   "cell_type": "code",
   "execution_count": 24,
   "metadata": {},
   "outputs": [
    {
     "name": "stdout",
     "output_type": "stream",
     "text": [
      "1\n"
     ]
    }
   ],
   "source": [
    "print(np.count_nonzero(NOZero.BMI== 0))"
   ]
  },
  {
   "cell_type": "markdown",
   "metadata": {},
   "source": [
    "La variable *BloodPressure* indica la presión arterial diastólica, la cual en valores inferiores a 80mm Hg y mayores a 60 mm Hg se considera una presión arterial normal. Es importante destacar que  cambios grandes en la presión pueden provocar sangrado incontrolado, infecciones graves o reacciones alérgicas, por lo que concluimos que un valor de 0 no tendría razón médica aparente, ya que incluso valores bajos en la presión arteríal diastólica no llegan a ser 0.\n",
    "Procedemos a buscar si existen valores de 0 en dicha columna."
   ]
  },
  {
   "cell_type": "code",
   "execution_count": 25,
   "metadata": {},
   "outputs": [
    {
     "name": "stdout",
     "output_type": "stream",
     "text": [
      "0\n"
     ]
    }
   ],
   "source": [
    "print(np.count_nonzero(NOZero.BloodPressure== 0))"
   ]
  },
  {
   "cell_type": "markdown",
   "metadata": {},
   "source": [
    "Se filtrará la base de datos, para trabajar con aquéllos que son realmente significativos para la investigación."
   ]
  },
  {
   "cell_type": "code",
   "execution_count": 33,
   "metadata": {},
   "outputs": [
    {
     "ename": "NameError",
     "evalue": "name 'notnull' is not defined",
     "output_type": "error",
     "traceback": [
      "\u001b[1;31m---------------------------------------------------------------------------\u001b[0m",
      "\u001b[1;31mNameError\u001b[0m                                 Traceback (most recent call last)",
      "\u001b[1;32m<ipython-input-33-88eb2670c202>\u001b[0m in \u001b[0;36m<module>\u001b[1;34m\u001b[0m\n\u001b[1;32m----> 1\u001b[1;33m \u001b[0mNewDB\u001b[0m\u001b[1;33m=\u001b[0m\u001b[0mnotnull\u001b[0m\u001b[1;33m[\u001b[0m\u001b[1;33m(\u001b[0m\u001b[0mnotnull\u001b[0m\u001b[1;33m.\u001b[0m\u001b[0mBMI\u001b[0m \u001b[1;33m>\u001b[0m \u001b[1;36m0\u001b[0m\u001b[1;33m)\u001b[0m \u001b[1;33m&\u001b[0m \u001b[1;33m(\u001b[0m\u001b[0mnotnull\u001b[0m\u001b[1;33m.\u001b[0m\u001b[0mGlucose\u001b[0m \u001b[1;33m>\u001b[0m \u001b[1;36m0\u001b[0m\u001b[1;33m)\u001b[0m\u001b[1;33m]\u001b[0m\u001b[1;33m\u001b[0m\u001b[1;33m\u001b[0m\u001b[0m\n\u001b[0m\u001b[0;32m      2\u001b[0m \u001b[0mNewDB\u001b[0m\u001b[1;33m\u001b[0m\u001b[1;33m\u001b[0m\u001b[0m\n",
      "\u001b[1;31mNameError\u001b[0m: name 'notnull' is not defined"
     ]
    }
   ],
   "source": [
    "NewDB=NOnull[(NOnull.BMI > 0) & (NOnull.Glucose > 0)]\n",
    "NewDB"
   ]
  },
  {
   "cell_type": "markdown",
   "metadata": {},
   "source": [
    "Se procederá a guardar la nueva base de datos."
   ]
  },
  {
   "cell_type": "code",
   "execution_count": 34,
   "metadata": {},
   "outputs": [
    {
     "ename": "NameError",
     "evalue": "name 'NewDB' is not defined",
     "output_type": "error",
     "traceback": [
      "\u001b[1;31m---------------------------------------------------------------------------\u001b[0m",
      "\u001b[1;31mNameError\u001b[0m                                 Traceback (most recent call last)",
      "\u001b[1;32m<ipython-input-34-a1b3ef012605>\u001b[0m in \u001b[0;36m<module>\u001b[1;34m\u001b[0m\n\u001b[1;32m----> 1\u001b[1;33m \u001b[0mNewDB\u001b[0m\u001b[1;33m.\u001b[0m\u001b[0mto_csv\u001b[0m\u001b[1;33m(\u001b[0m\u001b[1;34m'NuevaDiabetesDB.csv'\u001b[0m\u001b[1;33m)\u001b[0m\u001b[1;33m\u001b[0m\u001b[1;33m\u001b[0m\u001b[0m\n\u001b[0m",
      "\u001b[1;31mNameError\u001b[0m: name 'NewDB' is not defined"
     ]
    }
   ],
   "source": [
    "NewDB.to_csv('NuevaDiabetesDB.csv')"
   ]
  },
  {
   "cell_type": "markdown",
   "metadata": {},
   "source": [
    "### Eliminar columnas no deseadas"
   ]
  },
  {
   "cell_type": "markdown",
   "metadata": {},
   "source": [
    "No se eliminará ninguna columna, ya que todas las variables son factores de riesgo asociados a la diabetes mellitus, por lo que podrían ser de gran ayuda para la elaboración del modelo predictivo."
   ]
  },
  {
   "cell_type": "markdown",
   "metadata": {},
   "source": [
    "### Preguntas de interés\n",
    "\n",
    "**Importancia del análisis previo de los datos antes de iniciar las modificaciones.**\n",
    "\n",
    "El análisis previo funciona para definir el problema que podemos plantear en base a los datos que recaudamos, los datos pueden estar dispersos y almacenados en formatos distintos; también pueden contener incoherencias como entradas que faltan o incorrectas y en estos casos nuestro modelo puede ser alterado de una manera que no sea favorable a nuestras predicciones o interpretaciones futuras.\n",
    "\n",
    "**¿Para qué me puede servir estas agrupaciones para la práctica siguiente?**\n",
    "\n",
    "El acotar los datos nos sirve para disminuir el número de variables de estudio, lo que hace más sencillo el análisis. Además, si tenemos como objetivo analizar un grupo en particular, este método sería de gran utilidad: Por ejemplo, sabemos que la edad es un factor de riesgo para la diabetes, por ende, si filtráramos los datos, nos enfocaríamos a un grupo de alto riesgo para esta enfermedad."
   ]
  },
  {
   "cell_type": "markdown",
   "metadata": {},
   "source": [
    "## Estadística básica"
   ]
  },
  {
   "cell_type": "markdown",
   "metadata": {},
   "source": [
    "Se procederá a trabajar con la nueva base de datos obtenida previamente, en donde se contemplarán únicamente los valores mayores a 0 en variables en donde no se tenga una razón médica aparente que justifique dicho valor, ya que en 2001, se demostró que 376 de 786 observaciones en el conjunto de datos de *Pima Indians Diabetes database* carecían de validez experimental, el valor de ceros se registró en lugar de observaciones experimentales faltantes. También se demostró que si se eliminaban  los valores con cero, los resultados podría mejorar drásticamente."
   ]
  },
  {
   "cell_type": "code",
   "execution_count": 35,
   "metadata": {},
   "outputs": [],
   "source": [
    "N1Diab=pd.read_csv(\"NuevaDiabetesDB.csv\")"
   ]
  },
  {
   "cell_type": "markdown",
   "metadata": {},
   "source": [
    "Dado que una de nuestras preguntas de interés es determinar  si la diabetes predomina en el grupo del pueblo Pima, procederemos a determinar la prevalencia,la cual tiene la siguiente definición:"
   ]
  },
  {
   "cell_type": "markdown",
   "metadata": {},
   "source": [
    ">*Es la proporción de individuos de una población que padecen una\n",
    "enfermedad en un momento o periodo de tiempo determinado.* \n",
    "\n",
    "**Su cálculo se estima mediante la expresión:** "
   ]
  },
  {
   "cell_type": "markdown",
   "metadata": {},
   "source": [
    "![image](https://2.bp.blogspot.com/--_59i4-Qqr8/V1kwY_VMevI/AAAAAAAAOIw/4hJY0juhN5YqJF4pen8Zg8S_wmrRdTHUwCLcB/s1600/formula%2Bprevalencia.png)"
   ]
  },
  {
   "cell_type": "markdown",
   "metadata": {},
   "source": [
    "Usando las funciones de .sum() y de .count(), determinaremos la prevalencia que hay de diabetes en **mujeres mayores a 21 años en el pueblo Pima en 1990** este indicador será expresado en porcentaje."
   ]
  },
  {
   "cell_type": "markdown",
   "metadata": {},
   "source": [
    "Como la variable **Outcome** indica si tiene diabetes o no, y además si se asigna el valor de 1 si se tiene el diagnóstico de diabetes, entonces, podemos deducir que la suma de los valores de la columna, nos mostrará cuantas mujeres tienen diabetes."
   ]
  },
  {
   "cell_type": "code",
   "execution_count": 187,
   "metadata": {},
   "outputs": [
    {
     "data": {
      "text/plain": [
       "130"
      ]
     },
     "execution_count": 187,
     "metadata": {},
     "output_type": "execute_result"
    }
   ],
   "source": [
    "numerador=N1Diab['Outcome'].sum()\n",
    "numerador"
   ]
  },
  {
   "cell_type": "code",
   "execution_count": 188,
   "metadata": {},
   "outputs": [
    {
     "data": {
      "text/plain": [
       "392"
      ]
     },
     "execution_count": 188,
     "metadata": {},
     "output_type": "execute_result"
    }
   ],
   "source": [
    "denominador=N1Diab['Outcome'].count()\n",
    "denominador "
   ]
  },
  {
   "cell_type": "code",
   "execution_count": 189,
   "metadata": {},
   "outputs": [
    {
     "data": {
      "text/plain": [
       "33.16326530612245"
      ]
     },
     "execution_count": 189,
     "metadata": {},
     "output_type": "execute_result"
    }
   ],
   "source": [
    "prevalencia=(numerador/denominador)*100\n",
    "prevalencia"
   ]
  },
  {
   "cell_type": "markdown",
   "metadata": {},
   "source": [
    "Para poder saber si la prevalencia es alta en el grupo de mujeres del pueblo Pima, compararemos la prevalencia con distintas partes del mundo.\n",
    "+ La prevalencia Nacional de México es del 10.7%\n",
    "   + La prevalencia en la frontera entre México y Estados Unidos es del 15%\n",
    "  + La prevalencia de diabetes en el mundo  es 8.5%\n",
    "  \n",
    "  \n",
    "Con estas comparativas, podemos observar que la prevalencia de diabetes en mujeres mayores de 21 años en 1990 en el pueblo Pima es alta, lo cual indica que gran parte de la población se ve afectada por la diabetes, especificamente, el 33.16% de las mujeres mayores a 21 años en el pueblo Pima, padece diabetes mellitus.  "
   ]
  },
  {
   "cell_type": "markdown",
   "metadata": {},
   "source": [
    "+ **Correlación**\n",
    "\n",
    "Uno de nuestros objetivos secundarios es establecer que tan correlacionadas están ciertas variables, así como lograr responder a la pregunta *¿Qué variables, que representan un factor de riesgo para la diabetes están altamente correlacionadas?* por lo que usaremos la función de .corr()"
   ]
  },
  {
   "cell_type": "code",
   "execution_count": 53,
   "metadata": {},
   "outputs": [
    {
     "data": {
      "text/html": [
       "<div>\n",
       "<style scoped>\n",
       "    .dataframe tbody tr th:only-of-type {\n",
       "        vertical-align: middle;\n",
       "    }\n",
       "\n",
       "    .dataframe tbody tr th {\n",
       "        vertical-align: top;\n",
       "    }\n",
       "\n",
       "    .dataframe thead th {\n",
       "        text-align: right;\n",
       "    }\n",
       "</style>\n",
       "<table border=\"1\" class=\"dataframe\">\n",
       "  <thead>\n",
       "    <tr style=\"text-align: right;\">\n",
       "      <th></th>\n",
       "      <th>Pregnancies</th>\n",
       "      <th>Glucose</th>\n",
       "      <th>BloodPressure</th>\n",
       "      <th>SkinThickness</th>\n",
       "      <th>Insulin</th>\n",
       "      <th>BMI</th>\n",
       "      <th>DiabetesPedigreeFunction</th>\n",
       "      <th>Age</th>\n",
       "      <th>Outcome</th>\n",
       "    </tr>\n",
       "  </thead>\n",
       "  <tbody>\n",
       "    <tr>\n",
       "      <th>Pregnancies</th>\n",
       "      <td>1.000000</td>\n",
       "      <td>0.198291</td>\n",
       "      <td>0.213355</td>\n",
       "      <td>0.093209</td>\n",
       "      <td>0.078984</td>\n",
       "      <td>-0.025347</td>\n",
       "      <td>0.007562</td>\n",
       "      <td>0.679608</td>\n",
       "      <td>0.256566</td>\n",
       "    </tr>\n",
       "    <tr>\n",
       "      <th>Glucose</th>\n",
       "      <td>0.198291</td>\n",
       "      <td>1.000000</td>\n",
       "      <td>0.210027</td>\n",
       "      <td>0.198856</td>\n",
       "      <td>0.581223</td>\n",
       "      <td>0.209516</td>\n",
       "      <td>0.140180</td>\n",
       "      <td>0.343641</td>\n",
       "      <td>0.515703</td>\n",
       "    </tr>\n",
       "    <tr>\n",
       "      <th>BloodPressure</th>\n",
       "      <td>0.213355</td>\n",
       "      <td>0.210027</td>\n",
       "      <td>1.000000</td>\n",
       "      <td>0.232571</td>\n",
       "      <td>0.098512</td>\n",
       "      <td>0.304403</td>\n",
       "      <td>-0.015971</td>\n",
       "      <td>0.300039</td>\n",
       "      <td>0.192673</td>\n",
       "    </tr>\n",
       "    <tr>\n",
       "      <th>SkinThickness</th>\n",
       "      <td>0.093209</td>\n",
       "      <td>0.198856</td>\n",
       "      <td>0.232571</td>\n",
       "      <td>1.000000</td>\n",
       "      <td>0.182199</td>\n",
       "      <td>0.664355</td>\n",
       "      <td>0.160499</td>\n",
       "      <td>0.167761</td>\n",
       "      <td>0.255936</td>\n",
       "    </tr>\n",
       "    <tr>\n",
       "      <th>Insulin</th>\n",
       "      <td>0.078984</td>\n",
       "      <td>0.581223</td>\n",
       "      <td>0.098512</td>\n",
       "      <td>0.182199</td>\n",
       "      <td>1.000000</td>\n",
       "      <td>0.226397</td>\n",
       "      <td>0.135906</td>\n",
       "      <td>0.217082</td>\n",
       "      <td>0.301429</td>\n",
       "    </tr>\n",
       "    <tr>\n",
       "      <th>BMI</th>\n",
       "      <td>-0.025347</td>\n",
       "      <td>0.209516</td>\n",
       "      <td>0.304403</td>\n",
       "      <td>0.664355</td>\n",
       "      <td>0.226397</td>\n",
       "      <td>1.000000</td>\n",
       "      <td>0.158771</td>\n",
       "      <td>0.069814</td>\n",
       "      <td>0.270118</td>\n",
       "    </tr>\n",
       "    <tr>\n",
       "      <th>DiabetesPedigreeFunction</th>\n",
       "      <td>0.007562</td>\n",
       "      <td>0.140180</td>\n",
       "      <td>-0.015971</td>\n",
       "      <td>0.160499</td>\n",
       "      <td>0.135906</td>\n",
       "      <td>0.158771</td>\n",
       "      <td>1.000000</td>\n",
       "      <td>0.085029</td>\n",
       "      <td>0.209330</td>\n",
       "    </tr>\n",
       "    <tr>\n",
       "      <th>Age</th>\n",
       "      <td>0.679608</td>\n",
       "      <td>0.343641</td>\n",
       "      <td>0.300039</td>\n",
       "      <td>0.167761</td>\n",
       "      <td>0.217082</td>\n",
       "      <td>0.069814</td>\n",
       "      <td>0.085029</td>\n",
       "      <td>1.000000</td>\n",
       "      <td>0.350804</td>\n",
       "    </tr>\n",
       "    <tr>\n",
       "      <th>Outcome</th>\n",
       "      <td>0.256566</td>\n",
       "      <td>0.515703</td>\n",
       "      <td>0.192673</td>\n",
       "      <td>0.255936</td>\n",
       "      <td>0.301429</td>\n",
       "      <td>0.270118</td>\n",
       "      <td>0.209330</td>\n",
       "      <td>0.350804</td>\n",
       "      <td>1.000000</td>\n",
       "    </tr>\n",
       "  </tbody>\n",
       "</table>\n",
       "</div>"
      ],
      "text/plain": [
       "                          Pregnancies   Glucose  BloodPressure  SkinThickness  \\\n",
       "Pregnancies                  1.000000  0.198291       0.213355       0.093209   \n",
       "Glucose                      0.198291  1.000000       0.210027       0.198856   \n",
       "BloodPressure                0.213355  0.210027       1.000000       0.232571   \n",
       "SkinThickness                0.093209  0.198856       0.232571       1.000000   \n",
       "Insulin                      0.078984  0.581223       0.098512       0.182199   \n",
       "BMI                         -0.025347  0.209516       0.304403       0.664355   \n",
       "DiabetesPedigreeFunction     0.007562  0.140180      -0.015971       0.160499   \n",
       "Age                          0.679608  0.343641       0.300039       0.167761   \n",
       "Outcome                      0.256566  0.515703       0.192673       0.255936   \n",
       "\n",
       "                           Insulin       BMI  DiabetesPedigreeFunction  \\\n",
       "Pregnancies               0.078984 -0.025347                  0.007562   \n",
       "Glucose                   0.581223  0.209516                  0.140180   \n",
       "BloodPressure             0.098512  0.304403                 -0.015971   \n",
       "SkinThickness             0.182199  0.664355                  0.160499   \n",
       "Insulin                   1.000000  0.226397                  0.135906   \n",
       "BMI                       0.226397  1.000000                  0.158771   \n",
       "DiabetesPedigreeFunction  0.135906  0.158771                  1.000000   \n",
       "Age                       0.217082  0.069814                  0.085029   \n",
       "Outcome                   0.301429  0.270118                  0.209330   \n",
       "\n",
       "                               Age   Outcome  \n",
       "Pregnancies               0.679608  0.256566  \n",
       "Glucose                   0.343641  0.515703  \n",
       "BloodPressure             0.300039  0.192673  \n",
       "SkinThickness             0.167761  0.255936  \n",
       "Insulin                   0.217082  0.301429  \n",
       "BMI                       0.069814  0.270118  \n",
       "DiabetesPedigreeFunction  0.085029  0.209330  \n",
       "Age                       1.000000  0.350804  \n",
       "Outcome                   0.350804  1.000000  "
      ]
     },
     "execution_count": 53,
     "metadata": {},
     "output_type": "execute_result"
    }
   ],
   "source": [
    "N1Diab.corr()"
   ]
  },
  {
   "cell_type": "markdown",
   "metadata": {},
   "source": [
    "Podemos observar que los niveles de glucosa, la edad y la insulina tienen una correlación significativa con la variable de resultado(Outcome), por lo que inferimos que estas variables son relevantes para construir nuestro modelo.\n",
    "\n",
    "En adición, también podemos concluir que la correlación entre pares de características, como la edad y los embarazos, o la insulina y la Glucosa, así como el grosor del pliegue de la piel y el índice de masa corporal muestran una correlación significativa."
   ]
  },
  {
   "cell_type": "markdown",
   "metadata": {},
   "source": [
    "### Estadística descriptiva\n",
    "Utilizaremos las medidas de tendencia central para responder una de nuestras preguntas de interés, la cual es ¿ Si la diabetes predomina en el grupo del pueblo Pima ?. Dichas medidas son de suma utilidad ya que nos proporcionan información sobre el centro de la distribución de la muestra, lo que nos permitiría tener una noción sobre la salud entorno al padecimiento de diabetes mellitus en las mujeres pertenecientes al pueblo Pima."
   ]
  },
  {
   "cell_type": "markdown",
   "metadata": {},
   "source": [
    ">Como la función .mean() y .median() proporcionan la media y la mediana respectivamente, las cuales se pueden obtener con la función .describe(), en donde \"50%\" indica el percentil 50, el cual es igual a la mediana, por lo que es suficiente utilizar dicha función."
   ]
  },
  {
   "cell_type": "markdown",
   "metadata": {},
   "source": [
    "Para analizar las medidas de tendencia central, analizaremos las variables que están asociadas al riesgo de tener diabetes mellitus tipo 2.\n",
    "### Factores de riesgo\n",
    "El riesgo de tener diabetes tipo 2 generalmente se incrementa con:\n",
    "+ Mayor edad.\n",
    "+ Nivel de actividad física bajo.\n",
    "+ Obesidad o sobrepeso.\n",
    "+ Antecedentes familiares de diabetes en parientes cercanos.\n",
    "+ Tener ascendientes africanos, asiáticos, nativos americanos, latinos o de las islas del Pacífico.\n",
    "+ Alta presión sanguínea.\n",
    "+ Altos niveles de grasas en sangre, conocidos como triglicéridos, unidos a bajos niveles de lipoproteínas de alta densidad, conocidas como HDL, en la corriente sanguínea.\n",
    "+ Diagnóstico anterior de pre diabetes tal como intolerancia a la glucosa o azúcar elevada en sangre.\n",
    "+ En las mujeres, antecedentes de dar a luz bebés grandes (más de 9 lbs) y / o diabetes durante el embarazo."
   ]
  },
  {
   "cell_type": "markdown",
   "metadata": {},
   "source": [
    "## Glucosa "
   ]
  },
  {
   "cell_type": "code",
   "execution_count": 158,
   "metadata": {},
   "outputs": [
    {
     "data": {
      "text/plain": [
       "count    392.000000\n",
       "mean     122.627551\n",
       "std       30.860781\n",
       "min       56.000000\n",
       "25%       99.000000\n",
       "50%      119.000000\n",
       "75%      143.000000\n",
       "max      198.000000\n",
       "Name: Glucose, dtype: float64"
      ]
     },
     "execution_count": 158,
     "metadata": {},
     "output_type": "execute_result"
    }
   ],
   "source": [
    "N1Diab['Glucose'].describe()"
   ]
  },
  {
   "cell_type": "code",
   "execution_count": 159,
   "metadata": {},
   "outputs": [
    {
     "data": {
      "text/plain": [
       "952.3877811994357"
      ]
     },
     "execution_count": 159,
     "metadata": {},
     "output_type": "execute_result"
    }
   ],
   "source": [
    "N1Diab['Glucose'].var()"
   ]
  },
  {
   "cell_type": "code",
   "execution_count": 160,
   "metadata": {},
   "outputs": [
    {
     "data": {
      "text/plain": [
       "142"
      ]
     },
     "execution_count": 160,
     "metadata": {},
     "output_type": "execute_result"
    }
   ],
   "source": [
    "RangoG=N1Diab['Glucose'].max()-N1Diab['Glucose'].min()\n",
    "RangoG"
   ]
  },
  {
   "cell_type": "markdown",
   "metadata": {},
   "source": [
    "### Interpretación:\n",
    "**Medidas de tendencia central**\n",
    "\n",
    "***Media***\n",
    "+ En el año del 1990,  el promedio del nivel de glucosa de las mujeres mayores a 21 años en el pueblo Pima es de 122.61 mg/dl.\n",
    "  > Según la Asociación Estadounidense de Diabetes establece que un nivel de Glucosa entre 100 y 125 mg/dL se considera prediabetes, por lo cual vemos que esta medida de tendencia central refleja que predomina un riesgo alto en mujeres del pueblo Pima a tener diabetes.\n",
    "  \n",
    "***Mediana***\n",
    "+ El 50% de las mujeres mayores a 21 años en el pueblo Pima en 1990 tiene un nivel de glucosa menor o igual a 119.\n",
    "\n",
    "**Medidas de dispersión**\n",
    "\n",
    "***Varianza***\n",
    "+ La desviación del nivel de glucosa de las mujeres mayores a 21 años en el pueblo Pima con respecto a la media es de 950.01 mg²/dL².\n",
    "\n",
    "***Desviación estándar***\n",
    "+ La desviación del nivel de glucosa de las mujeres mayores a 21 años en el pueblo Pima con respecto a la media es de 30.82 mg/dL. \n",
    "\n",
    "***Rango***\n",
    "+ Dado que el rango del nivel de glucosa de las mujeres mayores a 21 años en el pueblo Pima es 142mg/dL, podemos concluir que su grado de dispersión es alto.\n",
    "\n",
    ">En adición, el nivel **máximo** de glucosa registrado es de 198 md/dL, en cambio el nivel **mínimo** de glucosa registrado fue de 56 md/dL en mujeres mayores a 21 años, pertenecientes a la población de Pima en 1990."
   ]
  },
  {
   "cell_type": "markdown",
   "metadata": {},
   "source": [
    "## Presión arterial diastólica"
   ]
  },
  {
   "cell_type": "code",
   "execution_count": 161,
   "metadata": {},
   "outputs": [
    {
     "data": {
      "text/plain": [
       "count    392.000000\n",
       "mean      70.663265\n",
       "std       12.496092\n",
       "min       24.000000\n",
       "25%       62.000000\n",
       "50%       70.000000\n",
       "75%       78.000000\n",
       "max      110.000000\n",
       "Name: BloodPressure, dtype: float64"
      ]
     },
     "execution_count": 161,
     "metadata": {},
     "output_type": "execute_result"
    }
   ],
   "source": [
    "N1Diab['BloodPressure'].describe()"
   ]
  },
  {
   "cell_type": "code",
   "execution_count": 162,
   "metadata": {},
   "outputs": [
    {
     "data": {
      "text/plain": [
       "156.15230440002108"
      ]
     },
     "execution_count": 162,
     "metadata": {},
     "output_type": "execute_result"
    }
   ],
   "source": [
    "N1Diab['BloodPressure'].var()"
   ]
  },
  {
   "cell_type": "code",
   "execution_count": 163,
   "metadata": {},
   "outputs": [
    {
     "data": {
      "text/plain": [
       "86"
      ]
     },
     "execution_count": 163,
     "metadata": {},
     "output_type": "execute_result"
    }
   ],
   "source": [
    "RangoB=N1Diab['BloodPressure'].max()-N1Diab['BloodPressure'].min()\n",
    "RangoB"
   ]
  },
  {
   "cell_type": "markdown",
   "metadata": {},
   "source": [
    "### Interpretación:\n",
    "**Medidas de tendencia central**\n",
    "\n",
    "***Media***\n",
    "+ En el año del 1990, el promedio de presión arterial diastólica en las mujeres mayores a 21 años en el pueblo Pima es de 70.64 mmHg\n",
    "  > Según *American Heart association* un valor inferior en la presión diastólica menor a 80mmHg, se considera una presión arterial normal. Por lo que concluimos que el promedio de presión arterial diastólica en las mujeres mayores a 21 años en el pueblo Pima está en un rango normal\n",
    "  \n",
    "***Mediana***\n",
    "+ El 50% de las mujeres mayores a 21 años en el pueblo Pima en 1990 tiene una presión arterial diastólica menor o igual a 70mmHg.\n",
    "\n",
    "**Medidas de dispersión**\n",
    "\n",
    "***Varianza***\n",
    "+ La desviación de la presión arterial diastólica de las mujeres mayores a 21 años en el pueblo Pima con respecto a la media es de 155.86 (mmHg)².\n",
    "\n",
    "***Desviación estándar***\n",
    "+ La desviación de la presión arterial diastólica de las mujeres mayores a 21 años en el pueblo Pima con respecto a la media es de 12.48 mmHg.\n",
    "\n",
    "***Rango***\n",
    "+ Dado que el rango de la presión arterial diastólica de las mujeres mayores a 21 años en el pueblo Pima es 86mmHg, podemos concluir que su grado de dispersión es alto.\n",
    "\n",
    ">En adición, el nivel **máximo** de la presión arterial diastólica registrado es de 110mmHg, en cambio el nivel **mínimo** de presión diastólica registrado fue de 24mmHg en mujeres mayores a 21 años, pertenecientes a la población de Pima en 1990.\n"
   ]
  },
  {
   "cell_type": "markdown",
   "metadata": {},
   "source": [
    "## Insulina sérica"
   ]
  },
  {
   "cell_type": "code",
   "execution_count": 164,
   "metadata": {},
   "outputs": [
    {
     "data": {
      "text/plain": [
       "count    392.000000\n",
       "mean     156.056122\n",
       "std      118.841690\n",
       "min       14.000000\n",
       "25%       76.750000\n",
       "50%      125.500000\n",
       "75%      190.000000\n",
       "max      846.000000\n",
       "Name: Insulin, dtype: float64"
      ]
     },
     "execution_count": 164,
     "metadata": {},
     "output_type": "execute_result"
    }
   ],
   "source": [
    "N1Diab['Insulin'].describe()"
   ]
  },
  {
   "cell_type": "code",
   "execution_count": 165,
   "metadata": {},
   "outputs": [
    {
     "data": {
      "text/plain": [
       "14123.347225846872"
      ]
     },
     "execution_count": 165,
     "metadata": {},
     "output_type": "execute_result"
    }
   ],
   "source": [
    "N1Diab['Insulin'].var()"
   ]
  },
  {
   "cell_type": "code",
   "execution_count": 166,
   "metadata": {},
   "outputs": [
    {
     "data": {
      "text/plain": [
       "832"
      ]
     },
     "execution_count": 166,
     "metadata": {},
     "output_type": "execute_result"
    }
   ],
   "source": [
    "RangoI=N1Diab['Insulin'].max()-N1Diab['Insulin'].min()\n",
    "RangoI"
   ]
  },
  {
   "cell_type": "markdown",
   "metadata": {},
   "source": [
    "### Interpretación:\n",
    "**Medidas de tendencia central**\n",
    "\n",
    "***Media***\n",
    "+ En el año del 1990, el promedio del nivel de insulina sérica de 2 horas en las mujeres mayores a 21 años en el pueblo Pima es de 155.88 µU/mL\n",
    "  > Según *Vázquez CC, Salinas OS, Gómez DRA, et al* un valor máximo aceptado para los niveles de insulina sérica con un IMC<24 y sensibilidad normal a la insulina(RGI>6) de dos horas es de  76.97 µU/mL. Por lo que concluimos que el nivel de insulina sérica que presentan las mujeres mayores a 21 años en el pueblo Pima está fuera del rango normal.\n",
    "  \n",
    "***Mediana***\n",
    "+ El 50% de las mujeres mayores a 21 años en el pueblo Pima en 1990 tiene un nivel de insulina sérica menor o igual a 125 µU/mL\n",
    "\n",
    "**Medidas de dispersión**\n",
    "\n",
    "***Varianza***\n",
    "+ La desviación del nivel de insulina sérica de 2 horas en las mujeres mayores a 21 años en el pueblo Pima con respecto a la media es de 14123.34 (µU/mL)².\n",
    "\n",
    "***Desviación estándar***\n",
    "+ La desviación del nivel de insulina sérica de 2 horas en mujeres mayores a 21 años en el pueblo Pima con respecto a la media es de 118.73 µU/mL\n",
    "\n",
    "***Rango***\n",
    "+ Dado que el rango del nivel de insulina sérica de 2 horas en las mujeres mayores a 21 años en el pueblo Pima es 832 µU/mL, podemos concluir que su grado de dispersión es alto.\n",
    "\n",
    ">En adición, el nivel **máximo** del nivel de insulina sérica de 2 horas registrado es de 846µU/mL en cambio el nivel **mínimo** registrado fue de 14 µU/mL en mujeres mayores a 21 años, pertenecientes a la población de Pima en 1990.\n"
   ]
  },
  {
   "cell_type": "markdown",
   "metadata": {},
   "source": [
    "## Índice de masa corporal"
   ]
  },
  {
   "cell_type": "code",
   "execution_count": 167,
   "metadata": {},
   "outputs": [
    {
     "data": {
      "text/plain": [
       "count    392.000000\n",
       "mean      33.086224\n",
       "std        7.027659\n",
       "min       18.200000\n",
       "25%       28.400000\n",
       "50%       33.200000\n",
       "75%       37.100000\n",
       "max       67.100000\n",
       "Name: BMI, dtype: float64"
      ]
     },
     "execution_count": 167,
     "metadata": {},
     "output_type": "execute_result"
    }
   ],
   "source": [
    "N1Diab['BMI'].describe()"
   ]
  },
  {
   "cell_type": "code",
   "execution_count": 168,
   "metadata": {},
   "outputs": [
    {
     "data": {
      "text/plain": [
       "49.38799389320946"
      ]
     },
     "execution_count": 168,
     "metadata": {},
     "output_type": "execute_result"
    }
   ],
   "source": [
    "N1Diab['BMI'].var()"
   ]
  },
  {
   "cell_type": "code",
   "execution_count": 170,
   "metadata": {},
   "outputs": [
    {
     "data": {
      "text/plain": [
       "48.89999999999999"
      ]
     },
     "execution_count": 170,
     "metadata": {},
     "output_type": "execute_result"
    }
   ],
   "source": [
    "RangoB=N1Diab['BMI'].max()-N1Diab['BMI'].min()\n",
    "RangoB"
   ]
  },
  {
   "cell_type": "markdown",
   "metadata": {},
   "source": [
    "### Interpretación:\n",
    "**Medidas de tendencia central**\n",
    "\n",
    "***Media***\n",
    "+ En el año del 1990, el promedio del índice de masa corporal en las mujeres mayores a 21 años en el pueblo Pima es de 33 kg/m²\n",
    "![imageBMI](http://doctordaguerobesidad.com/images/modulos/Tabla-de-clasificacion-de-la-obesidad-barranquilla.png)\n",
    "\n",
    "  > Según *Organización mundial de la Salud* un intervalo normal para el índice de masa corporal es de 18.5 a 24.9, además que se considera obesidad de grado I  con un IMC de 30 a 34.9. Basándonos en el índice de masa corporal, concluimos que las mujeres mayores a 21 años del pueblo Pima se encuentran con obesidad grado I.\n",
    "  \n",
    "***Mediana***\n",
    "+ El 50% de las mujeres mayores a 21 años en el pueblo Pima en 1990 tiene un índice de masa corporal menor o igual a 33.20 kg/m²\n",
    "\n",
    "**Medidas de dispersión**\n",
    "\n",
    "***Varianza***\n",
    "+ La desviación del índice de masa corporal en las mujeres mayores a 21 años en el pueblo Pima  con respecto a la media es de 49.38 (kg/m²)².\n",
    "\n",
    "***Desviación estándar***\n",
    "+ La desviación del índice de masa corporal en las mujeres mayores a 21 años en el pueblo Pima con respecto a la media es de 7.02 kg/m²\n",
    "\n",
    "***Rango***\n",
    "+ Dado que el rango del índice de masa corporal en las mujeres mayores a 21 años en el pueblo Pima es 48.89 kg/m², podemos concluir que su grado de dispersión es alto.\n",
    "\n",
    ">En adición, el nivel **máximo** del índice de masa corporal registrado es de 67.10 kg/m²,  en cambio el nivel **mínimo** registrado fue de 18.20 kg/m²en mujeres mayores a 21 años, pertenecientes a la población de Pima en el año de 1990.\n"
   ]
  },
  {
   "cell_type": "code",
   "execution_count": 78,
   "metadata": {},
   "outputs": [
    {
     "data": {
      "text/plain": [
       "count    393.000000\n",
       "mean       0.526120\n",
       "std        0.350386\n",
       "min        0.085000\n",
       "25%        0.270000\n",
       "50%        0.452000\n",
       "75%        0.687000\n",
       "max        2.420000\n",
       "Name: DiabetesPedigreeFunction, dtype: float64"
      ]
     },
     "execution_count": 78,
     "metadata": {},
     "output_type": "execute_result"
    }
   ],
   "source": [
    "N1Diab['DiabetesPedigreeFunction'].describe()"
   ]
  },
  {
   "cell_type": "code",
   "execution_count": 176,
   "metadata": {},
   "outputs": [
    {
     "data": {
      "text/plain": [
       "1.9591011676798944"
      ]
     },
     "execution_count": 176,
     "metadata": {},
     "output_type": "execute_result"
    }
   ],
   "source": [
    "N1Diab['DiabetesPedigreeFunction'].skew()"
   ]
  },
  {
   "cell_type": "code",
   "execution_count": 173,
   "metadata": {},
   "outputs": [
    {
     "data": {
      "text/plain": [
       "2.335"
      ]
     },
     "execution_count": 173,
     "metadata": {},
     "output_type": "execute_result"
    }
   ],
   "source": [
    "RangoD=N1Diab['DiabetesPedigreeFunction'].max()-N1Diab['DiabetesPedigreeFunction'].min()\n",
    "RangoD"
   ]
  },
  {
   "cell_type": "markdown",
   "metadata": {},
   "source": [
    "### Interpretación:\n",
    "**Medidas de tendencia central**\n",
    "\n",
    "***Media***\n",
    "+ En el año del 1990, el promedio de la función de pedigrí, en las mujeres mayores a 21 años en el pueblo Pima es de 0.5261\n",
    "  > La función de pedigrí proporciona una medida de la influencia genética esperada de los familiares afectados y no afectados sobre el eventual riesgo de diabetes del sujeto.\n",
    "\n",
    "  \n",
    "***Mediana***\n",
    "+ El 50% de las mujeres mayores a 21 años en el pueblo Pima en 1990 tiene un valor de la función de pedigrí menor o igual a 0.4520\n",
    "\n",
    "**Medidas de dispersión**\n",
    "Como la función de pedigrí proporciona un valor adimensional, sólo se interpretará la desviación estándar.\n",
    "\n",
    "***Desviación estándar***\n",
    "+ La desviación del valor de la función de pedigrí en las mujeres mayores a 21 años en el pueblo Pima  con respecto a la media es de 0.3503.\n",
    "\n",
    "***Rango***\n",
    "+ Dado que el rango de la función de pedigrí en las mujeres mayores a 21 años en el pueblo Pima es 2.335, podemos concluir que su grado de dispersión es alto, esto por el rango de los valores en la función.\n",
    "\n",
    ">En adición, el nivel **máximo** de la función de pedigrí  es de 2.42  en cambio el nivel **mínimo** registrado fue de 0.085 en mujeres mayores a 21 años, pertenecientes a la población de Pima en el año de 1990.\n"
   ]
  },
  {
   "cell_type": "markdown",
   "metadata": {},
   "source": [
    "### Gráficas"
   ]
  },
  {
   "cell_type": "markdown",
   "metadata": {},
   "source": [
    "+ **Histograma** "
   ]
  },
  {
   "cell_type": "markdown",
   "metadata": {},
   "source": [
    "Uno de nuestros objetivos secundarios es visualizar la distribución de los datos, por lo que usaremos los histogramas para cumplir dicho objetivo."
   ]
  },
  {
   "cell_type": "code",
   "execution_count": 210,
   "metadata": {},
   "outputs": [
    {
     "data": {
      "text/plain": [
       "array([[<AxesSubplot:title={'center':'Pregnancies'}>,\n",
       "        <AxesSubplot:title={'center':'Glucose'}>,\n",
       "        <AxesSubplot:title={'center':'BloodPressure'}>],\n",
       "       [<AxesSubplot:title={'center':'SkinThickness'}>,\n",
       "        <AxesSubplot:title={'center':'Insulin'}>,\n",
       "        <AxesSubplot:title={'center':'BMI'}>],\n",
       "       [<AxesSubplot:title={'center':'DiabetesPedigreeFunction'}>,\n",
       "        <AxesSubplot:title={'center':'Age'}>,\n",
       "        <AxesSubplot:title={'center':'Outcome'}>]], dtype=object)"
      ]
     },
     "execution_count": 210,
     "metadata": {},
     "output_type": "execute_result"
    },
    {
     "data": {
      "image/png": "[encoded data removed]",
      "text/plain": [
       "<Figure size 1440x1152 with 9 Axes>"
      ]
     },
     "metadata": {},
     "output_type": "display_data"
    }
   ],
   "source": [
    "N1Diab.hist(figsize=(20, 16),color='lightblue')"
   ]
  },
  {
   "cell_type": "markdown",
   "metadata": {},
   "source": [
    "+ El histograma de la frecuencia absoluta de la variable *Pregnacies*, muestra que la mayoria de mujeres mayor a 21 años en el pueblo Pima en 1990 tiene 1 o 2 hijos.\n",
    "+ El histograma de la variable *Glucose*, muestra que el intervalo de clase de con mayor frecuencia absoluta de mujeres mayor de 21 años en el pueblo Pima en 1990 tiene 100-120  mg/dl en la concentración de glucosa en plasma a 2 horas.\n",
    "+ El histograma de la variable *BloodPressure* , muestra que el intervalo de clase con mayor frecuencia absoluta de mujeres mayor de 21 años en el pueblo Pima en 1990 tiene una presión arterial diastólica de 70-80 mmHg.\n",
    "+ El histograma de la variable *SkinThickness* , muestra que el intervalo con mayor frecuencia absoluta de mujeres mayor de 21 años en el pueblo Pima en 1990 tiene un grosor del pliegue de la piel de 25-30 mmHg.\n",
    "+ El histograma de la variable *Insulin* , muestra que los intervalos de mayor frecuencia absoluta de mujeres mayor de 21 años en el pueblo Pima en 1990 tienen un nivel de insulina sérica 100-200µU/mL\n",
    "+ El histograma de la variable *BMI* , muestra que el intervalo de mayor frecuencia absoluta de mujeres mayor de 21 años en el pueblo Pima en 1990 tiene un índice de masa corporal entre 30-40  kg/m².\n",
    "+ El histograma de la variable *DiabetesPedigreeFunction* , muestra que los intervalos de mayor frecuencia absoluta de mujeres mayor de 21 años en el pueblo Pima en 1990 tiene una función de pedigrí que oscila entre 0.08-0.5.\n",
    "+ El histograma de la variable *DiabetesPedigreeFunction* , muestra que el intervalo de mayor frecuencia absoluta de mujeres mayor de 21 años en el pueblo Pima en 1990 tiene una función de pedigrí que oscila entre 0.08-0.5.\n",
    "+ El histograma de la variable *Age* , muestra que el intervalo de mayor frecuencia absoluta de mujeres originarias del pueblo Pima  mayores a 21 años en 1990 oscila entre 21-30 años\n"
   ]
  },
  {
   "cell_type": "markdown",
   "metadata": {},
   "source": [
    "+ **Mapa de calor**"
   ]
  },
  {
   "cell_type": "markdown",
   "metadata": {},
   "source": [
    "Uno de nuestros objetivos secundarios es establacer que tan correlacionadas están ciertas variables, así como lograr responder a la pregunta ¿Qué variables, que representan un factor de riesgo para la diabetes están altamente correlacionadas?, por lo que usaremos un mapa de calor para poder visualizar de manera más sencilla la correlación entre dos variables."
   ]
  },
  {
   "cell_type": "code",
   "execution_count": 9,
   "metadata": {},
   "outputs": [
    {
     "data": {
      "image/png": "[encoded data removed]",
      "text/plain": [
       "<Figure size 720x432 with 2 Axes>"
      ]
     },
     "metadata": {
      "needs_background": "light"
     },
     "output_type": "display_data"
    }
   ],
   "source": [
    "import matplotlib.pyplot as plt\n",
    "import seaborn as sns\n",
    "plt.figure(figsize=(10,6))\n",
    "sns.heatmap(N1Diab.corr(),annot=True)\n",
    "plt.title('Mapa de correlación')\n",
    "plt.savefig('graph.png')\n",
    "plt.show()"
   ]
  },
  {
   "cell_type": "markdown",
   "metadata": {},
   "source": [
    "El mapa de calor muestra que los niveles de glucosa, la edad y la insulina tienen una correlación significativa con la variable de resultado(Outcome), por lo que inferimos que estás variables son relevantes para construir nuestro modelo.\n",
    "\n",
    "En adición, también podemos concluir que la correlación entre pares de características, como la edad y los embarazos, o la insulina y la Glucosa, así como el grosor del pliegue de la piel y el índice de masa corporal muestran una correlación significativa."
   ]
  },
  {
   "cell_type": "markdown",
   "metadata": {},
   "source": [
    "+ **Gráfico de pastel**\n",
    "\n",
    "Dado que una de nuestras preguntas de interés es determinar si la diabetes predomina en el grupo del pueblo Pima, procederemos a visualizar mediante un gráfico de pastel la distribución de personas diabéticas."
   ]
  },
  {
   "cell_type": "code",
   "execution_count": 148,
   "metadata": {},
   "outputs": [
    {
     "data": {
      "image/png": "[encoded data removed]",
      "text/plain": [
       "<Figure size 504x504 with 1 Axes>"
      ]
     },
     "metadata": {},
     "output_type": "display_data"
    }
   ],
   "source": [
    "sns.set(style=\"whitegrid\")\n",
    "labels = ['NO diabética', 'Diabética']\n",
    "sizes = N1Diab['Outcome'].value_counts(sort = True)\n",
    "explode = (0.05,0) \n",
    " \n",
    "plt.figure(figsize=(7,7))\n",
    "plt.pie(sizes, explode=explode, labels=labels, colors=[\"pink\",\"orange\"], autopct='%1.1f%%', shadow=True, startangle=90,)\n",
    "\n",
    "plt.title('Distribución de mujeres diabéticas y no diabéticas del pueblo Pima')\n",
    "plt.show()\n"
   ]
  },
  {
   "cell_type": "markdown",
   "metadata": {},
   "source": [
    "+ La gráfica nos muestra que el 66.8% de las mujeres mayores a 21 años, en el pueblo Pima NO tiene diabetes, en cambio el 33.2% si padece diabetes, esto para el año de 1990.\n",
    "+ La gráfica de pastel confirma el valor de la prevalencia obtenida previamente.\n",
    "+ Como se menciono previamente, este porcentaje de mujeres mayores a 21 años es bastante alto comparandolo a nivel mundial en donde unicamente es el 8.5%, por lo que concluimos que las mujeres del Pueblo Pima, tienden a padecer diabetes. "
   ]
  },
  {
   "cell_type": "markdown",
   "metadata": {},
   "source": [
    "+ **Pairplot**"
   ]
  },
  {
   "cell_type": "markdown",
   "metadata": {},
   "source": [
    "Usando el mapa de calor, nos percatamos que el nivel de glucosa, la edad y la insulina tienen una correlación significativa con la variable de resultado(Outcome), por lo que procederemos a visualizar dichas variables en un scatter plot, para ver el grado de correlación de una manera gráfica. "
   ]
  },
  {
   "cell_type": "code",
   "execution_count": 51,
   "metadata": {},
   "outputs": [
    {
     "data": {
      "text/plain": [
       "<seaborn.axisgrid.PairGrid at 0x1820648a100>"
      ]
     },
     "execution_count": 51,
     "metadata": {},
     "output_type": "execute_result"
    },
    {
     "data": {
      "image/png": "[encoded data removed]",
      "text/plain": [
       "<Figure size 648x648 with 12 Axes>"
      ]
     },
     "metadata": {
      "needs_background": "light"
     },
     "output_type": "display_data"
    }
   ],
   "source": [
    "sns.pairplot(data=N1Diab[['Insulin' ,'Age','Glucose']], height=3)"
   ]
  },
  {
   "cell_type": "markdown",
   "metadata": {},
   "source": [
    "+ Podemos visualizar que la variable Glucose está significativamente correlacionada con la variable Insulin, y con una correlación baja con la variable edad.\n",
    "\n",
    "+ Por otro lado, la edad, está pobrementa relacionada con la variable Glucosa e insulina.\n",
    "\n",
    "+ El nivel de insulina sérica, denotado por la variable Insulin tiene una correlación significativa con la variable Glucose y una correlación baja con la variable edad."
   ]
  },
  {
   "cell_type": "markdown",
   "metadata": {},
   "source": [
    "+ **Jointplot**\n",
    "\n",
    "Uno de nuestros objetivos es visualizar la distribución de los datos, por lo que usaremos este tipo de gráfico para poder visualizar en qué puntos se concentra la información.\n",
    "    En este caso, sólo visualizaremos la Glucosa con la insulina, y la Glucosa con la edad ya que son las variables que se ven más altamente correlacionadas con la variable resultado."
   ]
  },
  {
   "cell_type": "code",
   "execution_count": 52,
   "metadata": {},
   "outputs": [
    {
     "data": {
      "text/plain": [
       "<seaborn.axisgrid.JointGrid at 0x18207ee4610>"
      ]
     },
     "execution_count": 52,
     "metadata": {},
     "output_type": "execute_result"
    },
    {
     "data": {
      "image/png": "[encoded data removed]",
      "text/plain": [
       "<Figure size 432x432 with 3 Axes>"
      ]
     },
     "metadata": {
      "needs_background": "light"
     },
     "output_type": "display_data"
    }
   ],
   "source": [
    "sns.jointplot(x='Insulin', y='Glucose', data=N1Diab, kind='hex', \n",
    "              gridsize=20, color='pink')"
   ]
  },
  {
   "cell_type": "markdown",
   "metadata": {},
   "source": [
    "Podemos observar la concentración de los datos de la variable *Glucose* e *Insulin*, la cual muestra un cluster en 100 mg/dL en el nivel de Glucosa y aproximadamente 100µU/mL en el nivel de insulina sérica de 2 horas."
   ]
  },
  {
   "cell_type": "code",
   "execution_count": 222,
   "metadata": {},
   "outputs": [
    {
     "data": {
      "text/plain": [
       "<seaborn.axisgrid.JointGrid at 0x1f98ae3bd60>"
      ]
     },
     "execution_count": 222,
     "metadata": {},
     "output_type": "execute_result"
    },
    {
     "data": {
      "image/png": "[encoded data removed]",
      "text/plain": [
       "<Figure size 432x432 with 3 Axes>"
      ]
     },
     "metadata": {},
     "output_type": "display_data"
    }
   ],
   "source": [
    "sns.jointplot(x='Age', y='Glucose', data=N1Diab, kind='hex', \n",
    "              gridsize=20, color='purple')"
   ]
  },
  {
   "cell_type": "markdown",
   "metadata": {},
   "source": [
    "Podemos observar la concentración de los datos de la variable *Glucose* y *Age*, la cual muestra un cluster aproximadamente en 98 mg/dL en el nivel de Glucosa, esto a los 21 años."
   ]
  },
  {
   "cell_type": "markdown",
   "metadata": {},
   "source": [
    "## Modelo de diagnóstico de diabetes utilizando un árbol de clasificación."
   ]
  },
  {
   "cell_type": "code",
   "execution_count": null,
   "metadata": {},
   "outputs": [],
   "source": [
    "### Instalar librería graphviz"
   ]
  },
  {
   "cell_type": "code",
   "execution_count": 1,
   "metadata": {},
   "outputs": [
    {
     "ename": "SyntaxError",
     "evalue": "invalid syntax (<ipython-input-1-3e1bd5ab5d3f>, line 2)",
     "output_type": "error",
     "traceback": [
      "\u001b[1;36m  File \u001b[1;32m\"<ipython-input-1-3e1bd5ab5d3f>\"\u001b[1;36m, line \u001b[1;32m2\u001b[0m\n\u001b[1;33m    conda install python-graphviz.\u001b[0m\n\u001b[1;37m          ^\u001b[0m\n\u001b[1;31mSyntaxError\u001b[0m\u001b[1;31m:\u001b[0m invalid syntax\n"
     ]
    }
   ],
   "source": [
    "conda install python-graphviz."
   ]
  },
  {
   "cell_type": "code",
   "execution_count": 2,
   "metadata": {},
   "outputs": [
    {
     "name": "stdout",
     "output_type": "stream",
     "text": [
      "Requirement already satisfied: graphviz in c:\\users\\cruz_\\anaconda3\\lib\\site-packages (0.16)\n",
      "Note: you may need to restart the kernel to use updated packages.\n"
     ]
    }
   ],
   "source": [
    "pip install graphviz"
   ]
  },
  {
   "cell_type": "code",
   "execution_count": 40,
   "metadata": {},
   "outputs": [
    {
     "name": "stdout",
     "output_type": "stream",
     "text": [
      "Collecting mpld3\n",
      "  Downloading mpld3-0.5.2.tar.gz (888 kB)\n",
      "Requirement already satisfied: jinja2 in c:\\users\\cruz_\\anaconda3\\lib\\site-packages (from mpld3) (2.11.2)\n",
      "Requirement already satisfied: matplotlib in c:\\users\\cruz_\\anaconda3\\lib\\site-packages (from mpld3) (3.3.2)\n",
      "Requirement already satisfied: MarkupSafe>=0.23 in c:\\users\\cruz_\\anaconda3\\lib\\site-packages (from jinja2->mpld3) (1.1.1)\n",
      "Requirement already satisfied: pyparsing!=2.0.4,!=2.1.2,!=2.1.6,>=2.0.3 in c:\\users\\cruz_\\anaconda3\\lib\\site-packages (from matplotlib->mpld3) (2.4.7)\n",
      "Requirement already satisfied: cycler>=0.10 in c:\\users\\cruz_\\anaconda3\\lib\\site-packages (from matplotlib->mpld3) (0.10.0)\n",
      "Requirement already satisfied: numpy>=1.15 in c:\\users\\cruz_\\anaconda3\\lib\\site-packages (from matplotlib->mpld3) (1.19.2)\n",
      "Requirement already satisfied: kiwisolver>=1.0.1 in c:\\users\\cruz_\\anaconda3\\lib\\site-packages (from matplotlib->mpld3) (1.3.0)\n",
      "Requirement already satisfied: python-dateutil>=2.1 in c:\\users\\cruz_\\anaconda3\\lib\\site-packages (from matplotlib->mpld3) (2.8.1)\n",
      "Requirement already satisfied: pillow>=6.2.0 in c:\\users\\cruz_\\anaconda3\\lib\\site-packages (from matplotlib->mpld3) (8.0.1)\n",
      "Requirement already satisfied: certifi>=2020.06.20 in c:\\users\\cruz_\\anaconda3\\lib\\site-packages (from matplotlib->mpld3) (2020.6.20)\n",
      "Requirement already satisfied: six in c:\\users\\cruz_\\anaconda3\\lib\\site-packages (from cycler>=0.10->matplotlib->mpld3) (1.15.0)\n",
      "Building wheels for collected packages: mpld3\n",
      "  Building wheel for mpld3 (setup.py): started\n",
      "  Building wheel for mpld3 (setup.py): finished with status 'done'\n",
      "  Created wheel for mpld3: filename=mpld3-0.5.2-py3-none-any.whl size=200623 sha256=0e41af2f6d14bee05cf0d14d679b1747c607935d4c78d3ee9ca53465f5806e87\n",
      "  Stored in directory: c:\\users\\cruz_\\appdata\\local\\pip\\cache\\wheels\\d1\\fb\\75\\f5b4dc0a7eb149b7ca745beeced5a286e4e8ab3a8cdb45bd1b\n",
      "Successfully built mpld3\n",
      "Installing collected packages: mpld3\n",
      "Successfully installed mpld3-0.5.2\n",
      "Note: you may need to restart the kernel to use updated packages.\n"
     ]
    }
   ],
   "source": [
    "pip install mpld3"
   ]
  },
  {
   "cell_type": "code",
   "execution_count": 15,
   "metadata": {},
   "outputs": [],
   "source": [
    "%matplotlib notebook\n",
    "import mpld3\n",
    "mpld3.enable_notebook()"
   ]
  },
  {
   "cell_type": "code",
   "execution_count": 2,
   "metadata": {},
   "outputs": [],
   "source": [
    "### Imports\n",
    "import numpy as np\n",
    "import pandas as pd\n",
    "import matplotlib.pyplot as plt\n",
    "import seaborn as sns\n",
    "\n",
    "sns.set(rc={'figure.figsize': [3, 3]}, font_scale=1.2)"
   ]
  },
  {
   "cell_type": "code",
   "execution_count": 3,
   "metadata": {},
   "outputs": [],
   "source": [
    "N1Diab=pd.read_csv(\"6 variables.csv\")"
   ]
  },
  {
   "cell_type": "code",
   "execution_count": 4,
   "metadata": {},
   "outputs": [
    {
     "data": {
      "text/html": [
       "<div>\n",
       "<style scoped>\n",
       "    .dataframe tbody tr th:only-of-type {\n",
       "        vertical-align: middle;\n",
       "    }\n",
       "\n",
       "    .dataframe tbody tr th {\n",
       "        vertical-align: top;\n",
       "    }\n",
       "\n",
       "    .dataframe thead th {\n",
       "        text-align: right;\n",
       "    }\n",
       "</style>\n",
       "<table border=\"1\" class=\"dataframe\">\n",
       "  <thead>\n",
       "    <tr style=\"text-align: right;\">\n",
       "      <th></th>\n",
       "      <th>Glucose</th>\n",
       "      <th>Insulin</th>\n",
       "      <th>Age</th>\n",
       "      <th>Outcome</th>\n",
       "    </tr>\n",
       "  </thead>\n",
       "  <tbody>\n",
       "    <tr>\n",
       "      <th>0</th>\n",
       "      <td>89</td>\n",
       "      <td>94</td>\n",
       "      <td>21</td>\n",
       "      <td>0</td>\n",
       "    </tr>\n",
       "    <tr>\n",
       "      <th>1</th>\n",
       "      <td>137</td>\n",
       "      <td>168</td>\n",
       "      <td>33</td>\n",
       "      <td>1</td>\n",
       "    </tr>\n",
       "    <tr>\n",
       "      <th>2</th>\n",
       "      <td>78</td>\n",
       "      <td>88</td>\n",
       "      <td>26</td>\n",
       "      <td>1</td>\n",
       "    </tr>\n",
       "    <tr>\n",
       "      <th>3</th>\n",
       "      <td>197</td>\n",
       "      <td>543</td>\n",
       "      <td>53</td>\n",
       "      <td>1</td>\n",
       "    </tr>\n",
       "    <tr>\n",
       "      <th>4</th>\n",
       "      <td>189</td>\n",
       "      <td>846</td>\n",
       "      <td>59</td>\n",
       "      <td>1</td>\n",
       "    </tr>\n",
       "    <tr>\n",
       "      <th>...</th>\n",
       "      <td>...</td>\n",
       "      <td>...</td>\n",
       "      <td>...</td>\n",
       "      <td>...</td>\n",
       "    </tr>\n",
       "    <tr>\n",
       "      <th>387</th>\n",
       "      <td>181</td>\n",
       "      <td>510</td>\n",
       "      <td>26</td>\n",
       "      <td>1</td>\n",
       "    </tr>\n",
       "    <tr>\n",
       "      <th>388</th>\n",
       "      <td>128</td>\n",
       "      <td>110</td>\n",
       "      <td>37</td>\n",
       "      <td>1</td>\n",
       "    </tr>\n",
       "    <tr>\n",
       "      <th>389</th>\n",
       "      <td>88</td>\n",
       "      <td>16</td>\n",
       "      <td>22</td>\n",
       "      <td>0</td>\n",
       "    </tr>\n",
       "    <tr>\n",
       "      <th>390</th>\n",
       "      <td>101</td>\n",
       "      <td>180</td>\n",
       "      <td>63</td>\n",
       "      <td>0</td>\n",
       "    </tr>\n",
       "    <tr>\n",
       "      <th>391</th>\n",
       "      <td>121</td>\n",
       "      <td>112</td>\n",
       "      <td>30</td>\n",
       "      <td>0</td>\n",
       "    </tr>\n",
       "  </tbody>\n",
       "</table>\n",
       "<p>392 rows × 4 columns</p>\n",
       "</div>"
      ],
      "text/plain": [
       "     Glucose  Insulin  Age  Outcome\n",
       "0         89       94   21        0\n",
       "1        137      168   33        1\n",
       "2         78       88   26        1\n",
       "3        197      543   53        1\n",
       "4        189      846   59        1\n",
       "..       ...      ...  ...      ...\n",
       "387      181      510   26        1\n",
       "388      128      110   37        1\n",
       "389       88       16   22        0\n",
       "390      101      180   63        0\n",
       "391      121      112   30        0\n",
       "\n",
       "[392 rows x 4 columns]"
      ]
     },
     "execution_count": 4,
     "metadata": {},
     "output_type": "execute_result"
    }
   ],
   "source": [
    "N1Diab"
   ]
  },
  {
   "cell_type": "code",
   "execution_count": 5,
   "metadata": {},
   "outputs": [
    {
     "data": {
      "text/plain": [
       "Index(['Glucose', 'Insulin', 'Age', 'Outcome'], dtype='object')"
      ]
     },
     "execution_count": 5,
     "metadata": {},
     "output_type": "execute_result"
    }
   ],
   "source": [
    "### Arreglando base de datos\n",
    "N1Diab.columns = ['Glucose','Insulin', 'Age', 'Outcome']\n",
    "N1Diab.columns"
   ]
  },
  {
   "cell_type": "code",
   "execution_count": 6,
   "metadata": {},
   "outputs": [],
   "source": [
    "from sklearn.preprocessing import LabelEncoder"
   ]
  },
  {
   "cell_type": "code",
   "execution_count": 7,
   "metadata": {},
   "outputs": [],
   "source": [
    "le = LabelEncoder()"
   ]
  },
  {
   "cell_type": "code",
   "execution_count": 8,
   "metadata": {},
   "outputs": [],
   "source": [
    "N1Diab.Outcome = le.fit_transform(N1Diab.Outcome)"
   ]
  },
  {
   "cell_type": "code",
   "execution_count": 9,
   "metadata": {},
   "outputs": [],
   "source": [
    "### Arbol de clasificación\n",
    "X = N1Diab.iloc[:,0:3].values\n",
    "y = N1Diab['Outcome'].values"
   ]
  },
  {
   "cell_type": "code",
   "execution_count": 10,
   "metadata": {},
   "outputs": [],
   "source": [
    "from sklearn.model_selection import train_test_split\n",
    "X_train, X_test, Y_train, Y_test = train_test_split(X, y, test_size = 0.25, random_state=0)"
   ]
  },
  {
   "cell_type": "code",
   "execution_count": 11,
   "metadata": {},
   "outputs": [
    {
     "data": {
      "text/plain": [
       "DecisionTreeClassifier(criterion='entropy', max_depth=4, random_state=0)"
      ]
     },
     "execution_count": 11,
     "metadata": {},
     "output_type": "execute_result"
    }
   ],
   "source": [
    "#Using DecisionTreeClassifier of tree class to use Decision Tree Algorithm\n",
    "from sklearn.tree import DecisionTreeClassifier\n",
    "from sklearn import tree\n",
    "arbol = DecisionTreeClassifier(class_weight=None, criterion = 'entropy', max_depth = 4, random_state = 0)\n",
    "arbol.fit(X_train, Y_train)"
   ]
  },
  {
   "cell_type": "code",
   "execution_count": 12,
   "metadata": {},
   "outputs": [],
   "source": [
    "clf = arbol.fit(X_train, Y_train)"
   ]
  },
  {
   "cell_type": "code",
   "execution_count": 13,
   "metadata": {},
   "outputs": [
    {
     "data": {
      "text/plain": [
       "[Text(80.06086956521739, 146.77200000000002, 'X[0] <= 127.5\\nentropy = 0.915\\nsamples = 294\\nvalue = [197, 97]'),\n",
       " Text(40.030434782608694, 114.156, 'X[2] <= 25.5\\nentropy = 0.561\\nsamples = 175\\nvalue = [152, 23]'),\n",
       " Text(14.556521739130435, 81.54000000000002, 'X[0] <= 94.5\\nentropy = 0.271\\nsamples = 86\\nvalue = [82, 4]'),\n",
       " Text(7.278260869565218, 48.92400000000001, 'entropy = 0.0\\nsamples = 35\\nvalue = [35, 0]'),\n",
       " Text(21.834782608695654, 48.92400000000001, 'X[1] <= 67.5\\nentropy = 0.397\\nsamples = 51\\nvalue = [47, 4]'),\n",
       " Text(14.556521739130435, 16.30800000000002, 'entropy = 0.881\\nsamples = 10\\nvalue = [7, 3]'),\n",
       " Text(29.11304347826087, 16.30800000000002, 'entropy = 0.165\\nsamples = 41\\nvalue = [40, 1]'),\n",
       " Text(65.50434782608696, 81.54000000000002, 'X[1] <= 87.5\\nentropy = 0.748\\nsamples = 89\\nvalue = [70, 19]'),\n",
       " Text(50.947826086956525, 48.92400000000001, 'X[0] <= 80.5\\nentropy = 0.187\\nsamples = 35\\nvalue = [34, 1]'),\n",
       " Text(43.66956521739131, 16.30800000000002, 'entropy = 0.722\\nsamples = 5\\nvalue = [4, 1]'),\n",
       " Text(58.22608695652174, 16.30800000000002, 'entropy = 0.0\\nsamples = 30\\nvalue = [30, 0]'),\n",
       " Text(80.06086956521739, 48.92400000000001, 'X[1] <= 91.5\\nentropy = 0.918\\nsamples = 54\\nvalue = [36, 18]'),\n",
       " Text(72.78260869565217, 16.30800000000002, 'entropy = 0.0\\nsamples = 3\\nvalue = [0, 3]'),\n",
       " Text(87.33913043478262, 16.30800000000002, 'entropy = 0.874\\nsamples = 51\\nvalue = [36, 15]'),\n",
       " Text(120.0913043478261, 114.156, 'X[2] <= 23.5\\nentropy = 0.957\\nsamples = 119\\nvalue = [45, 74]'),\n",
       " Text(101.89565217391305, 81.54000000000002, 'X[0] <= 169.0\\nentropy = 0.742\\nsamples = 19\\nvalue = [15, 4]'),\n",
       " Text(94.61739130434783, 48.92400000000001, 'entropy = 0.0\\nsamples = 15\\nvalue = [15, 0]'),\n",
       " Text(109.17391304347827, 48.92400000000001, 'entropy = 0.0\\nsamples = 4\\nvalue = [0, 4]'),\n",
       " Text(138.28695652173914, 81.54000000000002, 'X[0] <= 166.0\\nentropy = 0.881\\nsamples = 100\\nvalue = [30, 70]'),\n",
       " Text(123.7304347826087, 48.92400000000001, 'X[0] <= 163.5\\nentropy = 0.953\\nsamples = 67\\nvalue = [25, 42]'),\n",
       " Text(116.45217391304348, 16.30800000000002, 'entropy = 0.928\\nsamples = 64\\nvalue = [22, 42]'),\n",
       " Text(131.0086956521739, 16.30800000000002, 'entropy = 0.0\\nsamples = 3\\nvalue = [3, 0]'),\n",
       " Text(152.84347826086957, 48.92400000000001, 'X[0] <= 190.0\\nentropy = 0.614\\nsamples = 33\\nvalue = [5, 28]'),\n",
       " Text(145.56521739130434, 16.30800000000002, 'entropy = 0.391\\nsamples = 26\\nvalue = [2, 24]'),\n",
       " Text(160.12173913043478, 16.30800000000002, 'entropy = 0.985\\nsamples = 7\\nvalue = [3, 4]')]"
      ]
     },
     "execution_count": 13,
     "metadata": {},
     "output_type": "execute_result"
    },
    {
     "data": {
      "image/png": "[encoded data removed]",
      "text/plain": [
       "<Figure size 216x216 with 1 Axes>"
      ]
     },
     "metadata": {},
     "output_type": "display_data"
    }
   ],
   "source": [
    "tree.plot_tree(clf) "
   ]
  },
  {
   "cell_type": "code",
   "execution_count": 16,
   "metadata": {},
   "outputs": [
    {
     "data": {
      "image/svg+xml": [
       "<?xml version=\"1.0\" encoding=\"UTF-8\" standalone=\"no\"?>\r\n",
       "<!DOCTYPE svg PUBLIC \"-//W3C//DTD SVG 1.1//EN\"\r\n",
       " \"http://www.w3.org/Graphics/SVG/1.1/DTD/svg11.dtd\">\r\n",
       "<!-- Generated by graphviz version 2.38.0 (20140413.2041)\r\n",
       " -->\r\n",
       "<!-- Title: Tree Pages: 1 -->\r\n",
       "<svg width=\"1348pt\" height=\"552pt\"\r\n",
       " viewBox=\"0.00 0.00 1347.50 552.00\" xmlns=\"http://www.w3.org/2000/svg\" xmlns:xlink=\"http://www.w3.org/1999/xlink\">\r\n",
       "<g id=\"graph0\" class=\"graph\" transform=\"scale(1 1) rotate(0) translate(4 548)\">\r\n",
       "<title>Tree</title>\r\n",
       "<polygon fill=\"white\" stroke=\"none\" points=\"-4,4 -4,-548 1343.5,-548 1343.5,4 -4,4\"/>\r\n",
       "<!-- 0 -->\r\n",
       "<g id=\"node1\" class=\"node\"><title>0</title>\r\n",
       "<path fill=\"#f2bf9a\" stroke=\"black\" d=\"M669,-544C669,-544 571,-544 571,-544 565,-544 559,-538 559,-532 559,-532 559,-473 559,-473 559,-467 565,-461 571,-461 571,-461 669,-461 669,-461 675,-461 681,-467 681,-473 681,-473 681,-532 681,-532 681,-538 675,-544 669,-544\"/>\r\n",
       "<text text-anchor=\"start\" x=\"567\" y=\"-528.8\" font-family=\"Helvetica,sans-Serif\" font-size=\"14.00\">Glucose ≤ 127.5</text>\r\n",
       "<text text-anchor=\"start\" x=\"570\" y=\"-513.8\" font-family=\"Helvetica,sans-Serif\" font-size=\"14.00\">entropy = 0.915</text>\r\n",
       "<text text-anchor=\"start\" x=\"572.5\" y=\"-498.8\" font-family=\"Helvetica,sans-Serif\" font-size=\"14.00\">samples = 294</text>\r\n",
       "<text text-anchor=\"start\" x=\"567\" y=\"-483.8\" font-family=\"Helvetica,sans-Serif\" font-size=\"14.00\">value = [197, 97]</text>\r\n",
       "<text text-anchor=\"start\" x=\"579\" y=\"-468.8\" font-family=\"Helvetica,sans-Serif\" font-size=\"14.00\">class = Sano</text>\r\n",
       "</g>\r\n",
       "<!-- 1 -->\r\n",
       "<g id=\"node2\" class=\"node\"><title>1</title>\r\n",
       "<path fill=\"#e99457\" stroke=\"black\" d=\"M567,-425C567,-425 469,-425 469,-425 463,-425 457,-419 457,-413 457,-413 457,-354 457,-354 457,-348 463,-342 469,-342 469,-342 567,-342 567,-342 573,-342 579,-348 579,-354 579,-354 579,-413 579,-413 579,-419 573,-425 567,-425\"/>\r\n",
       "<text text-anchor=\"start\" x=\"483\" y=\"-409.8\" font-family=\"Helvetica,sans-Serif\" font-size=\"14.00\">Age ≤ 25.5</text>\r\n",
       "<text text-anchor=\"start\" x=\"468\" y=\"-394.8\" font-family=\"Helvetica,sans-Serif\" font-size=\"14.00\">entropy = 0.561</text>\r\n",
       "<text text-anchor=\"start\" x=\"470.5\" y=\"-379.8\" font-family=\"Helvetica,sans-Serif\" font-size=\"14.00\">samples = 175</text>\r\n",
       "<text text-anchor=\"start\" x=\"465\" y=\"-364.8\" font-family=\"Helvetica,sans-Serif\" font-size=\"14.00\">value = [152, 23]</text>\r\n",
       "<text text-anchor=\"start\" x=\"477\" y=\"-349.8\" font-family=\"Helvetica,sans-Serif\" font-size=\"14.00\">class = Sano</text>\r\n",
       "</g>\r\n",
       "<!-- 0&#45;&gt;1 -->\r\n",
       "<g id=\"edge1\" class=\"edge\"><title>0&#45;&gt;1</title>\r\n",
       "<path fill=\"none\" stroke=\"black\" d=\"M584.612,-460.907C576.7,-451.832 568.234,-442.121 560.081,-432.769\"/>\r\n",
       "<polygon fill=\"black\" stroke=\"black\" points=\"562.535,-430.259 553.326,-425.021 557.259,-434.859 562.535,-430.259\"/>\r\n",
       "<text text-anchor=\"middle\" x=\"551.618\" y=\"-446.262\" font-family=\"Helvetica,sans-Serif\" font-size=\"14.00\">True</text>\r\n",
       "</g>\r\n",
       "<!-- 14 -->\r\n",
       "<g id=\"node15\" class=\"node\"><title>14</title>\r\n",
       "<path fill=\"#b1d9f5\" stroke=\"black\" d=\"M773.5,-425C773.5,-425 672.5,-425 672.5,-425 666.5,-425 660.5,-419 660.5,-413 660.5,-413 660.5,-354 660.5,-354 660.5,-348 666.5,-342 672.5,-342 672.5,-342 773.5,-342 773.5,-342 779.5,-342 785.5,-348 785.5,-354 785.5,-354 785.5,-413 785.5,-413 785.5,-419 779.5,-425 773.5,-425\"/>\r\n",
       "<text text-anchor=\"start\" x=\"688\" y=\"-409.8\" font-family=\"Helvetica,sans-Serif\" font-size=\"14.00\">Age ≤ 23.5</text>\r\n",
       "<text text-anchor=\"start\" x=\"673\" y=\"-394.8\" font-family=\"Helvetica,sans-Serif\" font-size=\"14.00\">entropy = 0.957</text>\r\n",
       "<text text-anchor=\"start\" x=\"675.5\" y=\"-379.8\" font-family=\"Helvetica,sans-Serif\" font-size=\"14.00\">samples = 119</text>\r\n",
       "<text text-anchor=\"start\" x=\"674.5\" y=\"-364.8\" font-family=\"Helvetica,sans-Serif\" font-size=\"14.00\">value = [45, 74]</text>\r\n",
       "<text text-anchor=\"start\" x=\"668.5\" y=\"-349.8\" font-family=\"Helvetica,sans-Serif\" font-size=\"14.00\">class = Diabético</text>\r\n",
       "</g>\r\n",
       "<!-- 0&#45;&gt;14 -->\r\n",
       "<g id=\"edge14\" class=\"edge\"><title>0&#45;&gt;14</title>\r\n",
       "<path fill=\"none\" stroke=\"black\" d=\"M655.735,-460.907C663.725,-451.832 672.274,-442.121 680.506,-432.769\"/>\r\n",
       "<polygon fill=\"black\" stroke=\"black\" points=\"683.347,-434.839 687.328,-425.021 678.093,-430.214 683.347,-434.839\"/>\r\n",
       "<text text-anchor=\"middle\" x=\"688.916\" y=\"-446.27\" font-family=\"Helvetica,sans-Serif\" font-size=\"14.00\">False</text>\r\n",
       "</g>\r\n",
       "<!-- 2 -->\r\n",
       "<g id=\"node3\" class=\"node\"><title>2</title>\r\n",
       "<path fill=\"#e68743\" stroke=\"black\" d=\"M238,-306C238,-306 146,-306 146,-306 140,-306 134,-300 134,-294 134,-294 134,-235 134,-235 134,-229 140,-223 146,-223 146,-223 238,-223 238,-223 244,-223 250,-229 250,-235 250,-235 250,-294 250,-294 250,-300 244,-306 238,-306\"/>\r\n",
       "<text text-anchor=\"start\" x=\"143.5\" y=\"-290.8\" font-family=\"Helvetica,sans-Serif\" font-size=\"14.00\">Glucose ≤ 94.5</text>\r\n",
       "<text text-anchor=\"start\" x=\"142\" y=\"-275.8\" font-family=\"Helvetica,sans-Serif\" font-size=\"14.00\">entropy = 0.271</text>\r\n",
       "<text text-anchor=\"start\" x=\"148.5\" y=\"-260.8\" font-family=\"Helvetica,sans-Serif\" font-size=\"14.00\">samples = 86</text>\r\n",
       "<text text-anchor=\"start\" x=\"147.5\" y=\"-245.8\" font-family=\"Helvetica,sans-Serif\" font-size=\"14.00\">value = [82, 4]</text>\r\n",
       "<text text-anchor=\"start\" x=\"151\" y=\"-230.8\" font-family=\"Helvetica,sans-Serif\" font-size=\"14.00\">class = Sano</text>\r\n",
       "</g>\r\n",
       "<!-- 1&#45;&gt;2 -->\r\n",
       "<g id=\"edge2\" class=\"edge\"><title>1&#45;&gt;2</title>\r\n",
       "<path fill=\"none\" stroke=\"black\" d=\"M456.682,-360.493C400.511,-340.334 317.517,-310.547 259.483,-289.719\"/>\r\n",
       "<polygon fill=\"black\" stroke=\"black\" points=\"260.626,-286.411 250.031,-286.327 258.261,-292.999 260.626,-286.411\"/>\r\n",
       "</g>\r\n",
       "<!-- 7 -->\r\n",
       "<g id=\"node8\" class=\"node\"><title>7</title>\r\n",
       "<path fill=\"#eca36f\" stroke=\"black\" d=\"M564,-306C564,-306 472,-306 472,-306 466,-306 460,-300 460,-294 460,-294 460,-235 460,-235 460,-229 466,-223 472,-223 472,-223 564,-223 564,-223 570,-223 576,-229 576,-235 576,-235 576,-294 576,-294 576,-300 570,-306 564,-306\"/>\r\n",
       "<text text-anchor=\"start\" x=\"475.5\" y=\"-290.8\" font-family=\"Helvetica,sans-Serif\" font-size=\"14.00\">Insulin ≤ 87.5</text>\r\n",
       "<text text-anchor=\"start\" x=\"468\" y=\"-275.8\" font-family=\"Helvetica,sans-Serif\" font-size=\"14.00\">entropy = 0.748</text>\r\n",
       "<text text-anchor=\"start\" x=\"474.5\" y=\"-260.8\" font-family=\"Helvetica,sans-Serif\" font-size=\"14.00\">samples = 89</text>\r\n",
       "<text text-anchor=\"start\" x=\"469.5\" y=\"-245.8\" font-family=\"Helvetica,sans-Serif\" font-size=\"14.00\">value = [70, 19]</text>\r\n",
       "<text text-anchor=\"start\" x=\"477\" y=\"-230.8\" font-family=\"Helvetica,sans-Serif\" font-size=\"14.00\">class = Sano</text>\r\n",
       "</g>\r\n",
       "<!-- 1&#45;&gt;7 -->\r\n",
       "<g id=\"edge7\" class=\"edge\"><title>1&#45;&gt;7</title>\r\n",
       "<path fill=\"none\" stroke=\"black\" d=\"M518,-341.907C518,-333.649 518,-324.864 518,-316.302\"/>\r\n",
       "<polygon fill=\"black\" stroke=\"black\" points=\"521.5,-316.021 518,-306.021 514.5,-316.021 521.5,-316.021\"/>\r\n",
       "</g>\r\n",
       "<!-- 3 -->\r\n",
       "<g id=\"node4\" class=\"node\"><title>3</title>\r\n",
       "<path fill=\"#e58139\" stroke=\"black\" d=\"M103.5,-179.5C103.5,-179.5 22.5,-179.5 22.5,-179.5 16.5,-179.5 10.5,-173.5 10.5,-167.5 10.5,-167.5 10.5,-123.5 10.5,-123.5 10.5,-117.5 16.5,-111.5 22.5,-111.5 22.5,-111.5 103.5,-111.5 103.5,-111.5 109.5,-111.5 115.5,-117.5 115.5,-123.5 115.5,-123.5 115.5,-167.5 115.5,-167.5 115.5,-173.5 109.5,-179.5 103.5,-179.5\"/>\r\n",
       "<text text-anchor=\"start\" x=\"21\" y=\"-164.3\" font-family=\"Helvetica,sans-Serif\" font-size=\"14.00\">entropy = 0.0</text>\r\n",
       "<text text-anchor=\"start\" x=\"19.5\" y=\"-149.3\" font-family=\"Helvetica,sans-Serif\" font-size=\"14.00\">samples = 35</text>\r\n",
       "<text text-anchor=\"start\" x=\"18.5\" y=\"-134.3\" font-family=\"Helvetica,sans-Serif\" font-size=\"14.00\">value = [35, 0]</text>\r\n",
       "<text text-anchor=\"start\" x=\"22\" y=\"-119.3\" font-family=\"Helvetica,sans-Serif\" font-size=\"14.00\">class = Sano</text>\r\n",
       "</g>\r\n",
       "<!-- 2&#45;&gt;3 -->\r\n",
       "<g id=\"edge3\" class=\"edge\"><title>2&#45;&gt;3</title>\r\n",
       "<path fill=\"none\" stroke=\"black\" d=\"M147.244,-222.907C134.226,-211.101 120.021,-198.217 107.047,-186.45\"/>\r\n",
       "<polygon fill=\"black\" stroke=\"black\" points=\"109.327,-183.793 99.5687,-179.667 104.625,-188.978 109.327,-183.793\"/>\r\n",
       "</g>\r\n",
       "<!-- 4 -->\r\n",
       "<g id=\"node5\" class=\"node\"><title>4</title>\r\n",
       "<path fill=\"#e78c4a\" stroke=\"black\" d=\"M238,-187C238,-187 146,-187 146,-187 140,-187 134,-181 134,-175 134,-175 134,-116 134,-116 134,-110 140,-104 146,-104 146,-104 238,-104 238,-104 244,-104 250,-110 250,-116 250,-116 250,-175 250,-175 250,-181 244,-187 238,-187\"/>\r\n",
       "<text text-anchor=\"start\" x=\"149.5\" y=\"-171.8\" font-family=\"Helvetica,sans-Serif\" font-size=\"14.00\">Insulin ≤ 67.5</text>\r\n",
       "<text text-anchor=\"start\" x=\"142\" y=\"-156.8\" font-family=\"Helvetica,sans-Serif\" font-size=\"14.00\">entropy = 0.397</text>\r\n",
       "<text text-anchor=\"start\" x=\"148.5\" y=\"-141.8\" font-family=\"Helvetica,sans-Serif\" font-size=\"14.00\">samples = 51</text>\r\n",
       "<text text-anchor=\"start\" x=\"147.5\" y=\"-126.8\" font-family=\"Helvetica,sans-Serif\" font-size=\"14.00\">value = [47, 4]</text>\r\n",
       "<text text-anchor=\"start\" x=\"151\" y=\"-111.8\" font-family=\"Helvetica,sans-Serif\" font-size=\"14.00\">class = Sano</text>\r\n",
       "</g>\r\n",
       "<!-- 2&#45;&gt;4 -->\r\n",
       "<g id=\"edge4\" class=\"edge\"><title>2&#45;&gt;4</title>\r\n",
       "<path fill=\"none\" stroke=\"black\" d=\"M192,-222.907C192,-214.649 192,-205.864 192,-197.302\"/>\r\n",
       "<polygon fill=\"black\" stroke=\"black\" points=\"195.5,-197.021 192,-187.021 188.5,-197.021 195.5,-197.021\"/>\r\n",
       "</g>\r\n",
       "<!-- 5 -->\r\n",
       "<g id=\"node6\" class=\"node\"><title>5</title>\r\n",
       "<path fill=\"#f0b78e\" stroke=\"black\" d=\"M104,-68C104,-68 12,-68 12,-68 6,-68 0,-62 0,-56 0,-56 0,-12 0,-12 0,-6 6,-0 12,-0 12,-0 104,-0 104,-0 110,-0 116,-6 116,-12 116,-12 116,-56 116,-56 116,-62 110,-68 104,-68\"/>\r\n",
       "<text text-anchor=\"start\" x=\"8\" y=\"-52.8\" font-family=\"Helvetica,sans-Serif\" font-size=\"14.00\">entropy = 0.881</text>\r\n",
       "<text text-anchor=\"start\" x=\"14.5\" y=\"-37.8\" font-family=\"Helvetica,sans-Serif\" font-size=\"14.00\">samples = 10</text>\r\n",
       "<text text-anchor=\"start\" x=\"17.5\" y=\"-22.8\" font-family=\"Helvetica,sans-Serif\" font-size=\"14.00\">value = [7, 3]</text>\r\n",
       "<text text-anchor=\"start\" x=\"17\" y=\"-7.8\" font-family=\"Helvetica,sans-Serif\" font-size=\"14.00\">class = Sano</text>\r\n",
       "</g>\r\n",
       "<!-- 4&#45;&gt;5 -->\r\n",
       "<g id=\"edge5\" class=\"edge\"><title>4&#45;&gt;5</title>\r\n",
       "<path fill=\"none\" stroke=\"black\" d=\"M142.103,-103.726C130.495,-94.2406 118.153,-84.1551 106.602,-74.7159\"/>\r\n",
       "<polygon fill=\"black\" stroke=\"black\" points=\"108.708,-71.9171 98.7502,-68.2996 104.279,-77.3375 108.708,-71.9171\"/>\r\n",
       "</g>\r\n",
       "<!-- 6 -->\r\n",
       "<g id=\"node7\" class=\"node\"><title>6</title>\r\n",
       "<path fill=\"#e6843e\" stroke=\"black\" d=\"M238,-68C238,-68 146,-68 146,-68 140,-68 134,-62 134,-56 134,-56 134,-12 134,-12 134,-6 140,-0 146,-0 146,-0 238,-0 238,-0 244,-0 250,-6 250,-12 250,-12 250,-56 250,-56 250,-62 244,-68 238,-68\"/>\r\n",
       "<text text-anchor=\"start\" x=\"142\" y=\"-52.8\" font-family=\"Helvetica,sans-Serif\" font-size=\"14.00\">entropy = 0.165</text>\r\n",
       "<text text-anchor=\"start\" x=\"148.5\" y=\"-37.8\" font-family=\"Helvetica,sans-Serif\" font-size=\"14.00\">samples = 41</text>\r\n",
       "<text text-anchor=\"start\" x=\"147.5\" y=\"-22.8\" font-family=\"Helvetica,sans-Serif\" font-size=\"14.00\">value = [40, 1]</text>\r\n",
       "<text text-anchor=\"start\" x=\"151\" y=\"-7.8\" font-family=\"Helvetica,sans-Serif\" font-size=\"14.00\">class = Sano</text>\r\n",
       "</g>\r\n",
       "<!-- 4&#45;&gt;6 -->\r\n",
       "<g id=\"edge6\" class=\"edge\"><title>4&#45;&gt;6</title>\r\n",
       "<path fill=\"none\" stroke=\"black\" d=\"M192,-103.726C192,-95.5175 192,-86.8595 192,-78.56\"/>\r\n",
       "<polygon fill=\"black\" stroke=\"black\" points=\"195.5,-78.2996 192,-68.2996 188.5,-78.2996 195.5,-78.2996\"/>\r\n",
       "</g>\r\n",
       "<!-- 8 -->\r\n",
       "<g id=\"node9\" class=\"node\"><title>8</title>\r\n",
       "<path fill=\"#e6853f\" stroke=\"black\" d=\"M500,-187C500,-187 408,-187 408,-187 402,-187 396,-181 396,-175 396,-175 396,-116 396,-116 396,-110 402,-104 408,-104 408,-104 500,-104 500,-104 506,-104 512,-110 512,-116 512,-116 512,-175 512,-175 512,-181 506,-187 500,-187\"/>\r\n",
       "<text text-anchor=\"start\" x=\"405.5\" y=\"-171.8\" font-family=\"Helvetica,sans-Serif\" font-size=\"14.00\">Glucose ≤ 80.5</text>\r\n",
       "<text text-anchor=\"start\" x=\"404\" y=\"-156.8\" font-family=\"Helvetica,sans-Serif\" font-size=\"14.00\">entropy = 0.187</text>\r\n",
       "<text text-anchor=\"start\" x=\"410.5\" y=\"-141.8\" font-family=\"Helvetica,sans-Serif\" font-size=\"14.00\">samples = 35</text>\r\n",
       "<text text-anchor=\"start\" x=\"409.5\" y=\"-126.8\" font-family=\"Helvetica,sans-Serif\" font-size=\"14.00\">value = [34, 1]</text>\r\n",
       "<text text-anchor=\"start\" x=\"413\" y=\"-111.8\" font-family=\"Helvetica,sans-Serif\" font-size=\"14.00\">class = Sano</text>\r\n",
       "</g>\r\n",
       "<!-- 7&#45;&gt;8 -->\r\n",
       "<g id=\"edge8\" class=\"edge\"><title>7&#45;&gt;8</title>\r\n",
       "<path fill=\"none\" stroke=\"black\" d=\"M495.796,-222.907C491.03,-214.195 485.944,-204.897 481.019,-195.893\"/>\r\n",
       "<polygon fill=\"black\" stroke=\"black\" points=\"484.035,-194.114 476.165,-187.021 477.894,-197.474 484.035,-194.114\"/>\r\n",
       "</g>\r\n",
       "<!-- 11 -->\r\n",
       "<g id=\"node12\" class=\"node\"><title>11</title>\r\n",
       "<path fill=\"#f2c09c\" stroke=\"black\" d=\"M634,-187C634,-187 542,-187 542,-187 536,-187 530,-181 530,-175 530,-175 530,-116 530,-116 530,-110 536,-104 542,-104 542,-104 634,-104 634,-104 640,-104 646,-110 646,-116 646,-116 646,-175 646,-175 646,-181 640,-187 634,-187\"/>\r\n",
       "<text text-anchor=\"start\" x=\"545.5\" y=\"-171.8\" font-family=\"Helvetica,sans-Serif\" font-size=\"14.00\">Insulin ≤ 91.5</text>\r\n",
       "<text text-anchor=\"start\" x=\"538\" y=\"-156.8\" font-family=\"Helvetica,sans-Serif\" font-size=\"14.00\">entropy = 0.918</text>\r\n",
       "<text text-anchor=\"start\" x=\"544.5\" y=\"-141.8\" font-family=\"Helvetica,sans-Serif\" font-size=\"14.00\">samples = 54</text>\r\n",
       "<text text-anchor=\"start\" x=\"539.5\" y=\"-126.8\" font-family=\"Helvetica,sans-Serif\" font-size=\"14.00\">value = [36, 18]</text>\r\n",
       "<text text-anchor=\"start\" x=\"547\" y=\"-111.8\" font-family=\"Helvetica,sans-Serif\" font-size=\"14.00\">class = Sano</text>\r\n",
       "</g>\r\n",
       "<!-- 7&#45;&gt;11 -->\r\n",
       "<g id=\"edge11\" class=\"edge\"><title>7&#45;&gt;11</title>\r\n",
       "<path fill=\"none\" stroke=\"black\" d=\"M542.286,-222.907C547.553,-214.105 553.178,-204.703 558.617,-195.612\"/>\r\n",
       "<polygon fill=\"black\" stroke=\"black\" points=\"561.626,-197.399 563.757,-187.021 555.619,-193.805 561.626,-197.399\"/>\r\n",
       "</g>\r\n",
       "<!-- 9 -->\r\n",
       "<g id=\"node10\" class=\"node\"><title>9</title>\r\n",
       "<path fill=\"#eca06a\" stroke=\"black\" d=\"M372,-68C372,-68 280,-68 280,-68 274,-68 268,-62 268,-56 268,-56 268,-12 268,-12 268,-6 274,-0 280,-0 280,-0 372,-0 372,-0 378,-0 384,-6 384,-12 384,-12 384,-56 384,-56 384,-62 378,-68 372,-68\"/>\r\n",
       "<text text-anchor=\"start\" x=\"276\" y=\"-52.8\" font-family=\"Helvetica,sans-Serif\" font-size=\"14.00\">entropy = 0.722</text>\r\n",
       "<text text-anchor=\"start\" x=\"286.5\" y=\"-37.8\" font-family=\"Helvetica,sans-Serif\" font-size=\"14.00\">samples = 5</text>\r\n",
       "<text text-anchor=\"start\" x=\"285.5\" y=\"-22.8\" font-family=\"Helvetica,sans-Serif\" font-size=\"14.00\">value = [4, 1]</text>\r\n",
       "<text text-anchor=\"start\" x=\"285\" y=\"-7.8\" font-family=\"Helvetica,sans-Serif\" font-size=\"14.00\">class = Sano</text>\r\n",
       "</g>\r\n",
       "<!-- 8&#45;&gt;9 -->\r\n",
       "<g id=\"edge9\" class=\"edge\"><title>8&#45;&gt;9</title>\r\n",
       "<path fill=\"none\" stroke=\"black\" d=\"M406.338,-103.726C395.356,-94.3318 383.686,-84.349 372.744,-74.9883\"/>\r\n",
       "<polygon fill=\"black\" stroke=\"black\" points=\"374.8,-72.1406 364.926,-68.2996 370.249,-77.4598 374.8,-72.1406\"/>\r\n",
       "</g>\r\n",
       "<!-- 10 -->\r\n",
       "<g id=\"node11\" class=\"node\"><title>10</title>\r\n",
       "<path fill=\"#e58139\" stroke=\"black\" d=\"M495.5,-68C495.5,-68 414.5,-68 414.5,-68 408.5,-68 402.5,-62 402.5,-56 402.5,-56 402.5,-12 402.5,-12 402.5,-6 408.5,-0 414.5,-0 414.5,-0 495.5,-0 495.5,-0 501.5,-0 507.5,-6 507.5,-12 507.5,-12 507.5,-56 507.5,-56 507.5,-62 501.5,-68 495.5,-68\"/>\r\n",
       "<text text-anchor=\"start\" x=\"413\" y=\"-52.8\" font-family=\"Helvetica,sans-Serif\" font-size=\"14.00\">entropy = 0.0</text>\r\n",
       "<text text-anchor=\"start\" x=\"411.5\" y=\"-37.8\" font-family=\"Helvetica,sans-Serif\" font-size=\"14.00\">samples = 30</text>\r\n",
       "<text text-anchor=\"start\" x=\"410.5\" y=\"-22.8\" font-family=\"Helvetica,sans-Serif\" font-size=\"14.00\">value = [30, 0]</text>\r\n",
       "<text text-anchor=\"start\" x=\"414\" y=\"-7.8\" font-family=\"Helvetica,sans-Serif\" font-size=\"14.00\">class = Sano</text>\r\n",
       "</g>\r\n",
       "<!-- 8&#45;&gt;10 -->\r\n",
       "<g id=\"edge10\" class=\"edge\"><title>8&#45;&gt;10</title>\r\n",
       "<path fill=\"none\" stroke=\"black\" d=\"M454.372,-103.726C454.447,-95.5175 454.526,-86.8595 454.602,-78.56\"/>\r\n",
       "<polygon fill=\"black\" stroke=\"black\" points=\"458.104,-78.3312 454.696,-68.2996 451.105,-78.2672 458.104,-78.3312\"/>\r\n",
       "</g>\r\n",
       "<!-- 12 -->\r\n",
       "<g id=\"node13\" class=\"node\"><title>12</title>\r\n",
       "<path fill=\"#399de5\" stroke=\"black\" d=\"M638.5,-68C638.5,-68 537.5,-68 537.5,-68 531.5,-68 525.5,-62 525.5,-56 525.5,-56 525.5,-12 525.5,-12 525.5,-6 531.5,-0 537.5,-0 537.5,-0 638.5,-0 638.5,-0 644.5,-0 650.5,-6 650.5,-12 650.5,-12 650.5,-56 650.5,-56 650.5,-62 644.5,-68 638.5,-68\"/>\r\n",
       "<text text-anchor=\"start\" x=\"546\" y=\"-52.8\" font-family=\"Helvetica,sans-Serif\" font-size=\"14.00\">entropy = 0.0</text>\r\n",
       "<text text-anchor=\"start\" x=\"548.5\" y=\"-37.8\" font-family=\"Helvetica,sans-Serif\" font-size=\"14.00\">samples = 3</text>\r\n",
       "<text text-anchor=\"start\" x=\"547.5\" y=\"-22.8\" font-family=\"Helvetica,sans-Serif\" font-size=\"14.00\">value = [0, 3]</text>\r\n",
       "<text text-anchor=\"start\" x=\"533.5\" y=\"-7.8\" font-family=\"Helvetica,sans-Serif\" font-size=\"14.00\">class = Diabético</text>\r\n",
       "</g>\r\n",
       "<!-- 11&#45;&gt;12 -->\r\n",
       "<g id=\"edge12\" class=\"edge\"><title>11&#45;&gt;12</title>\r\n",
       "<path fill=\"none\" stroke=\"black\" d=\"M588,-103.726C588,-95.5175 588,-86.8595 588,-78.56\"/>\r\n",
       "<polygon fill=\"black\" stroke=\"black\" points=\"591.5,-78.2996 588,-68.2996 584.5,-78.2996 591.5,-78.2996\"/>\r\n",
       "</g>\r\n",
       "<!-- 13 -->\r\n",
       "<g id=\"node14\" class=\"node\"><title>13</title>\r\n",
       "<path fill=\"#f0b58b\" stroke=\"black\" d=\"M773,-68C773,-68 681,-68 681,-68 675,-68 669,-62 669,-56 669,-56 669,-12 669,-12 669,-6 675,-0 681,-0 681,-0 773,-0 773,-0 779,-0 785,-6 785,-12 785,-12 785,-56 785,-56 785,-62 779,-68 773,-68\"/>\r\n",
       "<text text-anchor=\"start\" x=\"677\" y=\"-52.8\" font-family=\"Helvetica,sans-Serif\" font-size=\"14.00\">entropy = 0.874</text>\r\n",
       "<text text-anchor=\"start\" x=\"683.5\" y=\"-37.8\" font-family=\"Helvetica,sans-Serif\" font-size=\"14.00\">samples = 51</text>\r\n",
       "<text text-anchor=\"start\" x=\"678.5\" y=\"-22.8\" font-family=\"Helvetica,sans-Serif\" font-size=\"14.00\">value = [36, 15]</text>\r\n",
       "<text text-anchor=\"start\" x=\"686\" y=\"-7.8\" font-family=\"Helvetica,sans-Serif\" font-size=\"14.00\">class = Sano</text>\r\n",
       "</g>\r\n",
       "<!-- 11&#45;&gt;13 -->\r\n",
       "<g id=\"edge13\" class=\"edge\"><title>11&#45;&gt;13</title>\r\n",
       "<path fill=\"none\" stroke=\"black\" d=\"M639.758,-103.726C651.8,-94.2406 664.602,-84.1551 676.584,-74.7159\"/>\r\n",
       "<polygon fill=\"black\" stroke=\"black\" points=\"679.04,-77.2372 684.729,-68.2996 674.708,-71.7385 679.04,-77.2372\"/>\r\n",
       "</g>\r\n",
       "<!-- 15 -->\r\n",
       "<g id=\"node16\" class=\"node\"><title>15</title>\r\n",
       "<path fill=\"#eca36e\" stroke=\"black\" d=\"M772,-306C772,-306 674,-306 674,-306 668,-306 662,-300 662,-294 662,-294 662,-235 662,-235 662,-229 668,-223 674,-223 674,-223 772,-223 772,-223 778,-223 784,-229 784,-235 784,-235 784,-294 784,-294 784,-300 778,-306 772,-306\"/>\r\n",
       "<text text-anchor=\"start\" x=\"670\" y=\"-290.8\" font-family=\"Helvetica,sans-Serif\" font-size=\"14.00\">Glucose ≤ 169.0</text>\r\n",
       "<text text-anchor=\"start\" x=\"673\" y=\"-275.8\" font-family=\"Helvetica,sans-Serif\" font-size=\"14.00\">entropy = 0.742</text>\r\n",
       "<text text-anchor=\"start\" x=\"679.5\" y=\"-260.8\" font-family=\"Helvetica,sans-Serif\" font-size=\"14.00\">samples = 19</text>\r\n",
       "<text text-anchor=\"start\" x=\"678.5\" y=\"-245.8\" font-family=\"Helvetica,sans-Serif\" font-size=\"14.00\">value = [15, 4]</text>\r\n",
       "<text text-anchor=\"start\" x=\"682\" y=\"-230.8\" font-family=\"Helvetica,sans-Serif\" font-size=\"14.00\">class = Sano</text>\r\n",
       "</g>\r\n",
       "<!-- 14&#45;&gt;15 -->\r\n",
       "<g id=\"edge15\" class=\"edge\"><title>14&#45;&gt;15</title>\r\n",
       "<path fill=\"none\" stroke=\"black\" d=\"M723,-341.907C723,-333.649 723,-324.864 723,-316.302\"/>\r\n",
       "<polygon fill=\"black\" stroke=\"black\" points=\"726.5,-316.021 723,-306.021 719.5,-316.021 726.5,-316.021\"/>\r\n",
       "</g>\r\n",
       "<!-- 18 -->\r\n",
       "<g id=\"node19\" class=\"node\"><title>18</title>\r\n",
       "<path fill=\"#8ec7f0\" stroke=\"black\" d=\"M1043.5,-306C1043.5,-306 942.5,-306 942.5,-306 936.5,-306 930.5,-300 930.5,-294 930.5,-294 930.5,-235 930.5,-235 930.5,-229 936.5,-223 942.5,-223 942.5,-223 1043.5,-223 1043.5,-223 1049.5,-223 1055.5,-229 1055.5,-235 1055.5,-235 1055.5,-294 1055.5,-294 1055.5,-300 1049.5,-306 1043.5,-306\"/>\r\n",
       "<text text-anchor=\"start\" x=\"940\" y=\"-290.8\" font-family=\"Helvetica,sans-Serif\" font-size=\"14.00\">Glucose ≤ 166.0</text>\r\n",
       "<text text-anchor=\"start\" x=\"943\" y=\"-275.8\" font-family=\"Helvetica,sans-Serif\" font-size=\"14.00\">entropy = 0.881</text>\r\n",
       "<text text-anchor=\"start\" x=\"945.5\" y=\"-260.8\" font-family=\"Helvetica,sans-Serif\" font-size=\"14.00\">samples = 100</text>\r\n",
       "<text text-anchor=\"start\" x=\"944.5\" y=\"-245.8\" font-family=\"Helvetica,sans-Serif\" font-size=\"14.00\">value = [30, 70]</text>\r\n",
       "<text text-anchor=\"start\" x=\"938.5\" y=\"-230.8\" font-family=\"Helvetica,sans-Serif\" font-size=\"14.00\">class = Diabético</text>\r\n",
       "</g>\r\n",
       "<!-- 14&#45;&gt;18 -->\r\n",
       "<g id=\"edge18\" class=\"edge\"><title>14&#45;&gt;18</title>\r\n",
       "<path fill=\"none\" stroke=\"black\" d=\"M785.622,-355.364C826.029,-337.854 878.719,-315.022 920.876,-296.754\"/>\r\n",
       "<polygon fill=\"black\" stroke=\"black\" points=\"922.467,-299.879 930.25,-292.691 919.683,-293.456 922.467,-299.879\"/>\r\n",
       "</g>\r\n",
       "<!-- 16 -->\r\n",
       "<g id=\"node17\" class=\"node\"><title>16</title>\r\n",
       "<path fill=\"#e58139\" stroke=\"black\" d=\"M757.5,-179.5C757.5,-179.5 676.5,-179.5 676.5,-179.5 670.5,-179.5 664.5,-173.5 664.5,-167.5 664.5,-167.5 664.5,-123.5 664.5,-123.5 664.5,-117.5 670.5,-111.5 676.5,-111.5 676.5,-111.5 757.5,-111.5 757.5,-111.5 763.5,-111.5 769.5,-117.5 769.5,-123.5 769.5,-123.5 769.5,-167.5 769.5,-167.5 769.5,-173.5 763.5,-179.5 757.5,-179.5\"/>\r\n",
       "<text text-anchor=\"start\" x=\"675\" y=\"-164.3\" font-family=\"Helvetica,sans-Serif\" font-size=\"14.00\">entropy = 0.0</text>\r\n",
       "<text text-anchor=\"start\" x=\"673.5\" y=\"-149.3\" font-family=\"Helvetica,sans-Serif\" font-size=\"14.00\">samples = 15</text>\r\n",
       "<text text-anchor=\"start\" x=\"672.5\" y=\"-134.3\" font-family=\"Helvetica,sans-Serif\" font-size=\"14.00\">value = [15, 0]</text>\r\n",
       "<text text-anchor=\"start\" x=\"676\" y=\"-119.3\" font-family=\"Helvetica,sans-Serif\" font-size=\"14.00\">class = Sano</text>\r\n",
       "</g>\r\n",
       "<!-- 15&#45;&gt;16 -->\r\n",
       "<g id=\"edge16\" class=\"edge\"><title>15&#45;&gt;16</title>\r\n",
       "<path fill=\"none\" stroke=\"black\" d=\"M720.918,-222.907C720.369,-212.204 719.775,-200.615 719.219,-189.776\"/>\r\n",
       "<polygon fill=\"black\" stroke=\"black\" points=\"722.709,-189.475 718.701,-179.667 715.718,-189.833 722.709,-189.475\"/>\r\n",
       "</g>\r\n",
       "<!-- 17 -->\r\n",
       "<g id=\"node18\" class=\"node\"><title>17</title>\r\n",
       "<path fill=\"#399de5\" stroke=\"black\" d=\"M900.5,-179.5C900.5,-179.5 799.5,-179.5 799.5,-179.5 793.5,-179.5 787.5,-173.5 787.5,-167.5 787.5,-167.5 787.5,-123.5 787.5,-123.5 787.5,-117.5 793.5,-111.5 799.5,-111.5 799.5,-111.5 900.5,-111.5 900.5,-111.5 906.5,-111.5 912.5,-117.5 912.5,-123.5 912.5,-123.5 912.5,-167.5 912.5,-167.5 912.5,-173.5 906.5,-179.5 900.5,-179.5\"/>\r\n",
       "<text text-anchor=\"start\" x=\"808\" y=\"-164.3\" font-family=\"Helvetica,sans-Serif\" font-size=\"14.00\">entropy = 0.0</text>\r\n",
       "<text text-anchor=\"start\" x=\"810.5\" y=\"-149.3\" font-family=\"Helvetica,sans-Serif\" font-size=\"14.00\">samples = 4</text>\r\n",
       "<text text-anchor=\"start\" x=\"809.5\" y=\"-134.3\" font-family=\"Helvetica,sans-Serif\" font-size=\"14.00\">value = [0, 4]</text>\r\n",
       "<text text-anchor=\"start\" x=\"795.5\" y=\"-119.3\" font-family=\"Helvetica,sans-Serif\" font-size=\"14.00\">class = Diabético</text>\r\n",
       "</g>\r\n",
       "<!-- 15&#45;&gt;17 -->\r\n",
       "<g id=\"edge17\" class=\"edge\"><title>15&#45;&gt;17</title>\r\n",
       "<path fill=\"none\" stroke=\"black\" d=\"M767.062,-222.907C779.878,-211.101 793.863,-198.217 806.636,-186.45\"/>\r\n",
       "<polygon fill=\"black\" stroke=\"black\" points=\"809.015,-189.017 813.998,-179.667 804.272,-183.868 809.015,-189.017\"/>\r\n",
       "</g>\r\n",
       "<!-- 19 -->\r\n",
       "<g id=\"node20\" class=\"node\"><title>19</title>\r\n",
       "<path fill=\"#afd7f4\" stroke=\"black\" d=\"M1043.5,-187C1043.5,-187 942.5,-187 942.5,-187 936.5,-187 930.5,-181 930.5,-175 930.5,-175 930.5,-116 930.5,-116 930.5,-110 936.5,-104 942.5,-104 942.5,-104 1043.5,-104 1043.5,-104 1049.5,-104 1055.5,-110 1055.5,-116 1055.5,-116 1055.5,-175 1055.5,-175 1055.5,-181 1049.5,-187 1043.5,-187\"/>\r\n",
       "<text text-anchor=\"start\" x=\"940\" y=\"-171.8\" font-family=\"Helvetica,sans-Serif\" font-size=\"14.00\">Glucose ≤ 163.5</text>\r\n",
       "<text text-anchor=\"start\" x=\"943\" y=\"-156.8\" font-family=\"Helvetica,sans-Serif\" font-size=\"14.00\">entropy = 0.953</text>\r\n",
       "<text text-anchor=\"start\" x=\"949.5\" y=\"-141.8\" font-family=\"Helvetica,sans-Serif\" font-size=\"14.00\">samples = 67</text>\r\n",
       "<text text-anchor=\"start\" x=\"944.5\" y=\"-126.8\" font-family=\"Helvetica,sans-Serif\" font-size=\"14.00\">value = [25, 42]</text>\r\n",
       "<text text-anchor=\"start\" x=\"938.5\" y=\"-111.8\" font-family=\"Helvetica,sans-Serif\" font-size=\"14.00\">class = Diabético</text>\r\n",
       "</g>\r\n",
       "<!-- 18&#45;&gt;19 -->\r\n",
       "<g id=\"edge19\" class=\"edge\"><title>18&#45;&gt;19</title>\r\n",
       "<path fill=\"none\" stroke=\"black\" d=\"M993,-222.907C993,-214.649 993,-205.864 993,-197.302\"/>\r\n",
       "<polygon fill=\"black\" stroke=\"black\" points=\"996.5,-197.021 993,-187.021 989.5,-197.021 996.5,-197.021\"/>\r\n",
       "</g>\r\n",
       "<!-- 22 -->\r\n",
       "<g id=\"node23\" class=\"node\"><title>22</title>\r\n",
       "<path fill=\"#5caeea\" stroke=\"black\" d=\"M1186.5,-187C1186.5,-187 1085.5,-187 1085.5,-187 1079.5,-187 1073.5,-181 1073.5,-175 1073.5,-175 1073.5,-116 1073.5,-116 1073.5,-110 1079.5,-104 1085.5,-104 1085.5,-104 1186.5,-104 1186.5,-104 1192.5,-104 1198.5,-110 1198.5,-116 1198.5,-116 1198.5,-175 1198.5,-175 1198.5,-181 1192.5,-187 1186.5,-187\"/>\r\n",
       "<text text-anchor=\"start\" x=\"1083\" y=\"-171.8\" font-family=\"Helvetica,sans-Serif\" font-size=\"14.00\">Glucose ≤ 190.0</text>\r\n",
       "<text text-anchor=\"start\" x=\"1086\" y=\"-156.8\" font-family=\"Helvetica,sans-Serif\" font-size=\"14.00\">entropy = 0.614</text>\r\n",
       "<text text-anchor=\"start\" x=\"1092.5\" y=\"-141.8\" font-family=\"Helvetica,sans-Serif\" font-size=\"14.00\">samples = 33</text>\r\n",
       "<text text-anchor=\"start\" x=\"1091.5\" y=\"-126.8\" font-family=\"Helvetica,sans-Serif\" font-size=\"14.00\">value = [5, 28]</text>\r\n",
       "<text text-anchor=\"start\" x=\"1081.5\" y=\"-111.8\" font-family=\"Helvetica,sans-Serif\" font-size=\"14.00\">class = Diabético</text>\r\n",
       "</g>\r\n",
       "<!-- 18&#45;&gt;22 -->\r\n",
       "<g id=\"edge22\" class=\"edge\"><title>18&#45;&gt;22</title>\r\n",
       "<path fill=\"none\" stroke=\"black\" d=\"M1042.61,-222.907C1054.26,-213.379 1066.76,-203.148 1078.71,-193.37\"/>\r\n",
       "<polygon fill=\"black\" stroke=\"black\" points=\"1080.95,-196.062 1086.47,-187.021 1076.52,-190.644 1080.95,-196.062\"/>\r\n",
       "</g>\r\n",
       "<!-- 20 -->\r\n",
       "<g id=\"node21\" class=\"node\"><title>20</title>\r\n",
       "<path fill=\"#a1d0f3\" stroke=\"black\" d=\"M918.5,-68C918.5,-68 817.5,-68 817.5,-68 811.5,-68 805.5,-62 805.5,-56 805.5,-56 805.5,-12 805.5,-12 805.5,-6 811.5,-0 817.5,-0 817.5,-0 918.5,-0 918.5,-0 924.5,-0 930.5,-6 930.5,-12 930.5,-12 930.5,-56 930.5,-56 930.5,-62 924.5,-68 918.5,-68\"/>\r\n",
       "<text text-anchor=\"start\" x=\"818\" y=\"-52.8\" font-family=\"Helvetica,sans-Serif\" font-size=\"14.00\">entropy = 0.928</text>\r\n",
       "<text text-anchor=\"start\" x=\"824.5\" y=\"-37.8\" font-family=\"Helvetica,sans-Serif\" font-size=\"14.00\">samples = 64</text>\r\n",
       "<text text-anchor=\"start\" x=\"819.5\" y=\"-22.8\" font-family=\"Helvetica,sans-Serif\" font-size=\"14.00\">value = [22, 42]</text>\r\n",
       "<text text-anchor=\"start\" x=\"813.5\" y=\"-7.8\" font-family=\"Helvetica,sans-Serif\" font-size=\"14.00\">class = Diabético</text>\r\n",
       "</g>\r\n",
       "<!-- 19&#45;&gt;20 -->\r\n",
       "<g id=\"edge20\" class=\"edge\"><title>19&#45;&gt;20</title>\r\n",
       "<path fill=\"none\" stroke=\"black\" d=\"M946.455,-103.726C935.73,-94.3318 924.334,-84.349 913.649,-74.9883\"/>\r\n",
       "<polygon fill=\"black\" stroke=\"black\" points=\"915.842,-72.2562 906.013,-68.2996 911.229,-77.5217 915.842,-72.2562\"/>\r\n",
       "</g>\r\n",
       "<!-- 21 -->\r\n",
       "<g id=\"node22\" class=\"node\"><title>21</title>\r\n",
       "<path fill=\"#e58139\" stroke=\"black\" d=\"M1037,-68C1037,-68 961,-68 961,-68 955,-68 949,-62 949,-56 949,-56 949,-12 949,-12 949,-6 955,-0 961,-0 961,-0 1037,-0 1037,-0 1043,-0 1049,-6 1049,-12 1049,-12 1049,-56 1049,-56 1049,-62 1043,-68 1037,-68\"/>\r\n",
       "<text text-anchor=\"start\" x=\"957\" y=\"-52.8\" font-family=\"Helvetica,sans-Serif\" font-size=\"14.00\">entropy = 0.0</text>\r\n",
       "<text text-anchor=\"start\" x=\"959.5\" y=\"-37.8\" font-family=\"Helvetica,sans-Serif\" font-size=\"14.00\">samples = 3</text>\r\n",
       "<text text-anchor=\"start\" x=\"958.5\" y=\"-22.8\" font-family=\"Helvetica,sans-Serif\" font-size=\"14.00\">value = [3, 0]</text>\r\n",
       "<text text-anchor=\"start\" x=\"958\" y=\"-7.8\" font-family=\"Helvetica,sans-Serif\" font-size=\"14.00\">class = Sano</text>\r\n",
       "</g>\r\n",
       "<!-- 19&#45;&gt;21 -->\r\n",
       "<g id=\"edge21\" class=\"edge\"><title>19&#45;&gt;21</title>\r\n",
       "<path fill=\"none\" stroke=\"black\" d=\"M995.234,-103.726C995.684,-95.5175 996.158,-86.8595 996.613,-78.56\"/>\r\n",
       "<polygon fill=\"black\" stroke=\"black\" points=\"1000.12,-78.4761 997.175,-68.2996 993.133,-78.0931 1000.12,-78.4761\"/>\r\n",
       "</g>\r\n",
       "<!-- 23 -->\r\n",
       "<g id=\"node24\" class=\"node\"><title>23</title>\r\n",
       "<path fill=\"#49a5e7\" stroke=\"black\" d=\"M1184.5,-68C1184.5,-68 1083.5,-68 1083.5,-68 1077.5,-68 1071.5,-62 1071.5,-56 1071.5,-56 1071.5,-12 1071.5,-12 1071.5,-6 1077.5,-0 1083.5,-0 1083.5,-0 1184.5,-0 1184.5,-0 1190.5,-0 1196.5,-6 1196.5,-12 1196.5,-12 1196.5,-56 1196.5,-56 1196.5,-62 1190.5,-68 1184.5,-68\"/>\r\n",
       "<text text-anchor=\"start\" x=\"1084\" y=\"-52.8\" font-family=\"Helvetica,sans-Serif\" font-size=\"14.00\">entropy = 0.391</text>\r\n",
       "<text text-anchor=\"start\" x=\"1090.5\" y=\"-37.8\" font-family=\"Helvetica,sans-Serif\" font-size=\"14.00\">samples = 26</text>\r\n",
       "<text text-anchor=\"start\" x=\"1089.5\" y=\"-22.8\" font-family=\"Helvetica,sans-Serif\" font-size=\"14.00\">value = [2, 24]</text>\r\n",
       "<text text-anchor=\"start\" x=\"1079.5\" y=\"-7.8\" font-family=\"Helvetica,sans-Serif\" font-size=\"14.00\">class = Diabético</text>\r\n",
       "</g>\r\n",
       "<!-- 22&#45;&gt;23 -->\r\n",
       "<g id=\"edge23\" class=\"edge\"><title>22&#45;&gt;23</title>\r\n",
       "<path fill=\"none\" stroke=\"black\" d=\"M1135.26,-103.726C1135.11,-95.5175 1134.95,-86.8595 1134.8,-78.56\"/>\r\n",
       "<polygon fill=\"black\" stroke=\"black\" points=\"1138.29,-78.234 1134.61,-68.2996 1131.29,-78.3619 1138.29,-78.234\"/>\r\n",
       "</g>\r\n",
       "<!-- 24 -->\r\n",
       "<g id=\"node25\" class=\"node\"><title>24</title>\r\n",
       "<path fill=\"#cee6f8\" stroke=\"black\" d=\"M1327.5,-68C1327.5,-68 1226.5,-68 1226.5,-68 1220.5,-68 1214.5,-62 1214.5,-56 1214.5,-56 1214.5,-12 1214.5,-12 1214.5,-6 1220.5,-0 1226.5,-0 1226.5,-0 1327.5,-0 1327.5,-0 1333.5,-0 1339.5,-6 1339.5,-12 1339.5,-12 1339.5,-56 1339.5,-56 1339.5,-62 1333.5,-68 1327.5,-68\"/>\r\n",
       "<text text-anchor=\"start\" x=\"1227\" y=\"-52.8\" font-family=\"Helvetica,sans-Serif\" font-size=\"14.00\">entropy = 0.985</text>\r\n",
       "<text text-anchor=\"start\" x=\"1237.5\" y=\"-37.8\" font-family=\"Helvetica,sans-Serif\" font-size=\"14.00\">samples = 7</text>\r\n",
       "<text text-anchor=\"start\" x=\"1236.5\" y=\"-22.8\" font-family=\"Helvetica,sans-Serif\" font-size=\"14.00\">value = [3, 4]</text>\r\n",
       "<text text-anchor=\"start\" x=\"1222.5\" y=\"-7.8\" font-family=\"Helvetica,sans-Serif\" font-size=\"14.00\">class = Diabético</text>\r\n",
       "</g>\r\n",
       "<!-- 22&#45;&gt;24 -->\r\n",
       "<g id=\"edge24\" class=\"edge\"><title>22&#45;&gt;24</title>\r\n",
       "<path fill=\"none\" stroke=\"black\" d=\"M1188.5,-103.726C1200.84,-94.1494 1213.95,-83.9611 1226.21,-74.4438\"/>\r\n",
       "<polygon fill=\"black\" stroke=\"black\" points=\"1228.37,-77.1975 1234.12,-68.2996 1224.08,-71.6689 1228.37,-77.1975\"/>\r\n",
       "</g>\r\n",
       "</g>\r\n",
       "</svg>\r\n"
      ],
      "text/plain": [
       "<graphviz.files.Source at 0x1e9fbe07b20>"
      ]
     },
     "execution_count": 16,
     "metadata": {},
     "output_type": "execute_result"
    }
   ],
   "source": [
    "dot_data = tree.export_graphviz(clf, \n",
    "                                out_file = None,\n",
    "                                class_names = ['Sano', 'Diabético'],\n",
    "                                feature_names = list(N1Diab.drop(['Outcome'], axis=1)),\n",
    "                                filled= True,\n",
    "                                rounded=True, \n",
    "                                special_characters=True,\n",
    "                               )\n",
    "graph = graphviz.Source(dot_data)\n",
    "graph "
   ]
  },
  {
   "cell_type": "markdown",
   "metadata": {},
   "source": [
    "____"
   ]
  },
  {
   "cell_type": "code",
   "execution_count": 30,
   "metadata": {},
   "outputs": [],
   "source": [
    "import numpy as np  \n",
    "import pandas as pd  \n",
    "import matplotlib.pyplot as plt  \n",
    "import seaborn as sns  \n",
    "# Librerias para curva ROC.\n",
    "from sklearn.datasets import make_classification  \n",
    "from sklearn.neighbors import KNeighborsClassifier  \n",
    "from sklearn.ensemble import RandomForestClassifier  \n",
    "from sklearn.model_selection import train_test_split  \n",
    "from sklearn.metrics import roc_curve  \n",
    "from sklearn.metrics import roc_auc_score  "
   ]
  },
  {
   "cell_type": "code",
   "execution_count": 31,
   "metadata": {},
   "outputs": [],
   "source": [
    "def plot_roc_curve(fpr, tpr):  \n",
    "    plt.plot(fpr, tpr, color='darkorange', label='ROC')\n",
    "    plt.plot([0, 1], [0, 1], color='darkblue', linestyle='--')\n",
    "    plt.xlabel('Tasa positiva falsa')\n",
    "    plt.ylabel('Tasa positiva verdadera')\n",
    "    plt.title('Curva ROC')\n",
    "    plt.legend()\n",
    "    plt.show()"
   ]
  },
  {
   "cell_type": "code",
   "execution_count": 32,
   "metadata": {},
   "outputs": [],
   "source": [
    "from sklearn.model_selection import train_test_split\n",
    "X_train, X_test, Y_train, Y_test = train_test_split(X, y, test_size = 0.25, random_state=0)"
   ]
  },
  {
   "cell_type": "code",
   "execution_count": 33,
   "metadata": {},
   "outputs": [
    {
     "data": {
      "text/plain": [
       "DecisionTreeClassifier()"
      ]
     },
     "execution_count": 33,
     "metadata": {},
     "output_type": "execute_result"
    }
   ],
   "source": [
    "model = DecisionTreeClassifier()  \n",
    "model.fit(X_train, Y_train)  "
   ]
  },
  {
   "cell_type": "code",
   "execution_count": 34,
   "metadata": {},
   "outputs": [],
   "source": [
    "probs = model.predict_proba(X_test) "
   ]
  },
  {
   "cell_type": "code",
   "execution_count": 35,
   "metadata": {},
   "outputs": [],
   "source": [
    "probs = probs[:, 1]  "
   ]
  },
  {
   "cell_type": "code",
   "execution_count": 36,
   "metadata": {},
   "outputs": [
    {
     "name": "stdout",
     "output_type": "stream",
     "text": [
      "AUC: 0.75\n"
     ]
    }
   ],
   "source": [
    "auc = roc_auc_score(Y_test, probs)  \n",
    "print('AUC: %.2f' % auc)  "
   ]
  },
  {
   "cell_type": "markdown",
   "metadata": {},
   "source": [
    "> **El valor ideal de un AUC es 1, es este caso obtuvimos 0.76 lo que nos indica que nuestro modelo es 76% exacto para su clasificación, por lo que concluimos que la exactitud del modelo no es óptima.** "
   ]
  },
  {
   "cell_type": "code",
   "execution_count": 37,
   "metadata": {},
   "outputs": [],
   "source": [
    "fpr, tpr, thresholds = roc_curve(Y_test, probs)  "
   ]
  },
  {
   "cell_type": "code",
   "execution_count": 38,
   "metadata": {},
   "outputs": [
    {
     "data": {
      "image/png": "[encoded data removed]",
      "text/plain": [
       "<Figure size 216x216 with 1 Axes>"
      ]
     },
     "metadata": {},
     "output_type": "display_data"
    }
   ],
   "source": [
    "plot_roc_curve(fpr, tpr)  "
   ]
  },
  {
   "cell_type": "markdown",
   "metadata": {},
   "source": [
    "> **La curva ROC muestra que es un modelo regular, es decir aún podriamos mejorar la exactitud de dicho modelo**"
   ]
  },
  {
   "cell_type": "markdown",
   "metadata": {},
   "source": [
    "# Conclusión.\n",
    "## General\n",
    "\n",
    "![image](https://img.icons8.com/bubbles/2x/goal.png)\n",
    "### Objetivo principal.\n",
    "El objetivo principal no se ha cumplido, sin embargo con las herramientas de visualización de datos, nos percatamos que lo idóneo es contemplar únicamente las variables de los niveles de glucosa, la edad y la insulina, esto basádonos en el mapa de calor y en el valor obtenido de correlación, ya que en las variables restantes no se tiene una correlación significativa con la variable *Outcome* la cual indica si el paciente es diabético o no.\n",
    "    En adición, la técnica de míneria que ve más viable para cumplir nuestro objetivo es la técnica de **clasificación**.\n",
    "    \n",
    "### Objetivos secundarios.\n",
    "+ **Visualizar la distribución de los datos:** \n",
    "Consideramos que este objetivo fue logrado,pues  utilizamos diversos tipos de gráficos como histogramas, gráfico de pastel y joinplot, en donde pudimos visualizar hechos importantes para el proyecto como la frecuencia absoluta, la cual nos podría ayudar a concluir y fundamentar preguntas de interés.\n",
    "\n",
    "+ **Establecer qué tan correlacionadas están ciertas variables** \n",
    "Este objetivo fue cumplido, ya que utilizamos herramientas que nos brinda Phyton como la función .corr() y mapas de calor, en donde nos pudimos percatar que los niveles de glucosa, la edad y la insulina tienen una correlación significativa con la variable de resultado, por lo que concluimos que estas variables influyen sustancialmente en si una persona tiene diabetes o no.\n",
    "\n",
    "En adición, también podemos concluir que la correlación entre pares de características, como la edad y los embarazos, o la insulina y la Glucosa, así como el grosor del pliegue de la piel y el índice de masa corporal muestran una correlación significativa.\n",
    "\n",
    "+ **Graficar los resultados obtenidos, para tener un panorama sobre si el modelo es bueno.**\n",
    "Dado que aún no hemos construido el modelo, no tenemos herramientas para poder graficar, sin embargo, visualizamos que este objetivo será cumplido cuando utilicemos métricas de evaluación como la curva ROC, la cual nos dará el rendimiento del modelo de clasificación.\n",
    "\n",
    "+ **Entender si existe una razón médica para tener el valor de 0 en las columnas que lo presenten.**\n",
    "Previamente en el desarrollo del avance abordamos detalladamente porque no tenía sentido contemplar a valores iguales a 0, en variables como el nivel de insulina sérica(*Insuline), glucosa(*Glucose*), presión arterial diastólica(*BloodPressure*) y grosor del pliegue de la piel(*SkinThickness*). Además que recurrimos a fuentes de información en donde nos percatamos que en un estudio realizado en 2001, se demostró que 376 de 786 observaciones en el conjunto de datos de Pima Indians Diabetes database carecían de validez experimental, el valor de ceros se registró en lugar de observaciones experimentales faltantes. También se demostró que si se eliminaban    los valores con cero, los resultados podría mejorar drásticamente.\n",
    "\n",
    "> Leslie J. Baier, Robert L. Hanson. *Genetic Studies of the Etiology of Type 2 Diabetes in Pima Indians* (2001) recuperado en https://diabetes.diabetesjournals.org/content/53/5/1181\n",
    "\n",
    "\n",
    "+ En cuanto a las **preguntas de interés**, podemos contestar sólo   la primera y la segunda pregunta, esto por la etapa de desarrollo del proyecto, en donde nos encontramos.\n",
    "\n",
    "***¿Podríamos afirmar que la diabetes predomina en el grupo del pueblo Pima?***\n",
    "Sí, dadas las herramientas que proporciona la estadística descriptiva como lo son las medidas de tendencia central, como la media, en donde nos percatamos que comparando factores de riesgo en torno a la diabetes, nos dimos cuenta que las mujeres mayores a 21 años en el pueblo Pima, tienen un alto riesgo de desarrollar diabetes, esto porque un nivel de Glucosa entre 100 y 125 mg/dL se considera prediabetes,y la media del nivel de glucosa de las mujeres mayores a 21 años en el pueblo Pima es de 122.61 mg/dl. \n",
    " En adición, a través de funciones de Phyton determinamos la prevalencia de la diabetes en las mujeres del pueblo Pima, y nos percatamos que comparandolo con la prevalencia de diabetes en el mundo, la cual es del 8.5%, mientras que en el 1990 en el pueblo Pima es de 33.16%, por lo cual concluimos que la diabetes predomina en el pueblo Pima en comparación a nivel mundial.\n",
    " \n",
    "Es importante destacar, que consultamos fuentes de información para saber los factores del riesgo de la diabetes y nos dimos cuenta que tener antecedentes nativos americanos aumenta significativamente el riesgo.\n",
    "Por lo tanto, concluimos que efectivamente la diabetes prevalece en el pueblo Pima, lo cual es una situación alarmante en la salud del pueblo Pima, y las  herramientas de visualización de datos, así como de estadística básica, nos proveyó sustento para tener un panorama de la situación entorno a la diabetes.\n",
    "\n",
    "***¿Qué variables, que representan un factor de riesgo para la diabetes están altamente correlacionadas?***\n"
   ]
  },
  {
   "cell_type": "markdown",
   "metadata": {},
   "source": [
    "Usando el mapa de calor y la función .corr(), nos percatamos que **el nivel de glucosa, la edad y la insulina** tienen una correlación significativa con la variable de resultado(Outcome), por lo que inferimos que estás variables representan un factor de riesgo para la diabetes.\n",
    "Partiendo del hecho mencionado anteriormente tenemos los siguientes resultados:\n",
    "\n",
    "+ La variable **Glucose** está altamente correlacionada con la variable *Insulin* con 0.58, así mismo con la variable de *Outcome* en un 0.52 y con la variable *Age* en un 0.34.\n",
    "\n",
    "+ La **edad**, está correlacionada altamente con el número de embarazos *pregnancies* en un 0.68, y con la variable *Outcome* con un 0.35.\n",
    "\n",
    "+ El nivel de insulina sérica, denotado por la variable **Insulin** tiene una correlación significativa con la variable *Glucose* en 0.58, además que posee una correlación con la variable *Outcome* en un 0.35."
   ]
  }
 ],
 "metadata": {
  "kernelspec": {
   "display_name": "Python 3",
   "language": "python",
   "name": "python3"
  },
  "language_info": {
   "codemirror_mode": {
    "name": "ipython",
    "version": 3
   },
   "file_extension": ".py",
   "mimetype": "text/x-python",
   "name": "python",
   "nbconvert_exporter": "python",
   "pygments_lexer": "ipython3",
   "version": "3.8.5"
  }
 },
 "nbformat": 4,
 "nbformat_minor": 4
}
