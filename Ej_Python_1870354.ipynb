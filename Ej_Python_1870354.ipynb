{
 "cells": [
  {
   "cell_type": "markdown",
   "metadata": {},
   "source": [
    "## Ejercicios básicos Python"
   ]
  },
  {
   "cell_type": "markdown",
   "metadata": {},
   "source": [
    "### Ejercicio 1"
   ]
  },
  {
   "cell_type": "markdown",
   "metadata": {},
   "source": [
    "Realiza una variable con tu matricula y realiza una secuencia de imprimir con tu nombre y tu matricula concatenados."
   ]
  },
  {
   "cell_type": "code",
   "execution_count": 8,
   "metadata": {},
   "outputs": [
    {
     "name": "stdout",
     "output_type": "stream",
     "text": [
      "Milton Aldair Martínez Acosta1870354\n"
     ]
    }
   ],
   "source": [
    "matricula=\"1870354\"\n",
    "name=\"Milton Aldair Martínez Acosta\"\n",
    "print(name+matricula)"
   ]
  },
  {
   "cell_type": "markdown",
   "metadata": {},
   "source": [
    "### Ejercicio 2"
   ]
  },
  {
   "cell_type": "markdown",
   "metadata": {},
   "source": [
    "Pidiendo el input del usuario pide dos números y crea una pequeña calculadora con los operadores básicos de suma, resta, multiplicación, división, y exponente."
   ]
  },
  {
   "cell_type": "code",
   "execution_count": 7,
   "metadata": {},
   "outputs": [
    {
     "name": "stdout",
     "output_type": "stream",
     "text": [
      "Ingrese el primer número \n",
      "2\n",
      "Ingrese el segundo número \n",
      "2\n",
      "1. Suma\n",
      "2. Resta\n",
      "3. Multiplicación\n",
      "4. División\n",
      "5. Potenciación\n",
      "6. Salir\n",
      "Ingrese la operación aritmética que desea efectuar \n",
      "1\n",
      "La suma de  2 + 2 es 4\n",
      "1. Suma\n",
      "2. Resta\n",
      "3. Multiplicación\n",
      "4. División\n",
      "5. Potenciación\n",
      "6. Salir\n",
      "Ingrese la operación aritmética que desea efectuar \n",
      "6\n",
      "Auf Wiedersehen\n"
     ]
    }
   ],
   "source": [
    "a=int(input(\"Ingrese el primer número \\n\"))\n",
    "b=int(input(\"Ingrese el segundo número \\n\"))\n",
    "\n",
    "opcion=1\n",
    "while opcion!=6:\n",
    "    print(\"1. Suma\")\n",
    "    print(\"2. Resta\")\n",
    "    print(\"3. Multiplicación\")\n",
    "    print(\"4. División\")\n",
    "    print(\"5. Potenciación\")\n",
    "    print(\"6. Salir\")\n",
    "    opcion=int(input(\"Ingrese la operación aritmética que desea efectuar \\n\"))\n",
    "    if opcion==1:\n",
    "        print(\"La suma de \",a, \"+\",b,\"es\", a+b)\n",
    "    elif opcion==2:\n",
    "        print(\"La resta de\",a, \"-\",b, \"es\",a-b)\n",
    "    elif opcion==3:\n",
    "        print(\"La multiplicación de\",a,\"*\",b,\"es\",a*b)\n",
    "    elif opcion==4:\n",
    "        print(\"La división de\",a,\"/\",b,\"es\",a/b)\n",
    "    elif opcion==5:\n",
    "        print(\"El resultado de\",a,\"**\",b, \"es\",a**b)\n",
    "    elif opcion==6:\n",
    "        print(\"Auf Wiedersehen\")\n",
    "        break\n",
    "    else:\n",
    "        print(\"Error, por favor introduzca una opción valida\")"
   ]
  },
  {
   "cell_type": "markdown",
   "metadata": {},
   "source": [
    "### Ejercicio 3"
   ]
  },
  {
   "cell_type": "markdown",
   "metadata": {},
   "source": [
    "Con loop while o for, realiza una lista de 10 números múltiplos de 3, y después realiza una función de loop que sume todos los números dentro del arreglo."
   ]
  },
  {
   "cell_type": "code",
   "execution_count": 18,
   "metadata": {},
   "outputs": [
    {
     "name": "stdout",
     "output_type": "stream",
     "text": [
      "[24, 27, 30, 33, 36, 39, 42, 45, 48, 51]\n",
      "La suma de los elementos es 375\n"
     ]
    }
   ],
   "source": [
    "mult3=[]\n",
    "aux= False\n",
    "\n",
    "for i in range (22, 52):\n",
    "    validar = i % 3 == 0\n",
    "    \n",
    "    if (validar):\n",
    "        mult3.append(i)\n",
    "print (mult3)\n",
    "\n",
    "suma=0\n",
    "\n",
    "for i in range(len(mult3)):\n",
    "    suma=suma+mult3[i]\n",
    "print(\"La suma de los elementos es\",suma)"
   ]
  },
  {
   "cell_type": "markdown",
   "metadata": {},
   "source": [
    "### Ejercicio 4"
   ]
  },
  {
   "cell_type": "markdown",
   "metadata": {},
   "source": [
    "Con una función de if else, revisar si un número es par o es impar."
   ]
  },
  {
   "cell_type": "code",
   "execution_count": 24,
   "metadata": {},
   "outputs": [
    {
     "name": "stdout",
     "output_type": "stream",
     "text": [
      "Ingrese un número \n",
      "5\n",
      "el 5 es un numero impar\n"
     ]
    }
   ],
   "source": [
    "num=int(input(\"Ingrese un número \\n\"))\n",
    "if (num%2)==0:\n",
    "   print(\"el\", num, \"es un número par\")\n",
    "else:\n",
    "    print(\"el\", num,\"es un numero impar\")"
   ]
  },
  {
   "cell_type": "markdown",
   "metadata": {},
   "source": [
    "Con una función de if else, revisar si un número es primo o no."
   ]
  },
  {
   "cell_type": "code",
   "execution_count": 30,
   "metadata": {},
   "outputs": [
    {
     "name": "stdout",
     "output_type": "stream",
     "text": [
      "Ingrese un número \n",
      "13\n",
      "13 es un número es primo\n"
     ]
    }
   ],
   "source": [
    "num= int(input(\"Ingrese un número \\n\"))\n",
    "aux = 0\n",
    "for n in range(2,num):\n",
    "  if num % n == 0:\n",
    "    aux=aux+1\n",
    " \n",
    "if aux > 0 :\n",
    "  print(num,\"no es un número primo\" )\n",
    "else:\n",
    "  print(num, \"es un número primo\")"
   ]
  },
  {
   "cell_type": "markdown",
   "metadata": {},
   "source": [
    "### Ejercicio 5"
   ]
  },
  {
   "cell_type": "markdown",
   "metadata": {},
   "source": [
    "Utilizando diferentes clases en python, crea una calculadora con los operadores básicos de suma, resta, multiplicación, división, y exponente."
   ]
  },
  {
   "cell_type": "code",
   "execution_count": 1,
   "metadata": {},
   "outputs": [
    {
     "name": "stdout",
     "output_type": "stream",
     "text": [
      "Introduzca el primer número 5\n",
      "Introduzca el segundo número 10\n",
      "1. Suma\n",
      "2. Resta\n",
      "3. Multiplicación\n",
      "4. División\n",
      "5. Potenciación\n",
      "6. Salir\n",
      "Ingrese la operación aritmética que desea efectuar \n",
      "3\n",
      "La multiplicación de 5 * 10 es 50\n",
      "1. Suma\n",
      "2. Resta\n",
      "3. Multiplicación\n",
      "4. División\n",
      "5. Potenciación\n",
      "6. Salir\n",
      "Ingrese la operación aritmética que desea efectuar \n",
      "6\n",
      "Auf Wiedersehen\n"
     ]
    }
   ],
   "source": [
    "class calcular():\n",
    "    def __init__(aux,a,b):\n",
    "        aux.a=a\n",
    "        aux.b=b\n",
    "    def suma(aux):\n",
    "        return aux.a+aux.b\n",
    "    def res(aux):\n",
    "        return aux.a-aux.b\n",
    "    def mul(aux):\n",
    "        return aux.a*aux.b\n",
    "    def div(aux):\n",
    "        return aux.a/aux.b\n",
    "    def exp(aux):\n",
    "        return aux.a**aux.b\n",
    "    \n",
    "a=int(input(\"Introduzca el primer número \"))\n",
    "b=int(input(\"Introduzca el segundo número \"))\n",
    "obj=calcular(a,b)\n",
    "opcion=1\n",
    "while opcion!=6:\n",
    "    print(\"1. Suma\")\n",
    "    print(\"2. Resta\")\n",
    "    print(\"3. Multiplicación\")\n",
    "    print(\"4. División\")\n",
    "    print(\"5. Potenciación\")\n",
    "    print(\"6. Salir\")\n",
    "    opcion=int(input(\"Ingrese la operación aritmética que desea efectuar \\n\"))\n",
    "    if opcion==1:\n",
    "        print(\"La suma de \",a, \"+\",b,\"es\", obj.suma())\n",
    "    elif opcion==2:\n",
    "        print(\"La resta de\",a, \"-\",b, \"es\",obj.res())\n",
    "    elif opcion==3:\n",
    "        print(\"La multiplicación de\",a,\"*\",b,\"es\",obj.mul())\n",
    "    elif opcion==4:\n",
    "        print(\"La división de\",a,\"/\",b,\"es\",obj.div())\n",
    "    elif opcion==5:\n",
    "        print(\"El resultado de\",a,\"**\",b, \"es\",obj.exp())\n",
    "    elif opcion==6:\n",
    "        print(\"Auf Wiedersehen\")\n",
    "        break\n",
    "    else:\n",
    "        print(\"Error, por favor introduzca una opción valida\")"
   ]
  },
  {
   "cell_type": "code",
   "execution_count": null,
   "metadata": {},
   "outputs": [],
   "source": []
  },
  {
   "cell_type": "code",
   "execution_count": null,
   "metadata": {},
   "outputs": [],
   "source": []
  }
 ],
 "metadata": {
  "kernelspec": {
   "display_name": "Python 3",
   "language": "python",
   "name": "python3"
  },
  "language_info": {
   "codemirror_mode": {
    "name": "ipython",
    "version": 3
   },
   "file_extension": ".py",
   "mimetype": "text/x-python",
   "name": "python",
   "nbconvert_exporter": "python",
   "pygments_lexer": "ipython3",
   "version": "3.8.5"
  }
 },
 "nbformat": 4,
 "nbformat_minor": 4
}
