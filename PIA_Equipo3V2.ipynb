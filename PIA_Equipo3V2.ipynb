{
 "cells": [
  {
   "cell_type": "markdown",
   "metadata": {},
   "source": [
    "### Equipo 3\n",
    "Grupo 02- Miércoles 6:00-9:00\n",
    "\n",
    "**Integrantes:**\n",
    "\n",
    "1986209 Dávila Martínez Ana Saraí\n",
    "\n",
    "1870354 Martínez Acosta Milton Aldair\n",
    "\n",
    "1583211 Rodríguez Pacheco Jesús Mauricio"
   ]
  },
  {
   "cell_type": "markdown",
   "metadata": {},
   "source": [
    "### Título de la base de datos.\n",
    "+ ***Nombre con el que se encuentra en la página:*** \n",
    " *Pima Indians Diabetes Database*\n",
    "\n",
    "+ ***Url de la página:***\n",
    "https://www.kaggle.com/uciml/pima-indians-diabetes-database"
   ]
  },
  {
   "cell_type": "markdown",
   "metadata": {},
   "source": [
    "![Image](https://img.freepik.com/vector-gratis/concepto-diabetes-personaje-medico-dibujos-animados-que-aconseja-pequenas-personas-pacientes-estilo-vida-saludable-blanco_109722-1158.jpg?size=626&ext=jpg)"
   ]
  },
  {
   "cell_type": "markdown",
   "metadata": {},
   "source": [
    "**Tipo de datos:**\n",
    "Son tablas que muestran variables que representan factores de riesgo para la diabetes, así como otros indicadores como nivel de glucosa, insulina, presión sanguínea, edad, entre otros. \n",
    "\n",
    "**Las columnas que contiene la base de datos son las siguientes:**\n",
    "+ **Pregnacies:** Número de veces que se ha embarazado.\n",
    "+ **Glucose:** Concentración de glucosa en plasma a 2 horas en una prueba de tolerancia a la glucosa oral.\n",
    "+ **BloodPressure:** Presión arterial diastólica medida en mmHg.\n",
    "+ **SkinThickness:** Grosor del pliegue de la piel, medido en mm.\n",
    "+ **Insulin:** nivel de insulina sérica de 2 horas, medida en µU/mL.\n",
    "+ **BMI:** Índice de masa corporal, medido en kg/m².\n",
    "+ **DiabetesPedigreeFunction:** Medida de la influencia genética esperada de los familiares afectados y no afectados sobre el riesgo de diabetes en el sujeto.\n",
    "+ **Age:** Edad en años.\n",
    "+ **Outcome:** Variable de clase, que indica si tiene diabetes o no."
   ]
  },
  {
   "cell_type": "markdown",
   "metadata": {},
   "source": [
    "### Justificación del uso de datos.\n",
    "\n",
    "En 2017, se registraron 703 mil 047 defunciones en México, de las cuales el 15.2% fueron atribuidas a la diabetes, es decir, es la segunda causa de muerte que se presenta con mayor frecuencia en los mexicanos, adicionalmente, la diabetes contribuye de manera importante a otras enfermedades como las cardiovasculares, renales, retinopatías, etc. lo que aumenta su peligro de forma alarmante.  \n",
    "\n",
    "Otro dato para destacar es que México cuenta con la mayor tasa de sobrepeso y obesidad entre su población, en comparación con otros países de América latina, si a esto añadimos que el exceso de peso es un factor de riesgo para la prediabetes y diabetes tipo 2 es notable que esta enfermedad es muy relevante en el contexto de nuestro país. Los datos expuestos anteriormente nos motivaron a desarrollar un método que ayude a agilizar el diagnóstico de diabetes.\n",
    "\n",
    "Consideramos que es importante el desarrollo de nuevos métodos para la predicción de enfermedades tan dañinas como la diabetes, por lo que elegimos esta base de datos para poder enfrentar un problema sanitario que afecta a miles de personas en nuestro país.\n",
    "\n",
    "### Objetivo principal: \n",
    "Crear un modelo de predicción para analizar si una persona tiene diabetes o no, basado en técnicas de minería de datos, dicho modelo se fundamentará en las variables que sean más significativas en el diagnóstico de diabetes mellitus. \n",
    "#### Objetivos secundarios: \n",
    "+ Visualizar la distribución de los datos.\n",
    "+ Establecer qué tan correlacionadas están ciertas variables como por ejemplo, la insulina y la glucosa.\n",
    "+ Graficar los resultados obtenidos, para tener un mejor entendimiento del modelo.\n",
    "+ Entender si existe una razón médica para tener el valor de 0 en las columnas que lo presenten.\n",
    "\n",
    "#### Preguntas de interés:\n",
    "+ ¿Podríamos afirmar que la diabetes predomina en el grupo del pueblo Pima?\n",
    "+ ¿Qué variables, que representan un factor de riesgo para la diabetes están altamente correlacionadas?\n",
    "+ ¿El modelo tiene un grado de predicción alto?\n"
   ]
  },
  {
   "cell_type": "markdown",
   "metadata": {},
   "source": [
    "---"
   ]
  },
  {
   "cell_type": "markdown",
   "metadata": {},
   "source": [
    "## Pre-procesamiento de datos. \n",
    "\n",
    "### Importar librerías y base de datos."
   ]
  },
  {
   "cell_type": "code",
   "execution_count": 2,
   "metadata": {},
   "outputs": [],
   "source": [
    "import pandas as pd\n",
    "import numpy as np\n",
    "import json\n",
    "import graphviz"
   ]
  },
  {
   "cell_type": "markdown",
   "metadata": {},
   "source": [
    "También existen otras librerias como Matplotlib, SciPy, Numba, Keras,etc"
   ]
  },
  {
   "cell_type": "markdown",
   "metadata": {},
   "source": [
    "### Visualizar los datos."
   ]
  },
  {
   "cell_type": "markdown",
   "metadata": {},
   "source": [
    "La base de datos usada es *Pima Indians Diabetes Database*, obtenida del *National Institute of Diabetes and Digestive and Kidney Diseases*\n",
    "Y como está en formato .csv, se importará de la siguiente manera"
   ]
  },
  {
   "cell_type": "code",
   "execution_count": 2,
   "metadata": {},
   "outputs": [],
   "source": [
    "diab = pd.read_csv(\"diabetes.csv\")"
   ]
  },
  {
   "cell_type": "markdown",
   "metadata": {},
   "source": [
    "**.shape**\n",
    "\n",
    "Devuelve una tupla con las dimensiones de un array, es decir, nos proporciona el número de columnas y filas de la base de datos, en este caso se puede observar que tiene 9 columnas y 768 filas."
   ]
  },
  {
   "cell_type": "code",
   "execution_count": 3,
   "metadata": {},
   "outputs": [
    {
     "data": {
      "text/plain": [
       "(768, 9)"
      ]
     },
     "execution_count": 3,
     "metadata": {},
     "output_type": "execute_result"
    }
   ],
   "source": [
    "diab.shape"
   ]
  },
  {
   "cell_type": "markdown",
   "metadata": {},
   "source": [
    "+ **head()**\n",
    "\n",
    "Con el comando de head se pueden visualizar los primeros cinco elementos de cada una de las columnas;\n",
    "si se desean ver más datos dentro del paréntesis se escribe el número de elementos que queremos mostrar."
   ]
  },
  {
   "cell_type": "code",
   "execution_count": 4,
   "metadata": {},
   "outputs": [
    {
     "data": {
      "text/html": [
       "<div>\n",
       "<style scoped>\n",
       "    .dataframe tbody tr th:only-of-type {\n",
       "        vertical-align: middle;\n",
       "    }\n",
       "\n",
       "    .dataframe tbody tr th {\n",
       "        vertical-align: top;\n",
       "    }\n",
       "\n",
       "    .dataframe thead th {\n",
       "        text-align: right;\n",
       "    }\n",
       "</style>\n",
       "<table border=\"1\" class=\"dataframe\">\n",
       "  <thead>\n",
       "    <tr style=\"text-align: right;\">\n",
       "      <th></th>\n",
       "      <th>Pregnancies</th>\n",
       "      <th>Glucose</th>\n",
       "      <th>BloodPressure</th>\n",
       "      <th>SkinThickness</th>\n",
       "      <th>Insulin</th>\n",
       "      <th>BMI</th>\n",
       "      <th>DiabetesPedigreeFunction</th>\n",
       "      <th>Age</th>\n",
       "      <th>Outcome</th>\n",
       "    </tr>\n",
       "  </thead>\n",
       "  <tbody>\n",
       "    <tr>\n",
       "      <th>0</th>\n",
       "      <td>6</td>\n",
       "      <td>148</td>\n",
       "      <td>72</td>\n",
       "      <td>35</td>\n",
       "      <td>0</td>\n",
       "      <td>33.6</td>\n",
       "      <td>0.627</td>\n",
       "      <td>50</td>\n",
       "      <td>1</td>\n",
       "    </tr>\n",
       "    <tr>\n",
       "      <th>1</th>\n",
       "      <td>1</td>\n",
       "      <td>85</td>\n",
       "      <td>66</td>\n",
       "      <td>29</td>\n",
       "      <td>0</td>\n",
       "      <td>26.6</td>\n",
       "      <td>0.351</td>\n",
       "      <td>31</td>\n",
       "      <td>0</td>\n",
       "    </tr>\n",
       "    <tr>\n",
       "      <th>2</th>\n",
       "      <td>8</td>\n",
       "      <td>183</td>\n",
       "      <td>64</td>\n",
       "      <td>0</td>\n",
       "      <td>0</td>\n",
       "      <td>23.3</td>\n",
       "      <td>0.672</td>\n",
       "      <td>32</td>\n",
       "      <td>1</td>\n",
       "    </tr>\n",
       "    <tr>\n",
       "      <th>3</th>\n",
       "      <td>1</td>\n",
       "      <td>89</td>\n",
       "      <td>66</td>\n",
       "      <td>23</td>\n",
       "      <td>94</td>\n",
       "      <td>28.1</td>\n",
       "      <td>0.167</td>\n",
       "      <td>21</td>\n",
       "      <td>0</td>\n",
       "    </tr>\n",
       "    <tr>\n",
       "      <th>4</th>\n",
       "      <td>0</td>\n",
       "      <td>137</td>\n",
       "      <td>40</td>\n",
       "      <td>35</td>\n",
       "      <td>168</td>\n",
       "      <td>43.1</td>\n",
       "      <td>2.288</td>\n",
       "      <td>33</td>\n",
       "      <td>1</td>\n",
       "    </tr>\n",
       "  </tbody>\n",
       "</table>\n",
       "</div>"
      ],
      "text/plain": [
       "   Pregnancies  Glucose  BloodPressure  SkinThickness  Insulin   BMI  \\\n",
       "0            6      148             72             35        0  33.6   \n",
       "1            1       85             66             29        0  26.6   \n",
       "2            8      183             64              0        0  23.3   \n",
       "3            1       89             66             23       94  28.1   \n",
       "4            0      137             40             35      168  43.1   \n",
       "\n",
       "   DiabetesPedigreeFunction  Age  Outcome  \n",
       "0                     0.627   50        1  \n",
       "1                     0.351   31        0  \n",
       "2                     0.672   32        1  \n",
       "3                     0.167   21        0  \n",
       "4                     2.288   33        1  "
      ]
     },
     "execution_count": 4,
     "metadata": {},
     "output_type": "execute_result"
    }
   ],
   "source": [
    "diab.head()"
   ]
  },
  {
   "cell_type": "markdown",
   "metadata": {},
   "source": [
    "**Ejemplo:**"
   ]
  },
  {
   "cell_type": "code",
   "execution_count": 5,
   "metadata": {},
   "outputs": [
    {
     "data": {
      "text/html": [
       "<div>\n",
       "<style scoped>\n",
       "    .dataframe tbody tr th:only-of-type {\n",
       "        vertical-align: middle;\n",
       "    }\n",
       "\n",
       "    .dataframe tbody tr th {\n",
       "        vertical-align: top;\n",
       "    }\n",
       "\n",
       "    .dataframe thead th {\n",
       "        text-align: right;\n",
       "    }\n",
       "</style>\n",
       "<table border=\"1\" class=\"dataframe\">\n",
       "  <thead>\n",
       "    <tr style=\"text-align: right;\">\n",
       "      <th></th>\n",
       "      <th>Pregnancies</th>\n",
       "      <th>Glucose</th>\n",
       "      <th>BloodPressure</th>\n",
       "      <th>SkinThickness</th>\n",
       "      <th>Insulin</th>\n",
       "      <th>BMI</th>\n",
       "      <th>DiabetesPedigreeFunction</th>\n",
       "      <th>Age</th>\n",
       "      <th>Outcome</th>\n",
       "    </tr>\n",
       "  </thead>\n",
       "  <tbody>\n",
       "    <tr>\n",
       "      <th>0</th>\n",
       "      <td>6</td>\n",
       "      <td>148</td>\n",
       "      <td>72</td>\n",
       "      <td>35</td>\n",
       "      <td>0</td>\n",
       "      <td>33.6</td>\n",
       "      <td>0.627</td>\n",
       "      <td>50</td>\n",
       "      <td>1</td>\n",
       "    </tr>\n",
       "    <tr>\n",
       "      <th>1</th>\n",
       "      <td>1</td>\n",
       "      <td>85</td>\n",
       "      <td>66</td>\n",
       "      <td>29</td>\n",
       "      <td>0</td>\n",
       "      <td>26.6</td>\n",
       "      <td>0.351</td>\n",
       "      <td>31</td>\n",
       "      <td>0</td>\n",
       "    </tr>\n",
       "    <tr>\n",
       "      <th>2</th>\n",
       "      <td>8</td>\n",
       "      <td>183</td>\n",
       "      <td>64</td>\n",
       "      <td>0</td>\n",
       "      <td>0</td>\n",
       "      <td>23.3</td>\n",
       "      <td>0.672</td>\n",
       "      <td>32</td>\n",
       "      <td>1</td>\n",
       "    </tr>\n",
       "    <tr>\n",
       "      <th>3</th>\n",
       "      <td>1</td>\n",
       "      <td>89</td>\n",
       "      <td>66</td>\n",
       "      <td>23</td>\n",
       "      <td>94</td>\n",
       "      <td>28.1</td>\n",
       "      <td>0.167</td>\n",
       "      <td>21</td>\n",
       "      <td>0</td>\n",
       "    </tr>\n",
       "    <tr>\n",
       "      <th>4</th>\n",
       "      <td>0</td>\n",
       "      <td>137</td>\n",
       "      <td>40</td>\n",
       "      <td>35</td>\n",
       "      <td>168</td>\n",
       "      <td>43.1</td>\n",
       "      <td>2.288</td>\n",
       "      <td>33</td>\n",
       "      <td>1</td>\n",
       "    </tr>\n",
       "    <tr>\n",
       "      <th>5</th>\n",
       "      <td>5</td>\n",
       "      <td>116</td>\n",
       "      <td>74</td>\n",
       "      <td>0</td>\n",
       "      <td>0</td>\n",
       "      <td>25.6</td>\n",
       "      <td>0.201</td>\n",
       "      <td>30</td>\n",
       "      <td>0</td>\n",
       "    </tr>\n",
       "    <tr>\n",
       "      <th>6</th>\n",
       "      <td>3</td>\n",
       "      <td>78</td>\n",
       "      <td>50</td>\n",
       "      <td>32</td>\n",
       "      <td>88</td>\n",
       "      <td>31.0</td>\n",
       "      <td>0.248</td>\n",
       "      <td>26</td>\n",
       "      <td>1</td>\n",
       "    </tr>\n",
       "    <tr>\n",
       "      <th>7</th>\n",
       "      <td>10</td>\n",
       "      <td>115</td>\n",
       "      <td>0</td>\n",
       "      <td>0</td>\n",
       "      <td>0</td>\n",
       "      <td>35.3</td>\n",
       "      <td>0.134</td>\n",
       "      <td>29</td>\n",
       "      <td>0</td>\n",
       "    </tr>\n",
       "    <tr>\n",
       "      <th>8</th>\n",
       "      <td>2</td>\n",
       "      <td>197</td>\n",
       "      <td>70</td>\n",
       "      <td>45</td>\n",
       "      <td>543</td>\n",
       "      <td>30.5</td>\n",
       "      <td>0.158</td>\n",
       "      <td>53</td>\n",
       "      <td>1</td>\n",
       "    </tr>\n",
       "    <tr>\n",
       "      <th>9</th>\n",
       "      <td>8</td>\n",
       "      <td>125</td>\n",
       "      <td>96</td>\n",
       "      <td>0</td>\n",
       "      <td>0</td>\n",
       "      <td>0.0</td>\n",
       "      <td>0.232</td>\n",
       "      <td>54</td>\n",
       "      <td>1</td>\n",
       "    </tr>\n",
       "    <tr>\n",
       "      <th>10</th>\n",
       "      <td>4</td>\n",
       "      <td>110</td>\n",
       "      <td>92</td>\n",
       "      <td>0</td>\n",
       "      <td>0</td>\n",
       "      <td>37.6</td>\n",
       "      <td>0.191</td>\n",
       "      <td>30</td>\n",
       "      <td>0</td>\n",
       "    </tr>\n",
       "    <tr>\n",
       "      <th>11</th>\n",
       "      <td>10</td>\n",
       "      <td>168</td>\n",
       "      <td>74</td>\n",
       "      <td>0</td>\n",
       "      <td>0</td>\n",
       "      <td>38.0</td>\n",
       "      <td>0.537</td>\n",
       "      <td>34</td>\n",
       "      <td>1</td>\n",
       "    </tr>\n",
       "    <tr>\n",
       "      <th>12</th>\n",
       "      <td>10</td>\n",
       "      <td>139</td>\n",
       "      <td>80</td>\n",
       "      <td>0</td>\n",
       "      <td>0</td>\n",
       "      <td>27.1</td>\n",
       "      <td>1.441</td>\n",
       "      <td>57</td>\n",
       "      <td>0</td>\n",
       "    </tr>\n",
       "    <tr>\n",
       "      <th>13</th>\n",
       "      <td>1</td>\n",
       "      <td>189</td>\n",
       "      <td>60</td>\n",
       "      <td>23</td>\n",
       "      <td>846</td>\n",
       "      <td>30.1</td>\n",
       "      <td>0.398</td>\n",
       "      <td>59</td>\n",
       "      <td>1</td>\n",
       "    </tr>\n",
       "    <tr>\n",
       "      <th>14</th>\n",
       "      <td>5</td>\n",
       "      <td>166</td>\n",
       "      <td>72</td>\n",
       "      <td>19</td>\n",
       "      <td>175</td>\n",
       "      <td>25.8</td>\n",
       "      <td>0.587</td>\n",
       "      <td>51</td>\n",
       "      <td>1</td>\n",
       "    </tr>\n",
       "    <tr>\n",
       "      <th>15</th>\n",
       "      <td>7</td>\n",
       "      <td>100</td>\n",
       "      <td>0</td>\n",
       "      <td>0</td>\n",
       "      <td>0</td>\n",
       "      <td>30.0</td>\n",
       "      <td>0.484</td>\n",
       "      <td>32</td>\n",
       "      <td>1</td>\n",
       "    </tr>\n",
       "    <tr>\n",
       "      <th>16</th>\n",
       "      <td>0</td>\n",
       "      <td>118</td>\n",
       "      <td>84</td>\n",
       "      <td>47</td>\n",
       "      <td>230</td>\n",
       "      <td>45.8</td>\n",
       "      <td>0.551</td>\n",
       "      <td>31</td>\n",
       "      <td>1</td>\n",
       "    </tr>\n",
       "    <tr>\n",
       "      <th>17</th>\n",
       "      <td>7</td>\n",
       "      <td>107</td>\n",
       "      <td>74</td>\n",
       "      <td>0</td>\n",
       "      <td>0</td>\n",
       "      <td>29.6</td>\n",
       "      <td>0.254</td>\n",
       "      <td>31</td>\n",
       "      <td>1</td>\n",
       "    </tr>\n",
       "    <tr>\n",
       "      <th>18</th>\n",
       "      <td>1</td>\n",
       "      <td>103</td>\n",
       "      <td>30</td>\n",
       "      <td>38</td>\n",
       "      <td>83</td>\n",
       "      <td>43.3</td>\n",
       "      <td>0.183</td>\n",
       "      <td>33</td>\n",
       "      <td>0</td>\n",
       "    </tr>\n",
       "    <tr>\n",
       "      <th>19</th>\n",
       "      <td>1</td>\n",
       "      <td>115</td>\n",
       "      <td>70</td>\n",
       "      <td>30</td>\n",
       "      <td>96</td>\n",
       "      <td>34.6</td>\n",
       "      <td>0.529</td>\n",
       "      <td>32</td>\n",
       "      <td>1</td>\n",
       "    </tr>\n",
       "  </tbody>\n",
       "</table>\n",
       "</div>"
      ],
      "text/plain": [
       "    Pregnancies  Glucose  BloodPressure  SkinThickness  Insulin   BMI  \\\n",
       "0             6      148             72             35        0  33.6   \n",
       "1             1       85             66             29        0  26.6   \n",
       "2             8      183             64              0        0  23.3   \n",
       "3             1       89             66             23       94  28.1   \n",
       "4             0      137             40             35      168  43.1   \n",
       "5             5      116             74              0        0  25.6   \n",
       "6             3       78             50             32       88  31.0   \n",
       "7            10      115              0              0        0  35.3   \n",
       "8             2      197             70             45      543  30.5   \n",
       "9             8      125             96              0        0   0.0   \n",
       "10            4      110             92              0        0  37.6   \n",
       "11           10      168             74              0        0  38.0   \n",
       "12           10      139             80              0        0  27.1   \n",
       "13            1      189             60             23      846  30.1   \n",
       "14            5      166             72             19      175  25.8   \n",
       "15            7      100              0              0        0  30.0   \n",
       "16            0      118             84             47      230  45.8   \n",
       "17            7      107             74              0        0  29.6   \n",
       "18            1      103             30             38       83  43.3   \n",
       "19            1      115             70             30       96  34.6   \n",
       "\n",
       "    DiabetesPedigreeFunction  Age  Outcome  \n",
       "0                      0.627   50        1  \n",
       "1                      0.351   31        0  \n",
       "2                      0.672   32        1  \n",
       "3                      0.167   21        0  \n",
       "4                      2.288   33        1  \n",
       "5                      0.201   30        0  \n",
       "6                      0.248   26        1  \n",
       "7                      0.134   29        0  \n",
       "8                      0.158   53        1  \n",
       "9                      0.232   54        1  \n",
       "10                     0.191   30        0  \n",
       "11                     0.537   34        1  \n",
       "12                     1.441   57        0  \n",
       "13                     0.398   59        1  \n",
       "14                     0.587   51        1  \n",
       "15                     0.484   32        1  \n",
       "16                     0.551   31        1  \n",
       "17                     0.254   31        1  \n",
       "18                     0.183   33        0  \n",
       "19                     0.529   32        1  "
      ]
     },
     "execution_count": 5,
     "metadata": {},
     "output_type": "execute_result"
    }
   ],
   "source": [
    "diab.head(20)"
   ]
  },
  {
   "cell_type": "markdown",
   "metadata": {},
   "source": [
    "+ **tail()**\n",
    "\n",
    "Esta función devuelve las últimas n filas del objeto según la posición. Es útil para verificar datos rápidamente, por ejemplo, después de ordenar o agregar filas,en este caso se puede observar que se tienen datos de 767 pacientes."
   ]
  },
  {
   "cell_type": "code",
   "execution_count": 6,
   "metadata": {},
   "outputs": [
    {
     "data": {
      "text/html": [
       "<div>\n",
       "<style scoped>\n",
       "    .dataframe tbody tr th:only-of-type {\n",
       "        vertical-align: middle;\n",
       "    }\n",
       "\n",
       "    .dataframe tbody tr th {\n",
       "        vertical-align: top;\n",
       "    }\n",
       "\n",
       "    .dataframe thead th {\n",
       "        text-align: right;\n",
       "    }\n",
       "</style>\n",
       "<table border=\"1\" class=\"dataframe\">\n",
       "  <thead>\n",
       "    <tr style=\"text-align: right;\">\n",
       "      <th></th>\n",
       "      <th>Pregnancies</th>\n",
       "      <th>Glucose</th>\n",
       "      <th>BloodPressure</th>\n",
       "      <th>SkinThickness</th>\n",
       "      <th>Insulin</th>\n",
       "      <th>BMI</th>\n",
       "      <th>DiabetesPedigreeFunction</th>\n",
       "      <th>Age</th>\n",
       "      <th>Outcome</th>\n",
       "    </tr>\n",
       "  </thead>\n",
       "  <tbody>\n",
       "    <tr>\n",
       "      <th>763</th>\n",
       "      <td>10</td>\n",
       "      <td>101</td>\n",
       "      <td>76</td>\n",
       "      <td>48</td>\n",
       "      <td>180</td>\n",
       "      <td>32.9</td>\n",
       "      <td>0.171</td>\n",
       "      <td>63</td>\n",
       "      <td>0</td>\n",
       "    </tr>\n",
       "    <tr>\n",
       "      <th>764</th>\n",
       "      <td>2</td>\n",
       "      <td>122</td>\n",
       "      <td>70</td>\n",
       "      <td>27</td>\n",
       "      <td>0</td>\n",
       "      <td>36.8</td>\n",
       "      <td>0.340</td>\n",
       "      <td>27</td>\n",
       "      <td>0</td>\n",
       "    </tr>\n",
       "    <tr>\n",
       "      <th>765</th>\n",
       "      <td>5</td>\n",
       "      <td>121</td>\n",
       "      <td>72</td>\n",
       "      <td>23</td>\n",
       "      <td>112</td>\n",
       "      <td>26.2</td>\n",
       "      <td>0.245</td>\n",
       "      <td>30</td>\n",
       "      <td>0</td>\n",
       "    </tr>\n",
       "    <tr>\n",
       "      <th>766</th>\n",
       "      <td>1</td>\n",
       "      <td>126</td>\n",
       "      <td>60</td>\n",
       "      <td>0</td>\n",
       "      <td>0</td>\n",
       "      <td>30.1</td>\n",
       "      <td>0.349</td>\n",
       "      <td>47</td>\n",
       "      <td>1</td>\n",
       "    </tr>\n",
       "    <tr>\n",
       "      <th>767</th>\n",
       "      <td>1</td>\n",
       "      <td>93</td>\n",
       "      <td>70</td>\n",
       "      <td>31</td>\n",
       "      <td>0</td>\n",
       "      <td>30.4</td>\n",
       "      <td>0.315</td>\n",
       "      <td>23</td>\n",
       "      <td>0</td>\n",
       "    </tr>\n",
       "  </tbody>\n",
       "</table>\n",
       "</div>"
      ],
      "text/plain": [
       "     Pregnancies  Glucose  BloodPressure  SkinThickness  Insulin   BMI  \\\n",
       "763           10      101             76             48      180  32.9   \n",
       "764            2      122             70             27        0  36.8   \n",
       "765            5      121             72             23      112  26.2   \n",
       "766            1      126             60              0        0  30.1   \n",
       "767            1       93             70             31        0  30.4   \n",
       "\n",
       "     DiabetesPedigreeFunction  Age  Outcome  \n",
       "763                     0.171   63        0  \n",
       "764                     0.340   27        0  \n",
       "765                     0.245   30        0  \n",
       "766                     0.349   47        1  \n",
       "767                     0.315   23        0  "
      ]
     },
     "execution_count": 6,
     "metadata": {},
     "output_type": "execute_result"
    }
   ],
   "source": [
    "diab.tail()"
   ]
  },
  {
   "cell_type": "markdown",
   "metadata": {},
   "source": [
    "### Descripción básica de columnas"
   ]
  },
  {
   "cell_type": "markdown",
   "metadata": {},
   "source": [
    "+ **columns()**\n",
    "\n",
    "Nos interesa saber que columnas tiene la base de dato, para establecer que variables podrían ser de utilidad para el modelo,entonces se usa ***.columns***"
   ]
  },
  {
   "cell_type": "code",
   "execution_count": 7,
   "metadata": {},
   "outputs": [
    {
     "data": {
      "text/plain": [
       "Index(['Pregnancies', 'Glucose', 'BloodPressure', 'SkinThickness', 'Insulin',\n",
       "       'BMI', 'DiabetesPedigreeFunction', 'Age', 'Outcome'],\n",
       "      dtype='object')"
      ]
     },
     "execution_count": 7,
     "metadata": {},
     "output_type": "execute_result"
    }
   ],
   "source": [
    "diab.columns"
   ]
  },
  {
   "cell_type": "markdown",
   "metadata": {},
   "source": [
    "+ **Celdas vacias**"
   ]
  },
  {
   "cell_type": "code",
   "execution_count": 8,
   "metadata": {
    "scrolled": true
   },
   "outputs": [
    {
     "data": {
      "text/plain": [
       "Pregnancies                 False\n",
       "Glucose                     False\n",
       "BloodPressure               False\n",
       "SkinThickness               False\n",
       "Insulin                     False\n",
       "BMI                         False\n",
       "DiabetesPedigreeFunction    False\n",
       "Age                         False\n",
       "Outcome                     False\n",
       "dtype: bool"
      ]
     },
     "execution_count": 8,
     "metadata": {},
     "output_type": "execute_result"
    }
   ],
   "source": [
    "diab.isnull().any()"
   ]
  },
  {
   "cell_type": "markdown",
   "metadata": {},
   "source": [
    "### Clasificación de los datos"
   ]
  },
  {
   "cell_type": "markdown",
   "metadata": {},
   "source": [
    "+ **dtypes**\n",
    "\n",
    "La propiedad dtypes se usa para encontrar los dtypes en el DataFrame.\n",
    "\n",
    "Esto devuelve una serie con el tipo de datos de cada columna. El índice del resultado son las columnas del DataFrame original. \n",
    "En este caso, nos interesa saber que tipo de variable es, para dar el tratamiento estadístico correspondiente."
   ]
  },
  {
   "cell_type": "code",
   "execution_count": 9,
   "metadata": {},
   "outputs": [
    {
     "data": {
      "text/plain": [
       "Pregnancies                   int64\n",
       "Glucose                       int64\n",
       "BloodPressure                 int64\n",
       "SkinThickness                 int64\n",
       "Insulin                       int64\n",
       "BMI                         float64\n",
       "DiabetesPedigreeFunction    float64\n",
       "Age                           int64\n",
       "Outcome                       int64\n",
       "dtype: object"
      ]
     },
     "execution_count": 9,
     "metadata": {},
     "output_type": "execute_result"
    }
   ],
   "source": [
    "diab.dtypes"
   ]
  },
  {
   "cell_type": "markdown",
   "metadata": {},
   "source": [
    "> Y si se desea conocer el tipo de datos que contiene alguna columna en específico, se usa:"
   ]
  },
  {
   "cell_type": "code",
   "execution_count": 10,
   "metadata": {},
   "outputs": [
    {
     "data": {
      "text/plain": [
       "dtype('int64')"
      ]
     },
     "execution_count": 10,
     "metadata": {},
     "output_type": "execute_result"
    }
   ],
   "source": [
    "diab['SkinThickness'].dtype"
   ]
  },
  {
   "cell_type": "markdown",
   "metadata": {},
   "source": [
    "### Cambiar nombres de columnas."
   ]
  },
  {
   "cell_type": "markdown",
   "metadata": {},
   "source": [
    "Se cambiará el nombre de las columnas, para una fácil identificación de éstas."
   ]
  },
  {
   "cell_type": "code",
   "execution_count": 11,
   "metadata": {},
   "outputs": [
    {
     "data": {
      "text/html": [
       "<div>\n",
       "<style scoped>\n",
       "    .dataframe tbody tr th:only-of-type {\n",
       "        vertical-align: middle;\n",
       "    }\n",
       "\n",
       "    .dataframe tbody tr th {\n",
       "        vertical-align: top;\n",
       "    }\n",
       "\n",
       "    .dataframe thead th {\n",
       "        text-align: right;\n",
       "    }\n",
       "</style>\n",
       "<table border=\"1\" class=\"dataframe\">\n",
       "  <thead>\n",
       "    <tr style=\"text-align: right;\">\n",
       "      <th></th>\n",
       "      <th>Emb</th>\n",
       "      <th>Glu</th>\n",
       "      <th>B_P</th>\n",
       "      <th>S_T</th>\n",
       "      <th>In</th>\n",
       "      <th>BMI</th>\n",
       "      <th>DPF</th>\n",
       "      <th>Age</th>\n",
       "      <th>Result</th>\n",
       "    </tr>\n",
       "  </thead>\n",
       "  <tbody>\n",
       "    <tr>\n",
       "      <th>0</th>\n",
       "      <td>6</td>\n",
       "      <td>148</td>\n",
       "      <td>72</td>\n",
       "      <td>35</td>\n",
       "      <td>0</td>\n",
       "      <td>33.6</td>\n",
       "      <td>0.627</td>\n",
       "      <td>50</td>\n",
       "      <td>1</td>\n",
       "    </tr>\n",
       "    <tr>\n",
       "      <th>1</th>\n",
       "      <td>1</td>\n",
       "      <td>85</td>\n",
       "      <td>66</td>\n",
       "      <td>29</td>\n",
       "      <td>0</td>\n",
       "      <td>26.6</td>\n",
       "      <td>0.351</td>\n",
       "      <td>31</td>\n",
       "      <td>0</td>\n",
       "    </tr>\n",
       "    <tr>\n",
       "      <th>2</th>\n",
       "      <td>8</td>\n",
       "      <td>183</td>\n",
       "      <td>64</td>\n",
       "      <td>0</td>\n",
       "      <td>0</td>\n",
       "      <td>23.3</td>\n",
       "      <td>0.672</td>\n",
       "      <td>32</td>\n",
       "      <td>1</td>\n",
       "    </tr>\n",
       "    <tr>\n",
       "      <th>3</th>\n",
       "      <td>1</td>\n",
       "      <td>89</td>\n",
       "      <td>66</td>\n",
       "      <td>23</td>\n",
       "      <td>94</td>\n",
       "      <td>28.1</td>\n",
       "      <td>0.167</td>\n",
       "      <td>21</td>\n",
       "      <td>0</td>\n",
       "    </tr>\n",
       "    <tr>\n",
       "      <th>4</th>\n",
       "      <td>0</td>\n",
       "      <td>137</td>\n",
       "      <td>40</td>\n",
       "      <td>35</td>\n",
       "      <td>168</td>\n",
       "      <td>43.1</td>\n",
       "      <td>2.288</td>\n",
       "      <td>33</td>\n",
       "      <td>1</td>\n",
       "    </tr>\n",
       "    <tr>\n",
       "      <th>...</th>\n",
       "      <td>...</td>\n",
       "      <td>...</td>\n",
       "      <td>...</td>\n",
       "      <td>...</td>\n",
       "      <td>...</td>\n",
       "      <td>...</td>\n",
       "      <td>...</td>\n",
       "      <td>...</td>\n",
       "      <td>...</td>\n",
       "    </tr>\n",
       "    <tr>\n",
       "      <th>763</th>\n",
       "      <td>10</td>\n",
       "      <td>101</td>\n",
       "      <td>76</td>\n",
       "      <td>48</td>\n",
       "      <td>180</td>\n",
       "      <td>32.9</td>\n",
       "      <td>0.171</td>\n",
       "      <td>63</td>\n",
       "      <td>0</td>\n",
       "    </tr>\n",
       "    <tr>\n",
       "      <th>764</th>\n",
       "      <td>2</td>\n",
       "      <td>122</td>\n",
       "      <td>70</td>\n",
       "      <td>27</td>\n",
       "      <td>0</td>\n",
       "      <td>36.8</td>\n",
       "      <td>0.340</td>\n",
       "      <td>27</td>\n",
       "      <td>0</td>\n",
       "    </tr>\n",
       "    <tr>\n",
       "      <th>765</th>\n",
       "      <td>5</td>\n",
       "      <td>121</td>\n",
       "      <td>72</td>\n",
       "      <td>23</td>\n",
       "      <td>112</td>\n",
       "      <td>26.2</td>\n",
       "      <td>0.245</td>\n",
       "      <td>30</td>\n",
       "      <td>0</td>\n",
       "    </tr>\n",
       "    <tr>\n",
       "      <th>766</th>\n",
       "      <td>1</td>\n",
       "      <td>126</td>\n",
       "      <td>60</td>\n",
       "      <td>0</td>\n",
       "      <td>0</td>\n",
       "      <td>30.1</td>\n",
       "      <td>0.349</td>\n",
       "      <td>47</td>\n",
       "      <td>1</td>\n",
       "    </tr>\n",
       "    <tr>\n",
       "      <th>767</th>\n",
       "      <td>1</td>\n",
       "      <td>93</td>\n",
       "      <td>70</td>\n",
       "      <td>31</td>\n",
       "      <td>0</td>\n",
       "      <td>30.4</td>\n",
       "      <td>0.315</td>\n",
       "      <td>23</td>\n",
       "      <td>0</td>\n",
       "    </tr>\n",
       "  </tbody>\n",
       "</table>\n",
       "<p>768 rows × 9 columns</p>\n",
       "</div>"
      ],
      "text/plain": [
       "     Emb  Glu  B_P  S_T   In   BMI    DPF  Age  Result\n",
       "0      6  148   72   35    0  33.6  0.627   50       1\n",
       "1      1   85   66   29    0  26.6  0.351   31       0\n",
       "2      8  183   64    0    0  23.3  0.672   32       1\n",
       "3      1   89   66   23   94  28.1  0.167   21       0\n",
       "4      0  137   40   35  168  43.1  2.288   33       1\n",
       "..   ...  ...  ...  ...  ...   ...    ...  ...     ...\n",
       "763   10  101   76   48  180  32.9  0.171   63       0\n",
       "764    2  122   70   27    0  36.8  0.340   27       0\n",
       "765    5  121   72   23  112  26.2  0.245   30       0\n",
       "766    1  126   60    0    0  30.1  0.349   47       1\n",
       "767    1   93   70   31    0  30.4  0.315   23       0\n",
       "\n",
       "[768 rows x 9 columns]"
      ]
     },
     "execution_count": 11,
     "metadata": {},
     "output_type": "execute_result"
    }
   ],
   "source": [
    "diab.rename(columns = {'Pregnancies':'Emb','BloodPressure':'B_P','Glucose':'Glu','SkinThickness':'S_T','Insulin':'In','DiabetesPedigreeFunction':'DPF','Outcome':'Result'})"
   ]
  },
  {
   "cell_type": "markdown",
   "metadata": {},
   "source": [
    "### Guardar otros archivos con agrupaciones."
   ]
  },
  {
   "cell_type": "markdown",
   "metadata": {},
   "source": [
    "Nos interesa saber que tanto afecta el embarazo, por lo que hacemos una agrupación para las mujeres que han estado embarazadas."
   ]
  },
  {
   "cell_type": "code",
   "execution_count": 12,
   "metadata": {},
   "outputs": [
    {
     "data": {
      "text/html": [
       "<div>\n",
       "<style scoped>\n",
       "    .dataframe tbody tr th:only-of-type {\n",
       "        vertical-align: middle;\n",
       "    }\n",
       "\n",
       "    .dataframe tbody tr th {\n",
       "        vertical-align: top;\n",
       "    }\n",
       "\n",
       "    .dataframe thead th {\n",
       "        text-align: right;\n",
       "    }\n",
       "</style>\n",
       "<table border=\"1\" class=\"dataframe\">\n",
       "  <thead>\n",
       "    <tr style=\"text-align: right;\">\n",
       "      <th></th>\n",
       "      <th>Pregnancies</th>\n",
       "      <th>Glucose</th>\n",
       "      <th>BloodPressure</th>\n",
       "      <th>SkinThickness</th>\n",
       "      <th>Insulin</th>\n",
       "      <th>BMI</th>\n",
       "      <th>DiabetesPedigreeFunction</th>\n",
       "      <th>Age</th>\n",
       "      <th>Outcome</th>\n",
       "    </tr>\n",
       "  </thead>\n",
       "  <tbody>\n",
       "    <tr>\n",
       "      <th>0</th>\n",
       "      <td>6</td>\n",
       "      <td>148</td>\n",
       "      <td>72</td>\n",
       "      <td>35</td>\n",
       "      <td>0</td>\n",
       "      <td>33.6</td>\n",
       "      <td>0.627</td>\n",
       "      <td>50</td>\n",
       "      <td>1</td>\n",
       "    </tr>\n",
       "    <tr>\n",
       "      <th>1</th>\n",
       "      <td>1</td>\n",
       "      <td>85</td>\n",
       "      <td>66</td>\n",
       "      <td>29</td>\n",
       "      <td>0</td>\n",
       "      <td>26.6</td>\n",
       "      <td>0.351</td>\n",
       "      <td>31</td>\n",
       "      <td>0</td>\n",
       "    </tr>\n",
       "    <tr>\n",
       "      <th>2</th>\n",
       "      <td>8</td>\n",
       "      <td>183</td>\n",
       "      <td>64</td>\n",
       "      <td>0</td>\n",
       "      <td>0</td>\n",
       "      <td>23.3</td>\n",
       "      <td>0.672</td>\n",
       "      <td>32</td>\n",
       "      <td>1</td>\n",
       "    </tr>\n",
       "    <tr>\n",
       "      <th>3</th>\n",
       "      <td>1</td>\n",
       "      <td>89</td>\n",
       "      <td>66</td>\n",
       "      <td>23</td>\n",
       "      <td>94</td>\n",
       "      <td>28.1</td>\n",
       "      <td>0.167</td>\n",
       "      <td>21</td>\n",
       "      <td>0</td>\n",
       "    </tr>\n",
       "    <tr>\n",
       "      <th>5</th>\n",
       "      <td>5</td>\n",
       "      <td>116</td>\n",
       "      <td>74</td>\n",
       "      <td>0</td>\n",
       "      <td>0</td>\n",
       "      <td>25.6</td>\n",
       "      <td>0.201</td>\n",
       "      <td>30</td>\n",
       "      <td>0</td>\n",
       "    </tr>\n",
       "    <tr>\n",
       "      <th>...</th>\n",
       "      <td>...</td>\n",
       "      <td>...</td>\n",
       "      <td>...</td>\n",
       "      <td>...</td>\n",
       "      <td>...</td>\n",
       "      <td>...</td>\n",
       "      <td>...</td>\n",
       "      <td>...</td>\n",
       "      <td>...</td>\n",
       "    </tr>\n",
       "    <tr>\n",
       "      <th>763</th>\n",
       "      <td>10</td>\n",
       "      <td>101</td>\n",
       "      <td>76</td>\n",
       "      <td>48</td>\n",
       "      <td>180</td>\n",
       "      <td>32.9</td>\n",
       "      <td>0.171</td>\n",
       "      <td>63</td>\n",
       "      <td>0</td>\n",
       "    </tr>\n",
       "    <tr>\n",
       "      <th>764</th>\n",
       "      <td>2</td>\n",
       "      <td>122</td>\n",
       "      <td>70</td>\n",
       "      <td>27</td>\n",
       "      <td>0</td>\n",
       "      <td>36.8</td>\n",
       "      <td>0.340</td>\n",
       "      <td>27</td>\n",
       "      <td>0</td>\n",
       "    </tr>\n",
       "    <tr>\n",
       "      <th>765</th>\n",
       "      <td>5</td>\n",
       "      <td>121</td>\n",
       "      <td>72</td>\n",
       "      <td>23</td>\n",
       "      <td>112</td>\n",
       "      <td>26.2</td>\n",
       "      <td>0.245</td>\n",
       "      <td>30</td>\n",
       "      <td>0</td>\n",
       "    </tr>\n",
       "    <tr>\n",
       "      <th>766</th>\n",
       "      <td>1</td>\n",
       "      <td>126</td>\n",
       "      <td>60</td>\n",
       "      <td>0</td>\n",
       "      <td>0</td>\n",
       "      <td>30.1</td>\n",
       "      <td>0.349</td>\n",
       "      <td>47</td>\n",
       "      <td>1</td>\n",
       "    </tr>\n",
       "    <tr>\n",
       "      <th>767</th>\n",
       "      <td>1</td>\n",
       "      <td>93</td>\n",
       "      <td>70</td>\n",
       "      <td>31</td>\n",
       "      <td>0</td>\n",
       "      <td>30.4</td>\n",
       "      <td>0.315</td>\n",
       "      <td>23</td>\n",
       "      <td>0</td>\n",
       "    </tr>\n",
       "  </tbody>\n",
       "</table>\n",
       "<p>657 rows × 9 columns</p>\n",
       "</div>"
      ],
      "text/plain": [
       "     Pregnancies  Glucose  BloodPressure  SkinThickness  Insulin   BMI  \\\n",
       "0              6      148             72             35        0  33.6   \n",
       "1              1       85             66             29        0  26.6   \n",
       "2              8      183             64              0        0  23.3   \n",
       "3              1       89             66             23       94  28.1   \n",
       "5              5      116             74              0        0  25.6   \n",
       "..           ...      ...            ...            ...      ...   ...   \n",
       "763           10      101             76             48      180  32.9   \n",
       "764            2      122             70             27        0  36.8   \n",
       "765            5      121             72             23      112  26.2   \n",
       "766            1      126             60              0        0  30.1   \n",
       "767            1       93             70             31        0  30.4   \n",
       "\n",
       "     DiabetesPedigreeFunction  Age  Outcome  \n",
       "0                       0.627   50        1  \n",
       "1                       0.351   31        0  \n",
       "2                       0.672   32        1  \n",
       "3                       0.167   21        0  \n",
       "5                       0.201   30        0  \n",
       "..                        ...  ...      ...  \n",
       "763                     0.171   63        0  \n",
       "764                     0.340   27        0  \n",
       "765                     0.245   30        0  \n",
       "766                     0.349   47        1  \n",
       "767                     0.315   23        0  \n",
       "\n",
       "[657 rows x 9 columns]"
      ]
     },
     "execution_count": 12,
     "metadata": {},
     "output_type": "execute_result"
    }
   ],
   "source": [
    "diabEm=diab[diab.Pregnancies > 0]\n",
    "diabEm"
   ]
  },
  {
   "cell_type": "markdown",
   "metadata": {},
   "source": [
    "Para guardar la base de datos modificada, se usa la siguiente sintaxis:"
   ]
  },
  {
   "cell_type": "code",
   "execution_count": 13,
   "metadata": {},
   "outputs": [],
   "source": [
    "diabEm.to_csv('MujeresEmbarazo.csv')"
   ]
  },
  {
   "cell_type": "markdown",
   "metadata": {},
   "source": [
    "La diabetes gestacional tiene el factor de riesgo de la edad, ya que el riesgo se incrementa para mujeres mayores a 25 años, por lo que nos interesa dividir la base de datos en dos grupos:\n",
    "+ *Menores de 25 años*"
   ]
  },
  {
   "cell_type": "code",
   "execution_count": 14,
   "metadata": {},
   "outputs": [
    {
     "data": {
      "text/html": [
       "<div>\n",
       "<style scoped>\n",
       "    .dataframe tbody tr th:only-of-type {\n",
       "        vertical-align: middle;\n",
       "    }\n",
       "\n",
       "    .dataframe tbody tr th {\n",
       "        vertical-align: top;\n",
       "    }\n",
       "\n",
       "    .dataframe thead th {\n",
       "        text-align: right;\n",
       "    }\n",
       "</style>\n",
       "<table border=\"1\" class=\"dataframe\">\n",
       "  <thead>\n",
       "    <tr style=\"text-align: right;\">\n",
       "      <th></th>\n",
       "      <th>Pregnancies</th>\n",
       "      <th>Glucose</th>\n",
       "      <th>BloodPressure</th>\n",
       "      <th>SkinThickness</th>\n",
       "      <th>Insulin</th>\n",
       "      <th>BMI</th>\n",
       "      <th>DiabetesPedigreeFunction</th>\n",
       "      <th>Age</th>\n",
       "      <th>Outcome</th>\n",
       "    </tr>\n",
       "  </thead>\n",
       "  <tbody>\n",
       "    <tr>\n",
       "      <th>3</th>\n",
       "      <td>1</td>\n",
       "      <td>89</td>\n",
       "      <td>66</td>\n",
       "      <td>23</td>\n",
       "      <td>94</td>\n",
       "      <td>28.1</td>\n",
       "      <td>0.167</td>\n",
       "      <td>21</td>\n",
       "      <td>0</td>\n",
       "    </tr>\n",
       "    <tr>\n",
       "      <th>27</th>\n",
       "      <td>1</td>\n",
       "      <td>97</td>\n",
       "      <td>66</td>\n",
       "      <td>15</td>\n",
       "      <td>140</td>\n",
       "      <td>23.2</td>\n",
       "      <td>0.487</td>\n",
       "      <td>22</td>\n",
       "      <td>0</td>\n",
       "    </tr>\n",
       "    <tr>\n",
       "      <th>32</th>\n",
       "      <td>3</td>\n",
       "      <td>88</td>\n",
       "      <td>58</td>\n",
       "      <td>11</td>\n",
       "      <td>54</td>\n",
       "      <td>24.8</td>\n",
       "      <td>0.267</td>\n",
       "      <td>22</td>\n",
       "      <td>0</td>\n",
       "    </tr>\n",
       "    <tr>\n",
       "      <th>47</th>\n",
       "      <td>2</td>\n",
       "      <td>71</td>\n",
       "      <td>70</td>\n",
       "      <td>27</td>\n",
       "      <td>0</td>\n",
       "      <td>28.0</td>\n",
       "      <td>0.586</td>\n",
       "      <td>22</td>\n",
       "      <td>0</td>\n",
       "    </tr>\n",
       "    <tr>\n",
       "      <th>49</th>\n",
       "      <td>7</td>\n",
       "      <td>105</td>\n",
       "      <td>0</td>\n",
       "      <td>0</td>\n",
       "      <td>0</td>\n",
       "      <td>0.0</td>\n",
       "      <td>0.305</td>\n",
       "      <td>24</td>\n",
       "      <td>0</td>\n",
       "    </tr>\n",
       "    <tr>\n",
       "      <th>...</th>\n",
       "      <td>...</td>\n",
       "      <td>...</td>\n",
       "      <td>...</td>\n",
       "      <td>...</td>\n",
       "      <td>...</td>\n",
       "      <td>...</td>\n",
       "      <td>...</td>\n",
       "      <td>...</td>\n",
       "      <td>...</td>\n",
       "    </tr>\n",
       "    <tr>\n",
       "      <th>738</th>\n",
       "      <td>2</td>\n",
       "      <td>99</td>\n",
       "      <td>60</td>\n",
       "      <td>17</td>\n",
       "      <td>160</td>\n",
       "      <td>36.6</td>\n",
       "      <td>0.453</td>\n",
       "      <td>21</td>\n",
       "      <td>0</td>\n",
       "    </tr>\n",
       "    <tr>\n",
       "      <th>742</th>\n",
       "      <td>1</td>\n",
       "      <td>109</td>\n",
       "      <td>58</td>\n",
       "      <td>18</td>\n",
       "      <td>116</td>\n",
       "      <td>28.5</td>\n",
       "      <td>0.219</td>\n",
       "      <td>22</td>\n",
       "      <td>0</td>\n",
       "    </tr>\n",
       "    <tr>\n",
       "      <th>750</th>\n",
       "      <td>4</td>\n",
       "      <td>136</td>\n",
       "      <td>70</td>\n",
       "      <td>0</td>\n",
       "      <td>0</td>\n",
       "      <td>31.2</td>\n",
       "      <td>1.182</td>\n",
       "      <td>22</td>\n",
       "      <td>1</td>\n",
       "    </tr>\n",
       "    <tr>\n",
       "      <th>760</th>\n",
       "      <td>2</td>\n",
       "      <td>88</td>\n",
       "      <td>58</td>\n",
       "      <td>26</td>\n",
       "      <td>16</td>\n",
       "      <td>28.4</td>\n",
       "      <td>0.766</td>\n",
       "      <td>22</td>\n",
       "      <td>0</td>\n",
       "    </tr>\n",
       "    <tr>\n",
       "      <th>767</th>\n",
       "      <td>1</td>\n",
       "      <td>93</td>\n",
       "      <td>70</td>\n",
       "      <td>31</td>\n",
       "      <td>0</td>\n",
       "      <td>30.4</td>\n",
       "      <td>0.315</td>\n",
       "      <td>23</td>\n",
       "      <td>0</td>\n",
       "    </tr>\n",
       "  </tbody>\n",
       "</table>\n",
       "<p>219 rows × 9 columns</p>\n",
       "</div>"
      ],
      "text/plain": [
       "     Pregnancies  Glucose  BloodPressure  SkinThickness  Insulin   BMI  \\\n",
       "3              1       89             66             23       94  28.1   \n",
       "27             1       97             66             15      140  23.2   \n",
       "32             3       88             58             11       54  24.8   \n",
       "47             2       71             70             27        0  28.0   \n",
       "49             7      105              0              0        0   0.0   \n",
       "..           ...      ...            ...            ...      ...   ...   \n",
       "738            2       99             60             17      160  36.6   \n",
       "742            1      109             58             18      116  28.5   \n",
       "750            4      136             70              0        0  31.2   \n",
       "760            2       88             58             26       16  28.4   \n",
       "767            1       93             70             31        0  30.4   \n",
       "\n",
       "     DiabetesPedigreeFunction  Age  Outcome  \n",
       "3                       0.167   21        0  \n",
       "27                      0.487   22        0  \n",
       "32                      0.267   22        0  \n",
       "47                      0.586   22        0  \n",
       "49                      0.305   24        0  \n",
       "..                        ...  ...      ...  \n",
       "738                     0.453   21        0  \n",
       "742                     0.219   22        0  \n",
       "750                     1.182   22        1  \n",
       "760                     0.766   22        0  \n",
       "767                     0.315   23        0  \n",
       "\n",
       "[219 rows x 9 columns]"
      ]
     },
     "execution_count": 14,
     "metadata": {},
     "output_type": "execute_result"
    }
   ],
   "source": [
    "dMenos25=diab[diab.Age < 25]\n",
    "dMenos25"
   ]
  },
  {
   "cell_type": "markdown",
   "metadata": {},
   "source": [
    "Para guardar la base de datos modificada, se usa la siguiente sintaxis:"
   ]
  },
  {
   "cell_type": "code",
   "execution_count": 15,
   "metadata": {},
   "outputs": [],
   "source": [
    "dMenos25.to_csv('DiabetesM25.csv')"
   ]
  },
  {
   "cell_type": "markdown",
   "metadata": {},
   "source": [
    "+ *Mayores de 25 años*"
   ]
  },
  {
   "cell_type": "code",
   "execution_count": 16,
   "metadata": {},
   "outputs": [
    {
     "data": {
      "text/html": [
       "<div>\n",
       "<style scoped>\n",
       "    .dataframe tbody tr th:only-of-type {\n",
       "        vertical-align: middle;\n",
       "    }\n",
       "\n",
       "    .dataframe tbody tr th {\n",
       "        vertical-align: top;\n",
       "    }\n",
       "\n",
       "    .dataframe thead th {\n",
       "        text-align: right;\n",
       "    }\n",
       "</style>\n",
       "<table border=\"1\" class=\"dataframe\">\n",
       "  <thead>\n",
       "    <tr style=\"text-align: right;\">\n",
       "      <th></th>\n",
       "      <th>Pregnancies</th>\n",
       "      <th>Glucose</th>\n",
       "      <th>BloodPressure</th>\n",
       "      <th>SkinThickness</th>\n",
       "      <th>Insulin</th>\n",
       "      <th>BMI</th>\n",
       "      <th>DiabetesPedigreeFunction</th>\n",
       "      <th>Age</th>\n",
       "      <th>Outcome</th>\n",
       "    </tr>\n",
       "  </thead>\n",
       "  <tbody>\n",
       "    <tr>\n",
       "      <th>0</th>\n",
       "      <td>6</td>\n",
       "      <td>148</td>\n",
       "      <td>72</td>\n",
       "      <td>35</td>\n",
       "      <td>0</td>\n",
       "      <td>33.6</td>\n",
       "      <td>0.627</td>\n",
       "      <td>50</td>\n",
       "      <td>1</td>\n",
       "    </tr>\n",
       "    <tr>\n",
       "      <th>1</th>\n",
       "      <td>1</td>\n",
       "      <td>85</td>\n",
       "      <td>66</td>\n",
       "      <td>29</td>\n",
       "      <td>0</td>\n",
       "      <td>26.6</td>\n",
       "      <td>0.351</td>\n",
       "      <td>31</td>\n",
       "      <td>0</td>\n",
       "    </tr>\n",
       "    <tr>\n",
       "      <th>2</th>\n",
       "      <td>8</td>\n",
       "      <td>183</td>\n",
       "      <td>64</td>\n",
       "      <td>0</td>\n",
       "      <td>0</td>\n",
       "      <td>23.3</td>\n",
       "      <td>0.672</td>\n",
       "      <td>32</td>\n",
       "      <td>1</td>\n",
       "    </tr>\n",
       "    <tr>\n",
       "      <th>4</th>\n",
       "      <td>0</td>\n",
       "      <td>137</td>\n",
       "      <td>40</td>\n",
       "      <td>35</td>\n",
       "      <td>168</td>\n",
       "      <td>43.1</td>\n",
       "      <td>2.288</td>\n",
       "      <td>33</td>\n",
       "      <td>1</td>\n",
       "    </tr>\n",
       "    <tr>\n",
       "      <th>5</th>\n",
       "      <td>5</td>\n",
       "      <td>116</td>\n",
       "      <td>74</td>\n",
       "      <td>0</td>\n",
       "      <td>0</td>\n",
       "      <td>25.6</td>\n",
       "      <td>0.201</td>\n",
       "      <td>30</td>\n",
       "      <td>0</td>\n",
       "    </tr>\n",
       "    <tr>\n",
       "      <th>...</th>\n",
       "      <td>...</td>\n",
       "      <td>...</td>\n",
       "      <td>...</td>\n",
       "      <td>...</td>\n",
       "      <td>...</td>\n",
       "      <td>...</td>\n",
       "      <td>...</td>\n",
       "      <td>...</td>\n",
       "      <td>...</td>\n",
       "    </tr>\n",
       "    <tr>\n",
       "      <th>762</th>\n",
       "      <td>9</td>\n",
       "      <td>89</td>\n",
       "      <td>62</td>\n",
       "      <td>0</td>\n",
       "      <td>0</td>\n",
       "      <td>22.5</td>\n",
       "      <td>0.142</td>\n",
       "      <td>33</td>\n",
       "      <td>0</td>\n",
       "    </tr>\n",
       "    <tr>\n",
       "      <th>763</th>\n",
       "      <td>10</td>\n",
       "      <td>101</td>\n",
       "      <td>76</td>\n",
       "      <td>48</td>\n",
       "      <td>180</td>\n",
       "      <td>32.9</td>\n",
       "      <td>0.171</td>\n",
       "      <td>63</td>\n",
       "      <td>0</td>\n",
       "    </tr>\n",
       "    <tr>\n",
       "      <th>764</th>\n",
       "      <td>2</td>\n",
       "      <td>122</td>\n",
       "      <td>70</td>\n",
       "      <td>27</td>\n",
       "      <td>0</td>\n",
       "      <td>36.8</td>\n",
       "      <td>0.340</td>\n",
       "      <td>27</td>\n",
       "      <td>0</td>\n",
       "    </tr>\n",
       "    <tr>\n",
       "      <th>765</th>\n",
       "      <td>5</td>\n",
       "      <td>121</td>\n",
       "      <td>72</td>\n",
       "      <td>23</td>\n",
       "      <td>112</td>\n",
       "      <td>26.2</td>\n",
       "      <td>0.245</td>\n",
       "      <td>30</td>\n",
       "      <td>0</td>\n",
       "    </tr>\n",
       "    <tr>\n",
       "      <th>766</th>\n",
       "      <td>1</td>\n",
       "      <td>126</td>\n",
       "      <td>60</td>\n",
       "      <td>0</td>\n",
       "      <td>0</td>\n",
       "      <td>30.1</td>\n",
       "      <td>0.349</td>\n",
       "      <td>47</td>\n",
       "      <td>1</td>\n",
       "    </tr>\n",
       "  </tbody>\n",
       "</table>\n",
       "<p>501 rows × 9 columns</p>\n",
       "</div>"
      ],
      "text/plain": [
       "     Pregnancies  Glucose  BloodPressure  SkinThickness  Insulin   BMI  \\\n",
       "0              6      148             72             35        0  33.6   \n",
       "1              1       85             66             29        0  26.6   \n",
       "2              8      183             64              0        0  23.3   \n",
       "4              0      137             40             35      168  43.1   \n",
       "5              5      116             74              0        0  25.6   \n",
       "..           ...      ...            ...            ...      ...   ...   \n",
       "762            9       89             62              0        0  22.5   \n",
       "763           10      101             76             48      180  32.9   \n",
       "764            2      122             70             27        0  36.8   \n",
       "765            5      121             72             23      112  26.2   \n",
       "766            1      126             60              0        0  30.1   \n",
       "\n",
       "     DiabetesPedigreeFunction  Age  Outcome  \n",
       "0                       0.627   50        1  \n",
       "1                       0.351   31        0  \n",
       "2                       0.672   32        1  \n",
       "4                       2.288   33        1  \n",
       "5                       0.201   30        0  \n",
       "..                        ...  ...      ...  \n",
       "762                     0.142   33        0  \n",
       "763                     0.171   63        0  \n",
       "764                     0.340   27        0  \n",
       "765                     0.245   30        0  \n",
       "766                     0.349   47        1  \n",
       "\n",
       "[501 rows x 9 columns]"
      ]
     },
     "execution_count": 16,
     "metadata": {},
     "output_type": "execute_result"
    }
   ],
   "source": [
    "dMas25=diab[diab.Age > 25]\n",
    "dMas25"
   ]
  },
  {
   "cell_type": "markdown",
   "metadata": {},
   "source": [
    "Para guardar la base de datos modificada, se usa la siguiente sintaxis:"
   ]
  },
  {
   "cell_type": "code",
   "execution_count": 17,
   "metadata": {},
   "outputs": [],
   "source": [
    "dMas25.to_csv('DiabMas25.csv')"
   ]
  },
  {
   "cell_type": "markdown",
   "metadata": {},
   "source": [
    "### Valores que son distintos a cero\n",
    "Como el valor de ceros se registró en lugar de observaciones experimentales faltantes y además, según investigaciones, se ha demostrado que si se eliminaban los valores con cero, los resultados podría mejorar drásticamente.\n",
    "> Procederemos a eliminar los valores que sean cero y que no tengan una razón médica que podría explicar esta naturaleza\n",
    "\n",
    "Primero determinaremos en qué columnas existen valores con cero"
   ]
  },
  {
   "cell_type": "markdown",
   "metadata": {},
   "source": [
    "Al analizar la variable *Insulin* nos percatamos que no existe razón médica que explique el valor de 0, ya que en un estudio reciente sobre el nivel de insulina mostró que una persona con un índice de masa corporal<24 y sensibilidad normal a la insulina(RGI>6) posee un nivel de insulina sérica  de 8.7 ± 3.2 µU/mL, de 58.27 ± 44.08 y de 50.87 ± 26.10 µU/mL\n",
    "a los 0, 60 y 120 minutos respectivamente.\n",
    "Por lo que un valor de 0, no tiene razón médica aparente, por ende se procederá a eliminar las filas que contengan 0."
   ]
  },
  {
   "cell_type": "code",
   "execution_count": 18,
   "metadata": {},
   "outputs": [
    {
     "name": "stdout",
     "output_type": "stream",
     "text": [
      "374\n"
     ]
    }
   ],
   "source": [
    "print(np.count_nonzero(diab.Insulin== 0))"
   ]
  },
  {
   "cell_type": "code",
   "execution_count": 19,
   "metadata": {},
   "outputs": [
    {
     "data": {
      "text/html": [
       "<div>\n",
       "<style scoped>\n",
       "    .dataframe tbody tr th:only-of-type {\n",
       "        vertical-align: middle;\n",
       "    }\n",
       "\n",
       "    .dataframe tbody tr th {\n",
       "        vertical-align: top;\n",
       "    }\n",
       "\n",
       "    .dataframe thead th {\n",
       "        text-align: right;\n",
       "    }\n",
       "</style>\n",
       "<table border=\"1\" class=\"dataframe\">\n",
       "  <thead>\n",
       "    <tr style=\"text-align: right;\">\n",
       "      <th></th>\n",
       "      <th>Pregnancies</th>\n",
       "      <th>Glucose</th>\n",
       "      <th>BloodPressure</th>\n",
       "      <th>SkinThickness</th>\n",
       "      <th>Insulin</th>\n",
       "      <th>BMI</th>\n",
       "      <th>DiabetesPedigreeFunction</th>\n",
       "      <th>Age</th>\n",
       "      <th>Outcome</th>\n",
       "    </tr>\n",
       "  </thead>\n",
       "  <tbody>\n",
       "    <tr>\n",
       "      <th>3</th>\n",
       "      <td>1</td>\n",
       "      <td>89</td>\n",
       "      <td>66</td>\n",
       "      <td>23</td>\n",
       "      <td>94</td>\n",
       "      <td>28.1</td>\n",
       "      <td>0.167</td>\n",
       "      <td>21</td>\n",
       "      <td>0</td>\n",
       "    </tr>\n",
       "    <tr>\n",
       "      <th>4</th>\n",
       "      <td>0</td>\n",
       "      <td>137</td>\n",
       "      <td>40</td>\n",
       "      <td>35</td>\n",
       "      <td>168</td>\n",
       "      <td>43.1</td>\n",
       "      <td>2.288</td>\n",
       "      <td>33</td>\n",
       "      <td>1</td>\n",
       "    </tr>\n",
       "    <tr>\n",
       "      <th>6</th>\n",
       "      <td>3</td>\n",
       "      <td>78</td>\n",
       "      <td>50</td>\n",
       "      <td>32</td>\n",
       "      <td>88</td>\n",
       "      <td>31.0</td>\n",
       "      <td>0.248</td>\n",
       "      <td>26</td>\n",
       "      <td>1</td>\n",
       "    </tr>\n",
       "    <tr>\n",
       "      <th>8</th>\n",
       "      <td>2</td>\n",
       "      <td>197</td>\n",
       "      <td>70</td>\n",
       "      <td>45</td>\n",
       "      <td>543</td>\n",
       "      <td>30.5</td>\n",
       "      <td>0.158</td>\n",
       "      <td>53</td>\n",
       "      <td>1</td>\n",
       "    </tr>\n",
       "    <tr>\n",
       "      <th>13</th>\n",
       "      <td>1</td>\n",
       "      <td>189</td>\n",
       "      <td>60</td>\n",
       "      <td>23</td>\n",
       "      <td>846</td>\n",
       "      <td>30.1</td>\n",
       "      <td>0.398</td>\n",
       "      <td>59</td>\n",
       "      <td>1</td>\n",
       "    </tr>\n",
       "    <tr>\n",
       "      <th>...</th>\n",
       "      <td>...</td>\n",
       "      <td>...</td>\n",
       "      <td>...</td>\n",
       "      <td>...</td>\n",
       "      <td>...</td>\n",
       "      <td>...</td>\n",
       "      <td>...</td>\n",
       "      <td>...</td>\n",
       "      <td>...</td>\n",
       "    </tr>\n",
       "    <tr>\n",
       "      <th>753</th>\n",
       "      <td>0</td>\n",
       "      <td>181</td>\n",
       "      <td>88</td>\n",
       "      <td>44</td>\n",
       "      <td>510</td>\n",
       "      <td>43.3</td>\n",
       "      <td>0.222</td>\n",
       "      <td>26</td>\n",
       "      <td>1</td>\n",
       "    </tr>\n",
       "    <tr>\n",
       "      <th>755</th>\n",
       "      <td>1</td>\n",
       "      <td>128</td>\n",
       "      <td>88</td>\n",
       "      <td>39</td>\n",
       "      <td>110</td>\n",
       "      <td>36.5</td>\n",
       "      <td>1.057</td>\n",
       "      <td>37</td>\n",
       "      <td>1</td>\n",
       "    </tr>\n",
       "    <tr>\n",
       "      <th>760</th>\n",
       "      <td>2</td>\n",
       "      <td>88</td>\n",
       "      <td>58</td>\n",
       "      <td>26</td>\n",
       "      <td>16</td>\n",
       "      <td>28.4</td>\n",
       "      <td>0.766</td>\n",
       "      <td>22</td>\n",
       "      <td>0</td>\n",
       "    </tr>\n",
       "    <tr>\n",
       "      <th>763</th>\n",
       "      <td>10</td>\n",
       "      <td>101</td>\n",
       "      <td>76</td>\n",
       "      <td>48</td>\n",
       "      <td>180</td>\n",
       "      <td>32.9</td>\n",
       "      <td>0.171</td>\n",
       "      <td>63</td>\n",
       "      <td>0</td>\n",
       "    </tr>\n",
       "    <tr>\n",
       "      <th>765</th>\n",
       "      <td>5</td>\n",
       "      <td>121</td>\n",
       "      <td>72</td>\n",
       "      <td>23</td>\n",
       "      <td>112</td>\n",
       "      <td>26.2</td>\n",
       "      <td>0.245</td>\n",
       "      <td>30</td>\n",
       "      <td>0</td>\n",
       "    </tr>\n",
       "  </tbody>\n",
       "</table>\n",
       "<p>394 rows × 9 columns</p>\n",
       "</div>"
      ],
      "text/plain": [
       "     Pregnancies  Glucose  BloodPressure  SkinThickness  Insulin   BMI  \\\n",
       "3              1       89             66             23       94  28.1   \n",
       "4              0      137             40             35      168  43.1   \n",
       "6              3       78             50             32       88  31.0   \n",
       "8              2      197             70             45      543  30.5   \n",
       "13             1      189             60             23      846  30.1   \n",
       "..           ...      ...            ...            ...      ...   ...   \n",
       "753            0      181             88             44      510  43.3   \n",
       "755            1      128             88             39      110  36.5   \n",
       "760            2       88             58             26       16  28.4   \n",
       "763           10      101             76             48      180  32.9   \n",
       "765            5      121             72             23      112  26.2   \n",
       "\n",
       "     DiabetesPedigreeFunction  Age  Outcome  \n",
       "3                       0.167   21        0  \n",
       "4                       2.288   33        1  \n",
       "6                       0.248   26        1  \n",
       "8                       0.158   53        1  \n",
       "13                      0.398   59        1  \n",
       "..                        ...  ...      ...  \n",
       "753                     0.222   26        1  \n",
       "755                     1.057   37        1  \n",
       "760                     0.766   22        0  \n",
       "763                     0.171   63        0  \n",
       "765                     0.245   30        0  \n",
       "\n",
       "[394 rows x 9 columns]"
      ]
     },
     "execution_count": 19,
     "metadata": {},
     "output_type": "execute_result"
    }
   ],
   "source": [
    "OInsul=diab[diab.Insulin > 0]\n",
    "OInsul"
   ]
  },
  {
   "cell_type": "markdown",
   "metadata": {},
   "source": [
    "Se procederá a buscar valores de 0 en las columnas de la nueva base de datos."
   ]
  },
  {
   "cell_type": "code",
   "execution_count": 20,
   "metadata": {},
   "outputs": [],
   "source": [
    "OInsul.to_csv('NoZeroInsul.csv')"
   ]
  },
  {
   "cell_type": "code",
   "execution_count": 21,
   "metadata": {},
   "outputs": [],
   "source": [
    "NOZero=pd.read_csv(\"NoZeroInsul.csv\")"
   ]
  },
  {
   "cell_type": "markdown",
   "metadata": {},
   "source": [
    "Los niveles de glusosa normal estando en ayunas, oscilan entre los 70 mg/dL   y 100 mg/dl. Lo que indica que un nivel de glucosa 0 mg/dl, no tendría una razón médica, por lo que se procede a eliminar filas con el valor de 0."
   ]
  },
  {
   "cell_type": "code",
   "execution_count": 22,
   "metadata": {},
   "outputs": [
    {
     "name": "stdout",
     "output_type": "stream",
     "text": [
      "1\n"
     ]
    }
   ],
   "source": [
    "print(np.count_nonzero(NOZero.Glucose== 0))"
   ]
  },
  {
   "cell_type": "markdown",
   "metadata": {},
   "source": [
    "La variable *SkinThickness* mide el grosor del pliegue de la piel, el cual está medido en mm.\n",
    "Para los adultos, los valores normales estándar para los pliegues cutáneos del tríceps son 25 mm (hombres) o aproximadamente un 20% de grasa; 18,0 mm (mujeres) o aproximadamente un 30% de grasa. Por lo tanto, concluimos que el valor de 0 no tendría significado."
   ]
  },
  {
   "cell_type": "code",
   "execution_count": 23,
   "metadata": {},
   "outputs": [
    {
     "name": "stdout",
     "output_type": "stream",
     "text": [
      "0\n"
     ]
    }
   ],
   "source": [
    "print(np.count_nonzero(NOZero.SkinThickness== 0))"
   ]
  },
  {
   "cell_type": "markdown",
   "metadata": {},
   "source": [
    "Dado que no existen valores con 0 en la variable *SkinThickness* no se eliminará ninguna fila"
   ]
  },
  {
   "cell_type": "markdown",
   "metadata": {},
   "source": [
    "La variable BMI, indica el índice de masa corporal, el cual se calcula de la siguiente manera:\n",
    "\n",
    "$A =$$\\frac{Peso(kg)}{Altura(m)^2}$\n",
    "\n",
    "Por lo cual, para que BMI sea 0, el numerador, es decir el peso de la persona debería ser 0, lo cual no tiene sentido, por lo que procedemos a eliminar filas con este valor.\n"
   ]
  },
  {
   "cell_type": "code",
   "execution_count": 24,
   "metadata": {},
   "outputs": [
    {
     "name": "stdout",
     "output_type": "stream",
     "text": [
      "1\n"
     ]
    }
   ],
   "source": [
    "print(np.count_nonzero(NOZero.BMI== 0))"
   ]
  },
  {
   "cell_type": "markdown",
   "metadata": {},
   "source": [
    "La variable *BloodPressure* indica la presión arterial diastólica, la cual en valores inferiores a 80mm Hg y mayores a 60 mm Hg se considera una presión arterial normal. Es importante destacar que  cambios grandes en la presión pueden provocar sangrado incontrolado, infecciones graves o reacciones alérgicas, por lo que concluimos que un valor de 0 no tendría razón médica aparente, ya que incluso valores bajos en la presión arteríal diastólica no llegan a ser 0.\n",
    "Procedemos a buscar si existen valores de 0 en dicha columna."
   ]
  },
  {
   "cell_type": "code",
   "execution_count": 25,
   "metadata": {},
   "outputs": [
    {
     "name": "stdout",
     "output_type": "stream",
     "text": [
      "0\n"
     ]
    }
   ],
   "source": [
    "print(np.count_nonzero(NOZero.BloodPressure== 0))"
   ]
  },
  {
   "cell_type": "markdown",
   "metadata": {},
   "source": [
    "Se filtrará la base de datos, para trabajar con aquéllos que son realmente significativos para la investigación."
   ]
  },
  {
   "cell_type": "code",
   "execution_count": 33,
   "metadata": {},
   "outputs": [
    {
     "ename": "NameError",
     "evalue": "name 'notnull' is not defined",
     "output_type": "error",
     "traceback": [
      "\u001b[1;31m---------------------------------------------------------------------------\u001b[0m",
      "\u001b[1;31mNameError\u001b[0m                                 Traceback (most recent call last)",
      "\u001b[1;32m<ipython-input-33-88eb2670c202>\u001b[0m in \u001b[0;36m<module>\u001b[1;34m\u001b[0m\n\u001b[1;32m----> 1\u001b[1;33m \u001b[0mNewDB\u001b[0m\u001b[1;33m=\u001b[0m\u001b[0mnotnull\u001b[0m\u001b[1;33m[\u001b[0m\u001b[1;33m(\u001b[0m\u001b[0mnotnull\u001b[0m\u001b[1;33m.\u001b[0m\u001b[0mBMI\u001b[0m \u001b[1;33m>\u001b[0m \u001b[1;36m0\u001b[0m\u001b[1;33m)\u001b[0m \u001b[1;33m&\u001b[0m \u001b[1;33m(\u001b[0m\u001b[0mnotnull\u001b[0m\u001b[1;33m.\u001b[0m\u001b[0mGlucose\u001b[0m \u001b[1;33m>\u001b[0m \u001b[1;36m0\u001b[0m\u001b[1;33m)\u001b[0m\u001b[1;33m]\u001b[0m\u001b[1;33m\u001b[0m\u001b[1;33m\u001b[0m\u001b[0m\n\u001b[0m\u001b[0;32m      2\u001b[0m \u001b[0mNewDB\u001b[0m\u001b[1;33m\u001b[0m\u001b[1;33m\u001b[0m\u001b[0m\n",
      "\u001b[1;31mNameError\u001b[0m: name 'notnull' is not defined"
     ]
    }
   ],
   "source": [
    "NewDB=NOnull[(NOnull.BMI > 0) & (NOnull.Glucose > 0)]\n",
    "NewDB"
   ]
  },
  {
   "cell_type": "markdown",
   "metadata": {},
   "source": [
    "Se procederá a guardar la nueva base de datos."
   ]
  },
  {
   "cell_type": "code",
   "execution_count": 34,
   "metadata": {},
   "outputs": [
    {
     "ename": "NameError",
     "evalue": "name 'NewDB' is not defined",
     "output_type": "error",
     "traceback": [
      "\u001b[1;31m---------------------------------------------------------------------------\u001b[0m",
      "\u001b[1;31mNameError\u001b[0m                                 Traceback (most recent call last)",
      "\u001b[1;32m<ipython-input-34-a1b3ef012605>\u001b[0m in \u001b[0;36m<module>\u001b[1;34m\u001b[0m\n\u001b[1;32m----> 1\u001b[1;33m \u001b[0mNewDB\u001b[0m\u001b[1;33m.\u001b[0m\u001b[0mto_csv\u001b[0m\u001b[1;33m(\u001b[0m\u001b[1;34m'NuevaDiabetesDB.csv'\u001b[0m\u001b[1;33m)\u001b[0m\u001b[1;33m\u001b[0m\u001b[1;33m\u001b[0m\u001b[0m\n\u001b[0m",
      "\u001b[1;31mNameError\u001b[0m: name 'NewDB' is not defined"
     ]
    }
   ],
   "source": [
    "NewDB.to_csv('NuevaDiabetesDB.csv')"
   ]
  },
  {
   "cell_type": "markdown",
   "metadata": {},
   "source": [
    "### Eliminar columnas no deseadas"
   ]
  },
  {
   "cell_type": "markdown",
   "metadata": {},
   "source": [
    "No se eliminará ninguna columna, ya que todas las variables son factores de riesgo asociados a la diabetes mellitus, por lo que podrían ser de gran ayuda para la elaboración del modelo predictivo."
   ]
  },
  {
   "cell_type": "markdown",
   "metadata": {},
   "source": [
    "### Preguntas de interés\n",
    "\n",
    "**Importancia del análisis previo de los datos antes de iniciar las modificaciones.**\n",
    "\n",
    "El análisis previo funciona para definir el problema que podemos plantear en base a los datos que recaudamos, los datos pueden estar dispersos y almacenados en formatos distintos; también pueden contener incoherencias como entradas que faltan o incorrectas y en estos casos nuestro modelo puede ser alterado de una manera que no sea favorable a nuestras predicciones o interpretaciones futuras.\n",
    "\n",
    "**¿Para qué me puede servir estas agrupaciones para la práctica siguiente?**\n",
    "\n",
    "El acotar los datos nos sirve para disminuir el número de variables de estudio, lo que hace más sencillo el análisis. Además, si tenemos como objetivo analizar un grupo en particular, este método sería de gran utilidad: Por ejemplo, sabemos que la edad es un factor de riesgo para la diabetes, por ende, si filtráramos los datos, nos enfocaríamos a un grupo de alto riesgo para esta enfermedad."
   ]
  },
  {
   "cell_type": "markdown",
   "metadata": {},
   "source": [
    "## Estadística básica"
   ]
  },
  {
   "cell_type": "markdown",
   "metadata": {},
   "source": [
    "Se procederá a trabajar con la nueva base de datos obtenida previamente, en donde se contemplarán únicamente los valores mayores a 0 en variables en donde no se tenga una razón médica aparente que justifique dicho valor, ya que en 2001, se demostró que 376 de 786 observaciones en el conjunto de datos de *Pima Indians Diabetes database* carecían de validez experimental, el valor de ceros se registró en lugar de observaciones experimentales faltantes. También se demostró que si se eliminaban  los valores con cero, los resultados podría mejorar drásticamente."
   ]
  },
  {
   "cell_type": "code",
   "execution_count": 35,
   "metadata": {},
   "outputs": [],
   "source": [
    "N1Diab=pd.read_csv(\"NuevaDiabetesDB.csv\")"
   ]
  },
  {
   "cell_type": "markdown",
   "metadata": {},
   "source": [
    "Dado que una de nuestras preguntas de interés es determinar  si la diabetes predomina en el grupo del pueblo Pima, procederemos a determinar la prevalencia,la cual tiene la siguiente definición:"
   ]
  },
  {
   "cell_type": "markdown",
   "metadata": {},
   "source": [
    ">*Es la proporción de individuos de una población que padecen una\n",
    "enfermedad en un momento o periodo de tiempo determinado.* \n",
    "\n",
    "**Su cálculo se estima mediante la expresión:** "
   ]
  },
  {
   "cell_type": "markdown",
   "metadata": {},
   "source": [
    "![image](https://2.bp.blogspot.com/--_59i4-Qqr8/V1kwY_VMevI/AAAAAAAAOIw/4hJY0juhN5YqJF4pen8Zg8S_wmrRdTHUwCLcB/s1600/formula%2Bprevalencia.png)"
   ]
  },
  {
   "cell_type": "markdown",
   "metadata": {},
   "source": [
    "Usando las funciones de .sum() y de .count(), determinaremos la prevalencia que hay de diabetes en **mujeres mayores a 21 años en el pueblo Pima en 1990** este indicador será expresado en porcentaje."
   ]
  },
  {
   "cell_type": "markdown",
   "metadata": {},
   "source": [
    "Como la variable **Outcome** indica si tiene diabetes o no, y además si se asigna el valor de 1 si se tiene el diagnóstico de diabetes, entonces, podemos deducir que la suma de los valores de la columna, nos mostrará cuantas mujeres tienen diabetes."
   ]
  },
  {
   "cell_type": "code",
   "execution_count": 187,
   "metadata": {},
   "outputs": [
    {
     "data": {
      "text/plain": [
       "130"
      ]
     },
     "execution_count": 187,
     "metadata": {},
     "output_type": "execute_result"
    }
   ],
   "source": [
    "numerador=N1Diab['Outcome'].sum()\n",
    "numerador"
   ]
  },
  {
   "cell_type": "code",
   "execution_count": 188,
   "metadata": {},
   "outputs": [
    {
     "data": {
      "text/plain": [
       "392"
      ]
     },
     "execution_count": 188,
     "metadata": {},
     "output_type": "execute_result"
    }
   ],
   "source": [
    "denominador=N1Diab['Outcome'].count()\n",
    "denominador "
   ]
  },
  {
   "cell_type": "code",
   "execution_count": 189,
   "metadata": {},
   "outputs": [
    {
     "data": {
      "text/plain": [
       "33.16326530612245"
      ]
     },
     "execution_count": 189,
     "metadata": {},
     "output_type": "execute_result"
    }
   ],
   "source": [
    "prevalencia=(numerador/denominador)*100\n",
    "prevalencia"
   ]
  },
  {
   "cell_type": "markdown",
   "metadata": {},
   "source": [
    "Para poder saber si la prevalencia es alta en el grupo de mujeres del pueblo Pima, compararemos la prevalencia con distintas partes del mundo.\n",
    "+ La prevalencia Nacional de México es del 10.7%\n",
    "   + La prevalencia en la frontera entre México y Estados Unidos es del 15%\n",
    "  + La prevalencia de diabetes en el mundo  es 8.5%\n",
    "  \n",
    "  \n",
    "Con estas comparativas, podemos observar que la prevalencia de diabetes en mujeres mayores de 21 años en 1990 en el pueblo Pima es alta, lo cual indica que gran parte de la población se ve afectada por la diabetes, especificamente, el 33.16% de las mujeres mayores a 21 años en el pueblo Pima, padece diabetes mellitus.  "
   ]
  },
  {
   "cell_type": "markdown",
   "metadata": {},
   "source": [
    "+ **Correlación**\n",
    "\n",
    "Uno de nuestros objetivos secundarios es establecer que tan correlacionadas están ciertas variables, así como lograr responder a la pregunta *¿Qué variables, que representan un factor de riesgo para la diabetes están altamente correlacionadas?* por lo que usaremos la función de .corr()"
   ]
  },
  {
   "cell_type": "code",
   "execution_count": 53,
   "metadata": {},
   "outputs": [
    {
     "data": {
      "text/html": [
       "<div>\n",
       "<style scoped>\n",
       "    .dataframe tbody tr th:only-of-type {\n",
       "        vertical-align: middle;\n",
       "    }\n",
       "\n",
       "    .dataframe tbody tr th {\n",
       "        vertical-align: top;\n",
       "    }\n",
       "\n",
       "    .dataframe thead th {\n",
       "        text-align: right;\n",
       "    }\n",
       "</style>\n",
       "<table border=\"1\" class=\"dataframe\">\n",
       "  <thead>\n",
       "    <tr style=\"text-align: right;\">\n",
       "      <th></th>\n",
       "      <th>Pregnancies</th>\n",
       "      <th>Glucose</th>\n",
       "      <th>BloodPressure</th>\n",
       "      <th>SkinThickness</th>\n",
       "      <th>Insulin</th>\n",
       "      <th>BMI</th>\n",
       "      <th>DiabetesPedigreeFunction</th>\n",
       "      <th>Age</th>\n",
       "      <th>Outcome</th>\n",
       "    </tr>\n",
       "  </thead>\n",
       "  <tbody>\n",
       "    <tr>\n",
       "      <th>Pregnancies</th>\n",
       "      <td>1.000000</td>\n",
       "      <td>0.198291</td>\n",
       "      <td>0.213355</td>\n",
       "      <td>0.093209</td>\n",
       "      <td>0.078984</td>\n",
       "      <td>-0.025347</td>\n",
       "      <td>0.007562</td>\n",
       "      <td>0.679608</td>\n",
       "      <td>0.256566</td>\n",
       "    </tr>\n",
       "    <tr>\n",
       "      <th>Glucose</th>\n",
       "      <td>0.198291</td>\n",
       "      <td>1.000000</td>\n",
       "      <td>0.210027</td>\n",
       "      <td>0.198856</td>\n",
       "      <td>0.581223</td>\n",
       "      <td>0.209516</td>\n",
       "      <td>0.140180</td>\n",
       "      <td>0.343641</td>\n",
       "      <td>0.515703</td>\n",
       "    </tr>\n",
       "    <tr>\n",
       "      <th>BloodPressure</th>\n",
       "      <td>0.213355</td>\n",
       "      <td>0.210027</td>\n",
       "      <td>1.000000</td>\n",
       "      <td>0.232571</td>\n",
       "      <td>0.098512</td>\n",
       "      <td>0.304403</td>\n",
       "      <td>-0.015971</td>\n",
       "      <td>0.300039</td>\n",
       "      <td>0.192673</td>\n",
       "    </tr>\n",
       "    <tr>\n",
       "      <th>SkinThickness</th>\n",
       "      <td>0.093209</td>\n",
       "      <td>0.198856</td>\n",
       "      <td>0.232571</td>\n",
       "      <td>1.000000</td>\n",
       "      <td>0.182199</td>\n",
       "      <td>0.664355</td>\n",
       "      <td>0.160499</td>\n",
       "      <td>0.167761</td>\n",
       "      <td>0.255936</td>\n",
       "    </tr>\n",
       "    <tr>\n",
       "      <th>Insulin</th>\n",
       "      <td>0.078984</td>\n",
       "      <td>0.581223</td>\n",
       "      <td>0.098512</td>\n",
       "      <td>0.182199</td>\n",
       "      <td>1.000000</td>\n",
       "      <td>0.226397</td>\n",
       "      <td>0.135906</td>\n",
       "      <td>0.217082</td>\n",
       "      <td>0.301429</td>\n",
       "    </tr>\n",
       "    <tr>\n",
       "      <th>BMI</th>\n",
       "      <td>-0.025347</td>\n",
       "      <td>0.209516</td>\n",
       "      <td>0.304403</td>\n",
       "      <td>0.664355</td>\n",
       "      <td>0.226397</td>\n",
       "      <td>1.000000</td>\n",
       "      <td>0.158771</td>\n",
       "      <td>0.069814</td>\n",
       "      <td>0.270118</td>\n",
       "    </tr>\n",
       "    <tr>\n",
       "      <th>DiabetesPedigreeFunction</th>\n",
       "      <td>0.007562</td>\n",
       "      <td>0.140180</td>\n",
       "      <td>-0.015971</td>\n",
       "      <td>0.160499</td>\n",
       "      <td>0.135906</td>\n",
       "      <td>0.158771</td>\n",
       "      <td>1.000000</td>\n",
       "      <td>0.085029</td>\n",
       "      <td>0.209330</td>\n",
       "    </tr>\n",
       "    <tr>\n",
       "      <th>Age</th>\n",
       "      <td>0.679608</td>\n",
       "      <td>0.343641</td>\n",
       "      <td>0.300039</td>\n",
       "      <td>0.167761</td>\n",
       "      <td>0.217082</td>\n",
       "      <td>0.069814</td>\n",
       "      <td>0.085029</td>\n",
       "      <td>1.000000</td>\n",
       "      <td>0.350804</td>\n",
       "    </tr>\n",
       "    <tr>\n",
       "      <th>Outcome</th>\n",
       "      <td>0.256566</td>\n",
       "      <td>0.515703</td>\n",
       "      <td>0.192673</td>\n",
       "      <td>0.255936</td>\n",
       "      <td>0.301429</td>\n",
       "      <td>0.270118</td>\n",
       "      <td>0.209330</td>\n",
       "      <td>0.350804</td>\n",
       "      <td>1.000000</td>\n",
       "    </tr>\n",
       "  </tbody>\n",
       "</table>\n",
       "</div>"
      ],
      "text/plain": [
       "                          Pregnancies   Glucose  BloodPressure  SkinThickness  \\\n",
       "Pregnancies                  1.000000  0.198291       0.213355       0.093209   \n",
       "Glucose                      0.198291  1.000000       0.210027       0.198856   \n",
       "BloodPressure                0.213355  0.210027       1.000000       0.232571   \n",
       "SkinThickness                0.093209  0.198856       0.232571       1.000000   \n",
       "Insulin                      0.078984  0.581223       0.098512       0.182199   \n",
       "BMI                         -0.025347  0.209516       0.304403       0.664355   \n",
       "DiabetesPedigreeFunction     0.007562  0.140180      -0.015971       0.160499   \n",
       "Age                          0.679608  0.343641       0.300039       0.167761   \n",
       "Outcome                      0.256566  0.515703       0.192673       0.255936   \n",
       "\n",
       "                           Insulin       BMI  DiabetesPedigreeFunction  \\\n",
       "Pregnancies               0.078984 -0.025347                  0.007562   \n",
       "Glucose                   0.581223  0.209516                  0.140180   \n",
       "BloodPressure             0.098512  0.304403                 -0.015971   \n",
       "SkinThickness             0.182199  0.664355                  0.160499   \n",
       "Insulin                   1.000000  0.226397                  0.135906   \n",
       "BMI                       0.226397  1.000000                  0.158771   \n",
       "DiabetesPedigreeFunction  0.135906  0.158771                  1.000000   \n",
       "Age                       0.217082  0.069814                  0.085029   \n",
       "Outcome                   0.301429  0.270118                  0.209330   \n",
       "\n",
       "                               Age   Outcome  \n",
       "Pregnancies               0.679608  0.256566  \n",
       "Glucose                   0.343641  0.515703  \n",
       "BloodPressure             0.300039  0.192673  \n",
       "SkinThickness             0.167761  0.255936  \n",
       "Insulin                   0.217082  0.301429  \n",
       "BMI                       0.069814  0.270118  \n",
       "DiabetesPedigreeFunction  0.085029  0.209330  \n",
       "Age                       1.000000  0.350804  \n",
       "Outcome                   0.350804  1.000000  "
      ]
     },
     "execution_count": 53,
     "metadata": {},
     "output_type": "execute_result"
    }
   ],
   "source": [
    "N1Diab.corr()"
   ]
  },
  {
   "cell_type": "markdown",
   "metadata": {},
   "source": [
    "Podemos observar que los niveles de glucosa, la edad y la insulina tienen una correlación significativa con la variable de resultado(Outcome), por lo que inferimos que estas variables son relevantes para construir nuestro modelo.\n",
    "\n",
    "En adición, también podemos concluir que la correlación entre pares de características, como la edad y los embarazos, o la insulina y la Glucosa, así como el grosor del pliegue de la piel y el índice de masa corporal muestran una correlación significativa."
   ]
  },
  {
   "cell_type": "markdown",
   "metadata": {},
   "source": [
    "### Estadística descriptiva\n",
    "Utilizaremos las medidas de tendencia central para responder una de nuestras preguntas de interés, la cual es ¿ Si la diabetes predomina en el grupo del pueblo Pima ?. Dichas medidas son de suma utilidad ya que nos proporcionan información sobre el centro de la distribución de la muestra, lo que nos permitiría tener una noción sobre la salud entorno al padecimiento de diabetes mellitus en las mujeres pertenecientes al pueblo Pima."
   ]
  },
  {
   "cell_type": "markdown",
   "metadata": {},
   "source": [
    ">Como la función .mean() y .median() proporcionan la media y la mediana respectivamente, las cuales se pueden obtener con la función .describe(), en donde \"50%\" indica el percentil 50, el cual es igual a la mediana, por lo que es suficiente utilizar dicha función."
   ]
  },
  {
   "cell_type": "markdown",
   "metadata": {},
   "source": [
    "Para analizar las medidas de tendencia central, analizaremos las variables que están asociadas al riesgo de tener diabetes mellitus tipo 2.\n",
    "### Factores de riesgo\n",
    "El riesgo de tener diabetes tipo 2 generalmente se incrementa con:\n",
    "+ Mayor edad.\n",
    "+ Nivel de actividad física bajo.\n",
    "+ Obesidad o sobrepeso.\n",
    "+ Antecedentes familiares de diabetes en parientes cercanos.\n",
    "+ Tener ascendientes africanos, asiáticos, nativos americanos, latinos o de las islas del Pacífico.\n",
    "+ Alta presión sanguínea.\n",
    "+ Altos niveles de grasas en sangre, conocidos como triglicéridos, unidos a bajos niveles de lipoproteínas de alta densidad, conocidas como HDL, en la corriente sanguínea.\n",
    "+ Diagnóstico anterior de pre diabetes tal como intolerancia a la glucosa o azúcar elevada en sangre.\n",
    "+ En las mujeres, antecedentes de dar a luz bebés grandes (más de 9 lbs) y / o diabetes durante el embarazo."
   ]
  },
  {
   "cell_type": "markdown",
   "metadata": {},
   "source": [
    "## Glucosa "
   ]
  },
  {
   "cell_type": "code",
   "execution_count": 158,
   "metadata": {},
   "outputs": [
    {
     "data": {
      "text/plain": [
       "count    392.000000\n",
       "mean     122.627551\n",
       "std       30.860781\n",
       "min       56.000000\n",
       "25%       99.000000\n",
       "50%      119.000000\n",
       "75%      143.000000\n",
       "max      198.000000\n",
       "Name: Glucose, dtype: float64"
      ]
     },
     "execution_count": 158,
     "metadata": {},
     "output_type": "execute_result"
    }
   ],
   "source": [
    "N1Diab['Glucose'].describe()"
   ]
  },
  {
   "cell_type": "code",
   "execution_count": 159,
   "metadata": {},
   "outputs": [
    {
     "data": {
      "text/plain": [
       "952.3877811994357"
      ]
     },
     "execution_count": 159,
     "metadata": {},
     "output_type": "execute_result"
    }
   ],
   "source": [
    "N1Diab['Glucose'].var()"
   ]
  },
  {
   "cell_type": "code",
   "execution_count": 160,
   "metadata": {},
   "outputs": [
    {
     "data": {
      "text/plain": [
       "142"
      ]
     },
     "execution_count": 160,
     "metadata": {},
     "output_type": "execute_result"
    }
   ],
   "source": [
    "RangoG=N1Diab['Glucose'].max()-N1Diab['Glucose'].min()\n",
    "RangoG"
   ]
  },
  {
   "cell_type": "markdown",
   "metadata": {},
   "source": [
    "### Interpretación:\n",
    "**Medidas de tendencia central**\n",
    "\n",
    "***Media***\n",
    "+ En el año del 1990,  el promedio del nivel de glucosa de las mujeres mayores a 21 años en el pueblo Pima es de 122.61 mg/dl.\n",
    "  > Según la Asociación Estadounidense de Diabetes establece que un nivel de Glucosa entre 100 y 125 mg/dL se considera prediabetes, por lo cual vemos que esta medida de tendencia central refleja que predomina un riesgo alto en mujeres del pueblo Pima a tener diabetes.\n",
    "  \n",
    "***Mediana***\n",
    "+ El 50% de las mujeres mayores a 21 años en el pueblo Pima en 1990 tiene un nivel de glucosa menor o igual a 119.\n",
    "\n",
    "**Medidas de dispersión**\n",
    "\n",
    "***Varianza***\n",
    "+ La desviación del nivel de glucosa de las mujeres mayores a 21 años en el pueblo Pima con respecto a la media es de 950.01 mg²/dL².\n",
    "\n",
    "***Desviación estándar***\n",
    "+ La desviación del nivel de glucosa de las mujeres mayores a 21 años en el pueblo Pima con respecto a la media es de 30.82 mg/dL. \n",
    "\n",
    "***Rango***\n",
    "+ Dado que el rango del nivel de glucosa de las mujeres mayores a 21 años en el pueblo Pima es 142mg/dL, podemos concluir que su grado de dispersión es alto.\n",
    "\n",
    ">En adición, el nivel **máximo** de glucosa registrado es de 198 md/dL, en cambio el nivel **mínimo** de glucosa registrado fue de 56 md/dL en mujeres mayores a 21 años, pertenecientes a la población de Pima en 1990."
   ]
  },
  {
   "cell_type": "markdown",
   "metadata": {},
   "source": [
    "## Presión arterial diastólica"
   ]
  },
  {
   "cell_type": "code",
   "execution_count": 161,
   "metadata": {},
   "outputs": [
    {
     "data": {
      "text/plain": [
       "count    392.000000\n",
       "mean      70.663265\n",
       "std       12.496092\n",
       "min       24.000000\n",
       "25%       62.000000\n",
       "50%       70.000000\n",
       "75%       78.000000\n",
       "max      110.000000\n",
       "Name: BloodPressure, dtype: float64"
      ]
     },
     "execution_count": 161,
     "metadata": {},
     "output_type": "execute_result"
    }
   ],
   "source": [
    "N1Diab['BloodPressure'].describe()"
   ]
  },
  {
   "cell_type": "code",
   "execution_count": 162,
   "metadata": {},
   "outputs": [
    {
     "data": {
      "text/plain": [
       "156.15230440002108"
      ]
     },
     "execution_count": 162,
     "metadata": {},
     "output_type": "execute_result"
    }
   ],
   "source": [
    "N1Diab['BloodPressure'].var()"
   ]
  },
  {
   "cell_type": "code",
   "execution_count": 163,
   "metadata": {},
   "outputs": [
    {
     "data": {
      "text/plain": [
       "86"
      ]
     },
     "execution_count": 163,
     "metadata": {},
     "output_type": "execute_result"
    }
   ],
   "source": [
    "RangoB=N1Diab['BloodPressure'].max()-N1Diab['BloodPressure'].min()\n",
    "RangoB"
   ]
  },
  {
   "cell_type": "markdown",
   "metadata": {},
   "source": [
    "### Interpretación:\n",
    "**Medidas de tendencia central**\n",
    "\n",
    "***Media***\n",
    "+ En el año del 1990, el promedio de presión arterial diastólica en las mujeres mayores a 21 años en el pueblo Pima es de 70.64 mmHg\n",
    "  > Según *American Heart association* un valor inferior en la presión diastólica menor a 80mmHg, se considera una presión arterial normal. Por lo que concluimos que el promedio de presión arterial diastólica en las mujeres mayores a 21 años en el pueblo Pima está en un rango normal\n",
    "  \n",
    "***Mediana***\n",
    "+ El 50% de las mujeres mayores a 21 años en el pueblo Pima en 1990 tiene una presión arterial diastólica menor o igual a 70mmHg.\n",
    "\n",
    "**Medidas de dispersión**\n",
    "\n",
    "***Varianza***\n",
    "+ La desviación de la presión arterial diastólica de las mujeres mayores a 21 años en el pueblo Pima con respecto a la media es de 155.86 (mmHg)².\n",
    "\n",
    "***Desviación estándar***\n",
    "+ La desviación de la presión arterial diastólica de las mujeres mayores a 21 años en el pueblo Pima con respecto a la media es de 12.48 mmHg.\n",
    "\n",
    "***Rango***\n",
    "+ Dado que el rango de la presión arterial diastólica de las mujeres mayores a 21 años en el pueblo Pima es 86mmHg, podemos concluir que su grado de dispersión es alto.\n",
    "\n",
    ">En adición, el nivel **máximo** de la presión arterial diastólica registrado es de 110mmHg, en cambio el nivel **mínimo** de presión diastólica registrado fue de 24mmHg en mujeres mayores a 21 años, pertenecientes a la población de Pima en 1990.\n"
   ]
  },
  {
   "cell_type": "markdown",
   "metadata": {},
   "source": [
    "## Insulina sérica"
   ]
  },
  {
   "cell_type": "code",
   "execution_count": 164,
   "metadata": {},
   "outputs": [
    {
     "data": {
      "text/plain": [
       "count    392.000000\n",
       "mean     156.056122\n",
       "std      118.841690\n",
       "min       14.000000\n",
       "25%       76.750000\n",
       "50%      125.500000\n",
       "75%      190.000000\n",
       "max      846.000000\n",
       "Name: Insulin, dtype: float64"
      ]
     },
     "execution_count": 164,
     "metadata": {},
     "output_type": "execute_result"
    }
   ],
   "source": [
    "N1Diab['Insulin'].describe()"
   ]
  },
  {
   "cell_type": "code",
   "execution_count": 165,
   "metadata": {},
   "outputs": [
    {
     "data": {
      "text/plain": [
       "14123.347225846872"
      ]
     },
     "execution_count": 165,
     "metadata": {},
     "output_type": "execute_result"
    }
   ],
   "source": [
    "N1Diab['Insulin'].var()"
   ]
  },
  {
   "cell_type": "code",
   "execution_count": 166,
   "metadata": {},
   "outputs": [
    {
     "data": {
      "text/plain": [
       "832"
      ]
     },
     "execution_count": 166,
     "metadata": {},
     "output_type": "execute_result"
    }
   ],
   "source": [
    "RangoI=N1Diab['Insulin'].max()-N1Diab['Insulin'].min()\n",
    "RangoI"
   ]
  },
  {
   "cell_type": "markdown",
   "metadata": {},
   "source": [
    "### Interpretación:\n",
    "**Medidas de tendencia central**\n",
    "\n",
    "***Media***\n",
    "+ En el año del 1990, el promedio del nivel de insulina sérica de 2 horas en las mujeres mayores a 21 años en el pueblo Pima es de 155.88 µU/mL\n",
    "  > Según *Vázquez CC, Salinas OS, Gómez DRA, et al* un valor máximo aceptado para los niveles de insulina sérica con un IMC<24 y sensibilidad normal a la insulina(RGI>6) de dos horas es de  76.97 µU/mL. Por lo que concluimos que el nivel de insulina sérica que presentan las mujeres mayores a 21 años en el pueblo Pima está fuera del rango normal.\n",
    "  \n",
    "***Mediana***\n",
    "+ El 50% de las mujeres mayores a 21 años en el pueblo Pima en 1990 tiene un nivel de insulina sérica menor o igual a 125 µU/mL\n",
    "\n",
    "**Medidas de dispersión**\n",
    "\n",
    "***Varianza***\n",
    "+ La desviación del nivel de insulina sérica de 2 horas en las mujeres mayores a 21 años en el pueblo Pima con respecto a la media es de 14123.34 (µU/mL)².\n",
    "\n",
    "***Desviación estándar***\n",
    "+ La desviación del nivel de insulina sérica de 2 horas en mujeres mayores a 21 años en el pueblo Pima con respecto a la media es de 118.73 µU/mL\n",
    "\n",
    "***Rango***\n",
    "+ Dado que el rango del nivel de insulina sérica de 2 horas en las mujeres mayores a 21 años en el pueblo Pima es 832 µU/mL, podemos concluir que su grado de dispersión es alto.\n",
    "\n",
    ">En adición, el nivel **máximo** del nivel de insulina sérica de 2 horas registrado es de 846µU/mL en cambio el nivel **mínimo** registrado fue de 14 µU/mL en mujeres mayores a 21 años, pertenecientes a la población de Pima en 1990.\n"
   ]
  },
  {
   "cell_type": "markdown",
   "metadata": {},
   "source": [
    "## Índice de masa corporal"
   ]
  },
  {
   "cell_type": "code",
   "execution_count": 167,
   "metadata": {},
   "outputs": [
    {
     "data": {
      "text/plain": [
       "count    392.000000\n",
       "mean      33.086224\n",
       "std        7.027659\n",
       "min       18.200000\n",
       "25%       28.400000\n",
       "50%       33.200000\n",
       "75%       37.100000\n",
       "max       67.100000\n",
       "Name: BMI, dtype: float64"
      ]
     },
     "execution_count": 167,
     "metadata": {},
     "output_type": "execute_result"
    }
   ],
   "source": [
    "N1Diab['BMI'].describe()"
   ]
  },
  {
   "cell_type": "code",
   "execution_count": 168,
   "metadata": {},
   "outputs": [
    {
     "data": {
      "text/plain": [
       "49.38799389320946"
      ]
     },
     "execution_count": 168,
     "metadata": {},
     "output_type": "execute_result"
    }
   ],
   "source": [
    "N1Diab['BMI'].var()"
   ]
  },
  {
   "cell_type": "code",
   "execution_count": 170,
   "metadata": {},
   "outputs": [
    {
     "data": {
      "text/plain": [
       "48.89999999999999"
      ]
     },
     "execution_count": 170,
     "metadata": {},
     "output_type": "execute_result"
    }
   ],
   "source": [
    "RangoB=N1Diab['BMI'].max()-N1Diab['BMI'].min()\n",
    "RangoB"
   ]
  },
  {
   "cell_type": "markdown",
   "metadata": {},
   "source": [
    "### Interpretación:\n",
    "**Medidas de tendencia central**\n",
    "\n",
    "***Media***\n",
    "+ En el año del 1990, el promedio del índice de masa corporal en las mujeres mayores a 21 años en el pueblo Pima es de 33 kg/m²\n",
    "![imageBMI](http://doctordaguerobesidad.com/images/modulos/Tabla-de-clasificacion-de-la-obesidad-barranquilla.png)\n",
    "\n",
    "  > Según *Organización mundial de la Salud* un intervalo normal para el índice de masa corporal es de 18.5 a 24.9, además que se considera obesidad de grado I  con un IMC de 30 a 34.9. Basándonos en el índice de masa corporal, concluimos que las mujeres mayores a 21 años del pueblo Pima se encuentran con obesidad grado I.\n",
    "  \n",
    "***Mediana***\n",
    "+ El 50% de las mujeres mayores a 21 años en el pueblo Pima en 1990 tiene un índice de masa corporal menor o igual a 33.20 kg/m²\n",
    "\n",
    "**Medidas de dispersión**\n",
    "\n",
    "***Varianza***\n",
    "+ La desviación del índice de masa corporal en las mujeres mayores a 21 años en el pueblo Pima  con respecto a la media es de 49.38 (kg/m²)².\n",
    "\n",
    "***Desviación estándar***\n",
    "+ La desviación del índice de masa corporal en las mujeres mayores a 21 años en el pueblo Pima con respecto a la media es de 7.02 kg/m²\n",
    "\n",
    "***Rango***\n",
    "+ Dado que el rango del índice de masa corporal en las mujeres mayores a 21 años en el pueblo Pima es 48.89 kg/m², podemos concluir que su grado de dispersión es alto.\n",
    "\n",
    ">En adición, el nivel **máximo** del índice de masa corporal registrado es de 67.10 kg/m²,  en cambio el nivel **mínimo** registrado fue de 18.20 kg/m²en mujeres mayores a 21 años, pertenecientes a la población de Pima en el año de 1990.\n"
   ]
  },
  {
   "cell_type": "code",
   "execution_count": 78,
   "metadata": {},
   "outputs": [
    {
     "data": {
      "text/plain": [
       "count    393.000000\n",
       "mean       0.526120\n",
       "std        0.350386\n",
       "min        0.085000\n",
       "25%        0.270000\n",
       "50%        0.452000\n",
       "75%        0.687000\n",
       "max        2.420000\n",
       "Name: DiabetesPedigreeFunction, dtype: float64"
      ]
     },
     "execution_count": 78,
     "metadata": {},
     "output_type": "execute_result"
    }
   ],
   "source": [
    "N1Diab['DiabetesPedigreeFunction'].describe()"
   ]
  },
  {
   "cell_type": "code",
   "execution_count": 176,
   "metadata": {},
   "outputs": [
    {
     "data": {
      "text/plain": [
       "1.9591011676798944"
      ]
     },
     "execution_count": 176,
     "metadata": {},
     "output_type": "execute_result"
    }
   ],
   "source": [
    "N1Diab['DiabetesPedigreeFunction'].skew()"
   ]
  },
  {
   "cell_type": "code",
   "execution_count": 173,
   "metadata": {},
   "outputs": [
    {
     "data": {
      "text/plain": [
       "2.335"
      ]
     },
     "execution_count": 173,
     "metadata": {},
     "output_type": "execute_result"
    }
   ],
   "source": [
    "RangoD=N1Diab['DiabetesPedigreeFunction'].max()-N1Diab['DiabetesPedigreeFunction'].min()\n",
    "RangoD"
   ]
  },
  {
   "cell_type": "markdown",
   "metadata": {},
   "source": [
    "### Interpretación:\n",
    "**Medidas de tendencia central**\n",
    "\n",
    "***Media***\n",
    "+ En el año del 1990, el promedio de la función de pedigrí, en las mujeres mayores a 21 años en el pueblo Pima es de 0.5261\n",
    "  > La función de pedigrí proporciona una medida de la influencia genética esperada de los familiares afectados y no afectados sobre el eventual riesgo de diabetes del sujeto.\n",
    "\n",
    "  \n",
    "***Mediana***\n",
    "+ El 50% de las mujeres mayores a 21 años en el pueblo Pima en 1990 tiene un valor de la función de pedigrí menor o igual a 0.4520\n",
    "\n",
    "**Medidas de dispersión**\n",
    "Como la función de pedigrí proporciona un valor adimensional, sólo se interpretará la desviación estándar.\n",
    "\n",
    "***Desviación estándar***\n",
    "+ La desviación del valor de la función de pedigrí en las mujeres mayores a 21 años en el pueblo Pima  con respecto a la media es de 0.3503.\n",
    "\n",
    "***Rango***\n",
    "+ Dado que el rango de la función de pedigrí en las mujeres mayores a 21 años en el pueblo Pima es 2.335, podemos concluir que su grado de dispersión es alto, esto por el rango de los valores en la función.\n",
    "\n",
    ">En adición, el nivel **máximo** de la función de pedigrí  es de 2.42  en cambio el nivel **mínimo** registrado fue de 0.085 en mujeres mayores a 21 años, pertenecientes a la población de Pima en el año de 1990.\n"
   ]
  },
  {
   "cell_type": "markdown",
   "metadata": {},
   "source": [
    "### Gráficas"
   ]
  },
  {
   "cell_type": "markdown",
   "metadata": {},
   "source": [
    "+ **Histograma** "
   ]
  },
  {
   "cell_type": "markdown",
   "metadata": {},
   "source": [
    "Uno de nuestros objetivos secundarios es visualizar la distribución de los datos, por lo que usaremos los histogramas para cumplir dicho objetivo."
   ]
  },
  {
   "cell_type": "code",
   "execution_count": 210,
   "metadata": {},
   "outputs": [
    {
     "data": {
      "text/plain": [
       "array([[<AxesSubplot:title={'center':'Pregnancies'}>,\n",
       "        <AxesSubplot:title={'center':'Glucose'}>,\n",
       "        <AxesSubplot:title={'center':'BloodPressure'}>],\n",
       "       [<AxesSubplot:title={'center':'SkinThickness'}>,\n",
       "        <AxesSubplot:title={'center':'Insulin'}>,\n",
       "        <AxesSubplot:title={'center':'BMI'}>],\n",
       "       [<AxesSubplot:title={'center':'DiabetesPedigreeFunction'}>,\n",
       "        <AxesSubplot:title={'center':'Age'}>,\n",
       "        <AxesSubplot:title={'center':'Outcome'}>]], dtype=object)"
      ]
     },
     "execution_count": 210,
     "metadata": {},
     "output_type": "execute_result"
    },
    {
     "data": {
      "image/png": "[encoded data removed]",
      "text/plain": [
       "<Figure size 1440x1152 with 9 Axes>"
      ]
     },
     "metadata": {},
     "output_type": "display_data"
    }
   ],
   "source": [
    "N1Diab.hist(figsize=(20, 16),color='lightblue')"
   ]
  },
  {
   "cell_type": "markdown",
   "metadata": {},
   "source": [
    "+ El histograma de la frecuencia absoluta de la variable *Pregnacies*, muestra que la mayoria de mujeres mayor a 21 años en el pueblo Pima en 1990 tiene 1 o 2 hijos.\n",
    "+ El histograma de la variable *Glucose*, muestra que el intervalo de clase de con mayor frecuencia absoluta de mujeres mayor de 21 años en el pueblo Pima en 1990 tiene 100-120  mg/dl en la concentración de glucosa en plasma a 2 horas.\n",
    "+ El histograma de la variable *BloodPressure* , muestra que el intervalo de clase con mayor frecuencia absoluta de mujeres mayor de 21 años en el pueblo Pima en 1990 tiene una presión arterial diastólica de 70-80 mmHg.\n",
    "+ El histograma de la variable *SkinThickness* , muestra que el intervalo con mayor frecuencia absoluta de mujeres mayor de 21 años en el pueblo Pima en 1990 tiene un grosor del pliegue de la piel de 25-30 mmHg.\n",
    "+ El histograma de la variable *Insulin* , muestra que los intervalos de mayor frecuencia absoluta de mujeres mayor de 21 años en el pueblo Pima en 1990 tienen un nivel de insulina sérica 100-200µU/mL\n",
    "+ El histograma de la variable *BMI* , muestra que el intervalo de mayor frecuencia absoluta de mujeres mayor de 21 años en el pueblo Pima en 1990 tiene un índice de masa corporal entre 30-40  kg/m².\n",
    "+ El histograma de la variable *DiabetesPedigreeFunction* , muestra que los intervalos de mayor frecuencia absoluta de mujeres mayor de 21 años en el pueblo Pima en 1990 tiene una función de pedigrí que oscila entre 0.08-0.5.\n",
    "+ El histograma de la variable *DiabetesPedigreeFunction* , muestra que el intervalo de mayor frecuencia absoluta de mujeres mayor de 21 años en el pueblo Pima en 1990 tiene una función de pedigrí que oscila entre 0.08-0.5.\n",
    "+ El histograma de la variable *Age* , muestra que el intervalo de mayor frecuencia absoluta de mujeres originarias del pueblo Pima  mayores a 21 años en 1990 oscila entre 21-30 años\n"
   ]
  },
  {
   "cell_type": "markdown",
   "metadata": {},
   "source": [
    "+ **Mapa de calor**"
   ]
  },
  {
   "cell_type": "markdown",
   "metadata": {},
   "source": [
    "Uno de nuestros objetivos secundarios es establacer que tan correlacionadas están ciertas variables, así como lograr responder a la pregunta ¿Qué variables, que representan un factor de riesgo para la diabetes están altamente correlacionadas?, por lo que usaremos un mapa de calor para poder visualizar de manera más sencilla la correlación entre dos variables."
   ]
  },
  {
   "cell_type": "code",
   "execution_count": 9,
   "metadata": {},
   "outputs": [
    {
     "data": {
      "image/png": "[encoded data removed]",
      "text/plain": [
       "<Figure size 720x432 with 2 Axes>"
      ]
     },
     "metadata": {
      "needs_background": "light"
     },
     "output_type": "display_data"
    }
   ],
   "source": [
    "import matplotlib.pyplot as plt\n",
    "import seaborn as sns\n",
    "plt.figure(figsize=(10,6))\n",
    "sns.heatmap(N1Diab.corr(),annot=True)\n",
    "plt.title('Mapa de correlación')\n",
    "plt.savefig('graph.png')\n",
    "plt.show()"
   ]
  },
  {
   "cell_type": "markdown",
   "metadata": {},
   "source": [
    "El mapa de calor muestra que los niveles de glucosa, la edad y la insulina tienen una correlación significativa con la variable de resultado(Outcome), por lo que inferimos que estás variables son relevantes para construir nuestro modelo.\n",
    "\n",
    "En adición, también podemos concluir que la correlación entre pares de características, como la edad y los embarazos, o la insulina y la Glucosa, así como el grosor del pliegue de la piel y el índice de masa corporal muestran una correlación significativa."
   ]
  },
  {
   "cell_type": "markdown",
   "metadata": {},
   "source": [
    "+ **Gráfico de pastel**\n",
    "\n",
    "Dado que una de nuestras preguntas de interés es determinar si la diabetes predomina en el grupo del pueblo Pima, procederemos a visualizar mediante un gráfico de pastel la distribución de personas diabéticas."
   ]
  },
  {
   "cell_type": "code",
   "execution_count": 148,
   "metadata": {},
   "outputs": [
    {
     "data": {
      "image/png": "[encoded data removed]",
      "text/plain": [
       "<Figure size 504x504 with 1 Axes>"
      ]
     },
     "metadata": {},
     "output_type": "display_data"
    }
   ],
   "source": [
    "sns.set(style=\"whitegrid\")\n",
    "labels = ['NO diabética', 'Diabética']\n",
    "sizes = N1Diab['Outcome'].value_counts(sort = True)\n",
    "explode = (0.05,0) \n",
    " \n",
    "plt.figure(figsize=(7,7))\n",
    "plt.pie(sizes, explode=explode, labels=labels, colors=[\"pink\",\"orange\"], autopct='%1.1f%%', shadow=True, startangle=90,)\n",
    "\n",
    "plt.title('Distribución de mujeres diabéticas y no diabéticas del pueblo Pima')\n",
    "plt.show()\n"
   ]
  },
  {
   "cell_type": "markdown",
   "metadata": {},
   "source": [
    "+ La gráfica nos muestra que el 66.8% de las mujeres mayores a 21 años, en el pueblo Pima NO tiene diabetes, en cambio el 33.2% si padece diabetes, esto para el año de 1990.\n",
    "+ La gráfica de pastel confirma el valor de la prevalencia obtenida previamente.\n",
    "+ Como se menciono previamente, este porcentaje de mujeres mayores a 21 años es bastante alto comparandolo a nivel mundial en donde unicamente es el 8.5%, por lo que concluimos que las mujeres del Pueblo Pima, tienden a padecer diabetes. "
   ]
  },
  {
   "cell_type": "markdown",
   "metadata": {},
   "source": [
    "+ **Pairplot**"
   ]
  },
  {
   "cell_type": "markdown",
   "metadata": {},
   "source": [
    "Usando el mapa de calor, nos percatamos que el nivel de glucosa, la edad y la insulina tienen una correlación significativa con la variable de resultado(Outcome), por lo que procederemos a visualizar dichas variables en un scatter plot, para ver el grado de correlación de una manera gráfica. "
   ]
  },
  {
   "cell_type": "code",
   "execution_count": 51,
   "metadata": {},
   "outputs": [
    {
     "data": {
      "text/plain": [
       "<seaborn.axisgrid.PairGrid at 0x1820648a100>"
      ]
     },
     "execution_count": 51,
     "metadata": {},
     "output_type": "execute_result"
    },
    {
     "data": {
      "image/png": "[encoded data removed]",
      "text/plain": [
       "<Figure size 648x648 with 12 Axes>"
      ]
     },
     "metadata": {
      "needs_background": "light"
     },
     "output_type": "display_data"
    }
   ],
   "source": [
    "sns.pairplot(data=N1Diab[['Insulin' ,'Age','Glucose']], height=3)"
   ]
  },
  {
   "cell_type": "markdown",
   "metadata": {},
   "source": [
    "+ Podemos visualizar que la variable Glucose está significativamente correlacionada con la variable Insulin, y con una correlación baja con la variable edad.\n",
    "\n",
    "+ Por otro lado, la edad, está pobrementa relacionada con la variable Glucosa e insulina.\n",
    "\n",
    "+ El nivel de insulina sérica, denotado por la variable Insulin tiene una correlación significativa con la variable Glucose y una correlación baja con la variable edad."
   ]
  },
  {
   "cell_type": "markdown",
   "metadata": {},
   "source": [
    "+ **Jointplot**\n",
    "\n",
    "Uno de nuestros objetivos es visualizar la distribución de los datos, por lo que usaremos este tipo de gráfico para poder visualizar en qué puntos se concentra la información.\n",
    "    En este caso, sólo visualizaremos la Glucosa con la insulina, y la Glucosa con la edad ya que son las variables que se ven más altamente correlacionadas con la variable resultado."
   ]
  },
  {
   "cell_type": "code",
   "execution_count": 52,
   "metadata": {},
   "outputs": [
    {
     "data": {
      "text/plain": [
       "<seaborn.axisgrid.JointGrid at 0x18207ee4610>"
      ]
     },
     "execution_count": 52,
     "metadata": {},
     "output_type": "execute_result"
    },
    {
     "data": {
      "image/png": "[encoded data removed]",
      "text/plain": [
       "<Figure size 432x432 with 3 Axes>"
      ]
     },
     "metadata": {
      "needs_background": "light"
     },
     "output_type": "display_data"
    }
   ],
   "source": [
    "sns.jointplot(x='Insulin', y='Glucose', data=N1Diab, kind='hex', \n",
    "              gridsize=20, color='pink')"
   ]
  },
  {
   "cell_type": "markdown",
   "metadata": {},
   "source": [
    "Podemos observar la concentración de los datos de la variable *Glucose* e *Insulin*, la cual muestra un cluster en 100 mg/dL en el nivel de Glucosa y aproximadamente 100µU/mL en el nivel de insulina sérica de 2 horas."
   ]
  },
  {
   "cell_type": "code",
   "execution_count": 222,
   "metadata": {},
   "outputs": [
    {
     "data": {
      "text/plain": [
       "<seaborn.axisgrid.JointGrid at 0x1f98ae3bd60>"
      ]
     },
     "execution_count": 222,
     "metadata": {},
     "output_type": "execute_result"
    },
    {
     "data": {
      "image/png": "[encoded data removed]",
      "text/plain": [
       "<Figure size 432x432 with 3 Axes>"
      ]
     },
     "metadata": {},
     "output_type": "display_data"
    }
   ],
   "source": [
    "sns.jointplot(x='Age', y='Glucose', data=N1Diab, kind='hex', \n",
    "              gridsize=20, color='purple')"
   ]
  },
  {
   "cell_type": "markdown",
   "metadata": {},
   "source": [
    "Podemos observar la concentración de los datos de la variable *Glucose* y *Age*, la cual muestra un cluster aproximadamente en 98 mg/dL en el nivel de Glucosa, esto a los 21 años."
   ]
  },
  {
   "cell_type": "markdown",
   "metadata": {},
   "source": [
    "## Modelo de diagnóstico de diabetes utilizando un árbol de clasificación."
   ]
  },
  {
   "cell_type": "code",
   "execution_count": 9,
   "metadata": {},
   "outputs": [],
   "source": [
    "### Instalar librería graphviz"
   ]
  },
  {
   "cell_type": "code",
   "execution_count": 10,
   "metadata": {},
   "outputs": [
    {
     "name": "stdout",
     "output_type": "stream",
     "text": [
      "Collecting package metadata (current_repodata.json): ...working... done\n",
      "Solving environment: ...working... failed with initial frozen solve. Retrying with flexible solve.\n",
      "Collecting package metadata (repodata.json): ...working... done\n",
      "Solving environment: ...working... failed with initial frozen solve. Retrying with flexible solve.\n",
      "\n",
      "Note: you may need to restart the kernel to use updated packages.\n"
     ]
    },
    {
     "name": "stderr",
     "output_type": "stream",
     "text": [
      "\n",
      "PackagesNotFoundError: The following packages are not available from current channels:\n",
      "\n",
      "  - python-graphviz.\n",
      "\n",
      "Current channels:\n",
      "\n",
      "  - https://repo.anaconda.com/pkgs/main/win-64\n",
      "  - https://repo.anaconda.com/pkgs/main/noarch\n",
      "  - https://repo.anaconda.com/pkgs/r/win-64\n",
      "  - https://repo.anaconda.com/pkgs/r/noarch\n",
      "  - https://repo.anaconda.com/pkgs/msys2/win-64\n",
      "  - https://repo.anaconda.com/pkgs/msys2/noarch\n",
      "\n",
      "To search for alternate channels that may provide the conda package you're\n",
      "looking for, navigate to\n",
      "\n",
      "    https://anaconda.org\n",
      "\n",
      "and use the search bar at the top of the page.\n",
      "\n",
      "\n"
     ]
    }
   ],
   "source": [
    "conda install python-graphviz."
   ]
  },
  {
   "cell_type": "code",
   "execution_count": 11,
   "metadata": {},
   "outputs": [
    {
     "name": "stdout",
     "output_type": "stream",
     "text": [
      "Requirement already satisfied: graphviz in c:\\programdata\\anaconda3\\lib\\site-packages (0.16)\n",
      "Note: you may need to restart the kernel to use updated packages.\n"
     ]
    }
   ],
   "source": [
    "pip install graphviz"
   ]
  },
  {
   "cell_type": "code",
   "execution_count": 12,
   "metadata": {},
   "outputs": [
    {
     "name": "stdout",
     "output_type": "stream",
     "text": [
      "Collecting mpld3\n",
      "  Downloading mpld3-0.5.2.tar.gz (888 kB)\n",
      "Requirement already satisfied: jinja2 in c:\\programdata\\anaconda3\\lib\\site-packages (from mpld3) (2.11.2)\n",
      "Requirement already satisfied: matplotlib in c:\\programdata\\anaconda3\\lib\\site-packages (from mpld3) (3.3.2)\n",
      "Requirement already satisfied: MarkupSafe>=0.23 in c:\\programdata\\anaconda3\\lib\\site-packages (from jinja2->mpld3) (1.1.1)\n",
      "Requirement already satisfied: kiwisolver>=1.0.1 in c:\\programdata\\anaconda3\\lib\\site-packages (from matplotlib->mpld3) (1.3.0)\n",
      "Requirement already satisfied: pillow>=6.2.0 in c:\\programdata\\anaconda3\\lib\\site-packages (from matplotlib->mpld3) (8.0.1)\n",
      "Requirement already satisfied: pyparsing!=2.0.4,!=2.1.2,!=2.1.6,>=2.0.3 in c:\\programdata\\anaconda3\\lib\\site-packages (from matplotlib->mpld3) (2.4.7)\n",
      "Requirement already satisfied: cycler>=0.10 in c:\\programdata\\anaconda3\\lib\\site-packages (from matplotlib->mpld3) (0.10.0)\n",
      "Requirement already satisfied: python-dateutil>=2.1 in c:\\programdata\\anaconda3\\lib\\site-packages (from matplotlib->mpld3) (2.8.1)\n",
      "Requirement already satisfied: numpy>=1.15 in c:\\programdata\\anaconda3\\lib\\site-packages (from matplotlib->mpld3) (1.19.2)\n",
      "Requirement already satisfied: certifi>=2020.06.20 in c:\\programdata\\anaconda3\\lib\\site-packages (from matplotlib->mpld3) (2020.6.20)\n",
      "Requirement already satisfied: six in c:\\programdata\\anaconda3\\lib\\site-packages (from cycler>=0.10->matplotlib->mpld3) (1.15.0)\n",
      "Building wheels for collected packages: mpld3\n",
      "  Building wheel for mpld3 (setup.py): started\n",
      "  Building wheel for mpld3 (setup.py): finished with status 'done'\n",
      "  Created wheel for mpld3: filename=mpld3-0.5.2-py3-none-any.whl size=200623 sha256=b7b034595a6ecdf9361b74a8154b7c249b5fbff1c5b070873a3107680300665e\n",
      "  Stored in directory: c:\\users\\anna\\appdata\\local\\pip\\cache\\wheels\\d1\\fb\\75\\f5b4dc0a7eb149b7ca745beeced5a286e4e8ab3a8cdb45bd1b\n",
      "Successfully built mpld3\n",
      "Installing collected packages: mpld3\n",
      "Successfully installed mpld3-0.5.2\n",
      "Note: you may need to restart the kernel to use updated packages.\n"
     ]
    }
   ],
   "source": [
    "pip install mpld3"
   ]
  },
  {
   "cell_type": "code",
   "execution_count": 3,
   "metadata": {},
   "outputs": [],
   "source": [
    "%matplotlib notebook\n",
    "import mpld3\n",
    "mpld3.enable_notebook()"
   ]
  },
  {
   "cell_type": "code",
   "execution_count": 4,
   "metadata": {},
   "outputs": [],
   "source": [
    "### Imports\n",
    "import numpy as np\n",
    "import pandas as pd\n",
    "import matplotlib.pyplot as plt\n",
    "import seaborn as sns\n",
    "\n",
    "sns.set(rc={'figure.figsize': [3, 3]}, font_scale=1.2)"
   ]
  },
  {
   "cell_type": "code",
   "execution_count": 5,
   "metadata": {},
   "outputs": [],
   "source": [
    "N1Diab=pd.read_csv(\"6 variables.csv\")"
   ]
  },
  {
   "cell_type": "code",
   "execution_count": 6,
   "metadata": {},
   "outputs": [
    {
     "data": {
      "text/html": [
       "<div>\n",
       "<style scoped>\n",
       "    .dataframe tbody tr th:only-of-type {\n",
       "        vertical-align: middle;\n",
       "    }\n",
       "\n",
       "    .dataframe tbody tr th {\n",
       "        vertical-align: top;\n",
       "    }\n",
       "\n",
       "    .dataframe thead th {\n",
       "        text-align: right;\n",
       "    }\n",
       "</style>\n",
       "<table border=\"1\" class=\"dataframe\">\n",
       "  <thead>\n",
       "    <tr style=\"text-align: right;\">\n",
       "      <th></th>\n",
       "      <th>Glucose</th>\n",
       "      <th>Insulin</th>\n",
       "      <th>Age</th>\n",
       "      <th>Outcome</th>\n",
       "    </tr>\n",
       "  </thead>\n",
       "  <tbody>\n",
       "    <tr>\n",
       "      <th>0</th>\n",
       "      <td>89</td>\n",
       "      <td>94</td>\n",
       "      <td>21</td>\n",
       "      <td>0</td>\n",
       "    </tr>\n",
       "    <tr>\n",
       "      <th>1</th>\n",
       "      <td>137</td>\n",
       "      <td>168</td>\n",
       "      <td>33</td>\n",
       "      <td>1</td>\n",
       "    </tr>\n",
       "    <tr>\n",
       "      <th>2</th>\n",
       "      <td>78</td>\n",
       "      <td>88</td>\n",
       "      <td>26</td>\n",
       "      <td>1</td>\n",
       "    </tr>\n",
       "    <tr>\n",
       "      <th>3</th>\n",
       "      <td>197</td>\n",
       "      <td>543</td>\n",
       "      <td>53</td>\n",
       "      <td>1</td>\n",
       "    </tr>\n",
       "    <tr>\n",
       "      <th>4</th>\n",
       "      <td>189</td>\n",
       "      <td>846</td>\n",
       "      <td>59</td>\n",
       "      <td>1</td>\n",
       "    </tr>\n",
       "    <tr>\n",
       "      <th>...</th>\n",
       "      <td>...</td>\n",
       "      <td>...</td>\n",
       "      <td>...</td>\n",
       "      <td>...</td>\n",
       "    </tr>\n",
       "    <tr>\n",
       "      <th>387</th>\n",
       "      <td>181</td>\n",
       "      <td>510</td>\n",
       "      <td>26</td>\n",
       "      <td>1</td>\n",
       "    </tr>\n",
       "    <tr>\n",
       "      <th>388</th>\n",
       "      <td>128</td>\n",
       "      <td>110</td>\n",
       "      <td>37</td>\n",
       "      <td>1</td>\n",
       "    </tr>\n",
       "    <tr>\n",
       "      <th>389</th>\n",
       "      <td>88</td>\n",
       "      <td>16</td>\n",
       "      <td>22</td>\n",
       "      <td>0</td>\n",
       "    </tr>\n",
       "    <tr>\n",
       "      <th>390</th>\n",
       "      <td>101</td>\n",
       "      <td>180</td>\n",
       "      <td>63</td>\n",
       "      <td>0</td>\n",
       "    </tr>\n",
       "    <tr>\n",
       "      <th>391</th>\n",
       "      <td>121</td>\n",
       "      <td>112</td>\n",
       "      <td>30</td>\n",
       "      <td>0</td>\n",
       "    </tr>\n",
       "  </tbody>\n",
       "</table>\n",
       "<p>392 rows × 4 columns</p>\n",
       "</div>"
      ],
      "text/plain": [
       "     Glucose  Insulin  Age  Outcome\n",
       "0         89       94   21        0\n",
       "1        137      168   33        1\n",
       "2         78       88   26        1\n",
       "3        197      543   53        1\n",
       "4        189      846   59        1\n",
       "..       ...      ...  ...      ...\n",
       "387      181      510   26        1\n",
       "388      128      110   37        1\n",
       "389       88       16   22        0\n",
       "390      101      180   63        0\n",
       "391      121      112   30        0\n",
       "\n",
       "[392 rows x 4 columns]"
      ]
     },
     "execution_count": 6,
     "metadata": {},
     "output_type": "execute_result"
    }
   ],
   "source": [
    "N1Diab"
   ]
  },
  {
   "cell_type": "code",
   "execution_count": 7,
   "metadata": {},
   "outputs": [
    {
     "data": {
      "text/plain": [
       "Index(['Glucose', 'Insulin', 'Age', 'Outcome'], dtype='object')"
      ]
     },
     "execution_count": 7,
     "metadata": {},
     "output_type": "execute_result"
    }
   ],
   "source": [
    "### Arreglando base de datos\n",
    "N1Diab.columns = ['Glucose','Insulin', 'Age', 'Outcome']\n",
    "N1Diab.columns"
   ]
  },
  {
   "cell_type": "code",
   "execution_count": 8,
   "metadata": {},
   "outputs": [],
   "source": [
    "from sklearn.preprocessing import LabelEncoder"
   ]
  },
  {
   "cell_type": "code",
   "execution_count": 9,
   "metadata": {},
   "outputs": [],
   "source": [
    "le = LabelEncoder()"
   ]
  },
  {
   "cell_type": "code",
   "execution_count": 10,
   "metadata": {},
   "outputs": [],
   "source": [
    "N1Diab.Outcome = le.fit_transform(N1Diab.Outcome)"
   ]
  },
  {
   "cell_type": "code",
   "execution_count": 11,
   "metadata": {},
   "outputs": [],
   "source": [
    "### Arbol de clasificación\n",
    "X = N1Diab.iloc[:,0:3].values\n",
    "y = N1Diab['Outcome'].values"
   ]
  },
  {
   "cell_type": "code",
   "execution_count": 12,
   "metadata": {},
   "outputs": [],
   "source": [
    "from sklearn.model_selection import train_test_split\n",
    "X_train, X_test, Y_train, Y_test = train_test_split(X, y, test_size = 0.25, random_state=0)"
   ]
  },
  {
   "cell_type": "code",
   "execution_count": 13,
   "metadata": {},
   "outputs": [
    {
     "data": {
      "text/plain": [
       "DecisionTreeClassifier(criterion='entropy', max_depth=4, random_state=0)"
      ]
     },
     "execution_count": 13,
     "metadata": {},
     "output_type": "execute_result"
    }
   ],
   "source": [
    "#Using DecisionTreeClassifier of tree class to use Decision Tree Algorithm\n",
    "from sklearn.tree import DecisionTreeClassifier\n",
    "from sklearn import tree\n",
    "arbol = DecisionTreeClassifier(class_weight=None, criterion = 'entropy', max_depth = 4, random_state = 0)\n",
    "arbol.fit(X_train, Y_train)"
   ]
  },
  {
   "cell_type": "code",
   "execution_count": 14,
   "metadata": {},
   "outputs": [],
   "source": [
    "clf = arbol.fit(X_train, Y_train)"
   ]
  },
  {
   "cell_type": "code",
   "execution_count": 13,
   "metadata": {},
   "outputs": [
    {
     "data": {
      "text/plain": [
       "[Text(80.06086956521739, 146.77200000000002, 'X[0] <= 127.5\\nentropy = 0.915\\nsamples = 294\\nvalue = [197, 97]'),\n",
       " Text(40.030434782608694, 114.156, 'X[2] <= 25.5\\nentropy = 0.561\\nsamples = 175\\nvalue = [152, 23]'),\n",
       " Text(14.556521739130435, 81.54000000000002, 'X[0] <= 94.5\\nentropy = 0.271\\nsamples = 86\\nvalue = [82, 4]'),\n",
       " Text(7.278260869565218, 48.92400000000001, 'entropy = 0.0\\nsamples = 35\\nvalue = [35, 0]'),\n",
       " Text(21.834782608695654, 48.92400000000001, 'X[1] <= 67.5\\nentropy = 0.397\\nsamples = 51\\nvalue = [47, 4]'),\n",
       " Text(14.556521739130435, 16.30800000000002, 'entropy = 0.881\\nsamples = 10\\nvalue = [7, 3]'),\n",
       " Text(29.11304347826087, 16.30800000000002, 'entropy = 0.165\\nsamples = 41\\nvalue = [40, 1]'),\n",
       " Text(65.50434782608696, 81.54000000000002, 'X[1] <= 87.5\\nentropy = 0.748\\nsamples = 89\\nvalue = [70, 19]'),\n",
       " Text(50.947826086956525, 48.92400000000001, 'X[0] <= 80.5\\nentropy = 0.187\\nsamples = 35\\nvalue = [34, 1]'),\n",
       " Text(43.66956521739131, 16.30800000000002, 'entropy = 0.722\\nsamples = 5\\nvalue = [4, 1]'),\n",
       " Text(58.22608695652174, 16.30800000000002, 'entropy = 0.0\\nsamples = 30\\nvalue = [30, 0]'),\n",
       " Text(80.06086956521739, 48.92400000000001, 'X[1] <= 91.5\\nentropy = 0.918\\nsamples = 54\\nvalue = [36, 18]'),\n",
       " Text(72.78260869565217, 16.30800000000002, 'entropy = 0.0\\nsamples = 3\\nvalue = [0, 3]'),\n",
       " Text(87.33913043478262, 16.30800000000002, 'entropy = 0.874\\nsamples = 51\\nvalue = [36, 15]'),\n",
       " Text(120.0913043478261, 114.156, 'X[2] <= 23.5\\nentropy = 0.957\\nsamples = 119\\nvalue = [45, 74]'),\n",
       " Text(101.89565217391305, 81.54000000000002, 'X[0] <= 169.0\\nentropy = 0.742\\nsamples = 19\\nvalue = [15, 4]'),\n",
       " Text(94.61739130434783, 48.92400000000001, 'entropy = 0.0\\nsamples = 15\\nvalue = [15, 0]'),\n",
       " Text(109.17391304347827, 48.92400000000001, 'entropy = 0.0\\nsamples = 4\\nvalue = [0, 4]'),\n",
       " Text(138.28695652173914, 81.54000000000002, 'X[0] <= 166.0\\nentropy = 0.881\\nsamples = 100\\nvalue = [30, 70]'),\n",
       " Text(123.7304347826087, 48.92400000000001, 'X[0] <= 163.5\\nentropy = 0.953\\nsamples = 67\\nvalue = [25, 42]'),\n",
       " Text(116.45217391304348, 16.30800000000002, 'entropy = 0.928\\nsamples = 64\\nvalue = [22, 42]'),\n",
       " Text(131.0086956521739, 16.30800000000002, 'entropy = 0.0\\nsamples = 3\\nvalue = [3, 0]'),\n",
       " Text(152.84347826086957, 48.92400000000001, 'X[0] <= 190.0\\nentropy = 0.614\\nsamples = 33\\nvalue = [5, 28]'),\n",
       " Text(145.56521739130434, 16.30800000000002, 'entropy = 0.391\\nsamples = 26\\nvalue = [2, 24]'),\n",
       " Text(160.12173913043478, 16.30800000000002, 'entropy = 0.985\\nsamples = 7\\nvalue = [3, 4]')]"
      ]
     },
     "execution_count": 13,
     "metadata": {},
     "output_type": "execute_result"
    },
    {
     "data": {
      "image/png": "[encoded data removed]",
      "text/plain": [
       "<Figure size 216x216 with 1 Axes>"
      ]
     },
     "metadata": {},
     "output_type": "display_data"
    }
   ],
   "source": [
    "tree.plot_tree(clf) "
   ]
  },
  {
   "cell_type": "code",
   "execution_count": 15,
   "metadata": {},
   "outputs": [
    {
     "data": {
      "image/svg+xml": [
       "<?xml version=\"1.0\" encoding=\"UTF-8\" standalone=\"no\"?>\r\n",
       "<!DOCTYPE svg PUBLIC \"-//W3C//DTD SVG 1.1//EN\"\r\n",
       " \"http://www.w3.org/Graphics/SVG/1.1/DTD/svg11.dtd\">\r\n",
       "<!-- Generated by graphviz version 2.38.0 (20140413.2041)\r\n",
       " -->\r\n",
       "<!-- Title: Tree Pages: 1 -->\r\n",
       "<svg width=\"1348pt\" height=\"552pt\"\r\n",
       " viewBox=\"0.00 0.00 1347.50 552.00\" xmlns=\"http://www.w3.org/2000/svg\" xmlns:xlink=\"http://www.w3.org/1999/xlink\">\r\n",
       "<g id=\"graph0\" class=\"graph\" transform=\"scale(1 1) rotate(0) translate(4 548)\">\r\n",
       "<title>Tree</title>\r\n",
       "<polygon fill=\"white\" stroke=\"none\" points=\"-4,4 -4,-548 1343.5,-548 1343.5,4 -4,4\"/>\r\n",
       "<!-- 0 -->\r\n",
       "<g id=\"node1\" class=\"node\"><title>0</title>\r\n",
       "<path fill=\"#f2bf9a\" stroke=\"black\" d=\"M669,-544C669,-544 571,-544 571,-544 565,-544 559,-538 559,-532 559,-532 559,-473 559,-473 559,-467 565,-461 571,-461 571,-461 669,-461 669,-461 675,-461 681,-467 681,-473 681,-473 681,-532 681,-532 681,-538 675,-544 669,-544\"/>\r\n",
       "<text text-anchor=\"start\" x=\"567\" y=\"-528.8\" font-family=\"Helvetica,sans-Serif\" font-size=\"14.00\">Glucose ≤ 127.5</text>\r\n",
       "<text text-anchor=\"start\" x=\"570\" y=\"-513.8\" font-family=\"Helvetica,sans-Serif\" font-size=\"14.00\">entropy = 0.915</text>\r\n",
       "<text text-anchor=\"start\" x=\"572.5\" y=\"-498.8\" font-family=\"Helvetica,sans-Serif\" font-size=\"14.00\">samples = 294</text>\r\n",
       "<text text-anchor=\"start\" x=\"567\" y=\"-483.8\" font-family=\"Helvetica,sans-Serif\" font-size=\"14.00\">value = [197, 97]</text>\r\n",
       "<text text-anchor=\"start\" x=\"579\" y=\"-468.8\" font-family=\"Helvetica,sans-Serif\" font-size=\"14.00\">class = Sano</text>\r\n",
       "</g>\r\n",
       "<!-- 1 -->\r\n",
       "<g id=\"node2\" class=\"node\"><title>1</title>\r\n",
       "<path fill=\"#e99457\" stroke=\"black\" d=\"M567,-425C567,-425 469,-425 469,-425 463,-425 457,-419 457,-413 457,-413 457,-354 457,-354 457,-348 463,-342 469,-342 469,-342 567,-342 567,-342 573,-342 579,-348 579,-354 579,-354 579,-413 579,-413 579,-419 573,-425 567,-425\"/>\r\n",
       "<text text-anchor=\"start\" x=\"483\" y=\"-409.8\" font-family=\"Helvetica,sans-Serif\" font-size=\"14.00\">Age ≤ 25.5</text>\r\n",
       "<text text-anchor=\"start\" x=\"468\" y=\"-394.8\" font-family=\"Helvetica,sans-Serif\" font-size=\"14.00\">entropy = 0.561</text>\r\n",
       "<text text-anchor=\"start\" x=\"470.5\" y=\"-379.8\" font-family=\"Helvetica,sans-Serif\" font-size=\"14.00\">samples = 175</text>\r\n",
       "<text text-anchor=\"start\" x=\"465\" y=\"-364.8\" font-family=\"Helvetica,sans-Serif\" font-size=\"14.00\">value = [152, 23]</text>\r\n",
       "<text text-anchor=\"start\" x=\"477\" y=\"-349.8\" font-family=\"Helvetica,sans-Serif\" font-size=\"14.00\">class = Sano</text>\r\n",
       "</g>\r\n",
       "<!-- 0&#45;&gt;1 -->\r\n",
       "<g id=\"edge1\" class=\"edge\"><title>0&#45;&gt;1</title>\r\n",
       "<path fill=\"none\" stroke=\"black\" d=\"M584.612,-460.907C576.7,-451.832 568.234,-442.121 560.081,-432.769\"/>\r\n",
       "<polygon fill=\"black\" stroke=\"black\" points=\"562.535,-430.259 553.326,-425.021 557.259,-434.859 562.535,-430.259\"/>\r\n",
       "<text text-anchor=\"middle\" x=\"551.618\" y=\"-446.262\" font-family=\"Helvetica,sans-Serif\" font-size=\"14.00\">True</text>\r\n",
       "</g>\r\n",
       "<!-- 14 -->\r\n",
       "<g id=\"node15\" class=\"node\"><title>14</title>\r\n",
       "<path fill=\"#b1d9f5\" stroke=\"black\" d=\"M773.5,-425C773.5,-425 672.5,-425 672.5,-425 666.5,-425 660.5,-419 660.5,-413 660.5,-413 660.5,-354 660.5,-354 660.5,-348 666.5,-342 672.5,-342 672.5,-342 773.5,-342 773.5,-342 779.5,-342 785.5,-348 785.5,-354 785.5,-354 785.5,-413 785.5,-413 785.5,-419 779.5,-425 773.5,-425\"/>\r\n",
       "<text text-anchor=\"start\" x=\"688\" y=\"-409.8\" font-family=\"Helvetica,sans-Serif\" font-size=\"14.00\">Age ≤ 23.5</text>\r\n",
       "<text text-anchor=\"start\" x=\"673\" y=\"-394.8\" font-family=\"Helvetica,sans-Serif\" font-size=\"14.00\">entropy = 0.957</text>\r\n",
       "<text text-anchor=\"start\" x=\"675.5\" y=\"-379.8\" font-family=\"Helvetica,sans-Serif\" font-size=\"14.00\">samples = 119</text>\r\n",
       "<text text-anchor=\"start\" x=\"674.5\" y=\"-364.8\" font-family=\"Helvetica,sans-Serif\" font-size=\"14.00\">value = [45, 74]</text>\r\n",
       "<text text-anchor=\"start\" x=\"668.5\" y=\"-349.8\" font-family=\"Helvetica,sans-Serif\" font-size=\"14.00\">class = Diabético</text>\r\n",
       "</g>\r\n",
       "<!-- 0&#45;&gt;14 -->\r\n",
       "<g id=\"edge14\" class=\"edge\"><title>0&#45;&gt;14</title>\r\n",
       "<path fill=\"none\" stroke=\"black\" d=\"M655.735,-460.907C663.725,-451.832 672.274,-442.121 680.506,-432.769\"/>\r\n",
       "<polygon fill=\"black\" stroke=\"black\" points=\"683.347,-434.839 687.328,-425.021 678.093,-430.214 683.347,-434.839\"/>\r\n",
       "<text text-anchor=\"middle\" x=\"688.916\" y=\"-446.27\" font-family=\"Helvetica,sans-Serif\" font-size=\"14.00\">False</text>\r\n",
       "</g>\r\n",
       "<!-- 2 -->\r\n",
       "<g id=\"node3\" class=\"node\"><title>2</title>\r\n",
       "<path fill=\"#e68743\" stroke=\"black\" d=\"M238,-306C238,-306 146,-306 146,-306 140,-306 134,-300 134,-294 134,-294 134,-235 134,-235 134,-229 140,-223 146,-223 146,-223 238,-223 238,-223 244,-223 250,-229 250,-235 250,-235 250,-294 250,-294 250,-300 244,-306 238,-306\"/>\r\n",
       "<text text-anchor=\"start\" x=\"143.5\" y=\"-290.8\" font-family=\"Helvetica,sans-Serif\" font-size=\"14.00\">Glucose ≤ 94.5</text>\r\n",
       "<text text-anchor=\"start\" x=\"142\" y=\"-275.8\" font-family=\"Helvetica,sans-Serif\" font-size=\"14.00\">entropy = 0.271</text>\r\n",
       "<text text-anchor=\"start\" x=\"148.5\" y=\"-260.8\" font-family=\"Helvetica,sans-Serif\" font-size=\"14.00\">samples = 86</text>\r\n",
       "<text text-anchor=\"start\" x=\"147.5\" y=\"-245.8\" font-family=\"Helvetica,sans-Serif\" font-size=\"14.00\">value = [82, 4]</text>\r\n",
       "<text text-anchor=\"start\" x=\"151\" y=\"-230.8\" font-family=\"Helvetica,sans-Serif\" font-size=\"14.00\">class = Sano</text>\r\n",
       "</g>\r\n",
       "<!-- 1&#45;&gt;2 -->\r\n",
       "<g id=\"edge2\" class=\"edge\"><title>1&#45;&gt;2</title>\r\n",
       "<path fill=\"none\" stroke=\"black\" d=\"M456.682,-360.493C400.511,-340.334 317.517,-310.547 259.483,-289.719\"/>\r\n",
       "<polygon fill=\"black\" stroke=\"black\" points=\"260.626,-286.411 250.031,-286.327 258.261,-292.999 260.626,-286.411\"/>\r\n",
       "</g>\r\n",
       "<!-- 7 -->\r\n",
       "<g id=\"node8\" class=\"node\"><title>7</title>\r\n",
       "<path fill=\"#eca36f\" stroke=\"black\" d=\"M564,-306C564,-306 472,-306 472,-306 466,-306 460,-300 460,-294 460,-294 460,-235 460,-235 460,-229 466,-223 472,-223 472,-223 564,-223 564,-223 570,-223 576,-229 576,-235 576,-235 576,-294 576,-294 576,-300 570,-306 564,-306\"/>\r\n",
       "<text text-anchor=\"start\" x=\"475.5\" y=\"-290.8\" font-family=\"Helvetica,sans-Serif\" font-size=\"14.00\">Insulin ≤ 87.5</text>\r\n",
       "<text text-anchor=\"start\" x=\"468\" y=\"-275.8\" font-family=\"Helvetica,sans-Serif\" font-size=\"14.00\">entropy = 0.748</text>\r\n",
       "<text text-anchor=\"start\" x=\"474.5\" y=\"-260.8\" font-family=\"Helvetica,sans-Serif\" font-size=\"14.00\">samples = 89</text>\r\n",
       "<text text-anchor=\"start\" x=\"469.5\" y=\"-245.8\" font-family=\"Helvetica,sans-Serif\" font-size=\"14.00\">value = [70, 19]</text>\r\n",
       "<text text-anchor=\"start\" x=\"477\" y=\"-230.8\" font-family=\"Helvetica,sans-Serif\" font-size=\"14.00\">class = Sano</text>\r\n",
       "</g>\r\n",
       "<!-- 1&#45;&gt;7 -->\r\n",
       "<g id=\"edge7\" class=\"edge\"><title>1&#45;&gt;7</title>\r\n",
       "<path fill=\"none\" stroke=\"black\" d=\"M518,-341.907C518,-333.649 518,-324.864 518,-316.302\"/>\r\n",
       "<polygon fill=\"black\" stroke=\"black\" points=\"521.5,-316.021 518,-306.021 514.5,-316.021 521.5,-316.021\"/>\r\n",
       "</g>\r\n",
       "<!-- 3 -->\r\n",
       "<g id=\"node4\" class=\"node\"><title>3</title>\r\n",
       "<path fill=\"#e58139\" stroke=\"black\" d=\"M103.5,-179.5C103.5,-179.5 22.5,-179.5 22.5,-179.5 16.5,-179.5 10.5,-173.5 10.5,-167.5 10.5,-167.5 10.5,-123.5 10.5,-123.5 10.5,-117.5 16.5,-111.5 22.5,-111.5 22.5,-111.5 103.5,-111.5 103.5,-111.5 109.5,-111.5 115.5,-117.5 115.5,-123.5 115.5,-123.5 115.5,-167.5 115.5,-167.5 115.5,-173.5 109.5,-179.5 103.5,-179.5\"/>\r\n",
       "<text text-anchor=\"start\" x=\"21\" y=\"-164.3\" font-family=\"Helvetica,sans-Serif\" font-size=\"14.00\">entropy = 0.0</text>\r\n",
       "<text text-anchor=\"start\" x=\"19.5\" y=\"-149.3\" font-family=\"Helvetica,sans-Serif\" font-size=\"14.00\">samples = 35</text>\r\n",
       "<text text-anchor=\"start\" x=\"18.5\" y=\"-134.3\" font-family=\"Helvetica,sans-Serif\" font-size=\"14.00\">value = [35, 0]</text>\r\n",
       "<text text-anchor=\"start\" x=\"22\" y=\"-119.3\" font-family=\"Helvetica,sans-Serif\" font-size=\"14.00\">class = Sano</text>\r\n",
       "</g>\r\n",
       "<!-- 2&#45;&gt;3 -->\r\n",
       "<g id=\"edge3\" class=\"edge\"><title>2&#45;&gt;3</title>\r\n",
       "<path fill=\"none\" stroke=\"black\" d=\"M147.244,-222.907C134.226,-211.101 120.021,-198.217 107.047,-186.45\"/>\r\n",
       "<polygon fill=\"black\" stroke=\"black\" points=\"109.327,-183.793 99.5687,-179.667 104.625,-188.978 109.327,-183.793\"/>\r\n",
       "</g>\r\n",
       "<!-- 4 -->\r\n",
       "<g id=\"node5\" class=\"node\"><title>4</title>\r\n",
       "<path fill=\"#e78c4a\" stroke=\"black\" d=\"M238,-187C238,-187 146,-187 146,-187 140,-187 134,-181 134,-175 134,-175 134,-116 134,-116 134,-110 140,-104 146,-104 146,-104 238,-104 238,-104 244,-104 250,-110 250,-116 250,-116 250,-175 250,-175 250,-181 244,-187 238,-187\"/>\r\n",
       "<text text-anchor=\"start\" x=\"149.5\" y=\"-171.8\" font-family=\"Helvetica,sans-Serif\" font-size=\"14.00\">Insulin ≤ 67.5</text>\r\n",
       "<text text-anchor=\"start\" x=\"142\" y=\"-156.8\" font-family=\"Helvetica,sans-Serif\" font-size=\"14.00\">entropy = 0.397</text>\r\n",
       "<text text-anchor=\"start\" x=\"148.5\" y=\"-141.8\" font-family=\"Helvetica,sans-Serif\" font-size=\"14.00\">samples = 51</text>\r\n",
       "<text text-anchor=\"start\" x=\"147.5\" y=\"-126.8\" font-family=\"Helvetica,sans-Serif\" font-size=\"14.00\">value = [47, 4]</text>\r\n",
       "<text text-anchor=\"start\" x=\"151\" y=\"-111.8\" font-family=\"Helvetica,sans-Serif\" font-size=\"14.00\">class = Sano</text>\r\n",
       "</g>\r\n",
       "<!-- 2&#45;&gt;4 -->\r\n",
       "<g id=\"edge4\" class=\"edge\"><title>2&#45;&gt;4</title>\r\n",
       "<path fill=\"none\" stroke=\"black\" d=\"M192,-222.907C192,-214.649 192,-205.864 192,-197.302\"/>\r\n",
       "<polygon fill=\"black\" stroke=\"black\" points=\"195.5,-197.021 192,-187.021 188.5,-197.021 195.5,-197.021\"/>\r\n",
       "</g>\r\n",
       "<!-- 5 -->\r\n",
       "<g id=\"node6\" class=\"node\"><title>5</title>\r\n",
       "<path fill=\"#f0b78e\" stroke=\"black\" d=\"M104,-68C104,-68 12,-68 12,-68 6,-68 0,-62 0,-56 0,-56 0,-12 0,-12 0,-6 6,-0 12,-0 12,-0 104,-0 104,-0 110,-0 116,-6 116,-12 116,-12 116,-56 116,-56 116,-62 110,-68 104,-68\"/>\r\n",
       "<text text-anchor=\"start\" x=\"8\" y=\"-52.8\" font-family=\"Helvetica,sans-Serif\" font-size=\"14.00\">entropy = 0.881</text>\r\n",
       "<text text-anchor=\"start\" x=\"14.5\" y=\"-37.8\" font-family=\"Helvetica,sans-Serif\" font-size=\"14.00\">samples = 10</text>\r\n",
       "<text text-anchor=\"start\" x=\"17.5\" y=\"-22.8\" font-family=\"Helvetica,sans-Serif\" font-size=\"14.00\">value = [7, 3]</text>\r\n",
       "<text text-anchor=\"start\" x=\"17\" y=\"-7.8\" font-family=\"Helvetica,sans-Serif\" font-size=\"14.00\">class = Sano</text>\r\n",
       "</g>\r\n",
       "<!-- 4&#45;&gt;5 -->\r\n",
       "<g id=\"edge5\" class=\"edge\"><title>4&#45;&gt;5</title>\r\n",
       "<path fill=\"none\" stroke=\"black\" d=\"M142.103,-103.726C130.495,-94.2406 118.153,-84.1551 106.602,-74.7159\"/>\r\n",
       "<polygon fill=\"black\" stroke=\"black\" points=\"108.708,-71.9171 98.7502,-68.2996 104.279,-77.3375 108.708,-71.9171\"/>\r\n",
       "</g>\r\n",
       "<!-- 6 -->\r\n",
       "<g id=\"node7\" class=\"node\"><title>6</title>\r\n",
       "<path fill=\"#e6843e\" stroke=\"black\" d=\"M238,-68C238,-68 146,-68 146,-68 140,-68 134,-62 134,-56 134,-56 134,-12 134,-12 134,-6 140,-0 146,-0 146,-0 238,-0 238,-0 244,-0 250,-6 250,-12 250,-12 250,-56 250,-56 250,-62 244,-68 238,-68\"/>\r\n",
       "<text text-anchor=\"start\" x=\"142\" y=\"-52.8\" font-family=\"Helvetica,sans-Serif\" font-size=\"14.00\">entropy = 0.165</text>\r\n",
       "<text text-anchor=\"start\" x=\"148.5\" y=\"-37.8\" font-family=\"Helvetica,sans-Serif\" font-size=\"14.00\">samples = 41</text>\r\n",
       "<text text-anchor=\"start\" x=\"147.5\" y=\"-22.8\" font-family=\"Helvetica,sans-Serif\" font-size=\"14.00\">value = [40, 1]</text>\r\n",
       "<text text-anchor=\"start\" x=\"151\" y=\"-7.8\" font-family=\"Helvetica,sans-Serif\" font-size=\"14.00\">class = Sano</text>\r\n",
       "</g>\r\n",
       "<!-- 4&#45;&gt;6 -->\r\n",
       "<g id=\"edge6\" class=\"edge\"><title>4&#45;&gt;6</title>\r\n",
       "<path fill=\"none\" stroke=\"black\" d=\"M192,-103.726C192,-95.5175 192,-86.8595 192,-78.56\"/>\r\n",
       "<polygon fill=\"black\" stroke=\"black\" points=\"195.5,-78.2996 192,-68.2996 188.5,-78.2996 195.5,-78.2996\"/>\r\n",
       "</g>\r\n",
       "<!-- 8 -->\r\n",
       "<g id=\"node9\" class=\"node\"><title>8</title>\r\n",
       "<path fill=\"#e6853f\" stroke=\"black\" d=\"M500,-187C500,-187 408,-187 408,-187 402,-187 396,-181 396,-175 396,-175 396,-116 396,-116 396,-110 402,-104 408,-104 408,-104 500,-104 500,-104 506,-104 512,-110 512,-116 512,-116 512,-175 512,-175 512,-181 506,-187 500,-187\"/>\r\n",
       "<text text-anchor=\"start\" x=\"405.5\" y=\"-171.8\" font-family=\"Helvetica,sans-Serif\" font-size=\"14.00\">Glucose ≤ 80.5</text>\r\n",
       "<text text-anchor=\"start\" x=\"404\" y=\"-156.8\" font-family=\"Helvetica,sans-Serif\" font-size=\"14.00\">entropy = 0.187</text>\r\n",
       "<text text-anchor=\"start\" x=\"410.5\" y=\"-141.8\" font-family=\"Helvetica,sans-Serif\" font-size=\"14.00\">samples = 35</text>\r\n",
       "<text text-anchor=\"start\" x=\"409.5\" y=\"-126.8\" font-family=\"Helvetica,sans-Serif\" font-size=\"14.00\">value = [34, 1]</text>\r\n",
       "<text text-anchor=\"start\" x=\"413\" y=\"-111.8\" font-family=\"Helvetica,sans-Serif\" font-size=\"14.00\">class = Sano</text>\r\n",
       "</g>\r\n",
       "<!-- 7&#45;&gt;8 -->\r\n",
       "<g id=\"edge8\" class=\"edge\"><title>7&#45;&gt;8</title>\r\n",
       "<path fill=\"none\" stroke=\"black\" d=\"M495.796,-222.907C491.03,-214.195 485.944,-204.897 481.019,-195.893\"/>\r\n",
       "<polygon fill=\"black\" stroke=\"black\" points=\"484.035,-194.114 476.165,-187.021 477.894,-197.474 484.035,-194.114\"/>\r\n",
       "</g>\r\n",
       "<!-- 11 -->\r\n",
       "<g id=\"node12\" class=\"node\"><title>11</title>\r\n",
       "<path fill=\"#f2c09c\" stroke=\"black\" d=\"M634,-187C634,-187 542,-187 542,-187 536,-187 530,-181 530,-175 530,-175 530,-116 530,-116 530,-110 536,-104 542,-104 542,-104 634,-104 634,-104 640,-104 646,-110 646,-116 646,-116 646,-175 646,-175 646,-181 640,-187 634,-187\"/>\r\n",
       "<text text-anchor=\"start\" x=\"545.5\" y=\"-171.8\" font-family=\"Helvetica,sans-Serif\" font-size=\"14.00\">Insulin ≤ 91.5</text>\r\n",
       "<text text-anchor=\"start\" x=\"538\" y=\"-156.8\" font-family=\"Helvetica,sans-Serif\" font-size=\"14.00\">entropy = 0.918</text>\r\n",
       "<text text-anchor=\"start\" x=\"544.5\" y=\"-141.8\" font-family=\"Helvetica,sans-Serif\" font-size=\"14.00\">samples = 54</text>\r\n",
       "<text text-anchor=\"start\" x=\"539.5\" y=\"-126.8\" font-family=\"Helvetica,sans-Serif\" font-size=\"14.00\">value = [36, 18]</text>\r\n",
       "<text text-anchor=\"start\" x=\"547\" y=\"-111.8\" font-family=\"Helvetica,sans-Serif\" font-size=\"14.00\">class = Sano</text>\r\n",
       "</g>\r\n",
       "<!-- 7&#45;&gt;11 -->\r\n",
       "<g id=\"edge11\" class=\"edge\"><title>7&#45;&gt;11</title>\r\n",
       "<path fill=\"none\" stroke=\"black\" d=\"M542.286,-222.907C547.553,-214.105 553.178,-204.703 558.617,-195.612\"/>\r\n",
       "<polygon fill=\"black\" stroke=\"black\" points=\"561.626,-197.399 563.757,-187.021 555.619,-193.805 561.626,-197.399\"/>\r\n",
       "</g>\r\n",
       "<!-- 9 -->\r\n",
       "<g id=\"node10\" class=\"node\"><title>9</title>\r\n",
       "<path fill=\"#eca06a\" stroke=\"black\" d=\"M372,-68C372,-68 280,-68 280,-68 274,-68 268,-62 268,-56 268,-56 268,-12 268,-12 268,-6 274,-0 280,-0 280,-0 372,-0 372,-0 378,-0 384,-6 384,-12 384,-12 384,-56 384,-56 384,-62 378,-68 372,-68\"/>\r\n",
       "<text text-anchor=\"start\" x=\"276\" y=\"-52.8\" font-family=\"Helvetica,sans-Serif\" font-size=\"14.00\">entropy = 0.722</text>\r\n",
       "<text text-anchor=\"start\" x=\"286.5\" y=\"-37.8\" font-family=\"Helvetica,sans-Serif\" font-size=\"14.00\">samples = 5</text>\r\n",
       "<text text-anchor=\"start\" x=\"285.5\" y=\"-22.8\" font-family=\"Helvetica,sans-Serif\" font-size=\"14.00\">value = [4, 1]</text>\r\n",
       "<text text-anchor=\"start\" x=\"285\" y=\"-7.8\" font-family=\"Helvetica,sans-Serif\" font-size=\"14.00\">class = Sano</text>\r\n",
       "</g>\r\n",
       "<!-- 8&#45;&gt;9 -->\r\n",
       "<g id=\"edge9\" class=\"edge\"><title>8&#45;&gt;9</title>\r\n",
       "<path fill=\"none\" stroke=\"black\" d=\"M406.338,-103.726C395.356,-94.3318 383.686,-84.349 372.744,-74.9883\"/>\r\n",
       "<polygon fill=\"black\" stroke=\"black\" points=\"374.8,-72.1406 364.926,-68.2996 370.249,-77.4598 374.8,-72.1406\"/>\r\n",
       "</g>\r\n",
       "<!-- 10 -->\r\n",
       "<g id=\"node11\" class=\"node\"><title>10</title>\r\n",
       "<path fill=\"#e58139\" stroke=\"black\" d=\"M495.5,-68C495.5,-68 414.5,-68 414.5,-68 408.5,-68 402.5,-62 402.5,-56 402.5,-56 402.5,-12 402.5,-12 402.5,-6 408.5,-0 414.5,-0 414.5,-0 495.5,-0 495.5,-0 501.5,-0 507.5,-6 507.5,-12 507.5,-12 507.5,-56 507.5,-56 507.5,-62 501.5,-68 495.5,-68\"/>\r\n",
       "<text text-anchor=\"start\" x=\"413\" y=\"-52.8\" font-family=\"Helvetica,sans-Serif\" font-size=\"14.00\">entropy = 0.0</text>\r\n",
       "<text text-anchor=\"start\" x=\"411.5\" y=\"-37.8\" font-family=\"Helvetica,sans-Serif\" font-size=\"14.00\">samples = 30</text>\r\n",
       "<text text-anchor=\"start\" x=\"410.5\" y=\"-22.8\" font-family=\"Helvetica,sans-Serif\" font-size=\"14.00\">value = [30, 0]</text>\r\n",
       "<text text-anchor=\"start\" x=\"414\" y=\"-7.8\" font-family=\"Helvetica,sans-Serif\" font-size=\"14.00\">class = Sano</text>\r\n",
       "</g>\r\n",
       "<!-- 8&#45;&gt;10 -->\r\n",
       "<g id=\"edge10\" class=\"edge\"><title>8&#45;&gt;10</title>\r\n",
       "<path fill=\"none\" stroke=\"black\" d=\"M454.372,-103.726C454.447,-95.5175 454.526,-86.8595 454.602,-78.56\"/>\r\n",
       "<polygon fill=\"black\" stroke=\"black\" points=\"458.104,-78.3312 454.696,-68.2996 451.105,-78.2672 458.104,-78.3312\"/>\r\n",
       "</g>\r\n",
       "<!-- 12 -->\r\n",
       "<g id=\"node13\" class=\"node\"><title>12</title>\r\n",
       "<path fill=\"#399de5\" stroke=\"black\" d=\"M638.5,-68C638.5,-68 537.5,-68 537.5,-68 531.5,-68 525.5,-62 525.5,-56 525.5,-56 525.5,-12 525.5,-12 525.5,-6 531.5,-0 537.5,-0 537.5,-0 638.5,-0 638.5,-0 644.5,-0 650.5,-6 650.5,-12 650.5,-12 650.5,-56 650.5,-56 650.5,-62 644.5,-68 638.5,-68\"/>\r\n",
       "<text text-anchor=\"start\" x=\"546\" y=\"-52.8\" font-family=\"Helvetica,sans-Serif\" font-size=\"14.00\">entropy = 0.0</text>\r\n",
       "<text text-anchor=\"start\" x=\"548.5\" y=\"-37.8\" font-family=\"Helvetica,sans-Serif\" font-size=\"14.00\">samples = 3</text>\r\n",
       "<text text-anchor=\"start\" x=\"547.5\" y=\"-22.8\" font-family=\"Helvetica,sans-Serif\" font-size=\"14.00\">value = [0, 3]</text>\r\n",
       "<text text-anchor=\"start\" x=\"533.5\" y=\"-7.8\" font-family=\"Helvetica,sans-Serif\" font-size=\"14.00\">class = Diabético</text>\r\n",
       "</g>\r\n",
       "<!-- 11&#45;&gt;12 -->\r\n",
       "<g id=\"edge12\" class=\"edge\"><title>11&#45;&gt;12</title>\r\n",
       "<path fill=\"none\" stroke=\"black\" d=\"M588,-103.726C588,-95.5175 588,-86.8595 588,-78.56\"/>\r\n",
       "<polygon fill=\"black\" stroke=\"black\" points=\"591.5,-78.2996 588,-68.2996 584.5,-78.2996 591.5,-78.2996\"/>\r\n",
       "</g>\r\n",
       "<!-- 13 -->\r\n",
       "<g id=\"node14\" class=\"node\"><title>13</title>\r\n",
       "<path fill=\"#f0b58b\" stroke=\"black\" d=\"M773,-68C773,-68 681,-68 681,-68 675,-68 669,-62 669,-56 669,-56 669,-12 669,-12 669,-6 675,-0 681,-0 681,-0 773,-0 773,-0 779,-0 785,-6 785,-12 785,-12 785,-56 785,-56 785,-62 779,-68 773,-68\"/>\r\n",
       "<text text-anchor=\"start\" x=\"677\" y=\"-52.8\" font-family=\"Helvetica,sans-Serif\" font-size=\"14.00\">entropy = 0.874</text>\r\n",
       "<text text-anchor=\"start\" x=\"683.5\" y=\"-37.8\" font-family=\"Helvetica,sans-Serif\" font-size=\"14.00\">samples = 51</text>\r\n",
       "<text text-anchor=\"start\" x=\"678.5\" y=\"-22.8\" font-family=\"Helvetica,sans-Serif\" font-size=\"14.00\">value = [36, 15]</text>\r\n",
       "<text text-anchor=\"start\" x=\"686\" y=\"-7.8\" font-family=\"Helvetica,sans-Serif\" font-size=\"14.00\">class = Sano</text>\r\n",
       "</g>\r\n",
       "<!-- 11&#45;&gt;13 -->\r\n",
       "<g id=\"edge13\" class=\"edge\"><title>11&#45;&gt;13</title>\r\n",
       "<path fill=\"none\" stroke=\"black\" d=\"M639.758,-103.726C651.8,-94.2406 664.602,-84.1551 676.584,-74.7159\"/>\r\n",
       "<polygon fill=\"black\" stroke=\"black\" points=\"679.04,-77.2372 684.729,-68.2996 674.708,-71.7385 679.04,-77.2372\"/>\r\n",
       "</g>\r\n",
       "<!-- 15 -->\r\n",
       "<g id=\"node16\" class=\"node\"><title>15</title>\r\n",
       "<path fill=\"#eca36e\" stroke=\"black\" d=\"M772,-306C772,-306 674,-306 674,-306 668,-306 662,-300 662,-294 662,-294 662,-235 662,-235 662,-229 668,-223 674,-223 674,-223 772,-223 772,-223 778,-223 784,-229 784,-235 784,-235 784,-294 784,-294 784,-300 778,-306 772,-306\"/>\r\n",
       "<text text-anchor=\"start\" x=\"670\" y=\"-290.8\" font-family=\"Helvetica,sans-Serif\" font-size=\"14.00\">Glucose ≤ 169.0</text>\r\n",
       "<text text-anchor=\"start\" x=\"673\" y=\"-275.8\" font-family=\"Helvetica,sans-Serif\" font-size=\"14.00\">entropy = 0.742</text>\r\n",
       "<text text-anchor=\"start\" x=\"679.5\" y=\"-260.8\" font-family=\"Helvetica,sans-Serif\" font-size=\"14.00\">samples = 19</text>\r\n",
       "<text text-anchor=\"start\" x=\"678.5\" y=\"-245.8\" font-family=\"Helvetica,sans-Serif\" font-size=\"14.00\">value = [15, 4]</text>\r\n",
       "<text text-anchor=\"start\" x=\"682\" y=\"-230.8\" font-family=\"Helvetica,sans-Serif\" font-size=\"14.00\">class = Sano</text>\r\n",
       "</g>\r\n",
       "<!-- 14&#45;&gt;15 -->\r\n",
       "<g id=\"edge15\" class=\"edge\"><title>14&#45;&gt;15</title>\r\n",
       "<path fill=\"none\" stroke=\"black\" d=\"M723,-341.907C723,-333.649 723,-324.864 723,-316.302\"/>\r\n",
       "<polygon fill=\"black\" stroke=\"black\" points=\"726.5,-316.021 723,-306.021 719.5,-316.021 726.5,-316.021\"/>\r\n",
       "</g>\r\n",
       "<!-- 18 -->\r\n",
       "<g id=\"node19\" class=\"node\"><title>18</title>\r\n",
       "<path fill=\"#8ec7f0\" stroke=\"black\" d=\"M1043.5,-306C1043.5,-306 942.5,-306 942.5,-306 936.5,-306 930.5,-300 930.5,-294 930.5,-294 930.5,-235 930.5,-235 930.5,-229 936.5,-223 942.5,-223 942.5,-223 1043.5,-223 1043.5,-223 1049.5,-223 1055.5,-229 1055.5,-235 1055.5,-235 1055.5,-294 1055.5,-294 1055.5,-300 1049.5,-306 1043.5,-306\"/>\r\n",
       "<text text-anchor=\"start\" x=\"940\" y=\"-290.8\" font-family=\"Helvetica,sans-Serif\" font-size=\"14.00\">Glucose ≤ 166.0</text>\r\n",
       "<text text-anchor=\"start\" x=\"943\" y=\"-275.8\" font-family=\"Helvetica,sans-Serif\" font-size=\"14.00\">entropy = 0.881</text>\r\n",
       "<text text-anchor=\"start\" x=\"945.5\" y=\"-260.8\" font-family=\"Helvetica,sans-Serif\" font-size=\"14.00\">samples = 100</text>\r\n",
       "<text text-anchor=\"start\" x=\"944.5\" y=\"-245.8\" font-family=\"Helvetica,sans-Serif\" font-size=\"14.00\">value = [30, 70]</text>\r\n",
       "<text text-anchor=\"start\" x=\"938.5\" y=\"-230.8\" font-family=\"Helvetica,sans-Serif\" font-size=\"14.00\">class = Diabético</text>\r\n",
       "</g>\r\n",
       "<!-- 14&#45;&gt;18 -->\r\n",
       "<g id=\"edge18\" class=\"edge\"><title>14&#45;&gt;18</title>\r\n",
       "<path fill=\"none\" stroke=\"black\" d=\"M785.622,-355.364C826.029,-337.854 878.719,-315.022 920.876,-296.754\"/>\r\n",
       "<polygon fill=\"black\" stroke=\"black\" points=\"922.467,-299.879 930.25,-292.691 919.683,-293.456 922.467,-299.879\"/>\r\n",
       "</g>\r\n",
       "<!-- 16 -->\r\n",
       "<g id=\"node17\" class=\"node\"><title>16</title>\r\n",
       "<path fill=\"#e58139\" stroke=\"black\" d=\"M757.5,-179.5C757.5,-179.5 676.5,-179.5 676.5,-179.5 670.5,-179.5 664.5,-173.5 664.5,-167.5 664.5,-167.5 664.5,-123.5 664.5,-123.5 664.5,-117.5 670.5,-111.5 676.5,-111.5 676.5,-111.5 757.5,-111.5 757.5,-111.5 763.5,-111.5 769.5,-117.5 769.5,-123.5 769.5,-123.5 769.5,-167.5 769.5,-167.5 769.5,-173.5 763.5,-179.5 757.5,-179.5\"/>\r\n",
       "<text text-anchor=\"start\" x=\"675\" y=\"-164.3\" font-family=\"Helvetica,sans-Serif\" font-size=\"14.00\">entropy = 0.0</text>\r\n",
       "<text text-anchor=\"start\" x=\"673.5\" y=\"-149.3\" font-family=\"Helvetica,sans-Serif\" font-size=\"14.00\">samples = 15</text>\r\n",
       "<text text-anchor=\"start\" x=\"672.5\" y=\"-134.3\" font-family=\"Helvetica,sans-Serif\" font-size=\"14.00\">value = [15, 0]</text>\r\n",
       "<text text-anchor=\"start\" x=\"676\" y=\"-119.3\" font-family=\"Helvetica,sans-Serif\" font-size=\"14.00\">class = Sano</text>\r\n",
       "</g>\r\n",
       "<!-- 15&#45;&gt;16 -->\r\n",
       "<g id=\"edge16\" class=\"edge\"><title>15&#45;&gt;16</title>\r\n",
       "<path fill=\"none\" stroke=\"black\" d=\"M720.918,-222.907C720.369,-212.204 719.775,-200.615 719.219,-189.776\"/>\r\n",
       "<polygon fill=\"black\" stroke=\"black\" points=\"722.709,-189.475 718.701,-179.667 715.718,-189.833 722.709,-189.475\"/>\r\n",
       "</g>\r\n",
       "<!-- 17 -->\r\n",
       "<g id=\"node18\" class=\"node\"><title>17</title>\r\n",
       "<path fill=\"#399de5\" stroke=\"black\" d=\"M900.5,-179.5C900.5,-179.5 799.5,-179.5 799.5,-179.5 793.5,-179.5 787.5,-173.5 787.5,-167.5 787.5,-167.5 787.5,-123.5 787.5,-123.5 787.5,-117.5 793.5,-111.5 799.5,-111.5 799.5,-111.5 900.5,-111.5 900.5,-111.5 906.5,-111.5 912.5,-117.5 912.5,-123.5 912.5,-123.5 912.5,-167.5 912.5,-167.5 912.5,-173.5 906.5,-179.5 900.5,-179.5\"/>\r\n",
       "<text text-anchor=\"start\" x=\"808\" y=\"-164.3\" font-family=\"Helvetica,sans-Serif\" font-size=\"14.00\">entropy = 0.0</text>\r\n",
       "<text text-anchor=\"start\" x=\"810.5\" y=\"-149.3\" font-family=\"Helvetica,sans-Serif\" font-size=\"14.00\">samples = 4</text>\r\n",
       "<text text-anchor=\"start\" x=\"809.5\" y=\"-134.3\" font-family=\"Helvetica,sans-Serif\" font-size=\"14.00\">value = [0, 4]</text>\r\n",
       "<text text-anchor=\"start\" x=\"795.5\" y=\"-119.3\" font-family=\"Helvetica,sans-Serif\" font-size=\"14.00\">class = Diabético</text>\r\n",
       "</g>\r\n",
       "<!-- 15&#45;&gt;17 -->\r\n",
       "<g id=\"edge17\" class=\"edge\"><title>15&#45;&gt;17</title>\r\n",
       "<path fill=\"none\" stroke=\"black\" d=\"M767.062,-222.907C779.878,-211.101 793.863,-198.217 806.636,-186.45\"/>\r\n",
       "<polygon fill=\"black\" stroke=\"black\" points=\"809.015,-189.017 813.998,-179.667 804.272,-183.868 809.015,-189.017\"/>\r\n",
       "</g>\r\n",
       "<!-- 19 -->\r\n",
       "<g id=\"node20\" class=\"node\"><title>19</title>\r\n",
       "<path fill=\"#afd7f4\" stroke=\"black\" d=\"M1043.5,-187C1043.5,-187 942.5,-187 942.5,-187 936.5,-187 930.5,-181 930.5,-175 930.5,-175 930.5,-116 930.5,-116 930.5,-110 936.5,-104 942.5,-104 942.5,-104 1043.5,-104 1043.5,-104 1049.5,-104 1055.5,-110 1055.5,-116 1055.5,-116 1055.5,-175 1055.5,-175 1055.5,-181 1049.5,-187 1043.5,-187\"/>\r\n",
       "<text text-anchor=\"start\" x=\"940\" y=\"-171.8\" font-family=\"Helvetica,sans-Serif\" font-size=\"14.00\">Glucose ≤ 163.5</text>\r\n",
       "<text text-anchor=\"start\" x=\"943\" y=\"-156.8\" font-family=\"Helvetica,sans-Serif\" font-size=\"14.00\">entropy = 0.953</text>\r\n",
       "<text text-anchor=\"start\" x=\"949.5\" y=\"-141.8\" font-family=\"Helvetica,sans-Serif\" font-size=\"14.00\">samples = 67</text>\r\n",
       "<text text-anchor=\"start\" x=\"944.5\" y=\"-126.8\" font-family=\"Helvetica,sans-Serif\" font-size=\"14.00\">value = [25, 42]</text>\r\n",
       "<text text-anchor=\"start\" x=\"938.5\" y=\"-111.8\" font-family=\"Helvetica,sans-Serif\" font-size=\"14.00\">class = Diabético</text>\r\n",
       "</g>\r\n",
       "<!-- 18&#45;&gt;19 -->\r\n",
       "<g id=\"edge19\" class=\"edge\"><title>18&#45;&gt;19</title>\r\n",
       "<path fill=\"none\" stroke=\"black\" d=\"M993,-222.907C993,-214.649 993,-205.864 993,-197.302\"/>\r\n",
       "<polygon fill=\"black\" stroke=\"black\" points=\"996.5,-197.021 993,-187.021 989.5,-197.021 996.5,-197.021\"/>\r\n",
       "</g>\r\n",
       "<!-- 22 -->\r\n",
       "<g id=\"node23\" class=\"node\"><title>22</title>\r\n",
       "<path fill=\"#5caeea\" stroke=\"black\" d=\"M1186.5,-187C1186.5,-187 1085.5,-187 1085.5,-187 1079.5,-187 1073.5,-181 1073.5,-175 1073.5,-175 1073.5,-116 1073.5,-116 1073.5,-110 1079.5,-104 1085.5,-104 1085.5,-104 1186.5,-104 1186.5,-104 1192.5,-104 1198.5,-110 1198.5,-116 1198.5,-116 1198.5,-175 1198.5,-175 1198.5,-181 1192.5,-187 1186.5,-187\"/>\r\n",
       "<text text-anchor=\"start\" x=\"1083\" y=\"-171.8\" font-family=\"Helvetica,sans-Serif\" font-size=\"14.00\">Glucose ≤ 190.0</text>\r\n",
       "<text text-anchor=\"start\" x=\"1086\" y=\"-156.8\" font-family=\"Helvetica,sans-Serif\" font-size=\"14.00\">entropy = 0.614</text>\r\n",
       "<text text-anchor=\"start\" x=\"1092.5\" y=\"-141.8\" font-family=\"Helvetica,sans-Serif\" font-size=\"14.00\">samples = 33</text>\r\n",
       "<text text-anchor=\"start\" x=\"1091.5\" y=\"-126.8\" font-family=\"Helvetica,sans-Serif\" font-size=\"14.00\">value = [5, 28]</text>\r\n",
       "<text text-anchor=\"start\" x=\"1081.5\" y=\"-111.8\" font-family=\"Helvetica,sans-Serif\" font-size=\"14.00\">class = Diabético</text>\r\n",
       "</g>\r\n",
       "<!-- 18&#45;&gt;22 -->\r\n",
       "<g id=\"edge22\" class=\"edge\"><title>18&#45;&gt;22</title>\r\n",
       "<path fill=\"none\" stroke=\"black\" d=\"M1042.61,-222.907C1054.26,-213.379 1066.76,-203.148 1078.71,-193.37\"/>\r\n",
       "<polygon fill=\"black\" stroke=\"black\" points=\"1080.95,-196.062 1086.47,-187.021 1076.52,-190.644 1080.95,-196.062\"/>\r\n",
       "</g>\r\n",
       "<!-- 20 -->\r\n",
       "<g id=\"node21\" class=\"node\"><title>20</title>\r\n",
       "<path fill=\"#a1d0f3\" stroke=\"black\" d=\"M918.5,-68C918.5,-68 817.5,-68 817.5,-68 811.5,-68 805.5,-62 805.5,-56 805.5,-56 805.5,-12 805.5,-12 805.5,-6 811.5,-0 817.5,-0 817.5,-0 918.5,-0 918.5,-0 924.5,-0 930.5,-6 930.5,-12 930.5,-12 930.5,-56 930.5,-56 930.5,-62 924.5,-68 918.5,-68\"/>\r\n",
       "<text text-anchor=\"start\" x=\"818\" y=\"-52.8\" font-family=\"Helvetica,sans-Serif\" font-size=\"14.00\">entropy = 0.928</text>\r\n",
       "<text text-anchor=\"start\" x=\"824.5\" y=\"-37.8\" font-family=\"Helvetica,sans-Serif\" font-size=\"14.00\">samples = 64</text>\r\n",
       "<text text-anchor=\"start\" x=\"819.5\" y=\"-22.8\" font-family=\"Helvetica,sans-Serif\" font-size=\"14.00\">value = [22, 42]</text>\r\n",
       "<text text-anchor=\"start\" x=\"813.5\" y=\"-7.8\" font-family=\"Helvetica,sans-Serif\" font-size=\"14.00\">class = Diabético</text>\r\n",
       "</g>\r\n",
       "<!-- 19&#45;&gt;20 -->\r\n",
       "<g id=\"edge20\" class=\"edge\"><title>19&#45;&gt;20</title>\r\n",
       "<path fill=\"none\" stroke=\"black\" d=\"M946.455,-103.726C935.73,-94.3318 924.334,-84.349 913.649,-74.9883\"/>\r\n",
       "<polygon fill=\"black\" stroke=\"black\" points=\"915.842,-72.2562 906.013,-68.2996 911.229,-77.5217 915.842,-72.2562\"/>\r\n",
       "</g>\r\n",
       "<!-- 21 -->\r\n",
       "<g id=\"node22\" class=\"node\"><title>21</title>\r\n",
       "<path fill=\"#e58139\" stroke=\"black\" d=\"M1037,-68C1037,-68 961,-68 961,-68 955,-68 949,-62 949,-56 949,-56 949,-12 949,-12 949,-6 955,-0 961,-0 961,-0 1037,-0 1037,-0 1043,-0 1049,-6 1049,-12 1049,-12 1049,-56 1049,-56 1049,-62 1043,-68 1037,-68\"/>\r\n",
       "<text text-anchor=\"start\" x=\"957\" y=\"-52.8\" font-family=\"Helvetica,sans-Serif\" font-size=\"14.00\">entropy = 0.0</text>\r\n",
       "<text text-anchor=\"start\" x=\"959.5\" y=\"-37.8\" font-family=\"Helvetica,sans-Serif\" font-size=\"14.00\">samples = 3</text>\r\n",
       "<text text-anchor=\"start\" x=\"958.5\" y=\"-22.8\" font-family=\"Helvetica,sans-Serif\" font-size=\"14.00\">value = [3, 0]</text>\r\n",
       "<text text-anchor=\"start\" x=\"958\" y=\"-7.8\" font-family=\"Helvetica,sans-Serif\" font-size=\"14.00\">class = Sano</text>\r\n",
       "</g>\r\n",
       "<!-- 19&#45;&gt;21 -->\r\n",
       "<g id=\"edge21\" class=\"edge\"><title>19&#45;&gt;21</title>\r\n",
       "<path fill=\"none\" stroke=\"black\" d=\"M995.234,-103.726C995.684,-95.5175 996.158,-86.8595 996.613,-78.56\"/>\r\n",
       "<polygon fill=\"black\" stroke=\"black\" points=\"1000.12,-78.4761 997.175,-68.2996 993.133,-78.0931 1000.12,-78.4761\"/>\r\n",
       "</g>\r\n",
       "<!-- 23 -->\r\n",
       "<g id=\"node24\" class=\"node\"><title>23</title>\r\n",
       "<path fill=\"#49a5e7\" stroke=\"black\" d=\"M1184.5,-68C1184.5,-68 1083.5,-68 1083.5,-68 1077.5,-68 1071.5,-62 1071.5,-56 1071.5,-56 1071.5,-12 1071.5,-12 1071.5,-6 1077.5,-0 1083.5,-0 1083.5,-0 1184.5,-0 1184.5,-0 1190.5,-0 1196.5,-6 1196.5,-12 1196.5,-12 1196.5,-56 1196.5,-56 1196.5,-62 1190.5,-68 1184.5,-68\"/>\r\n",
       "<text text-anchor=\"start\" x=\"1084\" y=\"-52.8\" font-family=\"Helvetica,sans-Serif\" font-size=\"14.00\">entropy = 0.391</text>\r\n",
       "<text text-anchor=\"start\" x=\"1090.5\" y=\"-37.8\" font-family=\"Helvetica,sans-Serif\" font-size=\"14.00\">samples = 26</text>\r\n",
       "<text text-anchor=\"start\" x=\"1089.5\" y=\"-22.8\" font-family=\"Helvetica,sans-Serif\" font-size=\"14.00\">value = [2, 24]</text>\r\n",
       "<text text-anchor=\"start\" x=\"1079.5\" y=\"-7.8\" font-family=\"Helvetica,sans-Serif\" font-size=\"14.00\">class = Diabético</text>\r\n",
       "</g>\r\n",
       "<!-- 22&#45;&gt;23 -->\r\n",
       "<g id=\"edge23\" class=\"edge\"><title>22&#45;&gt;23</title>\r\n",
       "<path fill=\"none\" stroke=\"black\" d=\"M1135.26,-103.726C1135.11,-95.5175 1134.95,-86.8595 1134.8,-78.56\"/>\r\n",
       "<polygon fill=\"black\" stroke=\"black\" points=\"1138.29,-78.234 1134.61,-68.2996 1131.29,-78.3619 1138.29,-78.234\"/>\r\n",
       "</g>\r\n",
       "<!-- 24 -->\r\n",
       "<g id=\"node25\" class=\"node\"><title>24</title>\r\n",
       "<path fill=\"#cee6f8\" stroke=\"black\" d=\"M1327.5,-68C1327.5,-68 1226.5,-68 1226.5,-68 1220.5,-68 1214.5,-62 1214.5,-56 1214.5,-56 1214.5,-12 1214.5,-12 1214.5,-6 1220.5,-0 1226.5,-0 1226.5,-0 1327.5,-0 1327.5,-0 1333.5,-0 1339.5,-6 1339.5,-12 1339.5,-12 1339.5,-56 1339.5,-56 1339.5,-62 1333.5,-68 1327.5,-68\"/>\r\n",
       "<text text-anchor=\"start\" x=\"1227\" y=\"-52.8\" font-family=\"Helvetica,sans-Serif\" font-size=\"14.00\">entropy = 0.985</text>\r\n",
       "<text text-anchor=\"start\" x=\"1237.5\" y=\"-37.8\" font-family=\"Helvetica,sans-Serif\" font-size=\"14.00\">samples = 7</text>\r\n",
       "<text text-anchor=\"start\" x=\"1236.5\" y=\"-22.8\" font-family=\"Helvetica,sans-Serif\" font-size=\"14.00\">value = [3, 4]</text>\r\n",
       "<text text-anchor=\"start\" x=\"1222.5\" y=\"-7.8\" font-family=\"Helvetica,sans-Serif\" font-size=\"14.00\">class = Diabético</text>\r\n",
       "</g>\r\n",
       "<!-- 22&#45;&gt;24 -->\r\n",
       "<g id=\"edge24\" class=\"edge\"><title>22&#45;&gt;24</title>\r\n",
       "<path fill=\"none\" stroke=\"black\" d=\"M1188.5,-103.726C1200.84,-94.1494 1213.95,-83.9611 1226.21,-74.4438\"/>\r\n",
       "<polygon fill=\"black\" stroke=\"black\" points=\"1228.37,-77.1975 1234.12,-68.2996 1224.08,-71.6689 1228.37,-77.1975\"/>\r\n",
       "</g>\r\n",
       "</g>\r\n",
       "</svg>\r\n"
      ],
      "text/plain": [
       "<graphviz.files.Source at 0x2163f149910>"
      ]
     },
     "execution_count": 15,
     "metadata": {},
     "output_type": "execute_result"
    }
   ],
   "source": [
    "dot_data = tree.export_graphviz(clf, \n",
    "                                out_file = None,\n",
    "                                class_names = ['Sano', 'Diabético'],\n",
    "                                feature_names = list(N1Diab.drop(['Outcome'], axis=1)),\n",
    "                                filled= True,\n",
    "                                rounded=True, \n",
    "                                special_characters=True,\n",
    "                               )\n",
    "graph = graphviz.Source(dot_data)\n",
    "graph "
   ]
  },
  {
   "cell_type": "markdown",
   "metadata": {},
   "source": [
    "____"
   ]
  },
  {
   "cell_type": "code",
   "execution_count": 26,
   "metadata": {},
   "outputs": [],
   "source": [
    "import numpy as np  \n",
    "import pandas as pd  \n",
    "import matplotlib.pyplot as plt  \n",
    "import seaborn as sns  \n",
    "# Librerias para curva ROC.\n",
    "from sklearn.datasets import make_classification  \n",
    "from sklearn.neighbors import KNeighborsClassifier  \n",
    "from sklearn.ensemble import RandomForestClassifier  \n",
    "from sklearn.model_selection import train_test_split  \n",
    "from sklearn.metrics import roc_curve  \n",
    "from sklearn.metrics import roc_auc_score  "
   ]
  },
  {
   "cell_type": "code",
   "execution_count": 27,
   "metadata": {},
   "outputs": [],
   "source": [
    "def plot_roc_curve(fpr, tpr):  \n",
    "    plt.plot(fpr, tpr, color='darkorange', label='ROC')\n",
    "    plt.plot([0, 1], [0, 1], color='darkblue', linestyle='--')\n",
    "    plt.xlabel('Tasa positiva falsa')\n",
    "    plt.ylabel('Tasa positiva verdadera')\n",
    "    plt.title('Curva ROC')\n",
    "    plt.legend()\n",
    "    plt.show()"
   ]
  },
  {
   "cell_type": "code",
   "execution_count": 28,
   "metadata": {},
   "outputs": [],
   "source": [
    "from sklearn.model_selection import train_test_split\n",
    "X_train, X_test, Y_train, Y_test = train_test_split(X, y, test_size = 0.25, random_state=0)"
   ]
  },
  {
   "cell_type": "code",
   "execution_count": 29,
   "metadata": {},
   "outputs": [
    {
     "data": {
      "text/plain": [
       "DecisionTreeClassifier()"
      ]
     },
     "execution_count": 29,
     "metadata": {},
     "output_type": "execute_result"
    }
   ],
   "source": [
    "model = DecisionTreeClassifier()  \n",
    "model.fit(X_train, Y_train)  "
   ]
  },
  {
   "cell_type": "code",
   "execution_count": 30,
   "metadata": {},
   "outputs": [],
   "source": [
    "probs = model.predict_proba(X_test) "
   ]
  },
  {
   "cell_type": "code",
   "execution_count": 31,
   "metadata": {},
   "outputs": [],
   "source": [
    "probs = probs[:, 1]  "
   ]
  },
  {
   "cell_type": "code",
   "execution_count": 32,
   "metadata": {},
   "outputs": [
    {
     "name": "stdout",
     "output_type": "stream",
     "text": [
      "AUC: 0.76\n"
     ]
    }
   ],
   "source": [
    "auc = roc_auc_score(Y_test, probs)  \n",
    "print('AUC: %.2f' % auc)  "
   ]
  },
  {
   "cell_type": "markdown",
   "metadata": {},
   "source": [
    "> **El valor ideal de un AUC es 1, es este caso obtuvimos 0.76 lo que nos indica que nuestro modelo es 76% exacto para su clasificación, por lo que concluimos que la exactitud del modelo no es óptima.** "
   ]
  },
  {
   "cell_type": "code",
   "execution_count": 33,
   "metadata": {},
   "outputs": [],
   "source": [
    "fpr, tpr, thresholds = roc_curve(Y_test, probs)  "
   ]
  },
  {
   "cell_type": "code",
   "execution_count": 34,
   "metadata": {},
   "outputs": [
    {
     "data": {
      "application/javascript": [
       "/* Put everything inside the global mpl namespace */\n",
       "/* global mpl */\n",
       "window.mpl = {};\n",
       "\n",
       "mpl.get_websocket_type = function () {\n",
       "    if (typeof WebSocket !== 'undefined') {\n",
       "        return WebSocket;\n",
       "    } else if (typeof MozWebSocket !== 'undefined') {\n",
       "        return MozWebSocket;\n",
       "    } else {\n",
       "        alert(\n",
       "            'Your browser does not have WebSocket support. ' +\n",
       "                'Please try Chrome, Safari or Firefox ≥ 6. ' +\n",
       "                'Firefox 4 and 5 are also supported but you ' +\n",
       "                'have to enable WebSockets in about:config.'\n",
       "        );\n",
       "    }\n",
       "};\n",
       "\n",
       "mpl.figure = function (figure_id, websocket, ondownload, parent_element) {\n",
       "    this.id = figure_id;\n",
       "\n",
       "    this.ws = websocket;\n",
       "\n",
       "    this.supports_binary = this.ws.binaryType !== undefined;\n",
       "\n",
       "    if (!this.supports_binary) {\n",
       "        var warnings = document.getElementById('mpl-warnings');\n",
       "        if (warnings) {\n",
       "            warnings.style.display = 'block';\n",
       "            warnings.textContent =\n",
       "                'This browser does not support binary websocket messages. ' +\n",
       "                'Performance may be slow.';\n",
       "        }\n",
       "    }\n",
       "\n",
       "    this.imageObj = new Image();\n",
       "\n",
       "    this.context = undefined;\n",
       "    this.message = undefined;\n",
       "    this.canvas = undefined;\n",
       "    this.rubberband_canvas = undefined;\n",
       "    this.rubberband_context = undefined;\n",
       "    this.format_dropdown = undefined;\n",
       "\n",
       "    this.image_mode = 'full';\n",
       "\n",
       "    this.root = document.createElement('div');\n",
       "    this.root.setAttribute('style', 'display: inline-block');\n",
       "    this._root_extra_style(this.root);\n",
       "\n",
       "    parent_element.appendChild(this.root);\n",
       "\n",
       "    this._init_header(this);\n",
       "    this._init_canvas(this);\n",
       "    this._init_toolbar(this);\n",
       "\n",
       "    var fig = this;\n",
       "\n",
       "    this.waiting = false;\n",
       "\n",
       "    this.ws.onopen = function () {\n",
       "        fig.send_message('supports_binary', { value: fig.supports_binary });\n",
       "        fig.send_message('send_image_mode', {});\n",
       "        if (fig.ratio !== 1) {\n",
       "            fig.send_message('set_dpi_ratio', { dpi_ratio: fig.ratio });\n",
       "        }\n",
       "        fig.send_message('refresh', {});\n",
       "    };\n",
       "\n",
       "    this.imageObj.onload = function () {\n",
       "        if (fig.image_mode === 'full') {\n",
       "            // Full images could contain transparency (where diff images\n",
       "            // almost always do), so we need to clear the canvas so that\n",
       "            // there is no ghosting.\n",
       "            fig.context.clearRect(0, 0, fig.canvas.width, fig.canvas.height);\n",
       "        }\n",
       "        fig.context.drawImage(fig.imageObj, 0, 0);\n",
       "    };\n",
       "\n",
       "    this.imageObj.onunload = function () {\n",
       "        fig.ws.close();\n",
       "    };\n",
       "\n",
       "    this.ws.onmessage = this._make_on_message_function(this);\n",
       "\n",
       "    this.ondownload = ondownload;\n",
       "};\n",
       "\n",
       "mpl.figure.prototype._init_header = function () {\n",
       "    var titlebar = document.createElement('div');\n",
       "    titlebar.classList =\n",
       "        'ui-dialog-titlebar ui-widget-header ui-corner-all ui-helper-clearfix';\n",
       "    var titletext = document.createElement('div');\n",
       "    titletext.classList = 'ui-dialog-title';\n",
       "    titletext.setAttribute(\n",
       "        'style',\n",
       "        'width: 100%; text-align: center; padding: 3px;'\n",
       "    );\n",
       "    titlebar.appendChild(titletext);\n",
       "    this.root.appendChild(titlebar);\n",
       "    this.header = titletext;\n",
       "};\n",
       "\n",
       "mpl.figure.prototype._canvas_extra_style = function (_canvas_div) {};\n",
       "\n",
       "mpl.figure.prototype._root_extra_style = function (_canvas_div) {};\n",
       "\n",
       "mpl.figure.prototype._init_canvas = function () {\n",
       "    var fig = this;\n",
       "\n",
       "    var canvas_div = (this.canvas_div = document.createElement('div'));\n",
       "    canvas_div.setAttribute(\n",
       "        'style',\n",
       "        'border: 1px solid #ddd;' +\n",
       "            'box-sizing: content-box;' +\n",
       "            'clear: both;' +\n",
       "            'min-height: 1px;' +\n",
       "            'min-width: 1px;' +\n",
       "            'outline: 0;' +\n",
       "            'overflow: hidden;' +\n",
       "            'position: relative;' +\n",
       "            'resize: both;'\n",
       "    );\n",
       "\n",
       "    function on_keyboard_event_closure(name) {\n",
       "        return function (event) {\n",
       "            return fig.key_event(event, name);\n",
       "        };\n",
       "    }\n",
       "\n",
       "    canvas_div.addEventListener(\n",
       "        'keydown',\n",
       "        on_keyboard_event_closure('key_press')\n",
       "    );\n",
       "    canvas_div.addEventListener(\n",
       "        'keyup',\n",
       "        on_keyboard_event_closure('key_release')\n",
       "    );\n",
       "\n",
       "    this._canvas_extra_style(canvas_div);\n",
       "    this.root.appendChild(canvas_div);\n",
       "\n",
       "    var canvas = (this.canvas = document.createElement('canvas'));\n",
       "    canvas.classList.add('mpl-canvas');\n",
       "    canvas.setAttribute('style', 'box-sizing: content-box;');\n",
       "\n",
       "    this.context = canvas.getContext('2d');\n",
       "\n",
       "    var backingStore =\n",
       "        this.context.backingStorePixelRatio ||\n",
       "        this.context.webkitBackingStorePixelRatio ||\n",
       "        this.context.mozBackingStorePixelRatio ||\n",
       "        this.context.msBackingStorePixelRatio ||\n",
       "        this.context.oBackingStorePixelRatio ||\n",
       "        this.context.backingStorePixelRatio ||\n",
       "        1;\n",
       "\n",
       "    this.ratio = (window.devicePixelRatio || 1) / backingStore;\n",
       "    if (this.ratio !== 1) {\n",
       "        fig.send_message('set_dpi_ratio', { dpi_ratio: this.ratio });\n",
       "    }\n",
       "\n",
       "    var rubberband_canvas = (this.rubberband_canvas = document.createElement(\n",
       "        'canvas'\n",
       "    ));\n",
       "    rubberband_canvas.setAttribute(\n",
       "        'style',\n",
       "        'box-sizing: content-box; position: absolute; left: 0; top: 0; z-index: 1;'\n",
       "    );\n",
       "\n",
       "    var resizeObserver = new ResizeObserver(function (entries) {\n",
       "        var nentries = entries.length;\n",
       "        for (var i = 0; i < nentries; i++) {\n",
       "            var entry = entries[i];\n",
       "            var width, height;\n",
       "            if (entry.contentBoxSize) {\n",
       "                if (entry.contentBoxSize instanceof Array) {\n",
       "                    // Chrome 84 implements new version of spec.\n",
       "                    width = entry.contentBoxSize[0].inlineSize;\n",
       "                    height = entry.contentBoxSize[0].blockSize;\n",
       "                } else {\n",
       "                    // Firefox implements old version of spec.\n",
       "                    width = entry.contentBoxSize.inlineSize;\n",
       "                    height = entry.contentBoxSize.blockSize;\n",
       "                }\n",
       "            } else {\n",
       "                // Chrome <84 implements even older version of spec.\n",
       "                width = entry.contentRect.width;\n",
       "                height = entry.contentRect.height;\n",
       "            }\n",
       "\n",
       "            // Keep the size of the canvas and rubber band canvas in sync with\n",
       "            // the canvas container.\n",
       "            if (entry.devicePixelContentBoxSize) {\n",
       "                // Chrome 84 implements new version of spec.\n",
       "                canvas.setAttribute(\n",
       "                    'width',\n",
       "                    entry.devicePixelContentBoxSize[0].inlineSize\n",
       "                );\n",
       "                canvas.setAttribute(\n",
       "                    'height',\n",
       "                    entry.devicePixelContentBoxSize[0].blockSize\n",
       "                );\n",
       "            } else {\n",
       "                canvas.setAttribute('width', width * fig.ratio);\n",
       "                canvas.setAttribute('height', height * fig.ratio);\n",
       "            }\n",
       "            canvas.setAttribute(\n",
       "                'style',\n",
       "                'width: ' + width + 'px; height: ' + height + 'px;'\n",
       "            );\n",
       "\n",
       "            rubberband_canvas.setAttribute('width', width);\n",
       "            rubberband_canvas.setAttribute('height', height);\n",
       "\n",
       "            // And update the size in Python. We ignore the initial 0/0 size\n",
       "            // that occurs as the element is placed into the DOM, which should\n",
       "            // otherwise not happen due to the minimum size styling.\n",
       "            if (width != 0 && height != 0) {\n",
       "                fig.request_resize(width, height);\n",
       "            }\n",
       "        }\n",
       "    });\n",
       "    resizeObserver.observe(canvas_div);\n",
       "\n",
       "    function on_mouse_event_closure(name) {\n",
       "        return function (event) {\n",
       "            return fig.mouse_event(event, name);\n",
       "        };\n",
       "    }\n",
       "\n",
       "    rubberband_canvas.addEventListener(\n",
       "        'mousedown',\n",
       "        on_mouse_event_closure('button_press')\n",
       "    );\n",
       "    rubberband_canvas.addEventListener(\n",
       "        'mouseup',\n",
       "        on_mouse_event_closure('button_release')\n",
       "    );\n",
       "    // Throttle sequential mouse events to 1 every 20ms.\n",
       "    rubberband_canvas.addEventListener(\n",
       "        'mousemove',\n",
       "        on_mouse_event_closure('motion_notify')\n",
       "    );\n",
       "\n",
       "    rubberband_canvas.addEventListener(\n",
       "        'mouseenter',\n",
       "        on_mouse_event_closure('figure_enter')\n",
       "    );\n",
       "    rubberband_canvas.addEventListener(\n",
       "        'mouseleave',\n",
       "        on_mouse_event_closure('figure_leave')\n",
       "    );\n",
       "\n",
       "    canvas_div.addEventListener('wheel', function (event) {\n",
       "        if (event.deltaY < 0) {\n",
       "            event.step = 1;\n",
       "        } else {\n",
       "            event.step = -1;\n",
       "        }\n",
       "        on_mouse_event_closure('scroll')(event);\n",
       "    });\n",
       "\n",
       "    canvas_div.appendChild(canvas);\n",
       "    canvas_div.appendChild(rubberband_canvas);\n",
       "\n",
       "    this.rubberband_context = rubberband_canvas.getContext('2d');\n",
       "    this.rubberband_context.strokeStyle = '#000000';\n",
       "\n",
       "    this._resize_canvas = function (width, height, forward) {\n",
       "        if (forward) {\n",
       "            canvas_div.style.width = width + 'px';\n",
       "            canvas_div.style.height = height + 'px';\n",
       "        }\n",
       "    };\n",
       "\n",
       "    // Disable right mouse context menu.\n",
       "    this.rubberband_canvas.addEventListener('contextmenu', function (_e) {\n",
       "        event.preventDefault();\n",
       "        return false;\n",
       "    });\n",
       "\n",
       "    function set_focus() {\n",
       "        canvas.focus();\n",
       "        canvas_div.focus();\n",
       "    }\n",
       "\n",
       "    window.setTimeout(set_focus, 100);\n",
       "};\n",
       "\n",
       "mpl.figure.prototype._init_toolbar = function () {\n",
       "    var fig = this;\n",
       "\n",
       "    var toolbar = document.createElement('div');\n",
       "    toolbar.classList = 'mpl-toolbar';\n",
       "    this.root.appendChild(toolbar);\n",
       "\n",
       "    function on_click_closure(name) {\n",
       "        return function (_event) {\n",
       "            return fig.toolbar_button_onclick(name);\n",
       "        };\n",
       "    }\n",
       "\n",
       "    function on_mouseover_closure(tooltip) {\n",
       "        return function (event) {\n",
       "            if (!event.currentTarget.disabled) {\n",
       "                return fig.toolbar_button_onmouseover(tooltip);\n",
       "            }\n",
       "        };\n",
       "    }\n",
       "\n",
       "    fig.buttons = {};\n",
       "    var buttonGroup = document.createElement('div');\n",
       "    buttonGroup.classList = 'mpl-button-group';\n",
       "    for (var toolbar_ind in mpl.toolbar_items) {\n",
       "        var name = mpl.toolbar_items[toolbar_ind][0];\n",
       "        var tooltip = mpl.toolbar_items[toolbar_ind][1];\n",
       "        var image = mpl.toolbar_items[toolbar_ind][2];\n",
       "        var method_name = mpl.toolbar_items[toolbar_ind][3];\n",
       "\n",
       "        if (!name) {\n",
       "            /* Instead of a spacer, we start a new button group. */\n",
       "            if (buttonGroup.hasChildNodes()) {\n",
       "                toolbar.appendChild(buttonGroup);\n",
       "            }\n",
       "            buttonGroup = document.createElement('div');\n",
       "            buttonGroup.classList = 'mpl-button-group';\n",
       "            continue;\n",
       "        }\n",
       "\n",
       "        var button = (fig.buttons[name] = document.createElement('button'));\n",
       "        button.classList = 'mpl-widget';\n",
       "        button.setAttribute('role', 'button');\n",
       "        button.setAttribute('aria-disabled', 'false');\n",
       "        button.addEventListener('click', on_click_closure(method_name));\n",
       "        button.addEventListener('mouseover', on_mouseover_closure(tooltip));\n",
       "\n",
       "        var icon_img = document.createElement('img');\n",
       "        icon_img.src = '_images/' + image + '.png';\n",
       "        icon_img.srcset = '_images/' + image + '_large.png 2x';\n",
       "        icon_img.alt = tooltip;\n",
       "        button.appendChild(icon_img);\n",
       "\n",
       "        buttonGroup.appendChild(button);\n",
       "    }\n",
       "\n",
       "    if (buttonGroup.hasChildNodes()) {\n",
       "        toolbar.appendChild(buttonGroup);\n",
       "    }\n",
       "\n",
       "    var fmt_picker = document.createElement('select');\n",
       "    fmt_picker.classList = 'mpl-widget';\n",
       "    toolbar.appendChild(fmt_picker);\n",
       "    this.format_dropdown = fmt_picker;\n",
       "\n",
       "    for (var ind in mpl.extensions) {\n",
       "        var fmt = mpl.extensions[ind];\n",
       "        var option = document.createElement('option');\n",
       "        option.selected = fmt === mpl.default_extension;\n",
       "        option.innerHTML = fmt;\n",
       "        fmt_picker.appendChild(option);\n",
       "    }\n",
       "\n",
       "    var status_bar = document.createElement('span');\n",
       "    status_bar.classList = 'mpl-message';\n",
       "    toolbar.appendChild(status_bar);\n",
       "    this.message = status_bar;\n",
       "};\n",
       "\n",
       "mpl.figure.prototype.request_resize = function (x_pixels, y_pixels) {\n",
       "    // Request matplotlib to resize the figure. Matplotlib will then trigger a resize in the client,\n",
       "    // which will in turn request a refresh of the image.\n",
       "    this.send_message('resize', { width: x_pixels, height: y_pixels });\n",
       "};\n",
       "\n",
       "mpl.figure.prototype.send_message = function (type, properties) {\n",
       "    properties['type'] = type;\n",
       "    properties['figure_id'] = this.id;\n",
       "    this.ws.send(JSON.stringify(properties));\n",
       "};\n",
       "\n",
       "mpl.figure.prototype.send_draw_message = function () {\n",
       "    if (!this.waiting) {\n",
       "        this.waiting = true;\n",
       "        this.ws.send(JSON.stringify({ type: 'draw', figure_id: this.id }));\n",
       "    }\n",
       "};\n",
       "\n",
       "mpl.figure.prototype.handle_save = function (fig, _msg) {\n",
       "    var format_dropdown = fig.format_dropdown;\n",
       "    var format = format_dropdown.options[format_dropdown.selectedIndex].value;\n",
       "    fig.ondownload(fig, format);\n",
       "};\n",
       "\n",
       "mpl.figure.prototype.handle_resize = function (fig, msg) {\n",
       "    var size = msg['size'];\n",
       "    if (size[0] !== fig.canvas.width || size[1] !== fig.canvas.height) {\n",
       "        fig._resize_canvas(size[0], size[1], msg['forward']);\n",
       "        fig.send_message('refresh', {});\n",
       "    }\n",
       "};\n",
       "\n",
       "mpl.figure.prototype.handle_rubberband = function (fig, msg) {\n",
       "    var x0 = msg['x0'] / fig.ratio;\n",
       "    var y0 = (fig.canvas.height - msg['y0']) / fig.ratio;\n",
       "    var x1 = msg['x1'] / fig.ratio;\n",
       "    var y1 = (fig.canvas.height - msg['y1']) / fig.ratio;\n",
       "    x0 = Math.floor(x0) + 0.5;\n",
       "    y0 = Math.floor(y0) + 0.5;\n",
       "    x1 = Math.floor(x1) + 0.5;\n",
       "    y1 = Math.floor(y1) + 0.5;\n",
       "    var min_x = Math.min(x0, x1);\n",
       "    var min_y = Math.min(y0, y1);\n",
       "    var width = Math.abs(x1 - x0);\n",
       "    var height = Math.abs(y1 - y0);\n",
       "\n",
       "    fig.rubberband_context.clearRect(\n",
       "        0,\n",
       "        0,\n",
       "        fig.canvas.width / fig.ratio,\n",
       "        fig.canvas.height / fig.ratio\n",
       "    );\n",
       "\n",
       "    fig.rubberband_context.strokeRect(min_x, min_y, width, height);\n",
       "};\n",
       "\n",
       "mpl.figure.prototype.handle_figure_label = function (fig, msg) {\n",
       "    // Updates the figure title.\n",
       "    fig.header.textContent = msg['label'];\n",
       "};\n",
       "\n",
       "mpl.figure.prototype.handle_cursor = function (fig, msg) {\n",
       "    var cursor = msg['cursor'];\n",
       "    switch (cursor) {\n",
       "        case 0:\n",
       "            cursor = 'pointer';\n",
       "            break;\n",
       "        case 1:\n",
       "            cursor = 'default';\n",
       "            break;\n",
       "        case 2:\n",
       "            cursor = 'crosshair';\n",
       "            break;\n",
       "        case 3:\n",
       "            cursor = 'move';\n",
       "            break;\n",
       "    }\n",
       "    fig.rubberband_canvas.style.cursor = cursor;\n",
       "};\n",
       "\n",
       "mpl.figure.prototype.handle_message = function (fig, msg) {\n",
       "    fig.message.textContent = msg['message'];\n",
       "};\n",
       "\n",
       "mpl.figure.prototype.handle_draw = function (fig, _msg) {\n",
       "    // Request the server to send over a new figure.\n",
       "    fig.send_draw_message();\n",
       "};\n",
       "\n",
       "mpl.figure.prototype.handle_image_mode = function (fig, msg) {\n",
       "    fig.image_mode = msg['mode'];\n",
       "};\n",
       "\n",
       "mpl.figure.prototype.handle_history_buttons = function (fig, msg) {\n",
       "    for (var key in msg) {\n",
       "        if (!(key in fig.buttons)) {\n",
       "            continue;\n",
       "        }\n",
       "        fig.buttons[key].disabled = !msg[key];\n",
       "        fig.buttons[key].setAttribute('aria-disabled', !msg[key]);\n",
       "    }\n",
       "};\n",
       "\n",
       "mpl.figure.prototype.handle_navigate_mode = function (fig, msg) {\n",
       "    if (msg['mode'] === 'PAN') {\n",
       "        fig.buttons['Pan'].classList.add('active');\n",
       "        fig.buttons['Zoom'].classList.remove('active');\n",
       "    } else if (msg['mode'] === 'ZOOM') {\n",
       "        fig.buttons['Pan'].classList.remove('active');\n",
       "        fig.buttons['Zoom'].classList.add('active');\n",
       "    } else {\n",
       "        fig.buttons['Pan'].classList.remove('active');\n",
       "        fig.buttons['Zoom'].classList.remove('active');\n",
       "    }\n",
       "};\n",
       "\n",
       "mpl.figure.prototype.updated_canvas_event = function () {\n",
       "    // Called whenever the canvas gets updated.\n",
       "    this.send_message('ack', {});\n",
       "};\n",
       "\n",
       "// A function to construct a web socket function for onmessage handling.\n",
       "// Called in the figure constructor.\n",
       "mpl.figure.prototype._make_on_message_function = function (fig) {\n",
       "    return function socket_on_message(evt) {\n",
       "        if (evt.data instanceof Blob) {\n",
       "            /* FIXME: We get \"Resource interpreted as Image but\n",
       "             * transferred with MIME type text/plain:\" errors on\n",
       "             * Chrome.  But how to set the MIME type?  It doesn't seem\n",
       "             * to be part of the websocket stream */\n",
       "            evt.data.type = 'image/png';\n",
       "\n",
       "            /* Free the memory for the previous frames */\n",
       "            if (fig.imageObj.src) {\n",
       "                (window.URL || window.webkitURL).revokeObjectURL(\n",
       "                    fig.imageObj.src\n",
       "                );\n",
       "            }\n",
       "\n",
       "            fig.imageObj.src = (window.URL || window.webkitURL).createObjectURL(\n",
       "                evt.data\n",
       "            );\n",
       "            fig.updated_canvas_event();\n",
       "            fig.waiting = false;\n",
       "            return;\n",
       "        } else if (\n",
       "            typeof evt.data === 'string' &&\n",
       "            evt.data.slice(0, 21) === 'data:image/png;base64'\n",
       "        ) {\n",
       "            fig.imageObj.src = evt.data;\n",
       "            fig.updated_canvas_event();\n",
       "            fig.waiting = false;\n",
       "            return;\n",
       "        }\n",
       "\n",
       "        var msg = JSON.parse(evt.data);\n",
       "        var msg_type = msg['type'];\n",
       "\n",
       "        // Call the  \"handle_{type}\" callback, which takes\n",
       "        // the figure and JSON message as its only arguments.\n",
       "        try {\n",
       "            var callback = fig['handle_' + msg_type];\n",
       "        } catch (e) {\n",
       "            console.log(\n",
       "                \"No handler for the '\" + msg_type + \"' message type: \",\n",
       "                msg\n",
       "            );\n",
       "            return;\n",
       "        }\n",
       "\n",
       "        if (callback) {\n",
       "            try {\n",
       "                // console.log(\"Handling '\" + msg_type + \"' message: \", msg);\n",
       "                callback(fig, msg);\n",
       "            } catch (e) {\n",
       "                console.log(\n",
       "                    \"Exception inside the 'handler_\" + msg_type + \"' callback:\",\n",
       "                    e,\n",
       "                    e.stack,\n",
       "                    msg\n",
       "                );\n",
       "            }\n",
       "        }\n",
       "    };\n",
       "};\n",
       "\n",
       "// from http://stackoverflow.com/questions/1114465/getting-mouse-location-in-canvas\n",
       "mpl.findpos = function (e) {\n",
       "    //this section is from http://www.quirksmode.org/js/events_properties.html\n",
       "    var targ;\n",
       "    if (!e) {\n",
       "        e = window.event;\n",
       "    }\n",
       "    if (e.target) {\n",
       "        targ = e.target;\n",
       "    } else if (e.srcElement) {\n",
       "        targ = e.srcElement;\n",
       "    }\n",
       "    if (targ.nodeType === 3) {\n",
       "        // defeat Safari bug\n",
       "        targ = targ.parentNode;\n",
       "    }\n",
       "\n",
       "    // pageX,Y are the mouse positions relative to the document\n",
       "    var boundingRect = targ.getBoundingClientRect();\n",
       "    var x = e.pageX - (boundingRect.left + document.body.scrollLeft);\n",
       "    var y = e.pageY - (boundingRect.top + document.body.scrollTop);\n",
       "\n",
       "    return { x: x, y: y };\n",
       "};\n",
       "\n",
       "/*\n",
       " * return a copy of an object with only non-object keys\n",
       " * we need this to avoid circular references\n",
       " * http://stackoverflow.com/a/24161582/3208463\n",
       " */\n",
       "function simpleKeys(original) {\n",
       "    return Object.keys(original).reduce(function (obj, key) {\n",
       "        if (typeof original[key] !== 'object') {\n",
       "            obj[key] = original[key];\n",
       "        }\n",
       "        return obj;\n",
       "    }, {});\n",
       "}\n",
       "\n",
       "mpl.figure.prototype.mouse_event = function (event, name) {\n",
       "    var canvas_pos = mpl.findpos(event);\n",
       "\n",
       "    if (name === 'button_press') {\n",
       "        this.canvas.focus();\n",
       "        this.canvas_div.focus();\n",
       "    }\n",
       "\n",
       "    var x = canvas_pos.x * this.ratio;\n",
       "    var y = canvas_pos.y * this.ratio;\n",
       "\n",
       "    this.send_message(name, {\n",
       "        x: x,\n",
       "        y: y,\n",
       "        button: event.button,\n",
       "        step: event.step,\n",
       "        guiEvent: simpleKeys(event),\n",
       "    });\n",
       "\n",
       "    /* This prevents the web browser from automatically changing to\n",
       "     * the text insertion cursor when the button is pressed.  We want\n",
       "     * to control all of the cursor setting manually through the\n",
       "     * 'cursor' event from matplotlib */\n",
       "    event.preventDefault();\n",
       "    return false;\n",
       "};\n",
       "\n",
       "mpl.figure.prototype._key_event_extra = function (_event, _name) {\n",
       "    // Handle any extra behaviour associated with a key event\n",
       "};\n",
       "\n",
       "mpl.figure.prototype.key_event = function (event, name) {\n",
       "    // Prevent repeat events\n",
       "    if (name === 'key_press') {\n",
       "        if (event.which === this._key) {\n",
       "            return;\n",
       "        } else {\n",
       "            this._key = event.which;\n",
       "        }\n",
       "    }\n",
       "    if (name === 'key_release') {\n",
       "        this._key = null;\n",
       "    }\n",
       "\n",
       "    var value = '';\n",
       "    if (event.ctrlKey && event.which !== 17) {\n",
       "        value += 'ctrl+';\n",
       "    }\n",
       "    if (event.altKey && event.which !== 18) {\n",
       "        value += 'alt+';\n",
       "    }\n",
       "    if (event.shiftKey && event.which !== 16) {\n",
       "        value += 'shift+';\n",
       "    }\n",
       "\n",
       "    value += 'k';\n",
       "    value += event.which.toString();\n",
       "\n",
       "    this._key_event_extra(event, name);\n",
       "\n",
       "    this.send_message(name, { key: value, guiEvent: simpleKeys(event) });\n",
       "    return false;\n",
       "};\n",
       "\n",
       "mpl.figure.prototype.toolbar_button_onclick = function (name) {\n",
       "    if (name === 'download') {\n",
       "        this.handle_save(this, null);\n",
       "    } else {\n",
       "        this.send_message('toolbar_button', { name: name });\n",
       "    }\n",
       "};\n",
       "\n",
       "mpl.figure.prototype.toolbar_button_onmouseover = function (tooltip) {\n",
       "    this.message.textContent = tooltip;\n",
       "};\n",
       "mpl.toolbar_items = [[\"Home\", \"Reset original view\", \"fa fa-home icon-home\", \"home\"], [\"Back\", \"Back to previous view\", \"fa fa-arrow-left icon-arrow-left\", \"back\"], [\"Forward\", \"Forward to next view\", \"fa fa-arrow-right icon-arrow-right\", \"forward\"], [\"\", \"\", \"\", \"\"], [\"Pan\", \"Left button pans, Right button zooms\\nx/y fixes axis, CTRL fixes aspect\", \"fa fa-arrows icon-move\", \"pan\"], [\"Zoom\", \"Zoom to rectangle\\nx/y fixes axis, CTRL fixes aspect\", \"fa fa-square-o icon-check-empty\", \"zoom\"], [\"\", \"\", \"\", \"\"], [\"Download\", \"Download plot\", \"fa fa-floppy-o icon-save\", \"download\"]];\n",
       "\n",
       "mpl.extensions = [\"eps\", \"jpeg\", \"pdf\", \"png\", \"ps\", \"raw\", \"svg\", \"tif\"];\n",
       "\n",
       "mpl.default_extension = \"png\";/* global mpl */\n",
       "\n",
       "var comm_websocket_adapter = function (comm) {\n",
       "    // Create a \"websocket\"-like object which calls the given IPython comm\n",
       "    // object with the appropriate methods. Currently this is a non binary\n",
       "    // socket, so there is still some room for performance tuning.\n",
       "    var ws = {};\n",
       "\n",
       "    ws.close = function () {\n",
       "        comm.close();\n",
       "    };\n",
       "    ws.send = function (m) {\n",
       "        //console.log('sending', m);\n",
       "        comm.send(m);\n",
       "    };\n",
       "    // Register the callback with on_msg.\n",
       "    comm.on_msg(function (msg) {\n",
       "        //console.log('receiving', msg['content']['data'], msg);\n",
       "        // Pass the mpl event to the overridden (by mpl) onmessage function.\n",
       "        ws.onmessage(msg['content']['data']);\n",
       "    });\n",
       "    return ws;\n",
       "};\n",
       "\n",
       "mpl.mpl_figure_comm = function (comm, msg) {\n",
       "    // This is the function which gets called when the mpl process\n",
       "    // starts-up an IPython Comm through the \"matplotlib\" channel.\n",
       "\n",
       "    var id = msg.content.data.id;\n",
       "    // Get hold of the div created by the display call when the Comm\n",
       "    // socket was opened in Python.\n",
       "    var element = document.getElementById(id);\n",
       "    var ws_proxy = comm_websocket_adapter(comm);\n",
       "\n",
       "    function ondownload(figure, _format) {\n",
       "        window.open(figure.canvas.toDataURL());\n",
       "    }\n",
       "\n",
       "    var fig = new mpl.figure(id, ws_proxy, ondownload, element);\n",
       "\n",
       "    // Call onopen now - mpl needs it, as it is assuming we've passed it a real\n",
       "    // web socket which is closed, not our websocket->open comm proxy.\n",
       "    ws_proxy.onopen();\n",
       "\n",
       "    fig.parent_element = element;\n",
       "    fig.cell_info = mpl.find_output_cell(\"<div id='\" + id + \"'></div>\");\n",
       "    if (!fig.cell_info) {\n",
       "        console.error('Failed to find cell for figure', id, fig);\n",
       "        return;\n",
       "    }\n",
       "    fig.cell_info[0].output_area.element.one(\n",
       "        'cleared',\n",
       "        { fig: fig },\n",
       "        fig._remove_fig_handler\n",
       "    );\n",
       "};\n",
       "\n",
       "mpl.figure.prototype.handle_close = function (fig, msg) {\n",
       "    var width = fig.canvas.width / fig.ratio;\n",
       "    fig.cell_info[0].output_area.element.off(\n",
       "        'cleared',\n",
       "        fig._remove_fig_handler\n",
       "    );\n",
       "\n",
       "    // Update the output cell to use the data from the current canvas.\n",
       "    fig.push_to_output();\n",
       "    var dataURL = fig.canvas.toDataURL();\n",
       "    // Re-enable the keyboard manager in IPython - without this line, in FF,\n",
       "    // the notebook keyboard shortcuts fail.\n",
       "    IPython.keyboard_manager.enable();\n",
       "    fig.parent_element.innerHTML =\n",
       "        '<img src=\"' + dataURL + '\" width=\"' + width + '\">';\n",
       "    fig.close_ws(fig, msg);\n",
       "};\n",
       "\n",
       "mpl.figure.prototype.close_ws = function (fig, msg) {\n",
       "    fig.send_message('closing', msg);\n",
       "    // fig.ws.close()\n",
       "};\n",
       "\n",
       "mpl.figure.prototype.push_to_output = function (_remove_interactive) {\n",
       "    // Turn the data on the canvas into data in the output cell.\n",
       "    var width = this.canvas.width / this.ratio;\n",
       "    var dataURL = this.canvas.toDataURL();\n",
       "    this.cell_info[1]['text/html'] =\n",
       "        '<img src=\"' + dataURL + '\" width=\"' + width + '\">';\n",
       "};\n",
       "\n",
       "mpl.figure.prototype.updated_canvas_event = function () {\n",
       "    // Tell IPython that the notebook contents must change.\n",
       "    IPython.notebook.set_dirty(true);\n",
       "    this.send_message('ack', {});\n",
       "    var fig = this;\n",
       "    // Wait a second, then push the new image to the DOM so\n",
       "    // that it is saved nicely (might be nice to debounce this).\n",
       "    setTimeout(function () {\n",
       "        fig.push_to_output();\n",
       "    }, 1000);\n",
       "};\n",
       "\n",
       "mpl.figure.prototype._init_toolbar = function () {\n",
       "    var fig = this;\n",
       "\n",
       "    var toolbar = document.createElement('div');\n",
       "    toolbar.classList = 'btn-toolbar';\n",
       "    this.root.appendChild(toolbar);\n",
       "\n",
       "    function on_click_closure(name) {\n",
       "        return function (_event) {\n",
       "            return fig.toolbar_button_onclick(name);\n",
       "        };\n",
       "    }\n",
       "\n",
       "    function on_mouseover_closure(tooltip) {\n",
       "        return function (event) {\n",
       "            if (!event.currentTarget.disabled) {\n",
       "                return fig.toolbar_button_onmouseover(tooltip);\n",
       "            }\n",
       "        };\n",
       "    }\n",
       "\n",
       "    fig.buttons = {};\n",
       "    var buttonGroup = document.createElement('div');\n",
       "    buttonGroup.classList = 'btn-group';\n",
       "    var button;\n",
       "    for (var toolbar_ind in mpl.toolbar_items) {\n",
       "        var name = mpl.toolbar_items[toolbar_ind][0];\n",
       "        var tooltip = mpl.toolbar_items[toolbar_ind][1];\n",
       "        var image = mpl.toolbar_items[toolbar_ind][2];\n",
       "        var method_name = mpl.toolbar_items[toolbar_ind][3];\n",
       "\n",
       "        if (!name) {\n",
       "            /* Instead of a spacer, we start a new button group. */\n",
       "            if (buttonGroup.hasChildNodes()) {\n",
       "                toolbar.appendChild(buttonGroup);\n",
       "            }\n",
       "            buttonGroup = document.createElement('div');\n",
       "            buttonGroup.classList = 'btn-group';\n",
       "            continue;\n",
       "        }\n",
       "\n",
       "        button = fig.buttons[name] = document.createElement('button');\n",
       "        button.classList = 'btn btn-default';\n",
       "        button.href = '#';\n",
       "        button.title = name;\n",
       "        button.innerHTML = '<i class=\"fa ' + image + ' fa-lg\"></i>';\n",
       "        button.addEventListener('click', on_click_closure(method_name));\n",
       "        button.addEventListener('mouseover', on_mouseover_closure(tooltip));\n",
       "        buttonGroup.appendChild(button);\n",
       "    }\n",
       "\n",
       "    if (buttonGroup.hasChildNodes()) {\n",
       "        toolbar.appendChild(buttonGroup);\n",
       "    }\n",
       "\n",
       "    // Add the status bar.\n",
       "    var status_bar = document.createElement('span');\n",
       "    status_bar.classList = 'mpl-message pull-right';\n",
       "    toolbar.appendChild(status_bar);\n",
       "    this.message = status_bar;\n",
       "\n",
       "    // Add the close button to the window.\n",
       "    var buttongrp = document.createElement('div');\n",
       "    buttongrp.classList = 'btn-group inline pull-right';\n",
       "    button = document.createElement('button');\n",
       "    button.classList = 'btn btn-mini btn-primary';\n",
       "    button.href = '#';\n",
       "    button.title = 'Stop Interaction';\n",
       "    button.innerHTML = '<i class=\"fa fa-power-off icon-remove icon-large\"></i>';\n",
       "    button.addEventListener('click', function (_evt) {\n",
       "        fig.handle_close(fig, {});\n",
       "    });\n",
       "    button.addEventListener(\n",
       "        'mouseover',\n",
       "        on_mouseover_closure('Stop Interaction')\n",
       "    );\n",
       "    buttongrp.appendChild(button);\n",
       "    var titlebar = this.root.querySelector('.ui-dialog-titlebar');\n",
       "    titlebar.insertBefore(buttongrp, titlebar.firstChild);\n",
       "};\n",
       "\n",
       "mpl.figure.prototype._remove_fig_handler = function (event) {\n",
       "    var fig = event.data.fig;\n",
       "    fig.close_ws(fig, {});\n",
       "};\n",
       "\n",
       "mpl.figure.prototype._root_extra_style = function (el) {\n",
       "    el.style.boxSizing = 'content-box'; // override notebook setting of border-box.\n",
       "};\n",
       "\n",
       "mpl.figure.prototype._canvas_extra_style = function (el) {\n",
       "    // this is important to make the div 'focusable\n",
       "    el.setAttribute('tabindex', 0);\n",
       "    // reach out to IPython and tell the keyboard manager to turn it's self\n",
       "    // off when our div gets focus\n",
       "\n",
       "    // location in version 3\n",
       "    if (IPython.notebook.keyboard_manager) {\n",
       "        IPython.notebook.keyboard_manager.register_events(el);\n",
       "    } else {\n",
       "        // location in version 2\n",
       "        IPython.keyboard_manager.register_events(el);\n",
       "    }\n",
       "};\n",
       "\n",
       "mpl.figure.prototype._key_event_extra = function (event, _name) {\n",
       "    var manager = IPython.notebook.keyboard_manager;\n",
       "    if (!manager) {\n",
       "        manager = IPython.keyboard_manager;\n",
       "    }\n",
       "\n",
       "    // Check for shift+enter\n",
       "    if (event.shiftKey && event.which === 13) {\n",
       "        this.canvas_div.blur();\n",
       "        // select the cell after this one\n",
       "        var index = IPython.notebook.find_cell_index(this.cell_info[0]);\n",
       "        IPython.notebook.select(index + 1);\n",
       "    }\n",
       "};\n",
       "\n",
       "mpl.figure.prototype.handle_save = function (fig, _msg) {\n",
       "    fig.ondownload(fig, null);\n",
       "};\n",
       "\n",
       "mpl.find_output_cell = function (html_output) {\n",
       "    // Return the cell and output element which can be found *uniquely* in the notebook.\n",
       "    // Note - this is a bit hacky, but it is done because the \"notebook_saving.Notebook\"\n",
       "    // IPython event is triggered only after the cells have been serialised, which for\n",
       "    // our purposes (turning an active figure into a static one), is too late.\n",
       "    var cells = IPython.notebook.get_cells();\n",
       "    var ncells = cells.length;\n",
       "    for (var i = 0; i < ncells; i++) {\n",
       "        var cell = cells[i];\n",
       "        if (cell.cell_type === 'code') {\n",
       "            for (var j = 0; j < cell.output_area.outputs.length; j++) {\n",
       "                var data = cell.output_area.outputs[j];\n",
       "                if (data.data) {\n",
       "                    // IPython >= 3 moved mimebundle to data attribute of output\n",
       "                    data = data.data;\n",
       "                }\n",
       "                if (data['text/html'] === html_output) {\n",
       "                    return [cell, data, j];\n",
       "                }\n",
       "            }\n",
       "        }\n",
       "    }\n",
       "};\n",
       "\n",
       "// Register the function which deals with the matplotlib target/channel.\n",
       "// The kernel may be null if the page has been refreshed.\n",
       "if (IPython.notebook.kernel !== null) {\n",
       "    IPython.notebook.kernel.comm_manager.register_target(\n",
       "        'matplotlib',\n",
       "        mpl.mpl_figure_comm\n",
       "    );\n",
       "}\n"
      ],
      "text/plain": [
       "<IPython.core.display.Javascript object>"
      ]
     },
     "metadata": {},
     "output_type": "display_data"
    },
    {
     "data": {
      "text/html": [
       "<img src=\"data:image/png;base64,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\" width=\"787.047619047619\">"
      ],
      "text/plain": [
       "<IPython.core.display.HTML object>"
      ]
     },
     "metadata": {},
     "output_type": "display_data"
    }
   ],
   "source": [
    "plot_roc_curve(fpr, tpr)  "
   ]
  },
  {
   "cell_type": "markdown",
   "metadata": {},
   "source": [
    "> **La curva ROC muestra que es un modelo regular, es decir aún podriamos mejorar la exactitud de dicho modelo**"
   ]
  },
  {
   "cell_type": "markdown",
   "metadata": {},
   "source": [
    "# Conclusión.\n",
    "## General\n",
    "\n",
    "![image](https://img.icons8.com/bubbles/2x/goal.png)\n",
    "### Objetivo principal.\n",
    "El objetivo principal no se ha cumplido, sin embargo con las herramientas de visualización de datos, nos percatamos que lo idóneo es contemplar únicamente las variables de los niveles de glucosa, la edad y la insulina, esto basádonos en el mapa de calor y en el valor obtenido de correlación, ya que en las variables restantes no se tiene una correlación significativa con la variable *Outcome* la cual indica si el paciente es diabético o no.\n",
    "    En adición, la técnica de míneria que ve más viable para cumplir nuestro objetivo es la técnica de **clasificación**.\n",
    "    \n",
    "### Objetivos secundarios.\n",
    "+ **Visualizar la distribución de los datos:** \n",
    "Consideramos que este objetivo fue logrado,pues  utilizamos diversos tipos de gráficos como histogramas, gráfico de pastel y joinplot, en donde pudimos visualizar hechos importantes para el proyecto como la frecuencia absoluta, la cual nos podría ayudar a concluir y fundamentar preguntas de interés.\n",
    "\n",
    "+ **Establecer qué tan correlacionadas están ciertas variables** \n",
    "Este objetivo fue cumplido, ya que utilizamos herramientas que nos brinda Phyton como la función .corr() y mapas de calor, en donde nos pudimos percatar que los niveles de glucosa, la edad y la insulina tienen una correlación significativa con la variable de resultado, por lo que concluimos que estas variables influyen sustancialmente en si una persona tiene diabetes o no.\n",
    "\n",
    "En adición, también podemos concluir que la correlación entre pares de características, como la edad y los embarazos, o la insulina y la Glucosa, así como el grosor del pliegue de la piel y el índice de masa corporal muestran una correlación significativa.\n",
    "\n",
    "+ **Graficar los resultados obtenidos, para tener un panorama sobre si el modelo es bueno.**\n",
    "Dado que aún no hemos construido el modelo, no tenemos herramientas para poder graficar, sin embargo, visualizamos que este objetivo será cumplido cuando utilicemos métricas de evaluación como la curva ROC, la cual nos dará el rendimiento del modelo de clasificación.\n",
    "\n",
    "+ **Entender si existe una razón médica para tener el valor de 0 en las columnas que lo presenten.**\n",
    "Previamente en el desarrollo del avance abordamos detalladamente porque no tenía sentido contemplar a valores iguales a 0, en variables como el nivel de insulina sérica(*Insuline), glucosa(*Glucose*), presión arterial diastólica(*BloodPressure*) y grosor del pliegue de la piel(*SkinThickness*). Además que recurrimos a fuentes de información en donde nos percatamos que en un estudio realizado en 2001, se demostró que 376 de 786 observaciones en el conjunto de datos de Pima Indians Diabetes database carecían de validez experimental, el valor de ceros se registró en lugar de observaciones experimentales faltantes. También se demostró que si se eliminaban    los valores con cero, los resultados podría mejorar drásticamente.\n",
    "\n",
    "> Leslie J. Baier, Robert L. Hanson. *Genetic Studies of the Etiology of Type 2 Diabetes in Pima Indians* (2001) recuperado en https://diabetes.diabetesjournals.org/content/53/5/1181\n",
    "\n",
    "\n",
    "+ En cuanto a las **preguntas de interés**, podemos contestar sólo   la primera y la segunda pregunta, esto por la etapa de desarrollo del proyecto, en donde nos encontramos.\n",
    "\n",
    "***¿Podríamos afirmar que la diabetes predomina en el grupo del pueblo Pima?***\n",
    "Sí, dadas las herramientas que proporciona la estadística descriptiva como lo son las medidas de tendencia central, como la media, en donde nos percatamos que comparando factores de riesgo en torno a la diabetes, nos dimos cuenta que las mujeres mayores a 21 años en el pueblo Pima, tienen un alto riesgo de desarrollar diabetes, esto porque un nivel de Glucosa entre 100 y 125 mg/dL se considera prediabetes,y la media del nivel de glucosa de las mujeres mayores a 21 años en el pueblo Pima es de 122.61 mg/dl. \n",
    " En adición, a través de funciones de Phyton determinamos la prevalencia de la diabetes en las mujeres del pueblo Pima, y nos percatamos que comparandolo con la prevalencia de diabetes en el mundo, la cual es del 8.5%, mientras que en el 1990 en el pueblo Pima es de 33.16%, por lo cual concluimos que la diabetes predomina en el pueblo Pima en comparación a nivel mundial.\n",
    " \n",
    "Es importante destacar, que consultamos fuentes de información para saber los factores del riesgo de la diabetes y nos dimos cuenta que tener antecedentes nativos americanos aumenta significativamente el riesgo.\n",
    "Por lo tanto, concluimos que efectivamente la diabetes prevalece en el pueblo Pima, lo cual es una situación alarmante en la salud del pueblo Pima, y las  herramientas de visualización de datos, así como de estadística básica, nos proveyó sustento para tener un panorama de la situación entorno a la diabetes.\n",
    "\n",
    "***¿Qué variables, que representan un factor de riesgo para la diabetes están altamente correlacionadas?***\n"
   ]
  },
  {
   "cell_type": "markdown",
   "metadata": {},
   "source": [
    "Usando el mapa de calor y la función .corr(), nos percatamos que **el nivel de glucosa, la edad y la insulina** tienen una correlación significativa con la variable de resultado(Outcome), por lo que inferimos que estás variables representan un factor de riesgo para la diabetes.\n",
    "Partiendo del hecho mencionado anteriormente tenemos los siguientes resultados:\n",
    "\n",
    "+ La variable **Glucose** está altamente correlacionada con la variable *Insulin* con 0.58, así mismo con la variable de *Outcome* en un 0.52 y con la variable *Age* en un 0.34.\n",
    "\n",
    "+ La **edad**, está correlacionada altamente con el número de embarazos *pregnancies* en un 0.68, y con la variable *Outcome* con un 0.35.\n",
    "\n",
    "+ El nivel de insulina sérica, denotado por la variable **Insulin** tiene una correlación significativa con la variable *Glucose* en 0.58, además que posee una correlación con la variable *Outcome* en un 0.35."
   ]
  }
 ],
 "metadata": {
  "kernelspec": {
   "display_name": "Python 3",
   "language": "python",
   "name": "python3"
  },
  "language_info": {
   "codemirror_mode": {
    "name": "ipython",
    "version": 3
   },
   "file_extension": ".py",
   "mimetype": "text/x-python",
   "name": "python",
   "nbconvert_exporter": "python",
   "pygments_lexer": "ipython3",
   "version": "3.8.5"
  }
 },
 "nbformat": 4,
 "nbformat_minor": 4
}
